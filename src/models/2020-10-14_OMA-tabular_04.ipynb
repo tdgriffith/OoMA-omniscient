{
 "cells": [
  {
   "cell_type": "markdown",
   "metadata": {},
   "source": [
    "# Random Forrests for Exploration of DEAP Dataset\n",
    "Fingerprinting with OMA modes has worked really well. What about in tabular format?\n",
    "\n",
    "Fingerprinting is good, try Quads"
   ]
  },
  {
   "cell_type": "code",
   "execution_count": 1,
   "metadata": {
    "ExecuteTime": {
     "end_time": "2020-10-20T19:33:36.616143Z",
     "start_time": "2020-10-20T19:33:36.431407Z"
    }
   },
   "outputs": [],
   "source": [
    "%load_ext autoreload\n",
    "%autoreload 2\n",
    "\n",
    "%matplotlib inline"
   ]
  },
  {
   "cell_type": "code",
   "execution_count": 2,
   "metadata": {
    "ExecuteTime": {
     "end_time": "2020-10-20T19:33:36.625937Z",
     "start_time": "2020-10-20T19:33:36.617224Z"
    }
   },
   "outputs": [
    {
     "data": {
      "application/javascript": [
       "utils.load_extension('collapsible_headings/main')\n",
       "utils.load_extension('hide_input/main')\n",
       "utils.load_extension('execute_time/ExecuteTime')\n",
       "utils.load_extension('code_prettify/code_prettify')\n",
       "utils.load_extension('scroll_down/main')\n",
       "utils.load_extension('jupyter-js-widgets/extension')\n"
      ],
      "text/plain": [
       "<IPython.core.display.Javascript object>"
      ]
     },
     "metadata": {},
     "output_type": "display_data"
    }
   ],
   "source": [
    "%%javascript\n",
    "utils.load_extension('collapsible_headings/main')\n",
    "utils.load_extension('hide_input/main')\n",
    "utils.load_extension('execute_time/ExecuteTime')\n",
    "utils.load_extension('code_prettify/code_prettify')\n",
    "utils.load_extension('scroll_down/main')\n",
    "utils.load_extension('jupyter-js-widgets/extension')"
   ]
  },
  {
   "cell_type": "code",
   "execution_count": 3,
   "metadata": {
    "ExecuteTime": {
     "end_time": "2020-10-20T19:33:38.237360Z",
     "start_time": "2020-10-20T19:33:36.730983Z"
    }
   },
   "outputs": [],
   "source": [
    "from fastai.tabular import *\n",
    "from sklearn.model_selection import train_test_split,cross_val_score\n",
    "from sklearn import datasets, svm, metrics, tree\n",
    "from sklearn.ensemble import RandomForestClassifier, AdaBoostClassifier\n",
    "from sklearn.tree import DecisionTreeClassifier"
   ]
  },
  {
   "cell_type": "code",
   "execution_count": 4,
   "metadata": {
    "ExecuteTime": {
     "end_time": "2020-10-20T19:33:38.252690Z",
     "start_time": "2020-10-20T19:33:38.238516Z"
    }
   },
   "outputs": [
    {
     "data": {
      "text/plain": [
       "PosixPath('/home/tris/Documents/EEG_data/DMD_DEAP')"
      ]
     },
     "execution_count": 4,
     "metadata": {},
     "output_type": "execute_result"
    }
   ],
   "source": [
    "path=pathlib.Path('/home/tris/Documents/EEG_data/DMD_DEAP')\n",
    "path"
   ]
  },
  {
   "cell_type": "code",
   "execution_count": 5,
   "metadata": {
    "ExecuteTime": {
     "end_time": "2020-10-20T19:33:59.507398Z",
     "start_time": "2020-10-20T19:33:38.253922Z"
    }
   },
   "outputs": [],
   "source": [
    "path = '/media/tris/tris_files/EEG_datasets/DEAP_data_preprocessed_python/s01.dat'\n",
    "df_read = pickle.load(open(path, 'rb'), encoding='latin1')\n",
    "labels=df_read['labels']\n",
    "df_tmp = pd.DataFrame(labels, columns=['valence','arousal','dominance','liking'])\n",
    "df=df_tmp\n",
    "for n in range (2,10):\n",
    "    path = '/media/tris/tris_files/EEG_datasets/DEAP_data_preprocessed_python/s0'+str(n)+'.dat'\n",
    "    df_read = pickle.load(open(path, 'rb'), encoding='latin1')\n",
    "    labels=df_read['labels']\n",
    "    df_tmp = pd.DataFrame(labels, columns=['valence','arousal','dominance','liking'])\n",
    "    df=df.append(df_tmp, ignore_index=True)\n",
    "for n in range (10,33):\n",
    "    path = '/media/tris/tris_files/EEG_datasets/DEAP_data_preprocessed_python/s'+str(n)+'.dat'\n",
    "    df_read = pickle.load(open(path, 'rb'), encoding='latin1')\n",
    "    labels=df_read['labels']\n",
    "    df_tmp = pd.DataFrame(labels, columns=['valence','arousal','dominance','liking'])\n",
    "    df=df.append(df_tmp, ignore_index=True) "
   ]
  },
  {
   "cell_type": "code",
   "execution_count": 6,
   "metadata": {
    "ExecuteTime": {
     "end_time": "2020-10-20T19:33:59.598976Z",
     "start_time": "2020-10-20T19:33:59.508543Z"
    }
   },
   "outputs": [
    {
     "data": {
      "text/html": [
       "<div>\n",
       "<style scoped>\n",
       "    .dataframe tbody tr th:only-of-type {\n",
       "        vertical-align: middle;\n",
       "    }\n",
       "\n",
       "    .dataframe tbody tr th {\n",
       "        vertical-align: top;\n",
       "    }\n",
       "\n",
       "    .dataframe thead th {\n",
       "        text-align: right;\n",
       "    }\n",
       "</style>\n",
       "<table border=\"1\" class=\"dataframe\">\n",
       "  <thead>\n",
       "    <tr style=\"text-align: right;\">\n",
       "      <th></th>\n",
       "      <th>valence</th>\n",
       "      <th>arousal</th>\n",
       "      <th>dominance</th>\n",
       "      <th>liking</th>\n",
       "    </tr>\n",
       "  </thead>\n",
       "  <tbody>\n",
       "    <tr>\n",
       "      <th>0</th>\n",
       "      <td>0.856667</td>\n",
       "      <td>0.844444</td>\n",
       "      <td>0.766667</td>\n",
       "      <td>0.870000</td>\n",
       "    </tr>\n",
       "    <tr>\n",
       "      <th>1</th>\n",
       "      <td>0.900000</td>\n",
       "      <td>0.812222</td>\n",
       "      <td>0.808889</td>\n",
       "      <td>0.941111</td>\n",
       "    </tr>\n",
       "    <tr>\n",
       "      <th>2</th>\n",
       "      <td>0.953333</td>\n",
       "      <td>0.837778</td>\n",
       "      <td>1.000000</td>\n",
       "      <td>0.786667</td>\n",
       "    </tr>\n",
       "    <tr>\n",
       "      <th>3</th>\n",
       "      <td>0.548889</td>\n",
       "      <td>0.667778</td>\n",
       "      <td>0.680000</td>\n",
       "      <td>0.895556</td>\n",
       "    </tr>\n",
       "    <tr>\n",
       "      <th>4</th>\n",
       "      <td>0.773333</td>\n",
       "      <td>0.435556</td>\n",
       "      <td>0.798889</td>\n",
       "      <td>0.672222</td>\n",
       "    </tr>\n",
       "  </tbody>\n",
       "</table>\n",
       "</div>"
      ],
      "text/plain": [
       "    valence   arousal  dominance    liking\n",
       "0  0.856667  0.844444   0.766667  0.870000\n",
       "1  0.900000  0.812222   0.808889  0.941111\n",
       "2  0.953333  0.837778   1.000000  0.786667\n",
       "3  0.548889  0.667778   0.680000  0.895556\n",
       "4  0.773333  0.435556   0.798889  0.672222"
      ]
     },
     "execution_count": 6,
     "metadata": {},
     "output_type": "execute_result"
    }
   ],
   "source": [
    "df=df.div(9) #normalize\n",
    "df.head()"
   ]
  },
  {
   "cell_type": "code",
   "execution_count": 7,
   "metadata": {
    "ExecuteTime": {
     "end_time": "2020-10-20T19:33:59.613541Z",
     "start_time": "2020-10-20T19:33:59.599961Z"
    }
   },
   "outputs": [],
   "source": [
    "# df=df.loc[df.index.repeat(4)].reset_index(drop=True)"
   ]
  },
  {
   "cell_type": "code",
   "execution_count": 8,
   "metadata": {
    "ExecuteTime": {
     "end_time": "2020-10-20T19:33:59.633824Z",
     "start_time": "2020-10-20T19:33:59.614648Z"
    }
   },
   "outputs": [
    {
     "data": {
      "text/html": [
       "<div>\n",
       "<style scoped>\n",
       "    .dataframe tbody tr th:only-of-type {\n",
       "        vertical-align: middle;\n",
       "    }\n",
       "\n",
       "    .dataframe tbody tr th {\n",
       "        vertical-align: top;\n",
       "    }\n",
       "\n",
       "    .dataframe thead th {\n",
       "        text-align: right;\n",
       "    }\n",
       "</style>\n",
       "<table border=\"1\" class=\"dataframe\">\n",
       "  <thead>\n",
       "    <tr style=\"text-align: right;\">\n",
       "      <th></th>\n",
       "      <th>valence</th>\n",
       "      <th>arousal</th>\n",
       "      <th>dominance</th>\n",
       "      <th>liking</th>\n",
       "    </tr>\n",
       "  </thead>\n",
       "  <tbody>\n",
       "    <tr>\n",
       "      <th>1275</th>\n",
       "      <td>0.434444</td>\n",
       "      <td>0.773333</td>\n",
       "      <td>0.646667</td>\n",
       "      <td>0.346667</td>\n",
       "    </tr>\n",
       "    <tr>\n",
       "      <th>1276</th>\n",
       "      <td>0.312222</td>\n",
       "      <td>0.681111</td>\n",
       "      <td>0.673333</td>\n",
       "      <td>0.115556</td>\n",
       "    </tr>\n",
       "    <tr>\n",
       "      <th>1277</th>\n",
       "      <td>0.338889</td>\n",
       "      <td>0.778889</td>\n",
       "      <td>0.566667</td>\n",
       "      <td>0.122222</td>\n",
       "    </tr>\n",
       "    <tr>\n",
       "      <th>1278</th>\n",
       "      <td>0.443333</td>\n",
       "      <td>0.796667</td>\n",
       "      <td>0.538889</td>\n",
       "      <td>0.111111</td>\n",
       "    </tr>\n",
       "    <tr>\n",
       "      <th>1279</th>\n",
       "      <td>0.794444</td>\n",
       "      <td>0.447778</td>\n",
       "      <td>1.000000</td>\n",
       "      <td>0.208889</td>\n",
       "    </tr>\n",
       "  </tbody>\n",
       "</table>\n",
       "</div>"
      ],
      "text/plain": [
       "       valence   arousal  dominance    liking\n",
       "1275  0.434444  0.773333   0.646667  0.346667\n",
       "1276  0.312222  0.681111   0.673333  0.115556\n",
       "1277  0.338889  0.778889   0.566667  0.122222\n",
       "1278  0.443333  0.796667   0.538889  0.111111\n",
       "1279  0.794444  0.447778   1.000000  0.208889"
      ]
     },
     "execution_count": 8,
     "metadata": {},
     "output_type": "execute_result"
    }
   ],
   "source": [
    "df.tail()"
   ]
  },
  {
   "cell_type": "code",
   "execution_count": 9,
   "metadata": {
    "ExecuteTime": {
     "end_time": "2020-10-20T19:33:59.653547Z",
     "start_time": "2020-10-20T19:33:59.634795Z"
    }
   },
   "outputs": [],
   "source": [
    "filenames=[]\n",
    "subject_labels=[]\n",
    "for n in range (0,9):\n",
    "    for i in range (0,9):\n",
    "        filename='S'+str(n+1)+'T'+str(i+1)\n",
    "        filenames.append(filename)\n",
    "        subject_label=n+1\n",
    "        subject_labels.append(subject_label)\n",
    "    for i in range (9,40):\n",
    "        filename='S'+str(n+1)+'T'+str(i+1)\n",
    "        filenames.append(filename)\n",
    "        subject_label=n+1\n",
    "        subject_labels.append(subject_label)\n",
    "for n in range (9,32):\n",
    "    for i in range (0,9):\n",
    "        filename='S'+str(n+1)+'T'+str(i+1)\n",
    "        filenames.append(filename)\n",
    "        subject_label=n+1\n",
    "        subject_labels.append(subject_label)\n",
    "    for i in range (9,40):\n",
    "        filename='S'+str(n+1)+'T'+str(i+1)\n",
    "        filenames.append(filename)\n",
    "        subject_label=n+1\n",
    "        subject_labels.append(subject_label)"
   ]
  },
  {
   "cell_type": "code",
   "execution_count": 10,
   "metadata": {
    "ExecuteTime": {
     "end_time": "2020-10-20T19:33:59.675261Z",
     "start_time": "2020-10-20T19:33:59.655238Z"
    }
   },
   "outputs": [
    {
     "data": {
      "text/html": [
       "<div>\n",
       "<style scoped>\n",
       "    .dataframe tbody tr th:only-of-type {\n",
       "        vertical-align: middle;\n",
       "    }\n",
       "\n",
       "    .dataframe tbody tr th {\n",
       "        vertical-align: top;\n",
       "    }\n",
       "\n",
       "    .dataframe thead th {\n",
       "        text-align: right;\n",
       "    }\n",
       "</style>\n",
       "<table border=\"1\" class=\"dataframe\">\n",
       "  <thead>\n",
       "    <tr style=\"text-align: right;\">\n",
       "      <th></th>\n",
       "      <th>file_name</th>\n",
       "      <th>subject_label</th>\n",
       "      <th>valence</th>\n",
       "      <th>arousal</th>\n",
       "    </tr>\n",
       "  </thead>\n",
       "  <tbody>\n",
       "    <tr>\n",
       "      <th>1275</th>\n",
       "      <td>S32T36</td>\n",
       "      <td>32</td>\n",
       "      <td>0.434444</td>\n",
       "      <td>0.773333</td>\n",
       "    </tr>\n",
       "    <tr>\n",
       "      <th>1276</th>\n",
       "      <td>S32T37</td>\n",
       "      <td>32</td>\n",
       "      <td>0.312222</td>\n",
       "      <td>0.681111</td>\n",
       "    </tr>\n",
       "    <tr>\n",
       "      <th>1277</th>\n",
       "      <td>S32T38</td>\n",
       "      <td>32</td>\n",
       "      <td>0.338889</td>\n",
       "      <td>0.778889</td>\n",
       "    </tr>\n",
       "    <tr>\n",
       "      <th>1278</th>\n",
       "      <td>S32T39</td>\n",
       "      <td>32</td>\n",
       "      <td>0.443333</td>\n",
       "      <td>0.796667</td>\n",
       "    </tr>\n",
       "    <tr>\n",
       "      <th>1279</th>\n",
       "      <td>S32T40</td>\n",
       "      <td>32</td>\n",
       "      <td>0.794444</td>\n",
       "      <td>0.447778</td>\n",
       "    </tr>\n",
       "  </tbody>\n",
       "</table>\n",
       "</div>"
      ],
      "text/plain": [
       "     file_name  subject_label   valence   arousal\n",
       "1275    S32T36             32  0.434444  0.773333\n",
       "1276    S32T37             32  0.312222  0.681111\n",
       "1277    S32T38             32  0.338889  0.778889\n",
       "1278    S32T39             32  0.443333  0.796667\n",
       "1279    S32T40             32  0.794444  0.447778"
      ]
     },
     "execution_count": 10,
     "metadata": {},
     "output_type": "execute_result"
    }
   ],
   "source": [
    "df['file_name']=filenames\n",
    "df['subject_label']=subject_labels\n",
    "df=df[['file_name','subject_label','valence','arousal']]\n",
    "df.tail()"
   ]
  },
  {
   "cell_type": "code",
   "execution_count": 11,
   "metadata": {
    "ExecuteTime": {
     "end_time": "2020-10-20T19:33:59.704527Z",
     "start_time": "2020-10-20T19:33:59.676462Z"
    }
   },
   "outputs": [
    {
     "data": {
      "text/html": [
       "<div>\n",
       "<style scoped>\n",
       "    .dataframe tbody tr th:only-of-type {\n",
       "        vertical-align: middle;\n",
       "    }\n",
       "\n",
       "    .dataframe tbody tr th {\n",
       "        vertical-align: top;\n",
       "    }\n",
       "\n",
       "    .dataframe thead th {\n",
       "        text-align: right;\n",
       "    }\n",
       "</style>\n",
       "<table border=\"1\" class=\"dataframe\">\n",
       "  <thead>\n",
       "    <tr style=\"text-align: right;\">\n",
       "      <th></th>\n",
       "      <th>file_name</th>\n",
       "      <th>subject_label</th>\n",
       "      <th>valence</th>\n",
       "      <th>arousal</th>\n",
       "      <th>emotion_quad</th>\n",
       "    </tr>\n",
       "  </thead>\n",
       "  <tbody>\n",
       "    <tr>\n",
       "      <th>0</th>\n",
       "      <td>S1T1</td>\n",
       "      <td>1</td>\n",
       "      <td>0.856667</td>\n",
       "      <td>0.844444</td>\n",
       "      <td>0.0</td>\n",
       "    </tr>\n",
       "    <tr>\n",
       "      <th>1</th>\n",
       "      <td>S1T2</td>\n",
       "      <td>1</td>\n",
       "      <td>0.900000</td>\n",
       "      <td>0.812222</td>\n",
       "      <td>0.0</td>\n",
       "    </tr>\n",
       "    <tr>\n",
       "      <th>2</th>\n",
       "      <td>S1T3</td>\n",
       "      <td>1</td>\n",
       "      <td>0.953333</td>\n",
       "      <td>0.837778</td>\n",
       "      <td>0.0</td>\n",
       "    </tr>\n",
       "    <tr>\n",
       "      <th>3</th>\n",
       "      <td>S1T4</td>\n",
       "      <td>1</td>\n",
       "      <td>0.548889</td>\n",
       "      <td>0.667778</td>\n",
       "      <td>0.0</td>\n",
       "    </tr>\n",
       "    <tr>\n",
       "      <th>4</th>\n",
       "      <td>S1T5</td>\n",
       "      <td>1</td>\n",
       "      <td>0.773333</td>\n",
       "      <td>0.435556</td>\n",
       "      <td>3.0</td>\n",
       "    </tr>\n",
       "  </tbody>\n",
       "</table>\n",
       "</div>"
      ],
      "text/plain": [
       "  file_name  subject_label   valence   arousal  emotion_quad\n",
       "0      S1T1              1  0.856667  0.844444           0.0\n",
       "1      S1T2              1  0.900000  0.812222           0.0\n",
       "2      S1T3              1  0.953333  0.837778           0.0\n",
       "3      S1T4              1  0.548889  0.667778           0.0\n",
       "4      S1T5              1  0.773333  0.435556           3.0"
      ]
     },
     "execution_count": 11,
     "metadata": {},
     "output_type": "execute_result"
    }
   ],
   "source": [
    "df.loc[(df['valence'] >= 0.5) & (df['arousal'] >= 0.5), 'emotion_quad'] = 0\n",
    "df.loc[(df['valence'] <= 0.5) & (df['arousal'] >= 0.5), 'emotion_quad'] = 1\n",
    "df.loc[(df['valence'] <= 0.5) & (df['arousal'] <= 0.5), 'emotion_quad'] = 2  \n",
    "df.loc[(df['valence'] >= 0.5) & (df['arousal'] <= 0.5), 'emotion_quad'] = 3\n",
    "df.head()"
   ]
  },
  {
   "cell_type": "code",
   "execution_count": 12,
   "metadata": {
    "ExecuteTime": {
     "end_time": "2020-10-20T19:33:59.725585Z",
     "start_time": "2020-10-20T19:33:59.705616Z"
    }
   },
   "outputs": [
    {
     "data": {
      "text/html": [
       "<div>\n",
       "<style scoped>\n",
       "    .dataframe tbody tr th:only-of-type {\n",
       "        vertical-align: middle;\n",
       "    }\n",
       "\n",
       "    .dataframe tbody tr th {\n",
       "        vertical-align: top;\n",
       "    }\n",
       "\n",
       "    .dataframe thead th {\n",
       "        text-align: right;\n",
       "    }\n",
       "</style>\n",
       "<table border=\"1\" class=\"dataframe\">\n",
       "  <thead>\n",
       "    <tr style=\"text-align: right;\">\n",
       "      <th></th>\n",
       "      <th>file_name</th>\n",
       "      <th>subject_label</th>\n",
       "      <th>valence</th>\n",
       "      <th>arousal</th>\n",
       "      <th>emotion_quad</th>\n",
       "    </tr>\n",
       "  </thead>\n",
       "  <tbody>\n",
       "    <tr>\n",
       "      <th>0</th>\n",
       "      <td>S1T1</td>\n",
       "      <td>1</td>\n",
       "      <td>0.856667</td>\n",
       "      <td>0.844444</td>\n",
       "      <td>0.0</td>\n",
       "    </tr>\n",
       "    <tr>\n",
       "      <th>1</th>\n",
       "      <td>S1T2</td>\n",
       "      <td>1</td>\n",
       "      <td>0.900000</td>\n",
       "      <td>0.812222</td>\n",
       "      <td>0.0</td>\n",
       "    </tr>\n",
       "    <tr>\n",
       "      <th>2</th>\n",
       "      <td>S1T3</td>\n",
       "      <td>1</td>\n",
       "      <td>0.953333</td>\n",
       "      <td>0.837778</td>\n",
       "      <td>0.0</td>\n",
       "    </tr>\n",
       "    <tr>\n",
       "      <th>3</th>\n",
       "      <td>S1T4</td>\n",
       "      <td>1</td>\n",
       "      <td>0.548889</td>\n",
       "      <td>0.667778</td>\n",
       "      <td>0.0</td>\n",
       "    </tr>\n",
       "    <tr>\n",
       "      <th>4</th>\n",
       "      <td>S1T5</td>\n",
       "      <td>1</td>\n",
       "      <td>0.773333</td>\n",
       "      <td>0.435556</td>\n",
       "      <td>3.0</td>\n",
       "    </tr>\n",
       "    <tr>\n",
       "      <th>...</th>\n",
       "      <td>...</td>\n",
       "      <td>...</td>\n",
       "      <td>...</td>\n",
       "      <td>...</td>\n",
       "      <td>...</td>\n",
       "    </tr>\n",
       "    <tr>\n",
       "      <th>1275</th>\n",
       "      <td>S32T36</td>\n",
       "      <td>32</td>\n",
       "      <td>0.434444</td>\n",
       "      <td>0.773333</td>\n",
       "      <td>1.0</td>\n",
       "    </tr>\n",
       "    <tr>\n",
       "      <th>1276</th>\n",
       "      <td>S32T37</td>\n",
       "      <td>32</td>\n",
       "      <td>0.312222</td>\n",
       "      <td>0.681111</td>\n",
       "      <td>1.0</td>\n",
       "    </tr>\n",
       "    <tr>\n",
       "      <th>1277</th>\n",
       "      <td>S32T38</td>\n",
       "      <td>32</td>\n",
       "      <td>0.338889</td>\n",
       "      <td>0.778889</td>\n",
       "      <td>1.0</td>\n",
       "    </tr>\n",
       "    <tr>\n",
       "      <th>1278</th>\n",
       "      <td>S32T39</td>\n",
       "      <td>32</td>\n",
       "      <td>0.443333</td>\n",
       "      <td>0.796667</td>\n",
       "      <td>1.0</td>\n",
       "    </tr>\n",
       "    <tr>\n",
       "      <th>1279</th>\n",
       "      <td>S32T40</td>\n",
       "      <td>32</td>\n",
       "      <td>0.794444</td>\n",
       "      <td>0.447778</td>\n",
       "      <td>3.0</td>\n",
       "    </tr>\n",
       "  </tbody>\n",
       "</table>\n",
       "<p>1280 rows × 5 columns</p>\n",
       "</div>"
      ],
      "text/plain": [
       "     file_name  subject_label   valence   arousal  emotion_quad\n",
       "0         S1T1              1  0.856667  0.844444           0.0\n",
       "1         S1T2              1  0.900000  0.812222           0.0\n",
       "2         S1T3              1  0.953333  0.837778           0.0\n",
       "3         S1T4              1  0.548889  0.667778           0.0\n",
       "4         S1T5              1  0.773333  0.435556           3.0\n",
       "...        ...            ...       ...       ...           ...\n",
       "1275    S32T36             32  0.434444  0.773333           1.0\n",
       "1276    S32T37             32  0.312222  0.681111           1.0\n",
       "1277    S32T38             32  0.338889  0.778889           1.0\n",
       "1278    S32T39             32  0.443333  0.796667           1.0\n",
       "1279    S32T40             32  0.794444  0.447778           3.0\n",
       "\n",
       "[1280 rows x 5 columns]"
      ]
     },
     "execution_count": 12,
     "metadata": {},
     "output_type": "execute_result"
    }
   ],
   "source": [
    "df=df.reset_index(drop=True); df"
   ]
  },
  {
   "cell_type": "code",
   "execution_count": 13,
   "metadata": {
    "ExecuteTime": {
     "end_time": "2020-10-20T19:33:59.741208Z",
     "start_time": "2020-10-20T19:33:59.726488Z"
    }
   },
   "outputs": [
    {
     "data": {
      "text/plain": [
       "PosixPath('/media/tris/tris_files/EEG_datasets/OMA/robots')"
      ]
     },
     "execution_count": 13,
     "metadata": {},
     "output_type": "execute_result"
    }
   ],
   "source": [
    "path=pathlib.Path('/media/tris/tris_files/EEG_datasets/OMA/robots')\n",
    "path"
   ]
  },
  {
   "cell_type": "code",
   "execution_count": 14,
   "metadata": {
    "ExecuteTime": {
     "end_time": "2020-10-20T19:33:59.828284Z",
     "start_time": "2020-10-20T19:33:59.742218Z"
    }
   },
   "outputs": [],
   "source": [
    "df.to_csv(path/'labels_proc_window.csv', index=False)"
   ]
  },
  {
   "cell_type": "code",
   "execution_count": 15,
   "metadata": {
    "ExecuteTime": {
     "end_time": "2020-10-20T19:33:59.856098Z",
     "start_time": "2020-10-20T19:33:59.830387Z"
    }
   },
   "outputs": [
    {
     "data": {
      "text/html": [
       "<div>\n",
       "<style scoped>\n",
       "    .dataframe tbody tr th:only-of-type {\n",
       "        vertical-align: middle;\n",
       "    }\n",
       "\n",
       "    .dataframe tbody tr th {\n",
       "        vertical-align: top;\n",
       "    }\n",
       "\n",
       "    .dataframe thead th {\n",
       "        text-align: right;\n",
       "    }\n",
       "</style>\n",
       "<table border=\"1\" class=\"dataframe\">\n",
       "  <thead>\n",
       "    <tr style=\"text-align: right;\">\n",
       "      <th></th>\n",
       "      <th>file_name</th>\n",
       "      <th>subject_label</th>\n",
       "      <th>valence</th>\n",
       "      <th>arousal</th>\n",
       "      <th>emotion_quad</th>\n",
       "    </tr>\n",
       "  </thead>\n",
       "  <tbody>\n",
       "    <tr>\n",
       "      <th>1275</th>\n",
       "      <td>S32T36</td>\n",
       "      <td>32</td>\n",
       "      <td>0.434444</td>\n",
       "      <td>0.773333</td>\n",
       "      <td>1.0</td>\n",
       "    </tr>\n",
       "    <tr>\n",
       "      <th>1276</th>\n",
       "      <td>S32T37</td>\n",
       "      <td>32</td>\n",
       "      <td>0.312222</td>\n",
       "      <td>0.681111</td>\n",
       "      <td>1.0</td>\n",
       "    </tr>\n",
       "    <tr>\n",
       "      <th>1277</th>\n",
       "      <td>S32T38</td>\n",
       "      <td>32</td>\n",
       "      <td>0.338889</td>\n",
       "      <td>0.778889</td>\n",
       "      <td>1.0</td>\n",
       "    </tr>\n",
       "    <tr>\n",
       "      <th>1278</th>\n",
       "      <td>S32T39</td>\n",
       "      <td>32</td>\n",
       "      <td>0.443333</td>\n",
       "      <td>0.796667</td>\n",
       "      <td>1.0</td>\n",
       "    </tr>\n",
       "    <tr>\n",
       "      <th>1279</th>\n",
       "      <td>S32T40</td>\n",
       "      <td>32</td>\n",
       "      <td>0.794444</td>\n",
       "      <td>0.447778</td>\n",
       "      <td>3.0</td>\n",
       "    </tr>\n",
       "  </tbody>\n",
       "</table>\n",
       "</div>"
      ],
      "text/plain": [
       "     file_name  subject_label   valence   arousal  emotion_quad\n",
       "1275    S32T36             32  0.434444  0.773333           1.0\n",
       "1276    S32T37             32  0.312222  0.681111           1.0\n",
       "1277    S32T38             32  0.338889  0.778889           1.0\n",
       "1278    S32T39             32  0.443333  0.796667           1.0\n",
       "1279    S32T40             32  0.794444  0.447778           3.0"
      ]
     },
     "execution_count": 15,
     "metadata": {},
     "output_type": "execute_result"
    }
   ],
   "source": [
    "df = pd.read_csv(path/'labels_proc_window.csv') #load labels\n",
    "df.tail()"
   ]
  },
  {
   "cell_type": "code",
   "execution_count": 16,
   "metadata": {
    "ExecuteTime": {
     "end_time": "2020-10-20T19:34:00.223205Z",
     "start_time": "2020-10-20T19:33:59.857082Z"
    }
   },
   "outputs": [
    {
     "data": {
      "text/plain": [
       "array([[<matplotlib.axes._subplots.AxesSubplot object at 0x7f68b0441410>,\n",
       "        <matplotlib.axes._subplots.AxesSubplot object at 0x7f68b505f6d0>],\n",
       "       [<matplotlib.axes._subplots.AxesSubplot object at 0x7f68b0364b50>,\n",
       "        <matplotlib.axes._subplots.AxesSubplot object at 0x7f68b031eed0>]], dtype=object)"
      ]
     },
     "execution_count": 16,
     "metadata": {},
     "output_type": "execute_result"
    },
    {
     "data": {
      "image/png": "[encoded data removed]",
      "text/plain": [
       "<Figure size 432x288 with 4 Axes>"
      ]
     },
     "metadata": {
      "needs_background": "light"
     },
     "output_type": "display_data"
    }
   ],
   "source": [
    "df.hist()"
   ]
  },
  {
   "cell_type": "code",
   "execution_count": 17,
   "metadata": {
    "ExecuteTime": {
     "end_time": "2020-10-20T19:34:00.239028Z",
     "start_time": "2020-10-20T19:34:00.224164Z"
    }
   },
   "outputs": [],
   "source": [
    "PATH = \"/media/tris/tris_files/EEG_datasets/OMA/robots\""
   ]
  },
  {
   "cell_type": "code",
   "execution_count": 37,
   "metadata": {
    "ExecuteTime": {
     "end_time": "2020-10-20T19:35:58.005743Z",
     "start_time": "2020-10-20T19:35:57.866688Z"
    }
   },
   "outputs": [
    {
     "data": {
      "text/html": [
       "<div>\n",
       "<style scoped>\n",
       "    .dataframe tbody tr th:only-of-type {\n",
       "        vertical-align: middle;\n",
       "    }\n",
       "\n",
       "    .dataframe tbody tr th {\n",
       "        vertical-align: top;\n",
       "    }\n",
       "\n",
       "    .dataframe thead th {\n",
       "        text-align: right;\n",
       "    }\n",
       "</style>\n",
       "<table border=\"1\" class=\"dataframe\">\n",
       "  <thead>\n",
       "    <tr style=\"text-align: right;\">\n",
       "      <th></th>\n",
       "      <th>Subject</th>\n",
       "      <th>Trial</th>\n",
       "      <th>Real_Comp1_Mode1</th>\n",
       "      <th>Real_Comp2_Mode1</th>\n",
       "      <th>Real_Comp3_Mode1</th>\n",
       "      <th>Real_Comp4_Mode1</th>\n",
       "      <th>Real_Comp5_Mode1</th>\n",
       "      <th>Real_Comp6_Mode1</th>\n",
       "      <th>Real_Comp7_Mode1</th>\n",
       "      <th>Real_Comp8_Mode1</th>\n",
       "      <th>...</th>\n",
       "      <th>zeta5</th>\n",
       "      <th>zeta6</th>\n",
       "      <th>zeta7</th>\n",
       "      <th>fn1</th>\n",
       "      <th>fn2</th>\n",
       "      <th>fn3</th>\n",
       "      <th>fn4</th>\n",
       "      <th>fn5</th>\n",
       "      <th>fn6</th>\n",
       "      <th>fn7</th>\n",
       "    </tr>\n",
       "  </thead>\n",
       "  <tbody>\n",
       "    <tr>\n",
       "      <th>0</th>\n",
       "      <td>1</td>\n",
       "      <td>1</td>\n",
       "      <td>-0.272850</td>\n",
       "      <td>-0.171058</td>\n",
       "      <td>-0.107482</td>\n",
       "      <td>-0.241476</td>\n",
       "      <td>-0.644874</td>\n",
       "      <td>-0.465567</td>\n",
       "      <td>0.025647</td>\n",
       "      <td>0.123537</td>\n",
       "      <td>...</td>\n",
       "      <td>-0.066326</td>\n",
       "      <td>0.133498</td>\n",
       "      <td>0.178327</td>\n",
       "      <td>0.024694</td>\n",
       "      <td>0.382243</td>\n",
       "      <td>0.300119</td>\n",
       "      <td>0.472597</td>\n",
       "      <td>0.475620</td>\n",
       "      <td>0.142434</td>\n",
       "      <td>12.717061</td>\n",
       "    </tr>\n",
       "    <tr>\n",
       "      <th>1</th>\n",
       "      <td>1</td>\n",
       "      <td>2</td>\n",
       "      <td>-0.342873</td>\n",
       "      <td>-0.236696</td>\n",
       "      <td>-0.171148</td>\n",
       "      <td>-0.205817</td>\n",
       "      <td>-0.547290</td>\n",
       "      <td>-0.596651</td>\n",
       "      <td>0.038572</td>\n",
       "      <td>0.271317</td>\n",
       "      <td>...</td>\n",
       "      <td>0.076651</td>\n",
       "      <td>-0.199041</td>\n",
       "      <td>-0.215854</td>\n",
       "      <td>-0.124692</td>\n",
       "      <td>-0.772587</td>\n",
       "      <td>-0.394084</td>\n",
       "      <td>-0.969624</td>\n",
       "      <td>-0.926912</td>\n",
       "      <td>0.182059</td>\n",
       "      <td>12.830520</td>\n",
       "    </tr>\n",
       "    <tr>\n",
       "      <th>2</th>\n",
       "      <td>1</td>\n",
       "      <td>3</td>\n",
       "      <td>-0.174481</td>\n",
       "      <td>0.056718</td>\n",
       "      <td>0.153270</td>\n",
       "      <td>-0.009266</td>\n",
       "      <td>-0.524212</td>\n",
       "      <td>-0.443412</td>\n",
       "      <td>0.297779</td>\n",
       "      <td>0.475316</td>\n",
       "      <td>...</td>\n",
       "      <td>-0.006360</td>\n",
       "      <td>-0.141247</td>\n",
       "      <td>-0.289165</td>\n",
       "      <td>-0.220311</td>\n",
       "      <td>-0.636643</td>\n",
       "      <td>-0.400598</td>\n",
       "      <td>-0.792500</td>\n",
       "      <td>-0.762183</td>\n",
       "      <td>0.131674</td>\n",
       "      <td>12.581391</td>\n",
       "    </tr>\n",
       "    <tr>\n",
       "      <th>3</th>\n",
       "      <td>1</td>\n",
       "      <td>4</td>\n",
       "      <td>0.042121</td>\n",
       "      <td>0.193538</td>\n",
       "      <td>0.282214</td>\n",
       "      <td>0.302303</td>\n",
       "      <td>-0.319410</td>\n",
       "      <td>-0.401406</td>\n",
       "      <td>0.399773</td>\n",
       "      <td>0.628729</td>\n",
       "      <td>...</td>\n",
       "      <td>-0.115869</td>\n",
       "      <td>-0.149079</td>\n",
       "      <td>0.053099</td>\n",
       "      <td>0.186476</td>\n",
       "      <td>0.389983</td>\n",
       "      <td>0.166997</td>\n",
       "      <td>0.584623</td>\n",
       "      <td>0.547285</td>\n",
       "      <td>0.094038</td>\n",
       "      <td>12.103460</td>\n",
       "    </tr>\n",
       "    <tr>\n",
       "      <th>4</th>\n",
       "      <td>1</td>\n",
       "      <td>5</td>\n",
       "      <td>0.153816</td>\n",
       "      <td>0.295784</td>\n",
       "      <td>0.360060</td>\n",
       "      <td>0.201468</td>\n",
       "      <td>-0.024667</td>\n",
       "      <td>0.128282</td>\n",
       "      <td>0.184452</td>\n",
       "      <td>0.166842</td>\n",
       "      <td>...</td>\n",
       "      <td>0.128709</td>\n",
       "      <td>-0.071937</td>\n",
       "      <td>-0.044726</td>\n",
       "      <td>-0.007633</td>\n",
       "      <td>-0.304688</td>\n",
       "      <td>-0.153691</td>\n",
       "      <td>-0.407159</td>\n",
       "      <td>-0.436772</td>\n",
       "      <td>0.178637</td>\n",
       "      <td>13.719345</td>\n",
       "    </tr>\n",
       "    <tr>\n",
       "      <th>...</th>\n",
       "      <td>...</td>\n",
       "      <td>...</td>\n",
       "      <td>...</td>\n",
       "      <td>...</td>\n",
       "      <td>...</td>\n",
       "      <td>...</td>\n",
       "      <td>...</td>\n",
       "      <td>...</td>\n",
       "      <td>...</td>\n",
       "      <td>...</td>\n",
       "      <td>...</td>\n",
       "      <td>...</td>\n",
       "      <td>...</td>\n",
       "      <td>...</td>\n",
       "      <td>...</td>\n",
       "      <td>...</td>\n",
       "      <td>...</td>\n",
       "      <td>...</td>\n",
       "      <td>...</td>\n",
       "      <td>...</td>\n",
       "      <td>...</td>\n",
       "    </tr>\n",
       "    <tr>\n",
       "      <th>1275</th>\n",
       "      <td>32</td>\n",
       "      <td>36</td>\n",
       "      <td>0.042077</td>\n",
       "      <td>0.176027</td>\n",
       "      <td>-0.003989</td>\n",
       "      <td>0.111886</td>\n",
       "      <td>-0.142465</td>\n",
       "      <td>-0.042681</td>\n",
       "      <td>-0.136961</td>\n",
       "      <td>0.167865</td>\n",
       "      <td>...</td>\n",
       "      <td>0.004215</td>\n",
       "      <td>-0.010932</td>\n",
       "      <td>0.023583</td>\n",
       "      <td>0.010607</td>\n",
       "      <td>0.002187</td>\n",
       "      <td>-0.011306</td>\n",
       "      <td>0.015924</td>\n",
       "      <td>-0.002923</td>\n",
       "      <td>0.263352</td>\n",
       "      <td>30.169981</td>\n",
       "    </tr>\n",
       "    <tr>\n",
       "      <th>1276</th>\n",
       "      <td>32</td>\n",
       "      <td>37</td>\n",
       "      <td>-0.007279</td>\n",
       "      <td>-0.111814</td>\n",
       "      <td>0.008285</td>\n",
       "      <td>-0.068342</td>\n",
       "      <td>0.098407</td>\n",
       "      <td>0.028579</td>\n",
       "      <td>0.090243</td>\n",
       "      <td>-0.121686</td>\n",
       "      <td>...</td>\n",
       "      <td>0.006198</td>\n",
       "      <td>-0.007672</td>\n",
       "      <td>0.023867</td>\n",
       "      <td>0.013645</td>\n",
       "      <td>0.008459</td>\n",
       "      <td>-0.008225</td>\n",
       "      <td>0.021393</td>\n",
       "      <td>0.003919</td>\n",
       "      <td>0.053634</td>\n",
       "      <td>39.804373</td>\n",
       "    </tr>\n",
       "    <tr>\n",
       "      <th>1277</th>\n",
       "      <td>32</td>\n",
       "      <td>38</td>\n",
       "      <td>0.029972</td>\n",
       "      <td>0.165903</td>\n",
       "      <td>-0.026319</td>\n",
       "      <td>0.086238</td>\n",
       "      <td>-0.144387</td>\n",
       "      <td>-0.055708</td>\n",
       "      <td>-0.135066</td>\n",
       "      <td>0.173386</td>\n",
       "      <td>...</td>\n",
       "      <td>-0.018507</td>\n",
       "      <td>0.020033</td>\n",
       "      <td>-0.006926</td>\n",
       "      <td>-0.001784</td>\n",
       "      <td>-0.008800</td>\n",
       "      <td>0.004622</td>\n",
       "      <td>0.001826</td>\n",
       "      <td>-0.001092</td>\n",
       "      <td>0.194905</td>\n",
       "      <td>31.412533</td>\n",
       "    </tr>\n",
       "    <tr>\n",
       "      <th>1278</th>\n",
       "      <td>32</td>\n",
       "      <td>39</td>\n",
       "      <td>0.006916</td>\n",
       "      <td>0.121373</td>\n",
       "      <td>-0.013406</td>\n",
       "      <td>0.069159</td>\n",
       "      <td>-0.115734</td>\n",
       "      <td>-0.032974</td>\n",
       "      <td>-0.103808</td>\n",
       "      <td>0.136997</td>\n",
       "      <td>...</td>\n",
       "      <td>-0.004632</td>\n",
       "      <td>0.006113</td>\n",
       "      <td>0.008237</td>\n",
       "      <td>0.007152</td>\n",
       "      <td>-0.002770</td>\n",
       "      <td>-0.003868</td>\n",
       "      <td>0.009305</td>\n",
       "      <td>-0.002330</td>\n",
       "      <td>0.099722</td>\n",
       "      <td>33.920605</td>\n",
       "    </tr>\n",
       "    <tr>\n",
       "      <th>1279</th>\n",
       "      <td>32</td>\n",
       "      <td>40</td>\n",
       "      <td>-0.004009</td>\n",
       "      <td>-0.103387</td>\n",
       "      <td>0.008176</td>\n",
       "      <td>-0.064253</td>\n",
       "      <td>0.092316</td>\n",
       "      <td>0.025746</td>\n",
       "      <td>0.084230</td>\n",
       "      <td>-0.108800</td>\n",
       "      <td>...</td>\n",
       "      <td>0.000000</td>\n",
       "      <td>0.000000</td>\n",
       "      <td>0.000000</td>\n",
       "      <td>0.000000</td>\n",
       "      <td>0.000000</td>\n",
       "      <td>0.000000</td>\n",
       "      <td>0.000000</td>\n",
       "      <td>0.000000</td>\n",
       "      <td>1.000000</td>\n",
       "      <td>36.313444</td>\n",
       "    </tr>\n",
       "  </tbody>\n",
       "</table>\n",
       "<p>1280 rows × 464 columns</p>\n",
       "</div>"
      ],
      "text/plain": [
       "      Subject  Trial  Real_Comp1_Mode1  Real_Comp2_Mode1  Real_Comp3_Mode1  \\\n",
       "0           1      1         -0.272850         -0.171058         -0.107482   \n",
       "1           1      2         -0.342873         -0.236696         -0.171148   \n",
       "2           1      3         -0.174481          0.056718          0.153270   \n",
       "3           1      4          0.042121          0.193538          0.282214   \n",
       "4           1      5          0.153816          0.295784          0.360060   \n",
       "...       ...    ...               ...               ...               ...   \n",
       "1275       32     36          0.042077          0.176027         -0.003989   \n",
       "1276       32     37         -0.007279         -0.111814          0.008285   \n",
       "1277       32     38          0.029972          0.165903         -0.026319   \n",
       "1278       32     39          0.006916          0.121373         -0.013406   \n",
       "1279       32     40         -0.004009         -0.103387          0.008176   \n",
       "\n",
       "      Real_Comp4_Mode1  Real_Comp5_Mode1  Real_Comp6_Mode1  Real_Comp7_Mode1  \\\n",
       "0            -0.241476         -0.644874         -0.465567          0.025647   \n",
       "1            -0.205817         -0.547290         -0.596651          0.038572   \n",
       "2            -0.009266         -0.524212         -0.443412          0.297779   \n",
       "3             0.302303         -0.319410         -0.401406          0.399773   \n",
       "4             0.201468         -0.024667          0.128282          0.184452   \n",
       "...                ...               ...               ...               ...   \n",
       "1275          0.111886         -0.142465         -0.042681         -0.136961   \n",
       "1276         -0.068342          0.098407          0.028579          0.090243   \n",
       "1277          0.086238         -0.144387         -0.055708         -0.135066   \n",
       "1278          0.069159         -0.115734         -0.032974         -0.103808   \n",
       "1279         -0.064253          0.092316          0.025746          0.084230   \n",
       "\n",
       "      Real_Comp8_Mode1  ...     zeta5     zeta6     zeta7       fn1       fn2  \\\n",
       "0             0.123537  ... -0.066326  0.133498  0.178327  0.024694  0.382243   \n",
       "1             0.271317  ...  0.076651 -0.199041 -0.215854 -0.124692 -0.772587   \n",
       "2             0.475316  ... -0.006360 -0.141247 -0.289165 -0.220311 -0.636643   \n",
       "3             0.628729  ... -0.115869 -0.149079  0.053099  0.186476  0.389983   \n",
       "4             0.166842  ...  0.128709 -0.071937 -0.044726 -0.007633 -0.304688   \n",
       "...                ...  ...       ...       ...       ...       ...       ...   \n",
       "1275          0.167865  ...  0.004215 -0.010932  0.023583  0.010607  0.002187   \n",
       "1276         -0.121686  ...  0.006198 -0.007672  0.023867  0.013645  0.008459   \n",
       "1277          0.173386  ... -0.018507  0.020033 -0.006926 -0.001784 -0.008800   \n",
       "1278          0.136997  ... -0.004632  0.006113  0.008237  0.007152 -0.002770   \n",
       "1279         -0.108800  ...  0.000000  0.000000  0.000000  0.000000  0.000000   \n",
       "\n",
       "           fn3       fn4       fn5       fn6        fn7  \n",
       "0     0.300119  0.472597  0.475620  0.142434  12.717061  \n",
       "1    -0.394084 -0.969624 -0.926912  0.182059  12.830520  \n",
       "2    -0.400598 -0.792500 -0.762183  0.131674  12.581391  \n",
       "3     0.166997  0.584623  0.547285  0.094038  12.103460  \n",
       "4    -0.153691 -0.407159 -0.436772  0.178637  13.719345  \n",
       "...        ...       ...       ...       ...        ...  \n",
       "1275 -0.011306  0.015924 -0.002923  0.263352  30.169981  \n",
       "1276 -0.008225  0.021393  0.003919  0.053634  39.804373  \n",
       "1277  0.004622  0.001826 -0.001092  0.194905  31.412533  \n",
       "1278 -0.003868  0.009305 -0.002330  0.099722  33.920605  \n",
       "1279  0.000000  0.000000  0.000000  1.000000  36.313444  \n",
       "\n",
       "[1280 rows x 464 columns]"
      ]
     },
     "execution_count": 37,
     "metadata": {},
     "output_type": "execute_result"
    }
   ],
   "source": [
    "df_raw = pd.read_csv('/media/tris/tris_files/EEG_datasets/OMA/robots/OMA_deap_NOwindow_head.csv')\n",
    "df_raw"
   ]
  },
  {
   "cell_type": "code",
   "execution_count": 38,
   "metadata": {
    "ExecuteTime": {
     "end_time": "2020-10-20T19:35:58.295355Z",
     "start_time": "2020-10-20T19:35:58.264705Z"
    }
   },
   "outputs": [
    {
     "data": {
      "text/html": [
       "<div>\n",
       "<style scoped>\n",
       "    .dataframe tbody tr th:only-of-type {\n",
       "        vertical-align: middle;\n",
       "    }\n",
       "\n",
       "    .dataframe tbody tr th {\n",
       "        vertical-align: top;\n",
       "    }\n",
       "\n",
       "    .dataframe thead th {\n",
       "        text-align: right;\n",
       "    }\n",
       "</style>\n",
       "<table border=\"1\" class=\"dataframe\">\n",
       "  <thead>\n",
       "    <tr style=\"text-align: right;\">\n",
       "      <th></th>\n",
       "      <th>Trial</th>\n",
       "      <th>Real_Comp1_Mode1</th>\n",
       "      <th>Real_Comp2_Mode1</th>\n",
       "      <th>Real_Comp3_Mode1</th>\n",
       "      <th>Real_Comp4_Mode1</th>\n",
       "      <th>Real_Comp5_Mode1</th>\n",
       "      <th>Real_Comp6_Mode1</th>\n",
       "      <th>Real_Comp7_Mode1</th>\n",
       "      <th>Real_Comp8_Mode1</th>\n",
       "      <th>Real_Comp9_Mode1</th>\n",
       "      <th>...</th>\n",
       "      <th>zeta5</th>\n",
       "      <th>zeta6</th>\n",
       "      <th>zeta7</th>\n",
       "      <th>fn1</th>\n",
       "      <th>fn2</th>\n",
       "      <th>fn3</th>\n",
       "      <th>fn4</th>\n",
       "      <th>fn5</th>\n",
       "      <th>fn6</th>\n",
       "      <th>fn7</th>\n",
       "    </tr>\n",
       "  </thead>\n",
       "  <tbody>\n",
       "    <tr>\n",
       "      <th>0</th>\n",
       "      <td>1</td>\n",
       "      <td>-0.272850</td>\n",
       "      <td>-0.171058</td>\n",
       "      <td>-0.107482</td>\n",
       "      <td>-0.241476</td>\n",
       "      <td>-0.644874</td>\n",
       "      <td>-0.465567</td>\n",
       "      <td>0.025647</td>\n",
       "      <td>0.123537</td>\n",
       "      <td>0.084049</td>\n",
       "      <td>...</td>\n",
       "      <td>-0.066326</td>\n",
       "      <td>0.133498</td>\n",
       "      <td>0.178327</td>\n",
       "      <td>0.024694</td>\n",
       "      <td>0.382243</td>\n",
       "      <td>0.300119</td>\n",
       "      <td>0.472597</td>\n",
       "      <td>0.475620</td>\n",
       "      <td>0.142434</td>\n",
       "      <td>12.717061</td>\n",
       "    </tr>\n",
       "    <tr>\n",
       "      <th>1</th>\n",
       "      <td>2</td>\n",
       "      <td>-0.342873</td>\n",
       "      <td>-0.236696</td>\n",
       "      <td>-0.171148</td>\n",
       "      <td>-0.205817</td>\n",
       "      <td>-0.547290</td>\n",
       "      <td>-0.596651</td>\n",
       "      <td>0.038572</td>\n",
       "      <td>0.271317</td>\n",
       "      <td>0.200014</td>\n",
       "      <td>...</td>\n",
       "      <td>0.076651</td>\n",
       "      <td>-0.199041</td>\n",
       "      <td>-0.215854</td>\n",
       "      <td>-0.124692</td>\n",
       "      <td>-0.772587</td>\n",
       "      <td>-0.394084</td>\n",
       "      <td>-0.969624</td>\n",
       "      <td>-0.926912</td>\n",
       "      <td>0.182059</td>\n",
       "      <td>12.830520</td>\n",
       "    </tr>\n",
       "    <tr>\n",
       "      <th>2</th>\n",
       "      <td>3</td>\n",
       "      <td>-0.174481</td>\n",
       "      <td>0.056718</td>\n",
       "      <td>0.153270</td>\n",
       "      <td>-0.009266</td>\n",
       "      <td>-0.524212</td>\n",
       "      <td>-0.443412</td>\n",
       "      <td>0.297779</td>\n",
       "      <td>0.475316</td>\n",
       "      <td>0.307132</td>\n",
       "      <td>...</td>\n",
       "      <td>-0.006360</td>\n",
       "      <td>-0.141247</td>\n",
       "      <td>-0.289165</td>\n",
       "      <td>-0.220311</td>\n",
       "      <td>-0.636643</td>\n",
       "      <td>-0.400598</td>\n",
       "      <td>-0.792500</td>\n",
       "      <td>-0.762183</td>\n",
       "      <td>0.131674</td>\n",
       "      <td>12.581391</td>\n",
       "    </tr>\n",
       "    <tr>\n",
       "      <th>3</th>\n",
       "      <td>4</td>\n",
       "      <td>0.042121</td>\n",
       "      <td>0.193538</td>\n",
       "      <td>0.282214</td>\n",
       "      <td>0.302303</td>\n",
       "      <td>-0.319410</td>\n",
       "      <td>-0.401406</td>\n",
       "      <td>0.399773</td>\n",
       "      <td>0.628729</td>\n",
       "      <td>0.400342</td>\n",
       "      <td>...</td>\n",
       "      <td>-0.115869</td>\n",
       "      <td>-0.149079</td>\n",
       "      <td>0.053099</td>\n",
       "      <td>0.186476</td>\n",
       "      <td>0.389983</td>\n",
       "      <td>0.166997</td>\n",
       "      <td>0.584623</td>\n",
       "      <td>0.547285</td>\n",
       "      <td>0.094038</td>\n",
       "      <td>12.103460</td>\n",
       "    </tr>\n",
       "    <tr>\n",
       "      <th>4</th>\n",
       "      <td>5</td>\n",
       "      <td>0.153816</td>\n",
       "      <td>0.295784</td>\n",
       "      <td>0.360060</td>\n",
       "      <td>0.201468</td>\n",
       "      <td>-0.024667</td>\n",
       "      <td>0.128282</td>\n",
       "      <td>0.184452</td>\n",
       "      <td>0.166842</td>\n",
       "      <td>0.008648</td>\n",
       "      <td>...</td>\n",
       "      <td>0.128709</td>\n",
       "      <td>-0.071937</td>\n",
       "      <td>-0.044726</td>\n",
       "      <td>-0.007633</td>\n",
       "      <td>-0.304688</td>\n",
       "      <td>-0.153691</td>\n",
       "      <td>-0.407159</td>\n",
       "      <td>-0.436772</td>\n",
       "      <td>0.178637</td>\n",
       "      <td>13.719345</td>\n",
       "    </tr>\n",
       "  </tbody>\n",
       "</table>\n",
       "<p>5 rows × 463 columns</p>\n",
       "</div>"
      ],
      "text/plain": [
       "   Trial  Real_Comp1_Mode1  Real_Comp2_Mode1  Real_Comp3_Mode1  \\\n",
       "0      1         -0.272850         -0.171058         -0.107482   \n",
       "1      2         -0.342873         -0.236696         -0.171148   \n",
       "2      3         -0.174481          0.056718          0.153270   \n",
       "3      4          0.042121          0.193538          0.282214   \n",
       "4      5          0.153816          0.295784          0.360060   \n",
       "\n",
       "   Real_Comp4_Mode1  Real_Comp5_Mode1  Real_Comp6_Mode1  Real_Comp7_Mode1  \\\n",
       "0         -0.241476         -0.644874         -0.465567          0.025647   \n",
       "1         -0.205817         -0.547290         -0.596651          0.038572   \n",
       "2         -0.009266         -0.524212         -0.443412          0.297779   \n",
       "3          0.302303         -0.319410         -0.401406          0.399773   \n",
       "4          0.201468         -0.024667          0.128282          0.184452   \n",
       "\n",
       "   Real_Comp8_Mode1  Real_Comp9_Mode1  ...     zeta5     zeta6     zeta7  \\\n",
       "0          0.123537          0.084049  ... -0.066326  0.133498  0.178327   \n",
       "1          0.271317          0.200014  ...  0.076651 -0.199041 -0.215854   \n",
       "2          0.475316          0.307132  ... -0.006360 -0.141247 -0.289165   \n",
       "3          0.628729          0.400342  ... -0.115869 -0.149079  0.053099   \n",
       "4          0.166842          0.008648  ...  0.128709 -0.071937 -0.044726   \n",
       "\n",
       "        fn1       fn2       fn3       fn4       fn5       fn6        fn7  \n",
       "0  0.024694  0.382243  0.300119  0.472597  0.475620  0.142434  12.717061  \n",
       "1 -0.124692 -0.772587 -0.394084 -0.969624 -0.926912  0.182059  12.830520  \n",
       "2 -0.220311 -0.636643 -0.400598 -0.792500 -0.762183  0.131674  12.581391  \n",
       "3  0.186476  0.389983  0.166997  0.584623  0.547285  0.094038  12.103460  \n",
       "4 -0.007633 -0.304688 -0.153691 -0.407159 -0.436772  0.178637  13.719345  \n",
       "\n",
       "[5 rows x 463 columns]"
      ]
     },
     "execution_count": 38,
     "metadata": {},
     "output_type": "execute_result"
    }
   ],
   "source": [
    "subject_y = df_raw['Subject']\n",
    "# df_learn = df_raw.join(emotion_quad)\n",
    "df_learn=df_raw.drop(columns=['Subject'])\n",
    "df_learn.head()"
   ]
  },
  {
   "cell_type": "code",
   "execution_count": 39,
   "metadata": {
    "ExecuteTime": {
     "end_time": "2020-10-20T19:36:00.586393Z",
     "start_time": "2020-10-20T19:36:00.561402Z"
    }
   },
   "outputs": [
    {
     "data": {
      "text/html": [
       "<div>\n",
       "<style scoped>\n",
       "    .dataframe tbody tr th:only-of-type {\n",
       "        vertical-align: middle;\n",
       "    }\n",
       "\n",
       "    .dataframe tbody tr th {\n",
       "        vertical-align: top;\n",
       "    }\n",
       "\n",
       "    .dataframe thead th {\n",
       "        text-align: right;\n",
       "    }\n",
       "</style>\n",
       "<table border=\"1\" class=\"dataframe\">\n",
       "  <thead>\n",
       "    <tr style=\"text-align: right;\">\n",
       "      <th></th>\n",
       "      <th>Trial</th>\n",
       "      <th>Real_Comp1_Mode1</th>\n",
       "      <th>Real_Comp2_Mode1</th>\n",
       "      <th>Real_Comp3_Mode1</th>\n",
       "      <th>Real_Comp4_Mode1</th>\n",
       "      <th>Real_Comp5_Mode1</th>\n",
       "      <th>Real_Comp6_Mode1</th>\n",
       "      <th>Real_Comp7_Mode1</th>\n",
       "      <th>Real_Comp8_Mode1</th>\n",
       "      <th>Real_Comp9_Mode1</th>\n",
       "      <th>...</th>\n",
       "      <th>zeta5</th>\n",
       "      <th>zeta6</th>\n",
       "      <th>zeta7</th>\n",
       "      <th>fn1</th>\n",
       "      <th>fn2</th>\n",
       "      <th>fn3</th>\n",
       "      <th>fn4</th>\n",
       "      <th>fn5</th>\n",
       "      <th>fn6</th>\n",
       "      <th>fn7</th>\n",
       "    </tr>\n",
       "  </thead>\n",
       "  <tbody>\n",
       "    <tr>\n",
       "      <th>40</th>\n",
       "      <td>1</td>\n",
       "      <td>0.267487</td>\n",
       "      <td>-0.555741</td>\n",
       "      <td>0.067834</td>\n",
       "      <td>-0.189822</td>\n",
       "      <td>0.132533</td>\n",
       "      <td>-0.042658</td>\n",
       "      <td>-0.071016</td>\n",
       "      <td>-0.394874</td>\n",
       "      <td>-0.277133</td>\n",
       "      <td>...</td>\n",
       "      <td>0.021766</td>\n",
       "      <td>0.031713</td>\n",
       "      <td>-0.074491</td>\n",
       "      <td>-0.032984</td>\n",
       "      <td>-0.054427</td>\n",
       "      <td>-0.003401</td>\n",
       "      <td>-0.146404</td>\n",
       "      <td>0.01236</td>\n",
       "      <td>0.040532</td>\n",
       "      <td>40.425306</td>\n",
       "    </tr>\n",
       "  </tbody>\n",
       "</table>\n",
       "<p>1 rows × 463 columns</p>\n",
       "</div>"
      ],
      "text/plain": [
       "    Trial  Real_Comp1_Mode1  Real_Comp2_Mode1  Real_Comp3_Mode1  \\\n",
       "40      1          0.267487         -0.555741          0.067834   \n",
       "\n",
       "    Real_Comp4_Mode1  Real_Comp5_Mode1  Real_Comp6_Mode1  Real_Comp7_Mode1  \\\n",
       "40         -0.189822          0.132533         -0.042658         -0.071016   \n",
       "\n",
       "    Real_Comp8_Mode1  Real_Comp9_Mode1  ...     zeta5     zeta6     zeta7  \\\n",
       "40         -0.394874         -0.277133  ...  0.021766  0.031713 -0.074491   \n",
       "\n",
       "         fn1       fn2       fn3       fn4      fn5       fn6        fn7  \n",
       "40 -0.032984 -0.054427 -0.003401 -0.146404  0.01236  0.040532  40.425306  \n",
       "\n",
       "[1 rows x 463 columns]"
      ]
     },
     "execution_count": 39,
     "metadata": {},
     "output_type": "execute_result"
    }
   ],
   "source": [
    "df_learn.iloc[[40],:]"
   ]
  },
  {
   "cell_type": "code",
   "execution_count": 40,
   "metadata": {
    "ExecuteTime": {
     "end_time": "2020-10-20T19:36:00.843686Z",
     "start_time": "2020-10-20T19:36:00.763972Z"
    }
   },
   "outputs": [],
   "source": [
    "os.makedirs('tmp', exist_ok=True)\n",
    "df_learn.to_feather('tmp/eeg-raw')"
   ]
  },
  {
   "cell_type": "code",
   "execution_count": 41,
   "metadata": {
    "ExecuteTime": {
     "end_time": "2020-10-20T19:36:01.160201Z",
     "start_time": "2020-10-20T19:36:01.116686Z"
    }
   },
   "outputs": [
    {
     "data": {
      "text/html": [
       "<div>\n",
       "<style scoped>\n",
       "    .dataframe tbody tr th:only-of-type {\n",
       "        vertical-align: middle;\n",
       "    }\n",
       "\n",
       "    .dataframe tbody tr th {\n",
       "        vertical-align: top;\n",
       "    }\n",
       "\n",
       "    .dataframe thead th {\n",
       "        text-align: right;\n",
       "    }\n",
       "</style>\n",
       "<table border=\"1\" class=\"dataframe\">\n",
       "  <thead>\n",
       "    <tr style=\"text-align: right;\">\n",
       "      <th></th>\n",
       "      <th>Trial</th>\n",
       "      <th>Real_Comp1_Mode1</th>\n",
       "      <th>Real_Comp2_Mode1</th>\n",
       "      <th>Real_Comp3_Mode1</th>\n",
       "      <th>Real_Comp4_Mode1</th>\n",
       "      <th>Real_Comp5_Mode1</th>\n",
       "      <th>Real_Comp6_Mode1</th>\n",
       "      <th>Real_Comp7_Mode1</th>\n",
       "      <th>Real_Comp8_Mode1</th>\n",
       "      <th>Real_Comp9_Mode1</th>\n",
       "      <th>...</th>\n",
       "      <th>zeta5</th>\n",
       "      <th>zeta6</th>\n",
       "      <th>zeta7</th>\n",
       "      <th>fn1</th>\n",
       "      <th>fn2</th>\n",
       "      <th>fn3</th>\n",
       "      <th>fn4</th>\n",
       "      <th>fn5</th>\n",
       "      <th>fn6</th>\n",
       "      <th>fn7</th>\n",
       "    </tr>\n",
       "  </thead>\n",
       "  <tbody>\n",
       "    <tr>\n",
       "      <th>0</th>\n",
       "      <td>1</td>\n",
       "      <td>-0.272850</td>\n",
       "      <td>-0.171058</td>\n",
       "      <td>-0.107482</td>\n",
       "      <td>-0.241476</td>\n",
       "      <td>-0.644874</td>\n",
       "      <td>-0.465567</td>\n",
       "      <td>0.025647</td>\n",
       "      <td>0.123537</td>\n",
       "      <td>0.084049</td>\n",
       "      <td>...</td>\n",
       "      <td>-0.066326</td>\n",
       "      <td>0.133498</td>\n",
       "      <td>0.178327</td>\n",
       "      <td>0.024694</td>\n",
       "      <td>0.382243</td>\n",
       "      <td>0.300119</td>\n",
       "      <td>0.472597</td>\n",
       "      <td>0.475620</td>\n",
       "      <td>0.142434</td>\n",
       "      <td>12.717061</td>\n",
       "    </tr>\n",
       "    <tr>\n",
       "      <th>1</th>\n",
       "      <td>2</td>\n",
       "      <td>-0.342873</td>\n",
       "      <td>-0.236696</td>\n",
       "      <td>-0.171148</td>\n",
       "      <td>-0.205817</td>\n",
       "      <td>-0.547290</td>\n",
       "      <td>-0.596651</td>\n",
       "      <td>0.038572</td>\n",
       "      <td>0.271317</td>\n",
       "      <td>0.200014</td>\n",
       "      <td>...</td>\n",
       "      <td>0.076651</td>\n",
       "      <td>-0.199041</td>\n",
       "      <td>-0.215854</td>\n",
       "      <td>-0.124692</td>\n",
       "      <td>-0.772587</td>\n",
       "      <td>-0.394084</td>\n",
       "      <td>-0.969624</td>\n",
       "      <td>-0.926912</td>\n",
       "      <td>0.182059</td>\n",
       "      <td>12.830520</td>\n",
       "    </tr>\n",
       "    <tr>\n",
       "      <th>2</th>\n",
       "      <td>3</td>\n",
       "      <td>-0.174481</td>\n",
       "      <td>0.056718</td>\n",
       "      <td>0.153270</td>\n",
       "      <td>-0.009266</td>\n",
       "      <td>-0.524212</td>\n",
       "      <td>-0.443412</td>\n",
       "      <td>0.297779</td>\n",
       "      <td>0.475316</td>\n",
       "      <td>0.307132</td>\n",
       "      <td>...</td>\n",
       "      <td>-0.006360</td>\n",
       "      <td>-0.141247</td>\n",
       "      <td>-0.289165</td>\n",
       "      <td>-0.220311</td>\n",
       "      <td>-0.636643</td>\n",
       "      <td>-0.400598</td>\n",
       "      <td>-0.792500</td>\n",
       "      <td>-0.762183</td>\n",
       "      <td>0.131674</td>\n",
       "      <td>12.581391</td>\n",
       "    </tr>\n",
       "    <tr>\n",
       "      <th>3</th>\n",
       "      <td>4</td>\n",
       "      <td>0.042121</td>\n",
       "      <td>0.193538</td>\n",
       "      <td>0.282214</td>\n",
       "      <td>0.302303</td>\n",
       "      <td>-0.319410</td>\n",
       "      <td>-0.401406</td>\n",
       "      <td>0.399773</td>\n",
       "      <td>0.628729</td>\n",
       "      <td>0.400342</td>\n",
       "      <td>...</td>\n",
       "      <td>-0.115869</td>\n",
       "      <td>-0.149079</td>\n",
       "      <td>0.053099</td>\n",
       "      <td>0.186476</td>\n",
       "      <td>0.389983</td>\n",
       "      <td>0.166997</td>\n",
       "      <td>0.584623</td>\n",
       "      <td>0.547285</td>\n",
       "      <td>0.094038</td>\n",
       "      <td>12.103460</td>\n",
       "    </tr>\n",
       "    <tr>\n",
       "      <th>4</th>\n",
       "      <td>5</td>\n",
       "      <td>0.153816</td>\n",
       "      <td>0.295784</td>\n",
       "      <td>0.360060</td>\n",
       "      <td>0.201468</td>\n",
       "      <td>-0.024667</td>\n",
       "      <td>0.128282</td>\n",
       "      <td>0.184452</td>\n",
       "      <td>0.166842</td>\n",
       "      <td>0.008648</td>\n",
       "      <td>...</td>\n",
       "      <td>0.128709</td>\n",
       "      <td>-0.071937</td>\n",
       "      <td>-0.044726</td>\n",
       "      <td>-0.007633</td>\n",
       "      <td>-0.304688</td>\n",
       "      <td>-0.153691</td>\n",
       "      <td>-0.407159</td>\n",
       "      <td>-0.436772</td>\n",
       "      <td>0.178637</td>\n",
       "      <td>13.719345</td>\n",
       "    </tr>\n",
       "  </tbody>\n",
       "</table>\n",
       "<p>5 rows × 463 columns</p>\n",
       "</div>"
      ],
      "text/plain": [
       "   Trial  Real_Comp1_Mode1  Real_Comp2_Mode1  Real_Comp3_Mode1  \\\n",
       "0      1         -0.272850         -0.171058         -0.107482   \n",
       "1      2         -0.342873         -0.236696         -0.171148   \n",
       "2      3         -0.174481          0.056718          0.153270   \n",
       "3      4          0.042121          0.193538          0.282214   \n",
       "4      5          0.153816          0.295784          0.360060   \n",
       "\n",
       "   Real_Comp4_Mode1  Real_Comp5_Mode1  Real_Comp6_Mode1  Real_Comp7_Mode1  \\\n",
       "0         -0.241476         -0.644874         -0.465567          0.025647   \n",
       "1         -0.205817         -0.547290         -0.596651          0.038572   \n",
       "2         -0.009266         -0.524212         -0.443412          0.297779   \n",
       "3          0.302303         -0.319410         -0.401406          0.399773   \n",
       "4          0.201468         -0.024667          0.128282          0.184452   \n",
       "\n",
       "   Real_Comp8_Mode1  Real_Comp9_Mode1  ...     zeta5     zeta6     zeta7  \\\n",
       "0          0.123537          0.084049  ... -0.066326  0.133498  0.178327   \n",
       "1          0.271317          0.200014  ...  0.076651 -0.199041 -0.215854   \n",
       "2          0.475316          0.307132  ... -0.006360 -0.141247 -0.289165   \n",
       "3          0.628729          0.400342  ... -0.115869 -0.149079  0.053099   \n",
       "4          0.166842          0.008648  ...  0.128709 -0.071937 -0.044726   \n",
       "\n",
       "        fn1       fn2       fn3       fn4       fn5       fn6        fn7  \n",
       "0  0.024694  0.382243  0.300119  0.472597  0.475620  0.142434  12.717061  \n",
       "1 -0.124692 -0.772587 -0.394084 -0.969624 -0.926912  0.182059  12.830520  \n",
       "2 -0.220311 -0.636643 -0.400598 -0.792500 -0.762183  0.131674  12.581391  \n",
       "3  0.186476  0.389983  0.166997  0.584623  0.547285  0.094038  12.103460  \n",
       "4 -0.007633 -0.304688 -0.153691 -0.407159 -0.436772  0.178637  13.719345  \n",
       "\n",
       "[5 rows x 463 columns]"
      ]
     },
     "execution_count": 41,
     "metadata": {},
     "output_type": "execute_result"
    }
   ],
   "source": [
    "import pandas as pd\n",
    "df_raw = pd.read_feather('tmp/eeg-raw') #lol raw sashimis and sushis\n",
    "df_raw.head()"
   ]
  },
  {
   "cell_type": "code",
   "execution_count": 42,
   "metadata": {
    "ExecuteTime": {
     "end_time": "2020-10-20T19:36:01.505408Z",
     "start_time": "2020-10-20T19:36:01.475595Z"
    }
   },
   "outputs": [
    {
     "data": {
      "text/html": [
       "<div>\n",
       "<style scoped>\n",
       "    .dataframe tbody tr th:only-of-type {\n",
       "        vertical-align: middle;\n",
       "    }\n",
       "\n",
       "    .dataframe tbody tr th {\n",
       "        vertical-align: top;\n",
       "    }\n",
       "\n",
       "    .dataframe thead th {\n",
       "        text-align: right;\n",
       "    }\n",
       "</style>\n",
       "<table border=\"1\" class=\"dataframe\">\n",
       "  <thead>\n",
       "    <tr style=\"text-align: right;\">\n",
       "      <th></th>\n",
       "      <th>Imag_Comp12_Mode3</th>\n",
       "    </tr>\n",
       "  </thead>\n",
       "  <tbody>\n",
       "    <tr>\n",
       "      <th>100</th>\n",
       "      <td>-0.014442</td>\n",
       "    </tr>\n",
       "  </tbody>\n",
       "</table>\n",
       "</div>"
      ],
      "text/plain": [
       "     Imag_Comp12_Mode3\n",
       "100          -0.014442"
      ]
     },
     "execution_count": 42,
     "metadata": {},
     "output_type": "execute_result"
    }
   ],
   "source": [
    "df_raw.iloc[[100],[300]]"
   ]
  },
  {
   "cell_type": "code",
   "execution_count": 43,
   "metadata": {
    "ExecuteTime": {
     "end_time": "2020-10-20T19:36:02.206930Z",
     "start_time": "2020-10-20T19:36:01.820959Z"
    }
   },
   "outputs": [
    {
     "data": {
      "text/plain": [
       "Text(0.5, 1.0, 'zeta6')"
      ]
     },
     "execution_count": 43,
     "metadata": {},
     "output_type": "execute_result"
    },
    {
     "data": {
      "image/png": "[encoded data removed]",
      "text/plain": [
       "<Figure size 1080x360 with 4 Axes>"
      ]
     },
     "metadata": {
      "needs_background": "light"
     },
     "output_type": "display_data"
    }
   ],
   "source": [
    "fig, axs = plt.subplots(1, 4, figsize=(15, 5))\n",
    "axs[0].hist(df_raw.Real_Comp1_Mode1)\n",
    "axs[0].set_title('Real_Comp1_Mode1')\n",
    "axs[1].hist(df_raw.fn7)\n",
    "axs[1].set_title('freq7')\n",
    "axs[2].hist(df_raw.Imag_Comp1_Mode3)\n",
    "axs[2].set_title('Imag Chan. 27')\n",
    "axs[3].hist(df_raw.zeta6)\n",
    "axs[3].set_title('zeta6')"
   ]
  },
  {
   "cell_type": "code",
   "execution_count": 45,
   "metadata": {
    "ExecuteTime": {
     "end_time": "2020-10-20T19:36:16.356112Z",
     "start_time": "2020-10-20T19:36:16.337751Z"
    }
   },
   "outputs": [],
   "source": [
    "X_train, X_test, y_train, y_test = train_test_split(\n",
    "    df_raw, subject_y, test_size=0.2, shuffle=True)"
   ]
  },
  {
   "cell_type": "code",
   "execution_count": 46,
   "metadata": {
    "ExecuteTime": {
     "end_time": "2020-10-20T19:36:16.960614Z",
     "start_time": "2020-10-20T19:36:16.940495Z"
    }
   },
   "outputs": [],
   "source": [
    "classifier = AdaBoostClassifier(n_estimators=40)"
   ]
  },
  {
   "cell_type": "code",
   "execution_count": 47,
   "metadata": {
    "ExecuteTime": {
     "end_time": "2020-10-20T19:36:19.757381Z",
     "start_time": "2020-10-20T19:36:17.478060Z"
    }
   },
   "outputs": [
    {
     "data": {
      "text/plain": [
       "AdaBoostClassifier(n_estimators=40)"
      ]
     },
     "execution_count": 47,
     "metadata": {},
     "output_type": "execute_result"
    }
   ],
   "source": [
    "classifier.fit(X_train, y_train)"
   ]
  },
  {
   "cell_type": "code",
   "execution_count": 48,
   "metadata": {
    "ExecuteTime": {
     "end_time": "2020-10-20T19:36:19.792205Z",
     "start_time": "2020-10-20T19:36:19.758571Z"
    }
   },
   "outputs": [],
   "source": [
    "predicted = classifier.predict(X_test)"
   ]
  },
  {
   "cell_type": "code",
   "execution_count": 49,
   "metadata": {
    "ExecuteTime": {
     "end_time": "2020-10-20T19:36:21.703325Z",
     "start_time": "2020-10-20T19:36:19.793693Z"
    }
   },
   "outputs": [
    {
     "name": "stderr",
     "output_type": "stream",
     "text": [
      "/media/tris/tris_files/anaconda3/envs/fastai/lib/python3.7/site-packages/sklearn/metrics/_classification.py:1221: UndefinedMetricWarning: Precision and F-score are ill-defined and being set to 0.0 in labels with no predicted samples. Use `zero_division` parameter to control this behavior.\n",
      "  _warn_prf(average, modifier, msg_start, len(result))\n"
     ]
    },
    {
     "name": "stdout",
     "output_type": "stream",
     "text": [
      "Classification report for classifier AdaBoostClassifier(n_estimators=40):\n",
      "              precision    recall  f1-score   support\n",
      "\n",
      "           1       0.43      0.43      0.43         7\n",
      "           2       0.02      1.00      0.05         4\n",
      "           3       0.00      0.00      0.00        11\n",
      "           4       0.00      0.00      0.00         7\n",
      "           5       0.00      0.00      0.00        10\n",
      "           6       0.00      0.00      0.00         4\n",
      "           7       0.00      0.00      0.00         8\n",
      "           8       0.00      0.00      0.00        10\n",
      "           9       0.00      0.00      0.00         6\n",
      "          10       0.00      0.00      0.00         9\n",
      "          11       0.00      0.00      0.00         5\n",
      "          12       0.00      0.00      0.00        11\n",
      "          13       0.00      0.00      0.00        10\n",
      "          14       0.00      0.00      0.00         8\n",
      "          15       0.00      0.00      0.00         4\n",
      "          16       0.11      0.17      0.13         6\n",
      "          17       0.15      0.71      0.25         7\n",
      "          18       0.00      0.00      0.00         6\n",
      "          19       0.00      0.00      0.00        12\n",
      "          20       0.00      0.00      0.00        11\n",
      "          21       0.00      0.00      0.00        11\n",
      "          22       0.15      0.80      0.25         5\n",
      "          23       0.00      0.00      0.00        10\n",
      "          24       1.00      0.70      0.82        10\n",
      "          25       0.25      0.14      0.18         7\n",
      "          26       0.00      0.00      0.00         6\n",
      "          27       0.00      0.00      0.00         9\n",
      "          28       0.00      0.00      0.00         9\n",
      "          29       0.00      0.00      0.00         8\n",
      "          30       0.00      0.00      0.00         9\n",
      "          31       0.00      0.00      0.00        10\n",
      "          32       0.00      0.00      0.00         6\n",
      "\n",
      "    accuracy                           0.10       256\n",
      "   macro avg       0.07      0.12      0.07       256\n",
      "weighted avg       0.07      0.10      0.06       256\n",
      "\n",
      "\n",
      "Confusion matrix:\n",
      "[[ 3  0  0  0 ...  0  0  0  0]\n",
      " [ 0  4  0  0 ...  0  0  0  0]\n",
      " [ 0 10  0  0 ...  0  0  1  0]\n",
      " [ 0  5  0  0 ...  0  0  0  0]\n",
      " ...\n",
      " [ 0  1  0  0 ...  0  0  0  0]\n",
      " [ 0  5  0  0 ...  1  0  0  0]\n",
      " [ 3  0  0  0 ...  0  0  0  0]\n",
      " [ 0  6  0  0 ...  0  0  0  0]]\n"
     ]
    },
    {
     "data": {
      "image/png": "[encoded data removed]",
      "text/plain": [
       "<Figure size 432x288 with 2 Axes>"
      ]
     },
     "metadata": {
      "needs_background": "light"
     },
     "output_type": "display_data"
    }
   ],
   "source": [
    "print(\"Classification report for classifier %s:\\n%s\\n\"\n",
    "      % (classifier, metrics.classification_report(y_test, predicted)))\n",
    "disp = metrics.plot_confusion_matrix(classifier, X_test, y_test)\n",
    "disp.figure_.suptitle(\"Confusion Matrix\")\n",
    "print(\"Confusion matrix:\\n%s\" % disp.confusion_matrix)"
   ]
  },
  {
   "cell_type": "code",
   "execution_count": 50,
   "metadata": {
    "ExecuteTime": {
     "end_time": "2020-10-20T19:36:25.239265Z",
     "start_time": "2020-10-20T19:36:25.225417Z"
    }
   },
   "outputs": [],
   "source": [
    "classifier = svm.SVC(gamma=0.2, kernel='poly', degree=3)"
   ]
  },
  {
   "cell_type": "code",
   "execution_count": 51,
   "metadata": {
    "ExecuteTime": {
     "end_time": "2020-10-20T19:36:26.532402Z",
     "start_time": "2020-10-20T19:36:25.650729Z"
    }
   },
   "outputs": [
    {
     "data": {
      "text/plain": [
       "SVC(gamma=0.2, kernel='poly')"
      ]
     },
     "execution_count": 51,
     "metadata": {},
     "output_type": "execute_result"
    }
   ],
   "source": [
    "classifier.fit(X_train, y_train)"
   ]
  },
  {
   "cell_type": "code",
   "execution_count": 52,
   "metadata": {
    "ExecuteTime": {
     "end_time": "2020-10-20T19:36:26.673806Z",
     "start_time": "2020-10-20T19:36:26.533640Z"
    }
   },
   "outputs": [],
   "source": [
    "predicted = classifier.predict(X_test)"
   ]
  },
  {
   "cell_type": "code",
   "execution_count": 53,
   "metadata": {
    "ExecuteTime": {
     "end_time": "2020-10-20T19:36:28.611175Z",
     "start_time": "2020-10-20T19:36:26.674992Z"
    }
   },
   "outputs": [
    {
     "name": "stdout",
     "output_type": "stream",
     "text": [
      "Classification report for classifier SVC(gamma=0.2, kernel='poly'):\n",
      "              precision    recall  f1-score   support\n",
      "\n",
      "           1       0.75      0.43      0.55         7\n",
      "           2       0.00      0.00      0.00         4\n",
      "           3       0.54      0.64      0.58        11\n",
      "           4       0.17      0.14      0.15         7\n",
      "           5       0.33      0.20      0.25        10\n",
      "           6       0.14      0.25      0.18         4\n",
      "           7       0.29      0.25      0.27         8\n",
      "           8       0.75      0.30      0.43        10\n",
      "           9       0.43      0.50      0.46         6\n",
      "          10       0.43      0.33      0.38         9\n",
      "          11       0.14      0.20      0.17         5\n",
      "          12       0.62      0.45      0.53        11\n",
      "          13       0.36      0.40      0.38        10\n",
      "          14       0.00      0.00      0.00         8\n",
      "          15       0.22      0.50      0.31         4\n",
      "          16       0.50      0.33      0.40         6\n",
      "          17       0.31      0.57      0.40         7\n",
      "          18       0.00      0.00      0.00         6\n",
      "          19       0.57      0.33      0.42        12\n",
      "          20       0.50      0.36      0.42        11\n",
      "          21       0.20      0.18      0.19        11\n",
      "          22       0.33      0.60      0.43         5\n",
      "          23       0.43      0.30      0.35        10\n",
      "          24       0.88      0.70      0.78        10\n",
      "          25       0.43      0.43      0.43         7\n",
      "          26       0.20      0.50      0.29         6\n",
      "          27       0.50      0.22      0.31         9\n",
      "          28       0.56      0.56      0.56         9\n",
      "          29       0.50      0.62      0.56         8\n",
      "          30       0.25      0.11      0.15         9\n",
      "          31       0.67      0.60      0.63        10\n",
      "          32       0.18      0.33      0.24         6\n",
      "\n",
      "    accuracy                           0.36       256\n",
      "   macro avg       0.38      0.35      0.35       256\n",
      "weighted avg       0.42      0.36      0.37       256\n",
      "\n",
      "\n",
      "Confusion matrix:\n",
      "[[3 0 0 0 ... 0 0 0 0]\n",
      " [0 0 0 1 ... 0 0 0 0]\n",
      " [0 1 7 0 ... 0 0 0 1]\n",
      " [0 0 1 1 ... 0 0 0 0]\n",
      " ...\n",
      " [0 0 0 0 ... 5 0 0 0]\n",
      " [0 1 0 0 ... 1 1 0 0]\n",
      " [1 0 0 0 ... 0 0 6 0]\n",
      " [0 0 1 0 ... 0 0 0 2]]\n"
     ]
    },
    {
     "data": {
      "image/png": "[encoded data removed]",
      "text/plain": [
       "<Figure size 432x288 with 2 Axes>"
      ]
     },
     "metadata": {
      "needs_background": "light"
     },
     "output_type": "display_data"
    }
   ],
   "source": [
    "print(\"Classification report for classifier %s:\\n%s\\n\"\n",
    "      % (classifier, metrics.classification_report(y_test, predicted)))\n",
    "disp = metrics.plot_confusion_matrix(classifier, X_test, y_test)\n",
    "disp.figure_.suptitle(\"Confusion Matrix\")\n",
    "print(\"Confusion matrix:\\n%s\" % disp.confusion_matrix)"
   ]
  },
  {
   "cell_type": "code",
   "execution_count": 54,
   "metadata": {
    "ExecuteTime": {
     "end_time": "2020-10-20T19:36:29.581606Z",
     "start_time": "2020-10-20T19:36:29.567613Z"
    }
   },
   "outputs": [],
   "source": [
    "classifier = tree.DecisionTreeClassifier()"
   ]
  },
  {
   "cell_type": "code",
   "execution_count": 55,
   "metadata": {
    "ExecuteTime": {
     "end_time": "2020-10-20T19:36:30.784447Z",
     "start_time": "2020-10-20T19:36:29.822530Z"
    }
   },
   "outputs": [
    {
     "data": {
      "text/plain": [
       "DecisionTreeClassifier()"
      ]
     },
     "execution_count": 55,
     "metadata": {},
     "output_type": "execute_result"
    }
   ],
   "source": [
    "classifier.fit(X_train, y_train)"
   ]
  },
  {
   "cell_type": "code",
   "execution_count": 56,
   "metadata": {
    "ExecuteTime": {
     "end_time": "2020-10-20T19:36:30.803467Z",
     "start_time": "2020-10-20T19:36:30.785695Z"
    }
   },
   "outputs": [],
   "source": [
    "predicted = classifier.predict(X_test)"
   ]
  },
  {
   "cell_type": "code",
   "execution_count": 57,
   "metadata": {
    "ExecuteTime": {
     "end_time": "2020-10-20T19:36:32.513951Z",
     "start_time": "2020-10-20T19:36:30.805177Z"
    }
   },
   "outputs": [
    {
     "name": "stdout",
     "output_type": "stream",
     "text": [
      "Classification report for classifier DecisionTreeClassifier():\n",
      "              precision    recall  f1-score   support\n",
      "\n",
      "           1       0.50      0.14      0.22         7\n",
      "           2       0.67      1.00      0.80         4\n",
      "           3       1.00      0.55      0.71        11\n",
      "           4       1.00      0.57      0.73         7\n",
      "           5       0.67      0.40      0.50        10\n",
      "           6       0.50      0.75      0.60         4\n",
      "           7       0.67      0.75      0.71         8\n",
      "           8       0.60      0.60      0.60        10\n",
      "           9       0.43      0.50      0.46         6\n",
      "          10       0.42      0.56      0.48         9\n",
      "          11       0.80      0.80      0.80         5\n",
      "          12       0.46      0.55      0.50        11\n",
      "          13       0.67      0.60      0.63        10\n",
      "          14       0.75      0.75      0.75         8\n",
      "          15       0.30      0.75      0.43         4\n",
      "          16       0.67      0.33      0.44         6\n",
      "          17       0.36      0.57      0.44         7\n",
      "          18       0.43      0.50      0.46         6\n",
      "          19       0.90      0.75      0.82        12\n",
      "          20       0.77      0.91      0.83        11\n",
      "          21       0.67      0.55      0.60        11\n",
      "          22       0.80      0.80      0.80         5\n",
      "          23       0.40      0.40      0.40        10\n",
      "          24       1.00      0.80      0.89        10\n",
      "          25       0.67      0.57      0.62         7\n",
      "          26       1.00      1.00      1.00         6\n",
      "          27       0.50      0.44      0.47         9\n",
      "          28       0.60      0.67      0.63         9\n",
      "          29       0.86      0.75      0.80         8\n",
      "          30       0.36      0.44      0.40         9\n",
      "          31       0.80      0.80      0.80        10\n",
      "          32       0.56      0.83      0.67         6\n",
      "\n",
      "    accuracy                           0.62       256\n",
      "   macro avg       0.65      0.64      0.62       256\n",
      "weighted avg       0.66      0.62      0.63       256\n",
      "\n",
      "\n",
      "Confusion matrix:\n",
      "[[1 0 0 0 ... 0 0 0 0]\n",
      " [0 4 0 0 ... 0 0 0 0]\n",
      " [0 0 6 0 ... 0 1 0 0]\n",
      " [0 0 0 4 ... 0 0 0 0]\n",
      " ...\n",
      " [0 0 0 0 ... 6 0 0 0]\n",
      " [0 0 0 0 ... 0 4 0 0]\n",
      " [0 0 0 0 ... 0 1 8 0]\n",
      " [0 0 0 0 ... 0 0 0 5]]\n"
     ]
    },
    {
     "data": {
      "image/png": "[encoded data removed]",
      "text/plain": [
       "<Figure size 432x288 with 2 Axes>"
      ]
     },
     "metadata": {
      "needs_background": "light"
     },
     "output_type": "display_data"
    }
   ],
   "source": [
    "print(\"Classification report for classifier %s:\\n%s\\n\"\n",
    "      % (classifier, metrics.classification_report(y_test, predicted)))\n",
    "disp = metrics.plot_confusion_matrix(classifier, X_test, y_test)\n",
    "disp.figure_.suptitle(\"Confusion Matrix\")\n",
    "print(\"Confusion matrix:\\n%s\" % disp.confusion_matrix)"
   ]
  },
  {
   "cell_type": "code",
   "execution_count": 58,
   "metadata": {
    "ExecuteTime": {
     "end_time": "2020-10-20T19:36:41.811929Z",
     "start_time": "2020-10-20T19:36:34.809085Z"
    },
    "scrolled": true
   },
   "outputs": [
    {
     "data": {
      "text/plain": [
       "[Text(255.21827194385315, 215.86434782608694, 'X[88] <= 0.624\\ngini = 0.969\\nsamples = 1024\\nvalue = [33, 36, 29, 33, 30, 36, 32, 30, 34, 31, 35, 29, 30, 32, 36, 34, 33, 34, 28\\n29, 29, 35, 30, 30, 33, 34, 31, 31, 32, 31, 30, 34]'),\n",
       " Text(252.20883374160599, 212.71304347826086, 'X[396] <= 8.441\\ngini = 0.968\\nsamples = 1003\\nvalue = [33, 36, 29, 33, 30, 36, 32, 30, 34, 31, 35, 29, 30, 32, 36, 34, 33, 34, 28\\n29, 29, 35, 30, 9, 33, 34, 31, 31, 32, 31, 30, 34]'),\n",
       " Text(215.267774315309, 209.56173913043477, 'X[13] <= 0.297\\ngini = 0.72\\nsamples = 67\\nvalue = [0, 0, 0, 0, 0, 0, 1, 12, 0, 0, 0, 0, 0, 0, 0, 28, 0, 0, 0, 0, 0, 0, 0\\n0, 0, 0, 1, 0, 17, 6, 0, 2]'),\n",
       " Text(206.99181925912924, 206.4104347826087, 'X[462] <= 16.09\\ngini = 0.751\\nsamples = 48\\nvalue = [0, 0, 0, 0, 0, 0, 0, 12, 0, 0, 0, 0, 0, 0, 0, 10, 0, 0, 0, 0, 0, 0, 0\\n0, 0, 0, 1, 0, 17, 6, 0, 2]'),\n",
       " Text(199.46822375351124, 203.2591304347826, 'X[461] <= 0.083\\ngini = 0.547\\nsamples = 31\\nvalue = [0, 0, 0, 0, 0, 0, 0, 12, 0, 0, 0, 0, 0, 0, 0, 1, 0, 0, 0, 0, 0, 0, 0\\n0, 0, 0, 1, 0, 17, 0, 0, 0]'),\n",
       " Text(193.44934734901688, 200.10782608695652, 'X[112] <= -0.106\\ngini = 0.215\\nsamples = 17\\nvalue = [0, 0, 0, 0, 0, 0, 0, 0, 0, 0, 0, 0, 0, 0, 0, 1, 0, 0, 0, 0, 0, 0, 0\\n0, 0, 0, 1, 0, 15, 0, 0, 0]'),\n",
       " Text(190.43990914676968, 196.95652173913044, 'X[226] <= -0.005\\ngini = 0.5\\nsamples = 2\\nvalue = [0, 0, 0, 0, 0, 0, 0, 0, 0, 0, 0, 0, 0, 0, 0, 1, 0, 0, 0, 0, 0, 0, 0\\n0, 0, 0, 1, 0, 0, 0, 0, 0]'),\n",
       " Text(187.43047094452248, 193.80521739130435, 'gini = 0.0\\nsamples = 1\\nvalue = [0, 0, 0, 0, 0, 0, 0, 0, 0, 0, 0, 0, 0, 0, 0, 1, 0, 0, 0, 0, 0, 0, 0\\n0, 0, 0, 0, 0, 0, 0, 0, 0]'),\n",
       " Text(193.44934734901688, 193.80521739130435, 'gini = 0.0\\nsamples = 1\\nvalue = [0, 0, 0, 0, 0, 0, 0, 0, 0, 0, 0, 0, 0, 0, 0, 0, 0, 0, 0, 0, 0, 0, 0\\n0, 0, 0, 1, 0, 0, 0, 0, 0]'),\n",
       " Text(196.45878555126407, 196.95652173913044, 'gini = 0.0\\nsamples = 15\\nvalue = [0, 0, 0, 0, 0, 0, 0, 0, 0, 0, 0, 0, 0, 0, 0, 0, 0, 0, 0, 0, 0, 0, 0\\n0, 0, 0, 0, 0, 15, 0, 0, 0]'),\n",
       " Text(205.48710015800563, 200.10782608695652, 'X[389] <= 0.14\\ngini = 0.245\\nsamples = 14\\nvalue = [0, 0, 0, 0, 0, 0, 0, 12, 0, 0, 0, 0, 0, 0, 0, 0, 0, 0, 0, 0, 0, 0, 0\\n0, 0, 0, 0, 0, 2, 0, 0, 0]'),\n",
       " Text(202.47766195575844, 196.95652173913044, 'gini = 0.0\\nsamples = 12\\nvalue = [0, 0, 0, 0, 0, 0, 0, 12, 0, 0, 0, 0, 0, 0, 0, 0, 0, 0, 0, 0, 0, 0, 0\\n0, 0, 0, 0, 0, 0, 0, 0, 0]'),\n",
       " Text(208.49653836025283, 196.95652173913044, 'gini = 0.0\\nsamples = 2\\nvalue = [0, 0, 0, 0, 0, 0, 0, 0, 0, 0, 0, 0, 0, 0, 0, 0, 0, 0, 0, 0, 0, 0, 0\\n0, 0, 0, 0, 0, 2, 0, 0, 0]'),\n",
       " Text(214.51541476474722, 203.2591304347826, 'X[329] <= 0.127\\ngini = 0.581\\nsamples = 17\\nvalue = [0, 0, 0, 0, 0, 0, 0, 0, 0, 0, 0, 0, 0, 0, 0, 9, 0, 0, 0, 0, 0, 0, 0\\n0, 0, 0, 0, 0, 0, 6, 0, 2]'),\n",
       " Text(211.50597656250002, 200.10782608695652, 'gini = 0.0\\nsamples = 9\\nvalue = [0, 0, 0, 0, 0, 0, 0, 0, 0, 0, 0, 0, 0, 0, 0, 9, 0, 0, 0, 0, 0, 0, 0\\n0, 0, 0, 0, 0, 0, 0, 0, 0]'),\n",
       " Text(217.5248529669944, 200.10782608695652, 'X[97] <= -0.299\\ngini = 0.375\\nsamples = 8\\nvalue = [0, 0, 0, 0, 0, 0, 0, 0, 0, 0, 0, 0, 0, 0, 0, 0, 0, 0, 0, 0, 0, 0, 0\\n0, 0, 0, 0, 0, 0, 6, 0, 2]'),\n",
       " Text(214.51541476474722, 196.95652173913044, 'gini = 0.0\\nsamples = 2\\nvalue = [0, 0, 0, 0, 0, 0, 0, 0, 0, 0, 0, 0, 0, 0, 0, 0, 0, 0, 0, 0, 0, 0, 0\\n0, 0, 0, 0, 0, 0, 0, 0, 2]'),\n",
       " Text(220.53429116924158, 196.95652173913044, 'gini = 0.0\\nsamples = 6\\nvalue = [0, 0, 0, 0, 0, 0, 0, 0, 0, 0, 0, 0, 0, 0, 0, 0, 0, 0, 0, 0, 0, 0, 0\\n0, 0, 0, 0, 0, 0, 6, 0, 0]'),\n",
       " Text(223.54372937148878, 206.4104347826087, 'X[91] <= 0.137\\ngini = 0.1\\nsamples = 19\\nvalue = [0, 0, 0, 0, 0, 0, 1, 0, 0, 0, 0, 0, 0, 0, 0, 18, 0, 0, 0, 0, 0, 0, 0\\n0, 0, 0, 0, 0, 0, 0, 0, 0]'),\n",
       " Text(220.53429116924158, 203.2591304347826, 'gini = 0.0\\nsamples = 18\\nvalue = [0, 0, 0, 0, 0, 0, 0, 0, 0, 0, 0, 0, 0, 0, 0, 18, 0, 0, 0, 0, 0, 0, 0\\n0, 0, 0, 0, 0, 0, 0, 0, 0]'),\n",
       " Text(226.55316757373598, 203.2591304347826, 'gini = 0.0\\nsamples = 1\\nvalue = [0, 0, 0, 0, 0, 0, 1, 0, 0, 0, 0, 0, 0, 0, 0, 0, 0, 0, 0, 0, 0, 0, 0\\n0, 0, 0, 0, 0, 0, 0, 0, 0]'),\n",
       " Text(289.1498931679029, 209.56173913043477, 'X[439] <= -0.415\\ngini = 0.967\\nsamples = 936\\nvalue = [33, 36, 29, 33, 30, 36, 31, 18, 34, 31, 35, 29, 30, 32, 36, 6, 33, 34, 28, 29\\n29, 35, 30, 9, 33, 34, 30, 31, 15, 25, 30, 32]'),\n",
       " Text(272.93004482312153, 206.4104347826087, 'X[224] <= -0.584\\ngini = 0.095\\nsamples = 20\\nvalue = [19, 0, 0, 0, 0, 0, 0, 0, 0, 0, 0, 0, 0, 0, 0, 0, 0, 0, 0, 0, 0, 0, 0\\n0, 1, 0, 0, 0, 0, 0, 0, 0]'),\n",
       " Text(269.9206066208743, 203.2591304347826, 'gini = 0.0\\nsamples = 1\\nvalue = [0, 0, 0, 0, 0, 0, 0, 0, 0, 0, 0, 0, 0, 0, 0, 0, 0, 0, 0, 0, 0, 0, 0\\n0, 1, 0, 0, 0, 0, 0, 0, 0]'),\n",
       " Text(275.9394830253687, 203.2591304347826, 'gini = 0.0\\nsamples = 19\\nvalue = [19, 0, 0, 0, 0, 0, 0, 0, 0, 0, 0, 0, 0, 0, 0, 0, 0, 0, 0, 0, 0, 0, 0\\n0, 0, 0, 0, 0, 0, 0, 0, 0]'),\n",
       " Text(305.36974151268436, 206.4104347826087, 'X[401] <= 0.494\\ngini = 0.967\\nsamples = 916\\nvalue = [14, 36, 29, 33, 30, 36, 31, 18, 34, 31, 35, 29, 30, 32, 36, 6, 33, 34, 28, 29\\n29, 35, 30, 9, 32, 34, 30, 31, 15, 25, 30, 32]'),\n",
       " Text(281.9583594298631, 203.2591304347826, 'X[264] <= 15.75\\ngini = 0.966\\nsamples = 892\\nvalue = [14, 36, 29, 33, 30, 36, 31, 18, 14, 31, 35, 29, 30, 32, 36, 6, 33, 34, 28, 29\\n28, 35, 30, 9, 32, 34, 27, 31, 15, 25, 30, 32]'),\n",
       " Text(250.1827862754565, 200.10782608695652, 'X[75] <= 0.409\\ngini = 0.965\\nsamples = 818\\nvalue = [14, 36, 29, 32, 29, 36, 31, 15, 14, 30, 35, 15, 29, 32, 31, 3, 33, 32, 28, 28\\n28, 4, 22, 9, 31, 34, 27, 29, 15, 25, 30, 32]'),\n",
       " Text(230.26849389922754, 196.95652173913044, 'X[18] <= 0.428\\ngini = 0.964\\nsamples = 794\\nvalue = [14, 35, 29, 32, 29, 36, 30, 15, 14, 30, 35, 15, 29, 32, 31, 3, 33, 31, 28, 28\\n28, 4, 22, 9, 31, 14, 27, 29, 14, 25, 30, 32]'),\n",
       " Text(199.46822375351124, 193.80521739130435, 'X[1] <= -0.625\\ngini = 0.963\\nsamples = 725\\nvalue = [12, 35, 29, 9, 29, 36, 29, 15, 14, 27, 35, 15, 29, 31, 8, 3, 33, 31, 25, 27\\n28, 4, 22, 5, 31, 14, 23, 29, 13, 25, 27, 32]'),\n",
       " Text(177.93156425561799, 190.65391304347827, 'X[11] <= 0.138\\ngini = 0.188\\nsamples = 19\\nvalue = [0, 0, 0, 0, 0, 0, 0, 0, 0, 0, 0, 0, 0, 0, 0, 0, 0, 0, 17, 0, 0, 0, 0\\n0, 0, 0, 0, 0, 0, 2, 0, 0]'),\n",
       " Text(174.9221260533708, 187.50260869565219, 'gini = 0.0\\nsamples = 2\\nvalue = [0, 0, 0, 0, 0, 0, 0, 0, 0, 0, 0, 0, 0, 0, 0, 0, 0, 0, 0, 0, 0, 0, 0\\n0, 0, 0, 0, 0, 0, 2, 0, 0]'),\n",
       " Text(180.94100245786518, 187.50260869565219, 'gini = 0.0\\nsamples = 17\\nvalue = [0, 0, 0, 0, 0, 0, 0, 0, 0, 0, 0, 0, 0, 0, 0, 0, 0, 0, 17, 0, 0, 0, 0\\n0, 0, 0, 0, 0, 0, 0, 0, 0]'),\n",
       " Text(221.00488325140452, 190.65391304347827, 'X[68] <= 0.539\\ngini = 0.962\\nsamples = 706\\nvalue = [12, 35, 29, 9, 29, 36, 29, 15, 14, 27, 35, 15, 29, 31, 8, 3, 33, 31, 8, 27\\n28, 4, 22, 5, 31, 14, 23, 29, 13, 23, 27, 32]'),\n",
       " Text(186.95987886235957, 187.50260869565219, 'X[402] <= 0.724\\ngini = 0.962\\nsamples = 688\\nvalue = [12, 19, 29, 9, 29, 36, 29, 15, 14, 25, 35, 15, 29, 31, 8, 3, 33, 31, 8, 27\\n28, 4, 22, 5, 31, 14, 23, 29, 13, 23, 27, 32]'),\n",
       " Text(127.89818469101125, 184.3513043478261, 'X[462] <= 15.121\\ngini = 0.962\\nsamples = 654\\nvalue = [12, 19, 29, 9, 28, 16, 29, 15, 14, 24, 35, 15, 29, 31, 8, 3, 33, 31, 8, 27\\n28, 4, 19, 5, 31, 14, 23, 20, 13, 23, 27, 32]'),\n",
       " Text(40.627415730337084, 181.2, 'X[396] <= 10.624\\ngini = 0.892\\nsamples = 134\\nvalue = [12, 0, 1, 1, 7, 1, 1, 8, 4, 11, 0, 0, 0, 0, 0, 0, 26, 0, 2, 7, 1, 0, 0\\n5, 0, 3, 0, 0, 12, 7, 24, 1]'),\n",
       " Text(27.084943820224723, 178.0486956521739, 'X[460] <= 0.292\\ngini = 0.881\\nsamples = 92\\nvalue = [12, 0, 0, 1, 3, 1, 1, 8, 3, 11, 0, 0, 0, 0, 0, 0, 21, 0, 2, 5, 0, 0, 0\\n5, 0, 3, 0, 0, 12, 3, 1, 0]'),\n",
       " Text(24.07550561797753, 174.89739130434782, 'X[202] <= -0.617\\ngini = 0.873\\nsamples = 83\\nvalue = [3, 0, 0, 1, 3, 1, 1, 8, 3, 11, 0, 0, 0, 0, 0, 0, 21, 0, 2, 5, 0, 0, 0\\n5, 0, 3, 0, 0, 12, 3, 1, 0]'),\n",
       " Text(21.066067415730338, 171.74608695652174, 'gini = 0.0\\nsamples = 9\\nvalue = [0, 0, 0, 0, 0, 0, 0, 0, 0, 0, 0, 0, 0, 0, 0, 0, 9, 0, 0, 0, 0, 0, 0\\n0, 0, 0, 0, 0, 0, 0, 0, 0]'),\n",
       " Text(27.084943820224723, 171.74608695652174, 'X[202] <= 0.549\\ngini = 0.895\\nsamples = 74\\nvalue = [3, 0, 0, 1, 3, 1, 1, 8, 3, 11, 0, 0, 0, 0, 0, 0, 12, 0, 2, 5, 0, 0, 0\\n5, 0, 3, 0, 0, 12, 3, 1, 0]'),\n",
       " Text(18.05662921348315, 168.59478260869565, 'X[96] <= 0.189\\ngini = 0.895\\nsamples = 65\\nvalue = [3, 0, 0, 1, 3, 1, 1, 8, 3, 11, 0, 0, 0, 0, 0, 0, 4, 0, 1, 5, 0, 0, 0\\n5, 0, 3, 0, 0, 12, 3, 1, 0]'),\n",
       " Text(9.028314606741574, 165.44347826086957, 'X[219] <= -0.355\\ngini = 0.902\\nsamples = 55\\nvalue = [3, 0, 0, 1, 3, 1, 1, 7, 3, 11, 0, 0, 0, 0, 0, 0, 4, 0, 1, 5, 0, 0, 0\\n5, 0, 3, 0, 0, 4, 2, 1, 0]'),\n",
       " Text(6.0188764044943825, 162.29217391304348, 'gini = 0.0\\nsamples = 5\\nvalue = [0, 0, 0, 0, 0, 0, 0, 0, 0, 0, 0, 0, 0, 0, 0, 0, 0, 0, 0, 5, 0, 0, 0\\n0, 0, 0, 0, 0, 0, 0, 0, 0]'),\n",
       " Text(12.037752808988765, 162.29217391304348, 'X[289] <= -0.217\\ngini = 0.891\\nsamples = 50\\nvalue = [3, 0, 0, 1, 3, 1, 1, 7, 3, 11, 0, 0, 0, 0, 0, 0, 4, 0, 1, 0, 0, 0, 0\\n5, 0, 3, 0, 0, 4, 2, 1, 0]'),\n",
       " Text(9.028314606741574, 159.1408695652174, 'gini = 0.0\\nsamples = 7\\nvalue = [0, 0, 0, 0, 0, 0, 0, 0, 0, 7, 0, 0, 0, 0, 0, 0, 0, 0, 0, 0, 0, 0, 0\\n0, 0, 0, 0, 0, 0, 0, 0, 0]'),\n",
       " Text(15.047191011235956, 159.1408695652174, 'X[80] <= 0.216\\ngini = 0.91\\nsamples = 43\\nvalue = [3, 0, 0, 1, 3, 1, 1, 7, 3, 4, 0, 0, 0, 0, 0, 0, 4, 0, 1, 0, 0, 0, 0\\n5, 0, 3, 0, 0, 4, 2, 1, 0]'),\n",
       " Text(12.037752808988765, 155.98956521739132, 'X[96] <= -0.185\\ngini = 0.916\\nsamples = 38\\nvalue = [3, 0, 0, 1, 3, 1, 1, 2, 3, 4, 0, 0, 0, 0, 0, 0, 4, 0, 1, 0, 0, 0, 0\\n5, 0, 3, 0, 0, 4, 2, 1, 0]'),\n",
       " Text(6.0188764044943825, 152.8382608695652, 'X[69] <= 0.181\\ngini = 0.32\\nsamples = 5\\nvalue = [0, 0, 0, 0, 0, 0, 0, 1, 0, 0, 0, 0, 0, 0, 0, 0, 0, 0, 0, 0, 0, 0, 0\\n0, 0, 0, 0, 0, 4, 0, 0, 0]'),\n",
       " Text(3.0094382022471913, 149.68695652173915, 'gini = 0.0\\nsamples = 4\\nvalue = [0, 0, 0, 0, 0, 0, 0, 0, 0, 0, 0, 0, 0, 0, 0, 0, 0, 0, 0, 0, 0, 0, 0\\n0, 0, 0, 0, 0, 4, 0, 0, 0]'),\n",
       " Text(9.028314606741574, 149.68695652173915, 'gini = 0.0\\nsamples = 1\\nvalue = [0, 0, 0, 0, 0, 0, 0, 1, 0, 0, 0, 0, 0, 0, 0, 0, 0, 0, 0, 0, 0, 0, 0\\n0, 0, 0, 0, 0, 0, 0, 0, 0]'),\n",
       " Text(18.05662921348315, 152.8382608695652, 'X[289] <= 0.183\\ngini = 0.905\\nsamples = 33\\nvalue = [3, 0, 0, 1, 3, 1, 1, 1, 3, 4, 0, 0, 0, 0, 0, 0, 4, 0, 1, 0, 0, 0, 0\\n5, 0, 3, 0, 0, 0, 2, 1, 0]'),\n",
       " Text(15.047191011235956, 149.68695652173915, 'X[462] <= 9.926\\ngini = 0.897\\nsamples = 29\\nvalue = [3, 0, 0, 1, 3, 1, 1, 1, 3, 0, 0, 0, 0, 0, 0, 0, 4, 0, 1, 0, 0, 0, 0\\n5, 0, 3, 0, 0, 0, 2, 1, 0]'),\n",
       " Text(12.037752808988765, 146.53565217391304, 'gini = 0.0\\nsamples = 4\\nvalue = [0, 0, 0, 0, 0, 0, 0, 0, 0, 0, 0, 0, 0, 0, 0, 0, 0, 0, 0, 0, 0, 0, 0\\n4, 0, 0, 0, 0, 0, 0, 0, 0]'),\n",
       " Text(18.05662921348315, 146.53565217391304, 'X[298] <= 0.371\\ngini = 0.899\\nsamples = 25\\nvalue = [3, 0, 0, 1, 3, 1, 1, 1, 3, 0, 0, 0, 0, 0, 0, 0, 4, 0, 1, 0, 0, 0, 0\\n1, 0, 3, 0, 0, 0, 2, 1, 0]'),\n",
       " Text(15.047191011235956, 143.38434782608698, 'X[103] <= -0.175\\ngini = 0.888\\nsamples = 22\\nvalue = [0, 0, 0, 1, 3, 1, 1, 1, 3, 0, 0, 0, 0, 0, 0, 0, 4, 0, 1, 0, 0, 0, 0\\n1, 0, 3, 0, 0, 0, 2, 1, 0]'),\n",
       " Text(12.037752808988765, 140.23304347826087, 'gini = 0.0\\nsamples = 3\\nvalue = [0, 0, 0, 0, 0, 0, 0, 0, 3, 0, 0, 0, 0, 0, 0, 0, 0, 0, 0, 0, 0, 0, 0\\n0, 0, 0, 0, 0, 0, 0, 0, 0]'),\n",
       " Text(18.05662921348315, 140.23304347826087, 'X[160] <= -0.427\\ngini = 0.875\\nsamples = 19\\nvalue = [0, 0, 0, 1, 3, 1, 1, 1, 0, 0, 0, 0, 0, 0, 0, 0, 4, 0, 1, 0, 0, 0, 0\\n1, 0, 3, 0, 0, 0, 2, 1, 0]'),\n",
       " Text(15.047191011235956, 137.08173913043478, 'gini = 0.0\\nsamples = 3\\nvalue = [0, 0, 0, 0, 3, 0, 0, 0, 0, 0, 0, 0, 0, 0, 0, 0, 0, 0, 0, 0, 0, 0, 0\\n0, 0, 0, 0, 0, 0, 0, 0, 0]'),\n",
       " Text(21.066067415730338, 137.08173913043478, 'X[9] <= 0.292\\ngini = 0.859\\nsamples = 16\\nvalue = [0, 0, 0, 1, 0, 1, 1, 1, 0, 0, 0, 0, 0, 0, 0, 0, 4, 0, 1, 0, 0, 0, 0\\n1, 0, 3, 0, 0, 0, 2, 1, 0]'),\n",
       " Text(18.05662921348315, 133.9304347826087, 'X[28] <= -0.017\\ngini = 0.84\\nsamples = 13\\nvalue = [0, 0, 0, 1, 0, 1, 1, 1, 0, 0, 0, 0, 0, 0, 0, 0, 4, 0, 1, 0, 0, 0, 0\\n1, 0, 0, 0, 0, 0, 2, 1, 0]'),\n",
       " Text(12.037752808988765, 130.77913043478262, 'X[92] <= -0.03\\ngini = 0.844\\nsamples = 8\\nvalue = [0, 0, 0, 1, 0, 0, 1, 1, 0, 0, 0, 0, 0, 0, 0, 0, 0, 0, 1, 0, 0, 0, 0\\n1, 0, 0, 0, 0, 0, 2, 1, 0]'),\n",
       " Text(9.028314606741574, 127.62782608695653, 'X[226] <= -0.237\\ngini = 0.833\\nsamples = 6\\nvalue = [0, 0, 0, 1, 0, 0, 1, 1, 0, 0, 0, 0, 0, 0, 0, 0, 0, 0, 1, 0, 0, 0, 0\\n1, 0, 0, 0, 0, 0, 0, 1, 0]'),\n",
       " Text(6.0188764044943825, 124.47652173913043, 'gini = 0.0\\nsamples = 1\\nvalue = [0, 0, 0, 0, 0, 0, 0, 0, 0, 0, 0, 0, 0, 0, 0, 0, 0, 0, 1, 0, 0, 0, 0\\n0, 0, 0, 0, 0, 0, 0, 0, 0]'),\n",
       " Text(12.037752808988765, 124.47652173913043, 'X[378] <= -0.202\\ngini = 0.8\\nsamples = 5\\nvalue = [0, 0, 0, 1, 0, 0, 1, 1, 0, 0, 0, 0, 0, 0, 0, 0, 0, 0, 0, 0, 0, 0, 0\\n1, 0, 0, 0, 0, 0, 0, 1, 0]'),\n",
       " Text(9.028314606741574, 121.32521739130435, 'gini = 0.0\\nsamples = 1\\nvalue = [0, 0, 0, 0, 0, 0, 1, 0, 0, 0, 0, 0, 0, 0, 0, 0, 0, 0, 0, 0, 0, 0, 0\\n0, 0, 0, 0, 0, 0, 0, 0, 0]'),\n",
       " Text(15.047191011235956, 121.32521739130435, 'X[17] <= -0.267\\ngini = 0.75\\nsamples = 4\\nvalue = [0, 0, 0, 1, 0, 0, 0, 1, 0, 0, 0, 0, 0, 0, 0, 0, 0, 0, 0, 0, 0, 0, 0\\n1, 0, 0, 0, 0, 0, 0, 1, 0]'),\n",
       " Text(12.037752808988765, 118.17391304347827, 'gini = 0.0\\nsamples = 1\\nvalue = [0, 0, 0, 0, 0, 0, 0, 0, 0, 0, 0, 0, 0, 0, 0, 0, 0, 0, 0, 0, 0, 0, 0\\n1, 0, 0, 0, 0, 0, 0, 0, 0]'),\n",
       " Text(18.05662921348315, 118.17391304347827, 'X[237] <= -0.217\\ngini = 0.667\\nsamples = 3\\nvalue = [0, 0, 0, 1, 0, 0, 0, 1, 0, 0, 0, 0, 0, 0, 0, 0, 0, 0, 0, 0, 0, 0, 0\\n0, 0, 0, 0, 0, 0, 0, 1, 0]'),\n",
       " Text(15.047191011235956, 115.02260869565218, 'gini = 0.0\\nsamples = 1\\nvalue = [0, 0, 0, 1, 0, 0, 0, 0, 0, 0, 0, 0, 0, 0, 0, 0, 0, 0, 0, 0, 0, 0, 0\\n0, 0, 0, 0, 0, 0, 0, 0, 0]'),\n",
       " Text(21.066067415730338, 115.02260869565218, 'X[80] <= -0.377\\ngini = 0.5\\nsamples = 2\\nvalue = [0, 0, 0, 0, 0, 0, 0, 1, 0, 0, 0, 0, 0, 0, 0, 0, 0, 0, 0, 0, 0, 0, 0\\n0, 0, 0, 0, 0, 0, 0, 1, 0]'),\n",
       " Text(18.05662921348315, 111.8713043478261, 'gini = 0.0\\nsamples = 1\\nvalue = [0, 0, 0, 0, 0, 0, 0, 1, 0, 0, 0, 0, 0, 0, 0, 0, 0, 0, 0, 0, 0, 0, 0\\n0, 0, 0, 0, 0, 0, 0, 0, 0]'),\n",
       " Text(24.07550561797753, 111.8713043478261, 'gini = 0.0\\nsamples = 1\\nvalue = [0, 0, 0, 0, 0, 0, 0, 0, 0, 0, 0, 0, 0, 0, 0, 0, 0, 0, 0, 0, 0, 0, 0\\n0, 0, 0, 0, 0, 0, 0, 1, 0]'),\n",
       " Text(15.047191011235956, 127.62782608695653, 'gini = 0.0\\nsamples = 2\\nvalue = [0, 0, 0, 0, 0, 0, 0, 0, 0, 0, 0, 0, 0, 0, 0, 0, 0, 0, 0, 0, 0, 0, 0\\n0, 0, 0, 0, 0, 0, 2, 0, 0]'),\n",
       " Text(24.07550561797753, 130.77913043478262, 'X[431] <= -0.081\\ngini = 0.32\\nsamples = 5\\nvalue = [0, 0, 0, 0, 0, 1, 0, 0, 0, 0, 0, 0, 0, 0, 0, 0, 4, 0, 0, 0, 0, 0, 0\\n0, 0, 0, 0, 0, 0, 0, 0, 0]'),\n",
       " Text(21.066067415730338, 127.62782608695653, 'gini = 0.0\\nsamples = 1\\nvalue = [0, 0, 0, 0, 0, 1, 0, 0, 0, 0, 0, 0, 0, 0, 0, 0, 0, 0, 0, 0, 0, 0, 0\\n0, 0, 0, 0, 0, 0, 0, 0, 0]'),\n",
       " Text(27.084943820224723, 127.62782608695653, 'gini = 0.0\\nsamples = 4\\nvalue = [0, 0, 0, 0, 0, 0, 0, 0, 0, 0, 0, 0, 0, 0, 0, 0, 4, 0, 0, 0, 0, 0, 0\\n0, 0, 0, 0, 0, 0, 0, 0, 0]'),\n",
       " Text(24.07550561797753, 133.9304347826087, 'gini = 0.0\\nsamples = 3\\nvalue = [0, 0, 0, 0, 0, 0, 0, 0, 0, 0, 0, 0, 0, 0, 0, 0, 0, 0, 0, 0, 0, 0, 0\\n0, 0, 3, 0, 0, 0, 0, 0, 0]'),\n",
       " Text(21.066067415730338, 143.38434782608698, 'gini = 0.0\\nsamples = 3\\nvalue = [3, 0, 0, 0, 0, 0, 0, 0, 0, 0, 0, 0, 0, 0, 0, 0, 0, 0, 0, 0, 0, 0, 0\\n0, 0, 0, 0, 0, 0, 0, 0, 0]'),\n",
       " Text(21.066067415730338, 149.68695652173915, 'gini = 0.0\\nsamples = 4\\nvalue = [0, 0, 0, 0, 0, 0, 0, 0, 0, 4, 0, 0, 0, 0, 0, 0, 0, 0, 0, 0, 0, 0, 0\\n0, 0, 0, 0, 0, 0, 0, 0, 0]'),\n",
       " Text(18.05662921348315, 155.98956521739132, 'gini = 0.0\\nsamples = 5\\nvalue = [0, 0, 0, 0, 0, 0, 0, 5, 0, 0, 0, 0, 0, 0, 0, 0, 0, 0, 0, 0, 0, 0, 0\\n0, 0, 0, 0, 0, 0, 0, 0, 0]'),\n",
       " Text(27.084943820224723, 165.44347826086957, 'X[83] <= -0.11\\ngini = 0.34\\nsamples = 10\\nvalue = [0, 0, 0, 0, 0, 0, 0, 1, 0, 0, 0, 0, 0, 0, 0, 0, 0, 0, 0, 0, 0, 0, 0\\n0, 0, 0, 0, 0, 8, 1, 0, 0]'),\n",
       " Text(24.07550561797753, 162.29217391304348, 'X[40] <= 0.011\\ngini = 0.5\\nsamples = 2\\nvalue = [0, 0, 0, 0, 0, 0, 0, 1, 0, 0, 0, 0, 0, 0, 0, 0, 0, 0, 0, 0, 0, 0, 0\\n0, 0, 0, 0, 0, 0, 1, 0, 0]'),\n",
       " Text(21.066067415730338, 159.1408695652174, 'gini = 0.0\\nsamples = 1\\nvalue = [0, 0, 0, 0, 0, 0, 0, 1, 0, 0, 0, 0, 0, 0, 0, 0, 0, 0, 0, 0, 0, 0, 0\\n0, 0, 0, 0, 0, 0, 0, 0, 0]'),\n",
       " Text(27.084943820224723, 159.1408695652174, 'gini = 0.0\\nsamples = 1\\nvalue = [0, 0, 0, 0, 0, 0, 0, 0, 0, 0, 0, 0, 0, 0, 0, 0, 0, 0, 0, 0, 0, 0, 0\\n0, 0, 0, 0, 0, 0, 1, 0, 0]'),\n",
       " Text(30.094382022471912, 162.29217391304348, 'gini = 0.0\\nsamples = 8\\nvalue = [0, 0, 0, 0, 0, 0, 0, 0, 0, 0, 0, 0, 0, 0, 0, 0, 0, 0, 0, 0, 0, 0, 0\\n0, 0, 0, 0, 0, 8, 0, 0, 0]'),\n",
       " Text(36.1132584269663, 168.59478260869565, 'X[123] <= -0.061\\ngini = 0.198\\nsamples = 9\\nvalue = [0, 0, 0, 0, 0, 0, 0, 0, 0, 0, 0, 0, 0, 0, 0, 0, 8, 0, 1, 0, 0, 0, 0\\n0, 0, 0, 0, 0, 0, 0, 0, 0]'),\n",
       " Text(33.1038202247191, 165.44347826086957, 'gini = 0.0\\nsamples = 1\\nvalue = [0, 0, 0, 0, 0, 0, 0, 0, 0, 0, 0, 0, 0, 0, 0, 0, 0, 0, 1, 0, 0, 0, 0\\n0, 0, 0, 0, 0, 0, 0, 0, 0]'),\n",
       " Text(39.122696629213486, 165.44347826086957, 'gini = 0.0\\nsamples = 8\\nvalue = [0, 0, 0, 0, 0, 0, 0, 0, 0, 0, 0, 0, 0, 0, 0, 0, 8, 0, 0, 0, 0, 0, 0\\n0, 0, 0, 0, 0, 0, 0, 0, 0]'),\n",
       " Text(30.094382022471912, 174.89739130434782, 'gini = 0.0\\nsamples = 9\\nvalue = [9, 0, 0, 0, 0, 0, 0, 0, 0, 0, 0, 0, 0, 0, 0, 0, 0, 0, 0, 0, 0, 0, 0\\n0, 0, 0, 0, 0, 0, 0, 0, 0]'),\n",
       " Text(54.169887640449446, 178.0486956521739, 'X[461] <= 0.099\\ngini = 0.663\\nsamples = 42\\nvalue = [0, 0, 1, 0, 4, 0, 0, 0, 1, 0, 0, 0, 0, 0, 0, 0, 5, 0, 0, 2, 1, 0, 0\\n0, 0, 0, 0, 0, 0, 4, 23, 1]'),\n",
       " Text(48.15101123595506, 174.89739130434782, 'X[89] <= -0.183\\ngini = 0.156\\nsamples = 24\\nvalue = [0, 0, 0, 0, 0, 0, 0, 0, 1, 0, 0, 0, 0, 0, 0, 0, 1, 0, 0, 0, 0, 0, 0\\n0, 0, 0, 0, 0, 0, 0, 22, 0]'),\n",
       " Text(45.14157303370787, 171.74608695652174, 'X[137] <= -0.503\\ngini = 0.5\\nsamples = 2\\nvalue = [0, 0, 0, 0, 0, 0, 0, 0, 1, 0, 0, 0, 0, 0, 0, 0, 1, 0, 0, 0, 0, 0, 0\\n0, 0, 0, 0, 0, 0, 0, 0, 0]'),\n",
       " Text(42.132134831460675, 168.59478260869565, 'gini = 0.0\\nsamples = 1\\nvalue = [0, 0, 0, 0, 0, 0, 0, 0, 1, 0, 0, 0, 0, 0, 0, 0, 0, 0, 0, 0, 0, 0, 0\\n0, 0, 0, 0, 0, 0, 0, 0, 0]'),\n",
       " Text(48.15101123595506, 168.59478260869565, 'gini = 0.0\\nsamples = 1\\nvalue = [0, 0, 0, 0, 0, 0, 0, 0, 0, 0, 0, 0, 0, 0, 0, 0, 1, 0, 0, 0, 0, 0, 0\\n0, 0, 0, 0, 0, 0, 0, 0, 0]'),\n",
       " Text(51.16044943820225, 171.74608695652174, 'gini = 0.0\\nsamples = 22\\nvalue = [0, 0, 0, 0, 0, 0, 0, 0, 0, 0, 0, 0, 0, 0, 0, 0, 0, 0, 0, 0, 0, 0, 0\\n0, 0, 0, 0, 0, 0, 0, 22, 0]'),\n",
       " Text(60.188764044943824, 174.89739130434782, 'X[396] <= 12.414\\ngini = 0.827\\nsamples = 18\\nvalue = [0, 0, 1, 0, 4, 0, 0, 0, 0, 0, 0, 0, 0, 0, 0, 0, 4, 0, 0, 2, 1, 0, 0\\n0, 0, 0, 0, 0, 0, 4, 1, 1]'),\n",
       " Text(57.179325842696635, 171.74608695652174, 'X[208] <= -0.052\\ngini = 0.796\\nsamples = 14\\nvalue = [0, 0, 1, 0, 4, 0, 0, 0, 0, 0, 0, 0, 0, 0, 0, 0, 0, 0, 0, 2, 1, 0, 0\\n0, 0, 0, 0, 0, 0, 4, 1, 1]'),\n",
       " Text(54.169887640449446, 168.59478260869565, 'gini = 0.0\\nsamples = 4\\nvalue = [0, 0, 0, 0, 4, 0, 0, 0, 0, 0, 0, 0, 0, 0, 0, 0, 0, 0, 0, 0, 0, 0, 0\\n0, 0, 0, 0, 0, 0, 0, 0, 0]'),\n",
       " Text(60.188764044943824, 168.59478260869565, 'X[188] <= 0.005\\ngini = 0.76\\nsamples = 10\\nvalue = [0, 0, 1, 0, 0, 0, 0, 0, 0, 0, 0, 0, 0, 0, 0, 0, 0, 0, 0, 2, 1, 0, 0\\n0, 0, 0, 0, 0, 0, 4, 1, 1]'),\n",
       " Text(57.179325842696635, 165.44347826086957, 'X[76] <= 0.023\\ngini = 0.778\\nsamples = 6\\nvalue = [0, 0, 1, 0, 0, 0, 0, 0, 0, 0, 0, 0, 0, 0, 0, 0, 0, 0, 0, 2, 1, 0, 0\\n0, 0, 0, 0, 0, 0, 0, 1, 1]'),\n",
       " Text(54.169887640449446, 162.29217391304348, 'X[17] <= -0.315\\ngini = 0.75\\nsamples = 4\\nvalue = [0, 0, 1, 0, 0, 0, 0, 0, 0, 0, 0, 0, 0, 0, 0, 0, 0, 0, 0, 0, 1, 0, 0\\n0, 0, 0, 0, 0, 0, 0, 1, 1]'),\n",
       " Text(51.16044943820225, 159.1408695652174, 'gini = 0.0\\nsamples = 1\\nvalue = [0, 0, 1, 0, 0, 0, 0, 0, 0, 0, 0, 0, 0, 0, 0, 0, 0, 0, 0, 0, 0, 0, 0\\n0, 0, 0, 0, 0, 0, 0, 0, 0]'),\n",
       " Text(57.179325842696635, 159.1408695652174, 'X[106] <= -0.144\\ngini = 0.667\\nsamples = 3\\nvalue = [0, 0, 0, 0, 0, 0, 0, 0, 0, 0, 0, 0, 0, 0, 0, 0, 0, 0, 0, 0, 1, 0, 0\\n0, 0, 0, 0, 0, 0, 0, 1, 1]'),\n",
       " Text(54.169887640449446, 155.98956521739132, 'gini = 0.0\\nsamples = 1\\nvalue = [0, 0, 0, 0, 0, 0, 0, 0, 0, 0, 0, 0, 0, 0, 0, 0, 0, 0, 0, 0, 0, 0, 0\\n0, 0, 0, 0, 0, 0, 0, 1, 0]'),\n",
       " Text(60.188764044943824, 155.98956521739132, 'X[453] <= -0.017\\ngini = 0.5\\nsamples = 2\\nvalue = [0, 0, 0, 0, 0, 0, 0, 0, 0, 0, 0, 0, 0, 0, 0, 0, 0, 0, 0, 0, 1, 0, 0\\n0, 0, 0, 0, 0, 0, 0, 0, 1]'),\n",
       " Text(57.179325842696635, 152.8382608695652, 'gini = 0.0\\nsamples = 1\\nvalue = [0, 0, 0, 0, 0, 0, 0, 0, 0, 0, 0, 0, 0, 0, 0, 0, 0, 0, 0, 0, 1, 0, 0\\n0, 0, 0, 0, 0, 0, 0, 0, 0]'),\n",
       " Text(63.19820224719102, 152.8382608695652, 'gini = 0.0\\nsamples = 1\\nvalue = [0, 0, 0, 0, 0, 0, 0, 0, 0, 0, 0, 0, 0, 0, 0, 0, 0, 0, 0, 0, 0, 0, 0\\n0, 0, 0, 0, 0, 0, 0, 0, 1]'),\n",
       " Text(60.188764044943824, 162.29217391304348, 'gini = 0.0\\nsamples = 2\\nvalue = [0, 0, 0, 0, 0, 0, 0, 0, 0, 0, 0, 0, 0, 0, 0, 0, 0, 0, 0, 2, 0, 0, 0\\n0, 0, 0, 0, 0, 0, 0, 0, 0]'),\n",
       " Text(63.19820224719102, 165.44347826086957, 'gini = 0.0\\nsamples = 4\\nvalue = [0, 0, 0, 0, 0, 0, 0, 0, 0, 0, 0, 0, 0, 0, 0, 0, 0, 0, 0, 0, 0, 0, 0\\n0, 0, 0, 0, 0, 0, 4, 0, 0]'),\n",
       " Text(63.19820224719102, 171.74608695652174, 'gini = 0.0\\nsamples = 4\\nvalue = [0, 0, 0, 0, 0, 0, 0, 0, 0, 0, 0, 0, 0, 0, 0, 0, 4, 0, 0, 0, 0, 0, 0\\n0, 0, 0, 0, 0, 0, 0, 0, 0]'),\n",
       " Text(215.1689536516854, 181.2, 'X[3] <= 0.358\\ngini = 0.955\\nsamples = 520\\nvalue = [0, 19, 28, 8, 21, 15, 28, 7, 10, 13, 35, 15, 29, 31, 8, 3, 7, 31, 6, 20, 27\\n4, 19, 0, 31, 11, 23, 20, 1, 16, 3, 31]'),\n",
       " Text(196.3540870786517, 178.0486956521739, 'X[23] <= 0.338\\ngini = 0.955\\nsamples = 479\\nvalue = [0, 19, 28, 8, 20, 15, 28, 7, 10, 13, 35, 14, 29, 12, 8, 3, 7, 31, 4, 20, 27\\n2, 19, 0, 16, 11, 22, 20, 1, 16, 3, 31]'),\n",
       " Text(170.76210674157304, 174.89739130434782, 'X[409] <= 0.475\\ngini = 0.954\\nsamples = 445\\nvalue = [0, 19, 28, 8, 20, 15, 28, 7, 9, 13, 35, 13, 29, 12, 8, 3, 7, 31, 4, 12, 27\\n2, 19, 0, 16, 11, 18, 20, 1, 15, 3, 12]'),\n",
       " Text(137.63477528089888, 171.74608695652174, 'X[264] <= 9.966\\ngini = 0.953\\nsamples = 419\\nvalue = [0, 19, 28, 8, 20, 15, 25, 7, 9, 13, 35, 12, 29, 12, 8, 3, 7, 31, 4, 7, 10\\n2, 19, 0, 16, 11, 18, 20, 1, 15, 3, 12]'),\n",
       " Text(90.94146067415731, 168.59478260869565, 'X[73] <= -0.377\\ngini = 0.952\\nsamples = 339\\nvalue = [0, 19, 28, 5, 20, 13, 25, 7, 8, 13, 9, 10, 27, 12, 8, 3, 7, 25, 4, 7, 9\\n2, 8, 0, 8, 11, 16, 5, 1, 15, 2, 12]'),\n",
       " Text(69.2170786516854, 165.44347826086957, 'X[75] <= -0.098\\ngini = 0.32\\nsamples = 16\\nvalue = [0, 0, 13, 2, 0, 0, 0, 0, 0, 0, 0, 1, 0, 0, 0, 0, 0, 0, 0, 0, 0, 0, 0\\n0, 0, 0, 0, 0, 0, 0, 0, 0]'),\n",
       " Text(66.2076404494382, 162.29217391304348, 'gini = 0.0\\nsamples = 13\\nvalue = [0, 0, 13, 0, 0, 0, 0, 0, 0, 0, 0, 0, 0, 0, 0, 0, 0, 0, 0, 0, 0, 0, 0\\n0, 0, 0, 0, 0, 0, 0, 0, 0]'),\n",
       " Text(72.2265168539326, 162.29217391304348, 'X[262] <= 0.039\\ngini = 0.444\\nsamples = 3\\nvalue = [0, 0, 0, 2, 0, 0, 0, 0, 0, 0, 0, 1, 0, 0, 0, 0, 0, 0, 0, 0, 0, 0, 0\\n0, 0, 0, 0, 0, 0, 0, 0, 0]'),\n",
       " Text(69.2170786516854, 159.1408695652174, 'gini = 0.0\\nsamples = 2\\nvalue = [0, 0, 0, 2, 0, 0, 0, 0, 0, 0, 0, 0, 0, 0, 0, 0, 0, 0, 0, 0, 0, 0, 0\\n0, 0, 0, 0, 0, 0, 0, 0, 0]'),\n",
       " Text(75.23595505617978, 159.1408695652174, 'gini = 0.0\\nsamples = 1\\nvalue = [0, 0, 0, 0, 0, 0, 0, 0, 0, 0, 0, 1, 0, 0, 0, 0, 0, 0, 0, 0, 0, 0, 0\\n0, 0, 0, 0, 0, 0, 0, 0, 0]'),\n",
       " Text(112.66584269662923, 165.44347826086957, 'X[97] <= 0.558\\ngini = 0.953\\nsamples = 323\\nvalue = [0, 19, 15, 3, 20, 13, 25, 7, 8, 13, 9, 9, 27, 12, 8, 3, 7, 25, 4, 7, 9, 2\\n8, 0, 8, 11, 16, 5, 1, 15, 2, 12]'),\n",
       " Text(109.65640449438203, 162.29217391304348, 'X[24] <= -0.577\\ngini = 0.953\\nsamples = 313\\nvalue = [0, 9, 15, 3, 20, 13, 25, 7, 8, 13, 9, 9, 27, 12, 8, 3, 7, 25, 4, 7, 9, 2\\n8, 0, 8, 11, 16, 5, 1, 15, 2, 12]'),\n",
       " Text(81.25483146067417, 159.1408695652174, 'X[139] <= 0.041\\ngini = 0.401\\nsamples = 17\\nvalue = [0, 0, 0, 0, 13, 0, 0, 0, 0, 0, 0, 0, 0, 1, 0, 0, 0, 0, 0, 0, 0, 0, 0\\n0, 1, 0, 1, 0, 0, 1, 0, 0]'),\n",
       " Text(78.24539325842697, 155.98956521739132, 'gini = 0.0\\nsamples = 13\\nvalue = [0, 0, 0, 0, 13, 0, 0, 0, 0, 0, 0, 0, 0, 0, 0, 0, 0, 0, 0, 0, 0, 0, 0\\n0, 0, 0, 0, 0, 0, 0, 0, 0]'),\n",
       " Text(84.26426966292135, 155.98956521739132, 'X[228] <= -0.206\\ngini = 0.75\\nsamples = 4\\nvalue = [0, 0, 0, 0, 0, 0, 0, 0, 0, 0, 0, 0, 0, 1, 0, 0, 0, 0, 0, 0, 0, 0, 0\\n0, 1, 0, 1, 0, 0, 1, 0, 0]'),\n",
       " Text(81.25483146067417, 152.8382608695652, 'gini = 0.0\\nsamples = 1\\nvalue = [0, 0, 0, 0, 0, 0, 0, 0, 0, 0, 0, 0, 0, 1, 0, 0, 0, 0, 0, 0, 0, 0, 0\\n0, 0, 0, 0, 0, 0, 0, 0, 0]'),\n",
       " Text(87.27370786516855, 152.8382608695652, 'X[379] <= -0.156\\ngini = 0.667\\nsamples = 3\\nvalue = [0, 0, 0, 0, 0, 0, 0, 0, 0, 0, 0, 0, 0, 0, 0, 0, 0, 0, 0, 0, 0, 0, 0\\n0, 1, 0, 1, 0, 0, 1, 0, 0]'),\n",
       " Text(84.26426966292135, 149.68695652173915, 'gini = 0.0\\nsamples = 1\\nvalue = [0, 0, 0, 0, 0, 0, 0, 0, 0, 0, 0, 0, 0, 0, 0, 0, 0, 0, 0, 0, 0, 0, 0\\n0, 0, 0, 1, 0, 0, 0, 0, 0]'),\n",
       " Text(90.28314606741574, 149.68695652173915, 'X[143] <= 0.266\\ngini = 0.5\\nsamples = 2\\nvalue = [0, 0, 0, 0, 0, 0, 0, 0, 0, 0, 0, 0, 0, 0, 0, 0, 0, 0, 0, 0, 0, 0, 0\\n0, 1, 0, 0, 0, 0, 1, 0, 0]'),\n",
       " Text(87.27370786516855, 146.53565217391304, 'gini = 0.0\\nsamples = 1\\nvalue = [0, 0, 0, 0, 0, 0, 0, 0, 0, 0, 0, 0, 0, 0, 0, 0, 0, 0, 0, 0, 0, 0, 0\\n0, 0, 0, 0, 0, 0, 1, 0, 0]'),\n",
       " Text(93.29258426966292, 146.53565217391304, 'gini = 0.0\\nsamples = 1\\nvalue = [0, 0, 0, 0, 0, 0, 0, 0, 0, 0, 0, 0, 0, 0, 0, 0, 0, 0, 0, 0, 0, 0, 0\\n0, 1, 0, 0, 0, 0, 0, 0, 0]'),\n",
       " Text(138.0579775280899, 159.1408695652174, 'X[74] <= 0.47\\ngini = 0.952\\nsamples = 296\\nvalue = [0, 9, 15, 3, 7, 13, 25, 7, 8, 13, 9, 9, 27, 11, 8, 3, 7, 25, 4, 7, 9, 2\\n8, 0, 7, 11, 15, 5, 1, 14, 2, 12]'),\n",
       " Text(113.60629213483148, 155.98956521739132, 'X[23] <= -0.448\\ngini = 0.954\\nsamples = 279\\nvalue = [0, 9, 15, 3, 5, 13, 25, 6, 8, 13, 9, 9, 14, 11, 8, 3, 7, 25, 4, 7, 8, 2\\n8, 0, 7, 11, 15, 5, 1, 14, 2, 12]'),\n",
       " Text(99.31146067415732, 152.8382608695652, 'X[8] <= 0.022\\ngini = 0.565\\nsamples = 20\\nvalue = [0, 0, 0, 0, 0, 0, 0, 0, 2, 0, 0, 0, 0, 0, 0, 0, 0, 0, 0, 5, 0, 0, 0\\n0, 0, 0, 0, 0, 0, 1, 0, 12]'),\n",
       " Text(96.30202247191012, 149.68695652173915, 'gini = 0.0\\nsamples = 12\\nvalue = [0, 0, 0, 0, 0, 0, 0, 0, 0, 0, 0, 0, 0, 0, 0, 0, 0, 0, 0, 0, 0, 0, 0\\n0, 0, 0, 0, 0, 0, 0, 0, 12]'),\n",
       " Text(102.3208988764045, 149.68695652173915, 'X[12] <= 0.155\\ngini = 0.531\\nsamples = 8\\nvalue = [0, 0, 0, 0, 0, 0, 0, 0, 2, 0, 0, 0, 0, 0, 0, 0, 0, 0, 0, 5, 0, 0, 0\\n0, 0, 0, 0, 0, 0, 1, 0, 0]'),\n",
       " Text(99.31146067415732, 146.53565217391304, 'gini = 0.0\\nsamples = 5\\nvalue = [0, 0, 0, 0, 0, 0, 0, 0, 0, 0, 0, 0, 0, 0, 0, 0, 0, 0, 0, 5, 0, 0, 0\\n0, 0, 0, 0, 0, 0, 0, 0, 0]'),\n",
       " Text(105.3303370786517, 146.53565217391304, 'X[168] <= -0.06\\ngini = 0.444\\nsamples = 3\\nvalue = [0, 0, 0, 0, 0, 0, 0, 0, 2, 0, 0, 0, 0, 0, 0, 0, 0, 0, 0, 0, 0, 0, 0\\n0, 0, 0, 0, 0, 0, 1, 0, 0]'),\n",
       " Text(102.3208988764045, 143.38434782608698, 'gini = 0.0\\nsamples = 1\\nvalue = [0, 0, 0, 0, 0, 0, 0, 0, 0, 0, 0, 0, 0, 0, 0, 0, 0, 0, 0, 0, 0, 0, 0\\n0, 0, 0, 0, 0, 0, 1, 0, 0]'),\n",
       " Text(108.33977528089889, 143.38434782608698, 'gini = 0.0\\nsamples = 2\\nvalue = [0, 0, 0, 0, 0, 0, 0, 0, 2, 0, 0, 0, 0, 0, 0, 0, 0, 0, 0, 0, 0, 0, 0\\n0, 0, 0, 0, 0, 0, 0, 0, 0]'),\n",
       " Text(127.90112359550562, 152.8382608695652, 'X[415] <= -0.45\\ngini = 0.95\\nsamples = 259\\nvalue = [0, 9, 15, 3, 5, 13, 25, 6, 6, 13, 9, 9, 14, 11, 8, 3, 7, 25, 4, 2, 8, 2\\n8, 0, 7, 11, 15, 5, 1, 13, 2, 0]'),\n",
       " Text(114.35865168539327, 149.68695652173915, 'X[402] <= 0.365\\ngini = 0.398\\nsamples = 16\\nvalue = [0, 0, 0, 0, 1, 0, 12, 0, 0, 0, 0, 0, 0, 0, 0, 0, 0, 0, 0, 0, 0, 0, 0\\n0, 3, 0, 0, 0, 0, 0, 0, 0]'),\n",
       " Text(111.34921348314607, 146.53565217391304, 'gini = 0.0\\nsamples = 12\\nvalue = [0, 0, 0, 0, 0, 0, 12, 0, 0, 0, 0, 0, 0, 0, 0, 0, 0, 0, 0, 0, 0, 0, 0\\n0, 0, 0, 0, 0, 0, 0, 0, 0]'),\n",
       " Text(117.36808988764047, 146.53565217391304, 'X[171] <= 0.05\\ngini = 0.375\\nsamples = 4\\nvalue = [0, 0, 0, 0, 1, 0, 0, 0, 0, 0, 0, 0, 0, 0, 0, 0, 0, 0, 0, 0, 0, 0, 0\\n0, 3, 0, 0, 0, 0, 0, 0, 0]'),\n",
       " Text(114.35865168539327, 143.38434782608698, 'gini = 0.0\\nsamples = 3\\nvalue = [0, 0, 0, 0, 0, 0, 0, 0, 0, 0, 0, 0, 0, 0, 0, 0, 0, 0, 0, 0, 0, 0, 0\\n0, 3, 0, 0, 0, 0, 0, 0, 0]'),\n",
       " Text(120.37752808988765, 143.38434782608698, 'gini = 0.0\\nsamples = 1\\nvalue = [0, 0, 0, 0, 1, 0, 0, 0, 0, 0, 0, 0, 0, 0, 0, 0, 0, 0, 0, 0, 0, 0, 0\\n0, 0, 0, 0, 0, 0, 0, 0, 0]'),\n",
       " Text(141.443595505618, 149.68695652173915, 'X[49] <= -0.227\\ngini = 0.952\\nsamples = 243\\nvalue = [0, 9, 15, 3, 4, 13, 13, 6, 6, 13, 9, 9, 14, 11, 8, 3, 7, 25, 4, 2, 8, 2\\n8, 0, 4, 11, 15, 5, 1, 13, 2, 0]'),\n",
       " Text(129.40584269662924, 146.53565217391304, 'X[51] <= -0.037\\ngini = 0.347\\nsamples = 15\\nvalue = [0, 0, 1, 0, 0, 0, 0, 0, 0, 0, 0, 0, 0, 1, 0, 0, 0, 12, 0, 0, 0, 0, 0\\n0, 0, 0, 1, 0, 0, 0, 0, 0]'),\n",
       " Text(126.39640449438204, 143.38434782608698, 'gini = 0.0\\nsamples = 12\\nvalue = [0, 0, 0, 0, 0, 0, 0, 0, 0, 0, 0, 0, 0, 0, 0, 0, 0, 12, 0, 0, 0, 0, 0\\n0, 0, 0, 0, 0, 0, 0, 0, 0]'),\n",
       " Text(132.4152808988764, 143.38434782608698, 'X[449] <= -0.001\\ngini = 0.667\\nsamples = 3\\nvalue = [0, 0, 1, 0, 0, 0, 0, 0, 0, 0, 0, 0, 0, 1, 0, 0, 0, 0, 0, 0, 0, 0, 0\\n0, 0, 0, 1, 0, 0, 0, 0, 0]'),\n",
       " Text(129.40584269662924, 140.23304347826087, 'gini = 0.0\\nsamples = 1\\nvalue = [0, 0, 0, 0, 0, 0, 0, 0, 0, 0, 0, 0, 0, 1, 0, 0, 0, 0, 0, 0, 0, 0, 0\\n0, 0, 0, 0, 0, 0, 0, 0, 0]'),\n",
       " Text(135.4247191011236, 140.23304347826087, 'X[189] <= -0.005\\ngini = 0.5\\nsamples = 2\\nvalue = [0, 0, 1, 0, 0, 0, 0, 0, 0, 0, 0, 0, 0, 0, 0, 0, 0, 0, 0, 0, 0, 0, 0\\n0, 0, 0, 1, 0, 0, 0, 0, 0]'),\n",
       " Text(132.4152808988764, 137.08173913043478, 'gini = 0.0\\nsamples = 1\\nvalue = [0, 0, 1, 0, 0, 0, 0, 0, 0, 0, 0, 0, 0, 0, 0, 0, 0, 0, 0, 0, 0, 0, 0\\n0, 0, 0, 0, 0, 0, 0, 0, 0]'),\n",
       " Text(138.4341573033708, 137.08173913043478, 'gini = 0.0\\nsamples = 1\\nvalue = [0, 0, 0, 0, 0, 0, 0, 0, 0, 0, 0, 0, 0, 0, 0, 0, 0, 0, 0, 0, 0, 0, 0\\n0, 0, 0, 1, 0, 0, 0, 0, 0]'),\n",
       " Text(153.48134831460675, 146.53565217391304, 'X[402] <= -0.776\\ngini = 0.955\\nsamples = 228\\nvalue = [0, 9, 14, 3, 4, 13, 13, 6, 6, 13, 9, 9, 14, 10, 8, 3, 7, 13, 4, 2, 8, 2\\n8, 0, 4, 11, 14, 5, 1, 13, 2, 0]'),\n",
       " Text(144.4530337078652, 143.38434782608698, 'X[426] <= 0.065\\ngini = 0.439\\nsamples = 14\\nvalue = [0, 0, 0, 0, 0, 10, 0, 0, 0, 0, 0, 0, 0, 0, 0, 0, 0, 0, 0, 0, 0, 0, 1\\n0, 0, 0, 0, 3, 0, 0, 0, 0]'),\n",
       " Text(141.443595505618, 140.23304347826087, 'gini = 0.0\\nsamples = 10\\nvalue = [0, 0, 0, 0, 0, 10, 0, 0, 0, 0, 0, 0, 0, 0, 0, 0, 0, 0, 0, 0, 0, 0, 0\\n0, 0, 0, 0, 0, 0, 0, 0, 0]'),\n",
       " Text(147.46247191011238, 140.23304347826087, 'X[382] <= -0.0\\ngini = 0.375\\nsamples = 4\\nvalue = [0, 0, 0, 0, 0, 0, 0, 0, 0, 0, 0, 0, 0, 0, 0, 0, 0, 0, 0, 0, 0, 0, 1\\n0, 0, 0, 0, 3, 0, 0, 0, 0]'),\n",
       " Text(144.4530337078652, 137.08173913043478, 'gini = 0.0\\nsamples = 1\\nvalue = [0, 0, 0, 0, 0, 0, 0, 0, 0, 0, 0, 0, 0, 0, 0, 0, 0, 0, 0, 0, 0, 0, 1\\n0, 0, 0, 0, 0, 0, 0, 0, 0]'),\n",
       " Text(150.47191011235955, 137.08173913043478, 'gini = 0.0\\nsamples = 3\\nvalue = [0, 0, 0, 0, 0, 0, 0, 0, 0, 0, 0, 0, 0, 0, 0, 0, 0, 0, 0, 0, 0, 0, 0\\n0, 0, 0, 0, 3, 0, 0, 0, 0]'),\n",
       " Text(162.50966292134834, 143.38434782608698, 'X[107] <= 0.287\\ngini = 0.954\\nsamples = 214\\nvalue = [0, 9, 14, 3, 4, 3, 13, 6, 6, 13, 9, 9, 14, 10, 8, 3, 7, 13, 4, 2, 8, 2\\n7, 0, 4, 11, 14, 2, 1, 13, 2, 0]'),\n",
       " Text(159.50022471910114, 140.23304347826087, 'X[64] <= 0.183\\ngini = 0.953\\nsamples = 207\\nvalue = [0, 9, 14, 3, 4, 3, 13, 6, 6, 13, 9, 9, 14, 10, 8, 3, 7, 13, 4, 2, 8, 2\\n7, 0, 4, 4, 14, 2, 1, 13, 2, 0]'),\n",
       " Text(156.49078651685394, 137.08173913043478, 'X[3] <= -0.334\\ngini = 0.953\\nsamples = 200\\nvalue = [0, 9, 14, 3, 4, 3, 13, 6, 6, 13, 9, 9, 14, 10, 8, 3, 7, 13, 4, 2, 8, 2\\n7, 0, 4, 4, 7, 2, 1, 13, 2, 0]'),\n",
       " Text(146.71011235955058, 133.9304347826087, 'X[25] <= 0.057\\ngini = 0.541\\nsamples = 14\\nvalue = [0, 0, 0, 0, 0, 0, 0, 0, 0, 0, 0, 0, 0, 9, 0, 0, 0, 1, 0, 0, 0, 2, 0\\n0, 2, 0, 0, 0, 0, 0, 0, 0]'),\n",
       " Text(143.70067415730338, 130.77913043478262, 'X[389] <= -0.091\\ngini = 0.64\\nsamples = 5\\nvalue = [0, 0, 0, 0, 0, 0, 0, 0, 0, 0, 0, 0, 0, 0, 0, 0, 0, 1, 0, 0, 0, 2, 0\\n0, 2, 0, 0, 0, 0, 0, 0, 0]'),\n",
       " Text(140.6912359550562, 127.62782608695653, 'gini = 0.0\\nsamples = 2\\nvalue = [0, 0, 0, 0, 0, 0, 0, 0, 0, 0, 0, 0, 0, 0, 0, 0, 0, 0, 0, 0, 0, 0, 0\\n0, 2, 0, 0, 0, 0, 0, 0, 0]'),\n",
       " Text(146.71011235955058, 127.62782608695653, 'X[4] <= 0.198\\ngini = 0.444\\nsamples = 3\\nvalue = [0, 0, 0, 0, 0, 0, 0, 0, 0, 0, 0, 0, 0, 0, 0, 0, 0, 1, 0, 0, 0, 2, 0\\n0, 0, 0, 0, 0, 0, 0, 0, 0]'),\n",
       " Text(143.70067415730338, 124.47652173913043, 'gini = 0.0\\nsamples = 2\\nvalue = [0, 0, 0, 0, 0, 0, 0, 0, 0, 0, 0, 0, 0, 0, 0, 0, 0, 0, 0, 0, 0, 2, 0\\n0, 0, 0, 0, 0, 0, 0, 0, 0]'),\n",
       " Text(149.71955056179777, 124.47652173913043, 'gini = 0.0\\nsamples = 1\\nvalue = [0, 0, 0, 0, 0, 0, 0, 0, 0, 0, 0, 0, 0, 0, 0, 0, 0, 1, 0, 0, 0, 0, 0\\n0, 0, 0, 0, 0, 0, 0, 0, 0]'),\n",
       " Text(149.71955056179777, 130.77913043478262, 'gini = 0.0\\nsamples = 9\\nvalue = [0, 0, 0, 0, 0, 0, 0, 0, 0, 0, 0, 0, 0, 9, 0, 0, 0, 0, 0, 0, 0, 0, 0\\n0, 0, 0, 0, 0, 0, 0, 0, 0]'),\n",
       " Text(166.2714606741573, 133.9304347826087, 'X[26] <= 0.3\\ngini = 0.95\\nsamples = 186\\nvalue = [0, 9, 14, 3, 4, 3, 13, 6, 6, 13, 9, 9, 14, 1, 8, 3, 7, 12, 4, 2, 8, 0\\n7, 0, 2, 4, 7, 2, 1, 13, 2, 0]'),\n",
       " Text(155.73842696629214, 130.77913043478262, 'X[116] <= -0.271\\ngini = 0.948\\nsamples = 171\\nvalue = [0, 9, 14, 2, 4, 3, 13, 5, 6, 3, 9, 9, 14, 1, 8, 3, 7, 12, 4, 1, 8, 0, 7\\n0, 2, 4, 6, 2, 1, 13, 1, 0]'),\n",
       " Text(152.72898876404497, 127.62782608695653, 'gini = 0.0\\nsamples = 6\\nvalue = [0, 0, 0, 0, 0, 0, 0, 0, 0, 0, 0, 0, 0, 0, 6, 0, 0, 0, 0, 0, 0, 0, 0\\n0, 0, 0, 0, 0, 0, 0, 0, 0]'),\n",
       " Text(158.74786516853933, 127.62782608695653, 'X[2] <= 0.505\\ngini = 0.946\\nsamples = 165\\nvalue = [0, 9, 14, 2, 4, 3, 13, 5, 6, 3, 9, 9, 14, 1, 2, 3, 7, 12, 4, 1, 8, 0, 7\\n0, 2, 4, 6, 2, 1, 13, 1, 0]'),\n",
       " Text(155.73842696629214, 124.47652173913043, 'X[417] <= -0.457\\ngini = 0.945\\nsamples = 159\\nvalue = [0, 3, 14, 2, 4, 3, 13, 5, 6, 3, 9, 9, 14, 1, 2, 3, 7, 12, 4, 1, 8, 0, 7\\n0, 2, 4, 6, 2, 1, 13, 1, 0]'),\n",
       " Text(149.71955056179777, 121.32521739130435, 'X[253] <= -0.073\\ngini = 0.198\\nsamples = 9\\nvalue = [0, 0, 0, 0, 0, 0, 8, 0, 0, 0, 1, 0, 0, 0, 0, 0, 0, 0, 0, 0, 0, 0, 0\\n0, 0, 0, 0, 0, 0, 0, 0, 0]'),\n",
       " Text(146.71011235955058, 118.17391304347827, 'gini = 0.0\\nsamples = 1\\nvalue = [0, 0, 0, 0, 0, 0, 0, 0, 0, 0, 1, 0, 0, 0, 0, 0, 0, 0, 0, 0, 0, 0, 0\\n0, 0, 0, 0, 0, 0, 0, 0, 0]'),\n",
       " Text(152.72898876404497, 118.17391304347827, 'gini = 0.0\\nsamples = 8\\nvalue = [0, 0, 0, 0, 0, 0, 8, 0, 0, 0, 0, 0, 0, 0, 0, 0, 0, 0, 0, 0, 0, 0, 0\\n0, 0, 0, 0, 0, 0, 0, 0, 0]'),\n",
       " Text(161.75730337078653, 121.32521739130435, 'X[232] <= 0.264\\ngini = 0.945\\nsamples = 150\\nvalue = [0, 3, 14, 2, 4, 3, 5, 5, 6, 3, 8, 9, 14, 1, 2, 3, 7, 12, 4, 1, 8, 0, 7\\n0, 2, 4, 6, 2, 1, 13, 1, 0]'),\n",
       " Text(158.74786516853933, 118.17391304347827, 'X[193] <= 0.164\\ngini = 0.944\\nsamples = 144\\nvalue = [0, 3, 14, 2, 4, 3, 5, 5, 6, 3, 8, 3, 14, 1, 2, 3, 7, 12, 4, 1, 8, 0, 7\\n0, 2, 4, 6, 2, 1, 13, 1, 0]'),\n",
       " Text(155.73842696629214, 115.02260869565218, 'X[41] <= 0.138\\ngini = 0.945\\nsamples = 137\\nvalue = [0, 3, 14, 2, 4, 3, 5, 5, 6, 3, 8, 3, 14, 1, 2, 3, 7, 12, 4, 1, 8, 0, 7\\n0, 2, 4, 6, 2, 1, 6, 1, 0]'),\n",
       " Text(152.72898876404497, 111.8713043478261, 'X[83] <= 0.513\\ngini = 0.946\\nsamples = 131\\nvalue = [0, 3, 14, 2, 4, 3, 5, 5, 6, 3, 8, 3, 14, 1, 2, 3, 7, 6, 4, 1, 8, 0, 7\\n0, 2, 4, 6, 2, 1, 6, 1, 0]'),\n",
       " Text(143.70067415730338, 108.72000000000001, 'X[343] <= -0.404\\ngini = 0.949\\nsamples = 123\\nvalue = [0, 3, 7, 2, 4, 3, 5, 5, 6, 3, 8, 3, 14, 1, 2, 3, 7, 6, 3, 1, 8, 0, 7\\n0, 2, 4, 6, 2, 1, 6, 1, 0]'),\n",
       " Text(134.67235955056182, 105.56869565217391, 'X[436] <= -0.058\\ngini = 0.245\\nsamples = 7\\nvalue = [0, 0, 0, 0, 0, 0, 0, 0, 0, 0, 0, 1, 0, 0, 0, 0, 0, 0, 0, 0, 6, 0, 0\\n0, 0, 0, 0, 0, 0, 0, 0, 0]'),\n",
       " Text(131.66292134831463, 102.41739130434783, 'gini = 0.0\\nsamples = 6\\nvalue = [0, 0, 0, 0, 0, 0, 0, 0, 0, 0, 0, 0, 0, 0, 0, 0, 0, 0, 0, 0, 6, 0, 0\\n0, 0, 0, 0, 0, 0, 0, 0, 0]'),\n",
       " Text(137.681797752809, 102.41739130434783, 'gini = 0.0\\nsamples = 1\\nvalue = [0, 0, 0, 0, 0, 0, 0, 0, 0, 0, 0, 1, 0, 0, 0, 0, 0, 0, 0, 0, 0, 0, 0\\n0, 0, 0, 0, 0, 0, 0, 0, 0]'),\n",
       " Text(152.72898876404497, 105.56869565217391, 'X[8] <= 0.364\\ngini = 0.948\\nsamples = 116\\nvalue = [0, 3, 7, 2, 4, 3, 5, 5, 6, 3, 8, 2, 14, 1, 2, 3, 7, 6, 3, 1, 2, 0, 7\\n0, 2, 4, 6, 2, 1, 6, 1, 0]'),\n",
       " Text(143.70067415730338, 102.41739130434783, 'X[5] <= -0.386\\ngini = 0.952\\nsamples = 106\\nvalue = [0, 3, 7, 2, 4, 3, 5, 4, 6, 3, 8, 2, 6, 1, 1, 3, 7, 6, 3, 1, 2, 0, 7\\n0, 2, 4, 6, 2, 1, 6, 1, 0]'),\n",
       " Text(140.6912359550562, 99.26608695652175, 'gini = 0.0\\nsamples = 5\\nvalue = [0, 0, 0, 0, 0, 0, 0, 0, 0, 0, 0, 0, 0, 0, 0, 0, 0, 0, 0, 0, 0, 0, 0\\n0, 0, 0, 5, 0, 0, 0, 0, 0]'),\n",
       " Text(146.71011235955058, 99.26608695652175, 'X[1] <= -0.322\\ngini = 0.951\\nsamples = 101\\nvalue = [0, 3, 7, 2, 4, 3, 5, 4, 6, 3, 8, 2, 6, 1, 1, 3, 7, 6, 3, 1, 2, 0, 7\\n0, 2, 4, 1, 2, 1, 6, 1, 0]'),\n",
       " Text(143.70067415730338, 96.11478260869566, 'gini = 0.0\\nsamples = 5\\nvalue = [0, 0, 0, 0, 0, 0, 0, 0, 0, 0, 0, 0, 0, 0, 0, 0, 0, 0, 0, 0, 0, 0, 0\\n0, 0, 0, 0, 0, 0, 5, 0, 0]'),\n",
       " Text(149.71955056179777, 96.11478260869566, 'X[21] <= 0.206\\ngini = 0.95\\nsamples = 96\\nvalue = [0, 3, 7, 2, 4, 3, 5, 4, 6, 3, 8, 2, 6, 1, 1, 3, 7, 6, 3, 1, 2, 0, 7\\n0, 2, 4, 1, 2, 1, 1, 1, 0]'),\n",
       " Text(143.70067415730338, 92.96347826086958, 'X[6] <= -0.375\\ngini = 0.95\\nsamples = 89\\nvalue = [0, 3, 7, 2, 4, 3, 4, 4, 6, 3, 2, 2, 6, 1, 1, 3, 7, 6, 3, 1, 2, 0, 7\\n0, 2, 4, 1, 2, 1, 1, 1, 0]'),\n",
       " Text(140.6912359550562, 89.81217391304348, 'gini = 0.0\\nsamples = 5\\nvalue = [0, 0, 0, 0, 0, 0, 0, 0, 0, 0, 0, 0, 0, 0, 0, 0, 0, 0, 0, 0, 0, 0, 5\\n0, 0, 0, 0, 0, 0, 0, 0, 0]'),\n",
       " Text(146.71011235955058, 89.81217391304348, 'X[4] <= 0.364\\ngini = 0.95\\nsamples = 84\\nvalue = [0, 3, 7, 2, 4, 3, 4, 4, 6, 3, 2, 2, 6, 1, 1, 3, 7, 6, 3, 1, 2, 0, 2\\n0, 2, 4, 1, 2, 1, 1, 1, 0]'),\n",
       " Text(140.6912359550562, 86.66086956521741, 'X[12] <= -0.436\\ngini = 0.95\\nsamples = 78\\nvalue = [0, 3, 7, 1, 4, 3, 4, 4, 6, 3, 2, 2, 6, 1, 1, 3, 2, 6, 3, 1, 2, 0, 2\\n0, 2, 4, 1, 2, 1, 1, 1, 0]'),\n",
       " Text(137.681797752809, 83.50956521739133, 'gini = 0.0\\nsamples = 4\\nvalue = [0, 0, 0, 0, 4, 0, 0, 0, 0, 0, 0, 0, 0, 0, 0, 0, 0, 0, 0, 0, 0, 0, 0\\n0, 0, 0, 0, 0, 0, 0, 0, 0]'),\n",
       " Text(143.70067415730338, 83.50956521739133, 'X[41] <= -0.124\\ngini = 0.948\\nsamples = 74\\nvalue = [0, 3, 7, 1, 0, 3, 4, 4, 6, 3, 2, 2, 6, 1, 1, 3, 2, 6, 3, 1, 2, 0, 2\\n0, 2, 4, 1, 2, 1, 1, 1, 0]'),\n",
       " Text(140.6912359550562, 80.35826086956521, 'gini = 0.0\\nsamples = 4\\nvalue = [0, 0, 0, 0, 0, 0, 0, 0, 0, 0, 0, 0, 0, 0, 0, 0, 0, 0, 0, 0, 0, 0, 0\\n0, 0, 4, 0, 0, 0, 0, 0, 0]'),\n",
       " Text(146.71011235955058, 80.35826086956521, 'X[52] <= 0.091\\ngini = 0.945\\nsamples = 70\\nvalue = [0, 3, 7, 1, 0, 3, 4, 4, 6, 3, 2, 2, 6, 1, 1, 3, 2, 6, 3, 1, 2, 0, 2\\n0, 2, 0, 1, 2, 1, 1, 1, 0]'),\n",
       " Text(143.70067415730338, 77.20695652173913, 'X[405] <= 0.409\\ngini = 0.945\\nsamples = 66\\nvalue = [0, 3, 7, 1, 0, 3, 4, 4, 2, 3, 2, 2, 6, 1, 1, 3, 2, 6, 3, 1, 2, 0, 2\\n0, 2, 0, 1, 2, 1, 1, 1, 0]'),\n",
       " Text(140.6912359550562, 74.05565217391305, 'X[61] <= -0.065\\ngini = 0.946\\nsamples = 62\\nvalue = [0, 3, 7, 1, 0, 3, 4, 4, 2, 3, 2, 2, 6, 1, 1, 3, 2, 2, 3, 1, 2, 0, 2\\n0, 2, 0, 1, 2, 1, 1, 1, 0]'),\n",
       " Text(134.67235955056182, 70.90434782608696, 'X[281] <= 0.309\\ngini = 0.5\\nsamples = 6\\nvalue = [0, 3, 0, 0, 0, 0, 0, 0, 0, 0, 0, 0, 0, 0, 0, 3, 0, 0, 0, 0, 0, 0, 0\\n0, 0, 0, 0, 0, 0, 0, 0, 0]'),\n",
       " Text(131.66292134831463, 67.75304347826088, 'gini = 0.0\\nsamples = 3\\nvalue = [0, 3, 0, 0, 0, 0, 0, 0, 0, 0, 0, 0, 0, 0, 0, 0, 0, 0, 0, 0, 0, 0, 0\\n0, 0, 0, 0, 0, 0, 0, 0, 0]'),\n",
       " Text(137.681797752809, 67.75304347826088, 'gini = 0.0\\nsamples = 3\\nvalue = [0, 0, 0, 0, 0, 0, 0, 0, 0, 0, 0, 0, 0, 0, 0, 3, 0, 0, 0, 0, 0, 0, 0\\n0, 0, 0, 0, 0, 0, 0, 0, 0]'),\n",
       " Text(146.71011235955058, 70.90434782608696, 'X[36] <= -0.086\\ngini = 0.94\\nsamples = 56\\nvalue = [0, 0, 7, 1, 0, 3, 4, 4, 2, 3, 2, 2, 6, 1, 1, 0, 2, 2, 3, 1, 2, 0, 2\\n0, 2, 0, 1, 2, 1, 1, 1, 0]'),\n",
       " Text(143.70067415730338, 67.75304347826088, 'gini = 0.0\\nsamples = 3\\nvalue = [0, 0, 0, 0, 0, 0, 0, 0, 0, 3, 0, 0, 0, 0, 0, 0, 0, 0, 0, 0, 0, 0, 0\\n0, 0, 0, 0, 0, 0, 0, 0, 0]'),\n",
       " Text(149.71955056179777, 67.75304347826088, 'X[74] <= -0.46\\ngini = 0.936\\nsamples = 53\\nvalue = [0, 0, 7, 1, 0, 3, 4, 4, 2, 0, 2, 2, 6, 1, 1, 0, 2, 2, 3, 1, 2, 0, 2\\n0, 2, 0, 1, 2, 1, 1, 1, 0]'),\n",
       " Text(143.70067415730338, 64.6017391304348, 'X[269] <= 0.028\\ngini = 0.32\\nsamples = 5\\nvalue = [0, 0, 0, 0, 0, 0, 0, 1, 0, 0, 0, 0, 4, 0, 0, 0, 0, 0, 0, 0, 0, 0, 0\\n0, 0, 0, 0, 0, 0, 0, 0, 0]'),\n",
       " Text(140.6912359550562, 61.45043478260871, 'gini = 0.0\\nsamples = 4\\nvalue = [0, 0, 0, 0, 0, 0, 0, 0, 0, 0, 0, 0, 4, 0, 0, 0, 0, 0, 0, 0, 0, 0, 0\\n0, 0, 0, 0, 0, 0, 0, 0, 0]'),\n",
       " Text(146.71011235955058, 61.45043478260871, 'gini = 0.0\\nsamples = 1\\nvalue = [0, 0, 0, 0, 0, 0, 0, 1, 0, 0, 0, 0, 0, 0, 0, 0, 0, 0, 0, 0, 0, 0, 0\\n0, 0, 0, 0, 0, 0, 0, 0, 0]'),\n",
       " Text(155.73842696629214, 64.6017391304348, 'X[447] <= -0.225\\ngini = 0.939\\nsamples = 48\\nvalue = [0, 0, 7, 1, 0, 3, 4, 3, 2, 0, 2, 2, 2, 1, 1, 0, 2, 2, 3, 1, 2, 0, 2\\n0, 2, 0, 1, 2, 1, 1, 1, 0]'),\n",
       " Text(152.72898876404497, 61.45043478260871, 'gini = 0.0\\nsamples = 3\\nvalue = [0, 0, 0, 0, 0, 0, 3, 0, 0, 0, 0, 0, 0, 0, 0, 0, 0, 0, 0, 0, 0, 0, 0\\n0, 0, 0, 0, 0, 0, 0, 0, 0]'),\n",
       " Text(158.74786516853933, 61.45043478260871, 'X[205] <= -0.281\\ngini = 0.938\\nsamples = 45\\nvalue = [0, 0, 7, 1, 0, 3, 1, 3, 2, 0, 2, 2, 2, 1, 1, 0, 2, 2, 3, 1, 2, 0, 2\\n0, 2, 0, 1, 2, 1, 1, 1, 0]'),\n",
       " Text(150.09573033707866, 58.299130434782626, 'X[392] <= -0.014\\ngini = 0.32\\nsamples = 5\\nvalue = [0, 0, 4, 0, 0, 0, 0, 0, 0, 0, 0, 0, 0, 0, 0, 0, 0, 0, 0, 1, 0, 0, 0\\n0, 0, 0, 0, 0, 0, 0, 0, 0]'),\n",
       " Text(147.08629213483147, 55.14782608695654, 'gini = 0.0\\nsamples = 1\\nvalue = [0, 0, 0, 0, 0, 0, 0, 0, 0, 0, 0, 0, 0, 0, 0, 0, 0, 0, 0, 1, 0, 0, 0\\n0, 0, 0, 0, 0, 0, 0, 0, 0]'),\n",
       " Text(153.10516853932586, 55.14782608695654, 'gini = 0.0\\nsamples = 4\\nvalue = [0, 0, 4, 0, 0, 0, 0, 0, 0, 0, 0, 0, 0, 0, 0, 0, 0, 0, 0, 0, 0, 0, 0\\n0, 0, 0, 0, 0, 0, 0, 0, 0]'),\n",
       " Text(167.4, 58.299130434782626, 'X[96] <= 0.176\\ngini = 0.948\\nsamples = 40\\nvalue = [0, 0, 3, 1, 0, 3, 1, 3, 2, 0, 2, 2, 2, 1, 1, 0, 2, 2, 3, 0, 2, 0, 2\\n0, 2, 0, 1, 2, 1, 1, 1, 0]'),\n",
       " Text(159.12404494382025, 55.14782608695654, 'X[1] <= 0.262\\ngini = 0.944\\nsamples = 36\\nvalue = [0, 0, 3, 1, 0, 3, 1, 0, 2, 0, 1, 2, 2, 1, 1, 0, 2, 2, 3, 0, 2, 0, 2\\n0, 2, 0, 1, 2, 1, 1, 1, 0]'),\n",
       " Text(151.60044943820225, 51.99652173913046, 'X[79] <= 0.079\\ngini = 0.941\\nsamples = 32\\nvalue = [0, 0, 3, 1, 0, 3, 1, 0, 2, 0, 1, 2, 2, 1, 1, 0, 2, 2, 0, 0, 2, 0, 1\\n0, 2, 0, 1, 2, 1, 1, 1, 0]'),\n",
       " Text(145.58157303370788, 48.845217391304345, 'X[387] <= 0.068\\ngini = 0.935\\nsamples = 26\\nvalue = [0, 0, 0, 1, 0, 3, 1, 0, 2, 0, 1, 2, 2, 1, 1, 0, 2, 2, 0, 0, 1, 0, 1\\n0, 0, 0, 1, 2, 1, 1, 1, 0]'),\n",
       " Text(142.5721348314607, 45.69391304347826, 'X[106] <= -0.228\\ngini = 0.931\\nsamples = 24\\nvalue = [0, 0, 0, 1, 0, 3, 1, 0, 2, 0, 1, 0, 2, 1, 1, 0, 2, 2, 0, 0, 1, 0, 1\\n0, 0, 0, 1, 2, 1, 1, 1, 0]'),\n",
       " Text(139.5626966292135, 42.54260869565218, 'gini = 0.0\\nsamples = 2\\nvalue = [0, 0, 0, 0, 0, 0, 0, 0, 0, 0, 0, 0, 2, 0, 0, 0, 0, 0, 0, 0, 0, 0, 0\\n0, 0, 0, 0, 0, 0, 0, 0, 0]'),\n",
       " Text(145.58157303370788, 42.54260869565218, 'X[168] <= -0.543\\ngini = 0.926\\nsamples = 22\\nvalue = [0, 0, 0, 1, 0, 3, 1, 0, 2, 0, 1, 0, 0, 1, 1, 0, 2, 2, 0, 0, 1, 0, 1\\n0, 0, 0, 1, 2, 1, 1, 1, 0]'),\n",
       " Text(142.5721348314607, 39.39130434782609, 'gini = 0.0\\nsamples = 2\\nvalue = [0, 0, 0, 0, 0, 0, 0, 0, 0, 0, 0, 0, 0, 0, 0, 0, 2, 0, 0, 0, 0, 0, 0\\n0, 0, 0, 0, 0, 0, 0, 0, 0]'),\n",
       " Text(148.59101123595508, 39.39130434782609, 'X[445] <= -0.234\\ngini = 0.92\\nsamples = 20\\nvalue = [0, 0, 0, 1, 0, 3, 1, 0, 2, 0, 1, 0, 0, 1, 1, 0, 0, 2, 0, 0, 1, 0, 1\\n0, 0, 0, 1, 2, 1, 1, 1, 0]'),\n",
       " Text(145.58157303370788, 36.24000000000001, 'gini = 0.0\\nsamples = 2\\nvalue = [0, 0, 0, 0, 0, 0, 0, 0, 0, 0, 0, 0, 0, 0, 0, 0, 0, 2, 0, 0, 0, 0, 0\\n0, 0, 0, 0, 0, 0, 0, 0, 0]'),\n",
       " Text(151.60044943820225, 36.24000000000001, 'X[264] <= 6.497\\ngini = 0.914\\nsamples = 18\\nvalue = [0, 0, 0, 1, 0, 3, 1, 0, 2, 0, 1, 0, 0, 1, 1, 0, 0, 0, 0, 0, 1, 0, 1\\n0, 0, 0, 1, 2, 1, 1, 1, 0]'),\n",
       " Text(148.59101123595508, 33.088695652173925, 'gini = 0.0\\nsamples = 2\\nvalue = [0, 0, 0, 0, 0, 0, 0, 0, 2, 0, 0, 0, 0, 0, 0, 0, 0, 0, 0, 0, 0, 0, 0\\n0, 0, 0, 0, 0, 0, 0, 0, 0]'),\n",
       " Text(154.60988764044944, 33.088695652173925, 'X[437] <= 0.04\\ngini = 0.906\\nsamples = 16\\nvalue = [0, 0, 0, 1, 0, 3, 1, 0, 0, 0, 1, 0, 0, 1, 1, 0, 0, 0, 0, 0, 1, 0, 1\\n0, 0, 0, 1, 2, 1, 1, 1, 0]'),\n",
       " Text(151.60044943820225, 29.93739130434784, 'X[106] <= 0.01\\ngini = 0.898\\nsamples = 14\\nvalue = [0, 0, 0, 1, 0, 3, 1, 0, 0, 0, 1, 0, 0, 1, 1, 0, 0, 0, 0, 0, 1, 0, 1\\n0, 0, 0, 1, 0, 1, 1, 1, 0]'),\n",
       " Text(142.5721348314607, 26.786086956521757, 'X[10] <= -0.299\\ngini = 0.889\\nsamples = 9\\nvalue = [0, 0, 0, 1, 0, 0, 1, 0, 0, 0, 1, 0, 0, 0, 1, 0, 0, 0, 0, 0, 0, 0, 1\\n0, 0, 0, 1, 0, 1, 1, 1, 0]'),\n",
       " Text(139.5626966292135, 23.634782608695673, 'gini = 0.0\\nsamples = 1\\nvalue = [0, 0, 0, 0, 0, 0, 0, 0, 0, 0, 0, 0, 0, 0, 0, 0, 0, 0, 0, 0, 0, 0, 0\\n0, 0, 0, 0, 0, 1, 0, 0, 0]'),\n",
       " Text(145.58157303370788, 23.634782608695673, 'X[78] <= -0.114\\ngini = 0.875\\nsamples = 8\\nvalue = [0, 0, 0, 1, 0, 0, 1, 0, 0, 0, 1, 0, 0, 0, 1, 0, 0, 0, 0, 0, 0, 0, 1\\n0, 0, 0, 1, 0, 0, 1, 1, 0]'),\n",
       " Text(142.5721348314607, 20.48347826086959, 'gini = 0.0\\nsamples = 1\\nvalue = [0, 0, 0, 0, 0, 0, 0, 0, 0, 0, 0, 0, 0, 0, 0, 0, 0, 0, 0, 0, 0, 0, 0\\n0, 0, 0, 1, 0, 0, 0, 0, 0]'),\n",
       " Text(148.59101123595508, 20.48347826086959, 'X[122] <= -0.107\\ngini = 0.857\\nsamples = 7\\nvalue = [0, 0, 0, 1, 0, 0, 1, 0, 0, 0, 1, 0, 0, 0, 1, 0, 0, 0, 0, 0, 0, 0, 1\\n0, 0, 0, 0, 0, 0, 1, 1, 0]'),\n",
       " Text(145.58157303370788, 17.332173913043505, 'gini = 0.0\\nsamples = 1\\nvalue = [0, 0, 0, 0, 0, 0, 0, 0, 0, 0, 0, 0, 0, 0, 0, 0, 0, 0, 0, 0, 0, 0, 0\\n0, 0, 0, 0, 0, 0, 1, 0, 0]'),\n",
       " Text(151.60044943820225, 17.332173913043505, 'X[445] <= -0.115\\ngini = 0.833\\nsamples = 6\\nvalue = [0, 0, 0, 1, 0, 0, 1, 0, 0, 0, 1, 0, 0, 0, 1, 0, 0, 0, 0, 0, 0, 0, 1\\n0, 0, 0, 0, 0, 0, 0, 1, 0]'),\n",
       " Text(148.59101123595508, 14.180869565217392, 'gini = 0.0\\nsamples = 1\\nvalue = [0, 0, 0, 0, 0, 0, 1, 0, 0, 0, 0, 0, 0, 0, 0, 0, 0, 0, 0, 0, 0, 0, 0\\n0, 0, 0, 0, 0, 0, 0, 0, 0]'),\n",
       " Text(154.60988764044944, 14.180869565217392, 'X[269] <= -0.179\\ngini = 0.8\\nsamples = 5\\nvalue = [0, 0, 0, 1, 0, 0, 0, 0, 0, 0, 1, 0, 0, 0, 1, 0, 0, 0, 0, 0, 0, 0, 1\\n0, 0, 0, 0, 0, 0, 0, 1, 0]'),\n",
       " Text(151.60044943820225, 11.029565217391308, 'gini = 0.0\\nsamples = 1\\nvalue = [0, 0, 0, 0, 0, 0, 0, 0, 0, 0, 0, 0, 0, 0, 0, 0, 0, 0, 0, 0, 0, 0, 1\\n0, 0, 0, 0, 0, 0, 0, 0, 0]'),\n",
       " Text(157.61932584269664, 11.029565217391308, 'X[235] <= -0.019\\ngini = 0.75\\nsamples = 4\\nvalue = [0, 0, 0, 1, 0, 0, 0, 0, 0, 0, 1, 0, 0, 0, 1, 0, 0, 0, 0, 0, 0, 0, 0\\n0, 0, 0, 0, 0, 0, 0, 1, 0]'),\n",
       " Text(154.60988764044944, 7.878260869565224, 'gini = 0.0\\nsamples = 1\\nvalue = [0, 0, 0, 0, 0, 0, 0, 0, 0, 0, 0, 0, 0, 0, 1, 0, 0, 0, 0, 0, 0, 0, 0\\n0, 0, 0, 0, 0, 0, 0, 0, 0]'),\n",
       " Text(160.62876404494384, 7.878260869565224, 'X[3] <= -0.038\\ngini = 0.667\\nsamples = 3\\nvalue = [0, 0, 0, 1, 0, 0, 0, 0, 0, 0, 1, 0, 0, 0, 0, 0, 0, 0, 0, 0, 0, 0, 0\\n0, 0, 0, 0, 0, 0, 0, 1, 0]'),\n",
       " Text(157.61932584269664, 4.72695652173914, 'gini = 0.0\\nsamples = 1\\nvalue = [0, 0, 0, 0, 0, 0, 0, 0, 0, 0, 0, 0, 0, 0, 0, 0, 0, 0, 0, 0, 0, 0, 0\\n0, 0, 0, 0, 0, 0, 0, 1, 0]'),\n",
       " Text(163.63820224719103, 4.72695652173914, 'X[201] <= -0.052\\ngini = 0.5\\nsamples = 2\\nvalue = [0, 0, 0, 1, 0, 0, 0, 0, 0, 0, 1, 0, 0, 0, 0, 0, 0, 0, 0, 0, 0, 0, 0\\n0, 0, 0, 0, 0, 0, 0, 0, 0]'),\n",
       " Text(160.62876404494384, 1.5756521739130562, 'gini = 0.0\\nsamples = 1\\nvalue = [0, 0, 0, 0, 0, 0, 0, 0, 0, 0, 1, 0, 0, 0, 0, 0, 0, 0, 0, 0, 0, 0, 0\\n0, 0, 0, 0, 0, 0, 0, 0, 0]'),\n",
       " Text(166.64764044943823, 1.5756521739130562, 'gini = 0.0\\nsamples = 1\\nvalue = [0, 0, 0, 1, 0, 0, 0, 0, 0, 0, 0, 0, 0, 0, 0, 0, 0, 0, 0, 0, 0, 0, 0\\n0, 0, 0, 0, 0, 0, 0, 0, 0]'),\n",
       " Text(160.62876404494384, 26.786086956521757, 'X[32] <= -0.006\\ngini = 0.56\\nsamples = 5\\nvalue = [0, 0, 0, 0, 0, 3, 0, 0, 0, 0, 0, 0, 0, 1, 0, 0, 0, 0, 0, 0, 1, 0, 0\\n0, 0, 0, 0, 0, 0, 0, 0, 0]'),\n",
       " Text(157.61932584269664, 23.634782608695673, 'X[352] <= 0.069\\ngini = 0.5\\nsamples = 2\\nvalue = [0, 0, 0, 0, 0, 0, 0, 0, 0, 0, 0, 0, 0, 1, 0, 0, 0, 0, 0, 0, 1, 0, 0\\n0, 0, 0, 0, 0, 0, 0, 0, 0]'),\n",
       " Text(154.60988764044944, 20.48347826086959, 'gini = 0.0\\nsamples = 1\\nvalue = [0, 0, 0, 0, 0, 0, 0, 0, 0, 0, 0, 0, 0, 0, 0, 0, 0, 0, 0, 0, 1, 0, 0\\n0, 0, 0, 0, 0, 0, 0, 0, 0]'),\n",
       " Text(160.62876404494384, 20.48347826086959, 'gini = 0.0\\nsamples = 1\\nvalue = [0, 0, 0, 0, 0, 0, 0, 0, 0, 0, 0, 0, 0, 1, 0, 0, 0, 0, 0, 0, 0, 0, 0\\n0, 0, 0, 0, 0, 0, 0, 0, 0]'),\n",
       " Text(163.63820224719103, 23.634782608695673, 'gini = 0.0\\nsamples = 3\\nvalue = [0, 0, 0, 0, 0, 3, 0, 0, 0, 0, 0, 0, 0, 0, 0, 0, 0, 0, 0, 0, 0, 0, 0\\n0, 0, 0, 0, 0, 0, 0, 0, 0]'),\n",
       " Text(157.61932584269664, 29.93739130434784, 'gini = 0.0\\nsamples = 2\\nvalue = [0, 0, 0, 0, 0, 0, 0, 0, 0, 0, 0, 0, 0, 0, 0, 0, 0, 0, 0, 0, 0, 0, 0\\n0, 0, 0, 0, 2, 0, 0, 0, 0]'),\n",
       " Text(148.59101123595508, 45.69391304347826, 'gini = 0.0\\nsamples = 2\\nvalue = [0, 0, 0, 0, 0, 0, 0, 0, 0, 0, 0, 2, 0, 0, 0, 0, 0, 0, 0, 0, 0, 0, 0\\n0, 0, 0, 0, 0, 0, 0, 0, 0]'),\n",
       " Text(157.61932584269664, 48.845217391304345, 'X[94] <= 0.067\\ngini = 0.611\\nsamples = 6\\nvalue = [0, 0, 3, 0, 0, 0, 0, 0, 0, 0, 0, 0, 0, 0, 0, 0, 0, 0, 0, 0, 1, 0, 0\\n0, 2, 0, 0, 0, 0, 0, 0, 0]'),\n",
       " Text(154.60988764044944, 45.69391304347826, 'X[394] <= -0.04\\ngini = 0.444\\nsamples = 3\\nvalue = [0, 0, 0, 0, 0, 0, 0, 0, 0, 0, 0, 0, 0, 0, 0, 0, 0, 0, 0, 0, 1, 0, 0\\n0, 2, 0, 0, 0, 0, 0, 0, 0]'),\n",
       " Text(151.60044943820225, 42.54260869565218, 'gini = 0.0\\nsamples = 1\\nvalue = [0, 0, 0, 0, 0, 0, 0, 0, 0, 0, 0, 0, 0, 0, 0, 0, 0, 0, 0, 0, 1, 0, 0\\n0, 0, 0, 0, 0, 0, 0, 0, 0]'),\n",
       " Text(157.61932584269664, 42.54260869565218, 'gini = 0.0\\nsamples = 2\\nvalue = [0, 0, 0, 0, 0, 0, 0, 0, 0, 0, 0, 0, 0, 0, 0, 0, 0, 0, 0, 0, 0, 0, 0\\n0, 2, 0, 0, 0, 0, 0, 0, 0]'),\n",
       " Text(160.62876404494384, 45.69391304347826, 'gini = 0.0\\nsamples = 3\\nvalue = [0, 0, 3, 0, 0, 0, 0, 0, 0, 0, 0, 0, 0, 0, 0, 0, 0, 0, 0, 0, 0, 0, 0\\n0, 0, 0, 0, 0, 0, 0, 0, 0]'),\n",
       " Text(166.64764044943823, 51.99652173913046, 'X[263] <= 0.565\\ngini = 0.375\\nsamples = 4\\nvalue = [0, 0, 0, 0, 0, 0, 0, 0, 0, 0, 0, 0, 0, 0, 0, 0, 0, 0, 3, 0, 0, 0, 1\\n0, 0, 0, 0, 0, 0, 0, 0, 0]'),\n",
       " Text(163.63820224719103, 48.845217391304345, 'gini = 0.0\\nsamples = 3\\nvalue = [0, 0, 0, 0, 0, 0, 0, 0, 0, 0, 0, 0, 0, 0, 0, 0, 0, 0, 3, 0, 0, 0, 0\\n0, 0, 0, 0, 0, 0, 0, 0, 0]'),\n",
       " Text(169.6570786516854, 48.845217391304345, 'gini = 0.0\\nsamples = 1\\nvalue = [0, 0, 0, 0, 0, 0, 0, 0, 0, 0, 0, 0, 0, 0, 0, 0, 0, 0, 0, 0, 0, 0, 1\\n0, 0, 0, 0, 0, 0, 0, 0, 0]'),\n",
       " Text(175.6759550561798, 55.14782608695654, 'X[255] <= 0.167\\ngini = 0.375\\nsamples = 4\\nvalue = [0, 0, 0, 0, 0, 0, 0, 3, 0, 0, 1, 0, 0, 0, 0, 0, 0, 0, 0, 0, 0, 0, 0\\n0, 0, 0, 0, 0, 0, 0, 0, 0]'),\n",
       " Text(172.6665168539326, 51.99652173913046, 'gini = 0.0\\nsamples = 3\\nvalue = [0, 0, 0, 0, 0, 0, 0, 3, 0, 0, 0, 0, 0, 0, 0, 0, 0, 0, 0, 0, 0, 0, 0\\n0, 0, 0, 0, 0, 0, 0, 0, 0]'),\n",
       " Text(178.68539325842698, 51.99652173913046, 'gini = 0.0\\nsamples = 1\\nvalue = [0, 0, 0, 0, 0, 0, 0, 0, 0, 0, 1, 0, 0, 0, 0, 0, 0, 0, 0, 0, 0, 0, 0\\n0, 0, 0, 0, 0, 0, 0, 0, 0]'),\n",
       " Text(146.71011235955058, 74.05565217391305, 'gini = 0.0\\nsamples = 4\\nvalue = [0, 0, 0, 0, 0, 0, 0, 0, 0, 0, 0, 0, 0, 0, 0, 0, 0, 4, 0, 0, 0, 0, 0\\n0, 0, 0, 0, 0, 0, 0, 0, 0]'),\n",
       " Text(149.71955056179777, 77.20695652173913, 'gini = 0.0\\nsamples = 4\\nvalue = [0, 0, 0, 0, 0, 0, 0, 0, 4, 0, 0, 0, 0, 0, 0, 0, 0, 0, 0, 0, 0, 0, 0\\n0, 0, 0, 0, 0, 0, 0, 0, 0]'),\n",
       " Text(152.72898876404497, 86.66086956521741, 'X[448] <= 0.087\\ngini = 0.278\\nsamples = 6\\nvalue = [0, 0, 0, 1, 0, 0, 0, 0, 0, 0, 0, 0, 0, 0, 0, 0, 5, 0, 0, 0, 0, 0, 0\\n0, 0, 0, 0, 0, 0, 0, 0, 0]'),\n",
       " Text(149.71955056179777, 83.50956521739133, 'gini = 0.0\\nsamples = 5\\nvalue = [0, 0, 0, 0, 0, 0, 0, 0, 0, 0, 0, 0, 0, 0, 0, 0, 5, 0, 0, 0, 0, 0, 0\\n0, 0, 0, 0, 0, 0, 0, 0, 0]'),\n",
       " Text(155.73842696629214, 83.50956521739133, 'gini = 0.0\\nsamples = 1\\nvalue = [0, 0, 0, 1, 0, 0, 0, 0, 0, 0, 0, 0, 0, 0, 0, 0, 0, 0, 0, 0, 0, 0, 0\\n0, 0, 0, 0, 0, 0, 0, 0, 0]'),\n",
       " Text(155.73842696629214, 92.96347826086958, 'X[26] <= -0.044\\ngini = 0.245\\nsamples = 7\\nvalue = [0, 0, 0, 0, 0, 0, 1, 0, 0, 0, 6, 0, 0, 0, 0, 0, 0, 0, 0, 0, 0, 0, 0\\n0, 0, 0, 0, 0, 0, 0, 0, 0]'),\n",
       " Text(152.72898876404497, 89.81217391304348, 'gini = 0.0\\nsamples = 6\\nvalue = [0, 0, 0, 0, 0, 0, 0, 0, 0, 0, 6, 0, 0, 0, 0, 0, 0, 0, 0, 0, 0, 0, 0\\n0, 0, 0, 0, 0, 0, 0, 0, 0]'),\n",
       " Text(158.74786516853933, 89.81217391304348, 'gini = 0.0\\nsamples = 1\\nvalue = [0, 0, 0, 0, 0, 0, 1, 0, 0, 0, 0, 0, 0, 0, 0, 0, 0, 0, 0, 0, 0, 0, 0\\n0, 0, 0, 0, 0, 0, 0, 0, 0]'),\n",
       " Text(161.75730337078653, 102.41739130434783, 'X[176] <= -0.025\\ngini = 0.34\\nsamples = 10\\nvalue = [0, 0, 0, 0, 0, 0, 0, 1, 0, 0, 0, 0, 8, 0, 1, 0, 0, 0, 0, 0, 0, 0, 0\\n0, 0, 0, 0, 0, 0, 0, 0, 0]'),\n",
       " Text(158.74786516853933, 99.26608695652175, 'X[22] <= -0.156\\ngini = 0.5\\nsamples = 2\\nvalue = [0, 0, 0, 0, 0, 0, 0, 1, 0, 0, 0, 0, 0, 0, 1, 0, 0, 0, 0, 0, 0, 0, 0\\n0, 0, 0, 0, 0, 0, 0, 0, 0]'),\n",
       " Text(155.73842696629214, 96.11478260869566, 'gini = 0.0\\nsamples = 1\\nvalue = [0, 0, 0, 0, 0, 0, 0, 1, 0, 0, 0, 0, 0, 0, 0, 0, 0, 0, 0, 0, 0, 0, 0\\n0, 0, 0, 0, 0, 0, 0, 0, 0]'),\n",
       " Text(161.75730337078653, 96.11478260869566, 'gini = 0.0\\nsamples = 1\\nvalue = [0, 0, 0, 0, 0, 0, 0, 0, 0, 0, 0, 0, 0, 0, 1, 0, 0, 0, 0, 0, 0, 0, 0\\n0, 0, 0, 0, 0, 0, 0, 0, 0]'),\n",
       " Text(164.76674157303373, 99.26608695652175, 'gini = 0.0\\nsamples = 8\\nvalue = [0, 0, 0, 0, 0, 0, 0, 0, 0, 0, 0, 0, 8, 0, 0, 0, 0, 0, 0, 0, 0, 0, 0\\n0, 0, 0, 0, 0, 0, 0, 0, 0]'),\n",
       " Text(161.75730337078653, 108.72000000000001, 'X[185] <= -0.042\\ngini = 0.219\\nsamples = 8\\nvalue = [0, 0, 7, 0, 0, 0, 0, 0, 0, 0, 0, 0, 0, 0, 0, 0, 0, 0, 1, 0, 0, 0, 0\\n0, 0, 0, 0, 0, 0, 0, 0, 0]'),\n",
       " Text(158.74786516853933, 105.56869565217391, 'gini = 0.0\\nsamples = 1\\nvalue = [0, 0, 0, 0, 0, 0, 0, 0, 0, 0, 0, 0, 0, 0, 0, 0, 0, 0, 1, 0, 0, 0, 0\\n0, 0, 0, 0, 0, 0, 0, 0, 0]'),\n",
       " Text(164.76674157303373, 105.56869565217391, 'gini = 0.0\\nsamples = 7\\nvalue = [0, 0, 7, 0, 0, 0, 0, 0, 0, 0, 0, 0, 0, 0, 0, 0, 0, 0, 0, 0, 0, 0, 0\\n0, 0, 0, 0, 0, 0, 0, 0, 0]'),\n",
       " Text(158.74786516853933, 111.8713043478261, 'gini = 0.0\\nsamples = 6\\nvalue = [0, 0, 0, 0, 0, 0, 0, 0, 0, 0, 0, 0, 0, 0, 0, 0, 0, 6, 0, 0, 0, 0, 0\\n0, 0, 0, 0, 0, 0, 0, 0, 0]'),\n",
       " Text(161.75730337078653, 115.02260869565218, 'gini = 0.0\\nsamples = 7\\nvalue = [0, 0, 0, 0, 0, 0, 0, 0, 0, 0, 0, 0, 0, 0, 0, 0, 0, 0, 0, 0, 0, 0, 0\\n0, 0, 0, 0, 0, 0, 7, 0, 0]'),\n",
       " Text(164.76674157303373, 118.17391304347827, 'gini = 0.0\\nsamples = 6\\nvalue = [0, 0, 0, 0, 0, 0, 0, 0, 0, 0, 0, 6, 0, 0, 0, 0, 0, 0, 0, 0, 0, 0, 0\\n0, 0, 0, 0, 0, 0, 0, 0, 0]'),\n",
       " Text(161.75730337078653, 124.47652173913043, 'gini = 0.0\\nsamples = 6\\nvalue = [0, 6, 0, 0, 0, 0, 0, 0, 0, 0, 0, 0, 0, 0, 0, 0, 0, 0, 0, 0, 0, 0, 0\\n0, 0, 0, 0, 0, 0, 0, 0, 0]'),\n",
       " Text(176.80449438202248, 130.77913043478262, 'X[16] <= 0.156\\ngini = 0.533\\nsamples = 15\\nvalue = [0, 0, 0, 1, 0, 0, 0, 1, 0, 10, 0, 0, 0, 0, 0, 0, 0, 0, 0, 1, 0, 0, 0\\n0, 0, 0, 1, 0, 0, 0, 1, 0]'),\n",
       " Text(173.7950561797753, 127.62782608695653, 'X[136] <= -0.496\\ngini = 0.8\\nsamples = 5\\nvalue = [0, 0, 0, 1, 0, 0, 0, 1, 0, 0, 0, 0, 0, 0, 0, 0, 0, 0, 0, 1, 0, 0, 0\\n0, 0, 0, 1, 0, 0, 0, 1, 0]'),\n",
       " Text(170.7856179775281, 124.47652173913043, 'gini = 0.0\\nsamples = 1\\nvalue = [0, 0, 0, 0, 0, 0, 0, 0, 0, 0, 0, 0, 0, 0, 0, 0, 0, 0, 0, 0, 0, 0, 0\\n0, 0, 0, 0, 0, 0, 0, 1, 0]'),\n",
       " Text(176.80449438202248, 124.47652173913043, 'X[49] <= 0.095\\ngini = 0.75\\nsamples = 4\\nvalue = [0, 0, 0, 1, 0, 0, 0, 1, 0, 0, 0, 0, 0, 0, 0, 0, 0, 0, 0, 1, 0, 0, 0\\n0, 0, 0, 1, 0, 0, 0, 0, 0]'),\n",
       " Text(173.7950561797753, 121.32521739130435, 'X[281] <= -0.289\\ngini = 0.667\\nsamples = 3\\nvalue = [0, 0, 0, 1, 0, 0, 0, 1, 0, 0, 0, 0, 0, 0, 0, 0, 0, 0, 0, 1, 0, 0, 0\\n0, 0, 0, 0, 0, 0, 0, 0, 0]'),\n",
       " Text(170.7856179775281, 118.17391304347827, 'gini = 0.0\\nsamples = 1\\nvalue = [0, 0, 0, 1, 0, 0, 0, 0, 0, 0, 0, 0, 0, 0, 0, 0, 0, 0, 0, 0, 0, 0, 0\\n0, 0, 0, 0, 0, 0, 0, 0, 0]'),\n",
       " Text(176.80449438202248, 118.17391304347827, 'X[221] <= 0.603\\ngini = 0.5\\nsamples = 2\\nvalue = [0, 0, 0, 0, 0, 0, 0, 1, 0, 0, 0, 0, 0, 0, 0, 0, 0, 0, 0, 1, 0, 0, 0\\n0, 0, 0, 0, 0, 0, 0, 0, 0]'),\n",
       " Text(173.7950561797753, 115.02260869565218, 'gini = 0.0\\nsamples = 1\\nvalue = [0, 0, 0, 0, 0, 0, 0, 1, 0, 0, 0, 0, 0, 0, 0, 0, 0, 0, 0, 0, 0, 0, 0\\n0, 0, 0, 0, 0, 0, 0, 0, 0]'),\n",
       " Text(179.81393258426968, 115.02260869565218, 'gini = 0.0\\nsamples = 1\\nvalue = [0, 0, 0, 0, 0, 0, 0, 0, 0, 0, 0, 0, 0, 0, 0, 0, 0, 0, 0, 1, 0, 0, 0\\n0, 0, 0, 0, 0, 0, 0, 0, 0]'),\n",
       " Text(179.81393258426968, 121.32521739130435, 'gini = 0.0\\nsamples = 1\\nvalue = [0, 0, 0, 0, 0, 0, 0, 0, 0, 0, 0, 0, 0, 0, 0, 0, 0, 0, 0, 0, 0, 0, 0\\n0, 0, 0, 1, 0, 0, 0, 0, 0]'),\n",
       " Text(179.81393258426968, 127.62782608695653, 'gini = 0.0\\nsamples = 10\\nvalue = [0, 0, 0, 0, 0, 0, 0, 0, 0, 10, 0, 0, 0, 0, 0, 0, 0, 0, 0, 0, 0, 0, 0\\n0, 0, 0, 0, 0, 0, 0, 0, 0]'),\n",
       " Text(162.50966292134834, 137.08173913043478, 'gini = 0.0\\nsamples = 7\\nvalue = [0, 0, 0, 0, 0, 0, 0, 0, 0, 0, 0, 0, 0, 0, 0, 0, 0, 0, 0, 0, 0, 0, 0\\n0, 0, 0, 7, 0, 0, 0, 0, 0]'),\n",
       " Text(165.51910112359553, 140.23304347826087, 'gini = 0.0\\nsamples = 7\\nvalue = [0, 0, 0, 0, 0, 0, 0, 0, 0, 0, 0, 0, 0, 0, 0, 0, 0, 0, 0, 0, 0, 0, 0\\n0, 0, 7, 0, 0, 0, 0, 0, 0]'),\n",
       " Text(162.50966292134834, 155.98956521739132, 'X[92] <= -0.081\\ngini = 0.394\\nsamples = 17\\nvalue = [0, 0, 0, 0, 2, 0, 0, 1, 0, 0, 0, 0, 13, 0, 0, 0, 0, 0, 0, 0, 1, 0, 0\\n0, 0, 0, 0, 0, 0, 0, 0, 0]'),\n",
       " Text(159.50022471910114, 152.8382608695652, 'gini = 0.0\\nsamples = 13\\nvalue = [0, 0, 0, 0, 0, 0, 0, 0, 0, 0, 0, 0, 13, 0, 0, 0, 0, 0, 0, 0, 0, 0, 0\\n0, 0, 0, 0, 0, 0, 0, 0, 0]'),\n",
       " Text(165.51910112359553, 152.8382608695652, 'X[55] <= -0.011\\ngini = 0.625\\nsamples = 4\\nvalue = [0, 0, 0, 0, 2, 0, 0, 1, 0, 0, 0, 0, 0, 0, 0, 0, 0, 0, 0, 0, 1, 0, 0\\n0, 0, 0, 0, 0, 0, 0, 0, 0]'),\n",
       " Text(162.50966292134834, 149.68695652173915, 'X[258] <= 0.026\\ngini = 0.5\\nsamples = 2\\nvalue = [0, 0, 0, 0, 0, 0, 0, 1, 0, 0, 0, 0, 0, 0, 0, 0, 0, 0, 0, 0, 1, 0, 0\\n0, 0, 0, 0, 0, 0, 0, 0, 0]'),\n",
       " Text(159.50022471910114, 146.53565217391304, 'gini = 0.0\\nsamples = 1\\nvalue = [0, 0, 0, 0, 0, 0, 0, 0, 0, 0, 0, 0, 0, 0, 0, 0, 0, 0, 0, 0, 1, 0, 0\\n0, 0, 0, 0, 0, 0, 0, 0, 0]'),\n",
       " Text(165.51910112359553, 146.53565217391304, 'gini = 0.0\\nsamples = 1\\nvalue = [0, 0, 0, 0, 0, 0, 0, 1, 0, 0, 0, 0, 0, 0, 0, 0, 0, 0, 0, 0, 0, 0, 0\\n0, 0, 0, 0, 0, 0, 0, 0, 0]'),\n",
       " Text(168.5285393258427, 149.68695652173915, 'gini = 0.0\\nsamples = 2\\nvalue = [0, 0, 0, 0, 2, 0, 0, 0, 0, 0, 0, 0, 0, 0, 0, 0, 0, 0, 0, 0, 0, 0, 0\\n0, 0, 0, 0, 0, 0, 0, 0, 0]'),\n",
       " Text(115.67528089887641, 162.29217391304348, 'gini = 0.0\\nsamples = 10\\nvalue = [0, 10, 0, 0, 0, 0, 0, 0, 0, 0, 0, 0, 0, 0, 0, 0, 0, 0, 0, 0, 0, 0, 0\\n0, 0, 0, 0, 0, 0, 0, 0, 0]'),\n",
       " Text(184.32808988764046, 168.59478260869565, 'X[421] <= -0.112\\ngini = 0.82\\nsamples = 80\\nvalue = [0, 0, 0, 3, 0, 2, 0, 0, 1, 0, 26, 2, 2, 0, 0, 0, 0, 6, 0, 0, 1, 0, 11\\n0, 8, 0, 2, 15, 0, 0, 1, 0]'),\n",
       " Text(176.80449438202248, 165.44347826086957, 'X[404] <= 0.015\\ngini = 0.185\\nsamples = 20\\nvalue = [0, 0, 0, 0, 0, 0, 0, 0, 0, 0, 18, 1, 0, 0, 0, 0, 0, 0, 0, 0, 0, 0, 0\\n0, 0, 0, 1, 0, 0, 0, 0, 0]'),\n",
       " Text(173.7950561797753, 162.29217391304348, 'gini = 0.0\\nsamples = 18\\nvalue = [0, 0, 0, 0, 0, 0, 0, 0, 0, 0, 18, 0, 0, 0, 0, 0, 0, 0, 0, 0, 0, 0, 0\\n0, 0, 0, 0, 0, 0, 0, 0, 0]'),\n",
       " Text(179.81393258426968, 162.29217391304348, 'X[344] <= -0.031\\ngini = 0.5\\nsamples = 2\\nvalue = [0, 0, 0, 0, 0, 0, 0, 0, 0, 0, 0, 1, 0, 0, 0, 0, 0, 0, 0, 0, 0, 0, 0\\n0, 0, 0, 1, 0, 0, 0, 0, 0]'),\n",
       " Text(176.80449438202248, 159.1408695652174, 'gini = 0.0\\nsamples = 1\\nvalue = [0, 0, 0, 0, 0, 0, 0, 0, 0, 0, 0, 1, 0, 0, 0, 0, 0, 0, 0, 0, 0, 0, 0\\n0, 0, 0, 0, 0, 0, 0, 0, 0]'),\n",
       " Text(182.82337078651688, 159.1408695652174, 'gini = 0.0\\nsamples = 1\\nvalue = [0, 0, 0, 0, 0, 0, 0, 0, 0, 0, 0, 0, 0, 0, 0, 0, 0, 0, 0, 0, 0, 0, 0\\n0, 0, 0, 1, 0, 0, 0, 0, 0]'),\n",
       " Text(191.85168539325844, 165.44347826086957, 'X[52] <= -0.151\\ngini = 0.852\\nsamples = 60\\nvalue = [0, 0, 0, 3, 0, 2, 0, 0, 1, 0, 8, 1, 2, 0, 0, 0, 0, 6, 0, 0, 1, 0, 11\\n0, 8, 0, 1, 15, 0, 0, 1, 0]'),\n",
       " Text(188.84224719101124, 162.29217391304348, 'gini = 0.0\\nsamples = 8\\nvalue = [0, 0, 0, 0, 0, 0, 0, 0, 0, 0, 0, 0, 0, 0, 0, 0, 0, 0, 0, 0, 0, 0, 0\\n0, 8, 0, 0, 0, 0, 0, 0, 0]'),\n",
       " Text(194.86112359550563, 162.29217391304348, 'X[197] <= 0.196\\ngini = 0.827\\nsamples = 52\\nvalue = [0, 0, 0, 3, 0, 2, 0, 0, 1, 0, 8, 1, 2, 0, 0, 0, 0, 6, 0, 0, 1, 0, 11\\n0, 0, 0, 1, 15, 0, 0, 1, 0]'),\n",
       " Text(188.84224719101124, 159.1408695652174, 'X[91] <= 0.019\\ngini = 0.774\\nsamples = 39\\nvalue = [0, 0, 0, 3, 0, 1, 0, 0, 1, 0, 8, 0, 2, 0, 0, 0, 0, 6, 0, 0, 1, 0, 1\\n0, 0, 0, 0, 15, 0, 0, 1, 0]'),\n",
       " Text(185.83280898876407, 155.98956521739132, 'X[198] <= 7.772\\ngini = 0.727\\nsamples = 32\\nvalue = [0, 0, 0, 3, 0, 1, 0, 0, 1, 0, 1, 0, 2, 0, 0, 0, 0, 6, 0, 0, 1, 0, 1\\n0, 0, 0, 0, 15, 0, 0, 1, 0]'),\n",
       " Text(179.81393258426968, 152.8382608695652, 'X[299] <= 0.011\\ngini = 0.796\\nsamples = 14\\nvalue = [0, 0, 0, 3, 0, 1, 0, 0, 1, 0, 0, 0, 1, 0, 0, 0, 0, 5, 0, 0, 1, 0, 1\\n0, 0, 0, 0, 0, 0, 0, 1, 0]'),\n",
       " Text(176.80449438202248, 149.68695652173915, 'X[180] <= -0.01\\ngini = 0.815\\nsamples = 9\\nvalue = [0, 0, 0, 3, 0, 1, 0, 0, 1, 0, 0, 0, 1, 0, 0, 0, 0, 0, 0, 0, 1, 0, 1\\n0, 0, 0, 0, 0, 0, 0, 1, 0]'),\n",
       " Text(173.7950561797753, 146.53565217391304, 'X[429] <= -0.02\\ngini = 0.833\\nsamples = 6\\nvalue = [0, 0, 0, 0, 0, 1, 0, 0, 1, 0, 0, 0, 1, 0, 0, 0, 0, 0, 0, 0, 1, 0, 1\\n0, 0, 0, 0, 0, 0, 0, 1, 0]'),\n",
       " Text(170.7856179775281, 143.38434782608698, 'gini = 0.0\\nsamples = 1\\nvalue = [0, 0, 0, 0, 0, 1, 0, 0, 0, 0, 0, 0, 0, 0, 0, 0, 0, 0, 0, 0, 0, 0, 0\\n0, 0, 0, 0, 0, 0, 0, 0, 0]'),\n",
       " Text(176.80449438202248, 143.38434782608698, 'X[150] <= -0.021\\ngini = 0.8\\nsamples = 5\\nvalue = [0, 0, 0, 0, 0, 0, 0, 0, 1, 0, 0, 0, 1, 0, 0, 0, 0, 0, 0, 0, 1, 0, 1\\n0, 0, 0, 0, 0, 0, 0, 1, 0]'),\n",
       " Text(173.7950561797753, 140.23304347826087, 'gini = 0.0\\nsamples = 1\\nvalue = [0, 0, 0, 0, 0, 0, 0, 0, 0, 0, 0, 0, 1, 0, 0, 0, 0, 0, 0, 0, 0, 0, 0\\n0, 0, 0, 0, 0, 0, 0, 0, 0]'),\n",
       " Text(179.81393258426968, 140.23304347826087, 'X[286] <= -0.115\\ngini = 0.75\\nsamples = 4\\nvalue = [0, 0, 0, 0, 0, 0, 0, 0, 1, 0, 0, 0, 0, 0, 0, 0, 0, 0, 0, 0, 1, 0, 1\\n0, 0, 0, 0, 0, 0, 0, 1, 0]'),\n",
       " Text(176.80449438202248, 137.08173913043478, 'gini = 0.0\\nsamples = 1\\nvalue = [0, 0, 0, 0, 0, 0, 0, 0, 0, 0, 0, 0, 0, 0, 0, 0, 0, 0, 0, 0, 0, 0, 1\\n0, 0, 0, 0, 0, 0, 0, 0, 0]'),\n",
       " Text(182.82337078651688, 137.08173913043478, 'X[235] <= -0.074\\ngini = 0.667\\nsamples = 3\\nvalue = [0, 0, 0, 0, 0, 0, 0, 0, 1, 0, 0, 0, 0, 0, 0, 0, 0, 0, 0, 0, 1, 0, 0\\n0, 0, 0, 0, 0, 0, 0, 1, 0]'),\n",
       " Text(179.81393258426968, 133.9304347826087, 'gini = 0.0\\nsamples = 1\\nvalue = [0, 0, 0, 0, 0, 0, 0, 0, 0, 0, 0, 0, 0, 0, 0, 0, 0, 0, 0, 0, 0, 0, 0\\n0, 0, 0, 0, 0, 0, 0, 1, 0]'),\n",
       " Text(185.83280898876407, 133.9304347826087, 'X[418] <= 0.016\\ngini = 0.5\\nsamples = 2\\nvalue = [0, 0, 0, 0, 0, 0, 0, 0, 1, 0, 0, 0, 0, 0, 0, 0, 0, 0, 0, 0, 1, 0, 0\\n0, 0, 0, 0, 0, 0, 0, 0, 0]'),\n",
       " Text(182.82337078651688, 130.77913043478262, 'gini = 0.0\\nsamples = 1\\nvalue = [0, 0, 0, 0, 0, 0, 0, 0, 1, 0, 0, 0, 0, 0, 0, 0, 0, 0, 0, 0, 0, 0, 0\\n0, 0, 0, 0, 0, 0, 0, 0, 0]'),\n",
       " Text(188.84224719101124, 130.77913043478262, 'gini = 0.0\\nsamples = 1\\nvalue = [0, 0, 0, 0, 0, 0, 0, 0, 0, 0, 0, 0, 0, 0, 0, 0, 0, 0, 0, 0, 1, 0, 0\\n0, 0, 0, 0, 0, 0, 0, 0, 0]'),\n",
       " Text(179.81393258426968, 146.53565217391304, 'gini = 0.0\\nsamples = 3\\nvalue = [0, 0, 0, 3, 0, 0, 0, 0, 0, 0, 0, 0, 0, 0, 0, 0, 0, 0, 0, 0, 0, 0, 0\\n0, 0, 0, 0, 0, 0, 0, 0, 0]'),\n",
       " Text(182.82337078651688, 149.68695652173915, 'gini = 0.0\\nsamples = 5\\nvalue = [0, 0, 0, 0, 0, 0, 0, 0, 0, 0, 0, 0, 0, 0, 0, 0, 0, 5, 0, 0, 0, 0, 0\\n0, 0, 0, 0, 0, 0, 0, 0, 0]'),\n",
       " Text(191.85168539325844, 152.8382608695652, 'X[421] <= 0.031\\ngini = 0.296\\nsamples = 18\\nvalue = [0, 0, 0, 0, 0, 0, 0, 0, 0, 0, 1, 0, 1, 0, 0, 0, 0, 1, 0, 0, 0, 0, 0\\n0, 0, 0, 0, 15, 0, 0, 0, 0]'),\n",
       " Text(188.84224719101124, 149.68695652173915, 'gini = 0.0\\nsamples = 15\\nvalue = [0, 0, 0, 0, 0, 0, 0, 0, 0, 0, 0, 0, 0, 0, 0, 0, 0, 0, 0, 0, 0, 0, 0\\n0, 0, 0, 0, 15, 0, 0, 0, 0]'),\n",
       " Text(194.86112359550563, 149.68695652173915, 'X[362] <= -0.131\\ngini = 0.667\\nsamples = 3\\nvalue = [0, 0, 0, 0, 0, 0, 0, 0, 0, 0, 1, 0, 1, 0, 0, 0, 0, 1, 0, 0, 0, 0, 0\\n0, 0, 0, 0, 0, 0, 0, 0, 0]'),\n",
       " Text(191.85168539325844, 146.53565217391304, 'gini = 0.0\\nsamples = 1\\nvalue = [0, 0, 0, 0, 0, 0, 0, 0, 0, 0, 0, 0, 0, 0, 0, 0, 0, 1, 0, 0, 0, 0, 0\\n0, 0, 0, 0, 0, 0, 0, 0, 0]'),\n",
       " Text(197.87056179775283, 146.53565217391304, 'X[132] <= 5.119\\ngini = 0.5\\nsamples = 2\\nvalue = [0, 0, 0, 0, 0, 0, 0, 0, 0, 0, 1, 0, 1, 0, 0, 0, 0, 0, 0, 0, 0, 0, 0\\n0, 0, 0, 0, 0, 0, 0, 0, 0]'),\n",
       " Text(194.86112359550563, 143.38434782608698, 'gini = 0.0\\nsamples = 1\\nvalue = [0, 0, 0, 0, 0, 0, 0, 0, 0, 0, 1, 0, 0, 0, 0, 0, 0, 0, 0, 0, 0, 0, 0\\n0, 0, 0, 0, 0, 0, 0, 0, 0]'),\n",
       " Text(200.88000000000002, 143.38434782608698, 'gini = 0.0\\nsamples = 1\\nvalue = [0, 0, 0, 0, 0, 0, 0, 0, 0, 0, 0, 0, 1, 0, 0, 0, 0, 0, 0, 0, 0, 0, 0\\n0, 0, 0, 0, 0, 0, 0, 0, 0]'),\n",
       " Text(191.85168539325844, 155.98956521739132, 'gini = 0.0\\nsamples = 7\\nvalue = [0, 0, 0, 0, 0, 0, 0, 0, 0, 0, 7, 0, 0, 0, 0, 0, 0, 0, 0, 0, 0, 0, 0\\n0, 0, 0, 0, 0, 0, 0, 0, 0]'),\n",
       " Text(200.88000000000002, 159.1408695652174, 'X[263] <= 0.526\\ngini = 0.391\\nsamples = 13\\nvalue = [0, 0, 0, 0, 0, 1, 0, 0, 0, 0, 0, 1, 0, 0, 0, 0, 0, 0, 0, 0, 0, 0, 10\\n0, 0, 0, 1, 0, 0, 0, 0, 0]'),\n",
       " Text(197.87056179775283, 155.98956521739132, 'gini = 0.0\\nsamples = 10\\nvalue = [0, 0, 0, 0, 0, 0, 0, 0, 0, 0, 0, 0, 0, 0, 0, 0, 0, 0, 0, 0, 0, 0, 10\\n0, 0, 0, 0, 0, 0, 0, 0, 0]'),\n",
       " Text(203.88943820224722, 155.98956521739132, 'X[167] <= 0.071\\ngini = 0.667\\nsamples = 3\\nvalue = [0, 0, 0, 0, 0, 1, 0, 0, 0, 0, 0, 1, 0, 0, 0, 0, 0, 0, 0, 0, 0, 0, 0\\n0, 0, 0, 1, 0, 0, 0, 0, 0]'),\n",
       " Text(200.88000000000002, 152.8382608695652, 'gini = 0.0\\nsamples = 1\\nvalue = [0, 0, 0, 0, 0, 1, 0, 0, 0, 0, 0, 0, 0, 0, 0, 0, 0, 0, 0, 0, 0, 0, 0\\n0, 0, 0, 0, 0, 0, 0, 0, 0]'),\n",
       " Text(206.8988764044944, 152.8382608695652, 'X[201] <= 0.573\\ngini = 0.5\\nsamples = 2\\nvalue = [0, 0, 0, 0, 0, 0, 0, 0, 0, 0, 0, 1, 0, 0, 0, 0, 0, 0, 0, 0, 0, 0, 0\\n0, 0, 0, 1, 0, 0, 0, 0, 0]'),\n",
       " Text(203.88943820224722, 149.68695652173915, 'gini = 0.0\\nsamples = 1\\nvalue = [0, 0, 0, 0, 0, 0, 0, 0, 0, 0, 0, 1, 0, 0, 0, 0, 0, 0, 0, 0, 0, 0, 0\\n0, 0, 0, 0, 0, 0, 0, 0, 0]'),\n",
       " Text(209.90831460674158, 149.68695652173915, 'gini = 0.0\\nsamples = 1\\nvalue = [0, 0, 0, 0, 0, 0, 0, 0, 0, 0, 0, 0, 0, 0, 0, 0, 0, 0, 0, 0, 0, 0, 0\\n0, 0, 0, 1, 0, 0, 0, 0, 0]'),\n",
       " Text(203.88943820224722, 171.74608695652174, 'X[406] <= -0.035\\ngini = 0.521\\nsamples = 26\\nvalue = [0, 0, 0, 0, 0, 0, 3, 0, 0, 0, 0, 1, 0, 0, 0, 0, 0, 0, 0, 5, 17, 0, 0\\n0, 0, 0, 0, 0, 0, 0, 0, 0]'),\n",
       " Text(200.88000000000002, 168.59478260869565, 'X[415] <= -0.24\\ngini = 0.568\\nsamples = 9\\nvalue = [0, 0, 0, 0, 0, 0, 3, 0, 0, 0, 0, 1, 0, 0, 0, 0, 0, 0, 0, 5, 0, 0, 0\\n0, 0, 0, 0, 0, 0, 0, 0, 0]'),\n",
       " Text(197.87056179775283, 165.44347826086957, 'gini = 0.0\\nsamples = 5\\nvalue = [0, 0, 0, 0, 0, 0, 0, 0, 0, 0, 0, 0, 0, 0, 0, 0, 0, 0, 0, 5, 0, 0, 0\\n0, 0, 0, 0, 0, 0, 0, 0, 0]'),\n",
       " Text(203.88943820224722, 165.44347826086957, 'X[395] <= 0.348\\ngini = 0.375\\nsamples = 4\\nvalue = [0, 0, 0, 0, 0, 0, 3, 0, 0, 0, 0, 1, 0, 0, 0, 0, 0, 0, 0, 0, 0, 0, 0\\n0, 0, 0, 0, 0, 0, 0, 0, 0]'),\n",
       " Text(200.88000000000002, 162.29217391304348, 'gini = 0.0\\nsamples = 3\\nvalue = [0, 0, 0, 0, 0, 0, 3, 0, 0, 0, 0, 0, 0, 0, 0, 0, 0, 0, 0, 0, 0, 0, 0\\n0, 0, 0, 0, 0, 0, 0, 0, 0]'),\n",
       " Text(206.8988764044944, 162.29217391304348, 'gini = 0.0\\nsamples = 1\\nvalue = [0, 0, 0, 0, 0, 0, 0, 0, 0, 0, 0, 1, 0, 0, 0, 0, 0, 0, 0, 0, 0, 0, 0\\n0, 0, 0, 0, 0, 0, 0, 0, 0]'),\n",
       " Text(206.8988764044944, 168.59478260869565, 'gini = 0.0\\nsamples = 17\\nvalue = [0, 0, 0, 0, 0, 0, 0, 0, 0, 0, 0, 0, 0, 0, 0, 0, 0, 0, 0, 0, 17, 0, 0\\n0, 0, 0, 0, 0, 0, 0, 0, 0]'),\n",
       " Text(221.94606741573037, 174.89739130434782, 'X[24] <= 0.139\\ngini = 0.616\\nsamples = 34\\nvalue = [0, 0, 0, 0, 0, 0, 0, 0, 1, 0, 0, 1, 0, 0, 0, 0, 0, 0, 0, 8, 0, 0, 0\\n0, 0, 0, 4, 0, 0, 1, 0, 19]'),\n",
       " Text(215.92719101123598, 171.74608695652174, 'X[29] <= -0.313\\ngini = 0.095\\nsamples = 20\\nvalue = [0, 0, 0, 0, 0, 0, 0, 0, 0, 0, 0, 1, 0, 0, 0, 0, 0, 0, 0, 0, 0, 0, 0\\n0, 0, 0, 0, 0, 0, 0, 0, 19]'),\n",
       " Text(212.91775280898878, 168.59478260869565, 'gini = 0.0\\nsamples = 1\\nvalue = [0, 0, 0, 0, 0, 0, 0, 0, 0, 0, 0, 1, 0, 0, 0, 0, 0, 0, 0, 0, 0, 0, 0\\n0, 0, 0, 0, 0, 0, 0, 0, 0]'),\n",
       " Text(218.93662921348317, 168.59478260869565, 'gini = 0.0\\nsamples = 19\\nvalue = [0, 0, 0, 0, 0, 0, 0, 0, 0, 0, 0, 0, 0, 0, 0, 0, 0, 0, 0, 0, 0, 0, 0\\n0, 0, 0, 0, 0, 0, 0, 0, 19]'),\n",
       " Text(227.96494382022473, 171.74608695652174, 'X[423] <= -0.028\\ngini = 0.582\\nsamples = 14\\nvalue = [0, 0, 0, 0, 0, 0, 0, 0, 1, 0, 0, 0, 0, 0, 0, 0, 0, 0, 0, 8, 0, 0, 0\\n0, 0, 0, 4, 0, 0, 1, 0, 0]'),\n",
       " Text(224.95550561797754, 168.59478260869565, 'X[28] <= 0.045\\ngini = 0.5\\nsamples = 6\\nvalue = [0, 0, 0, 0, 0, 0, 0, 0, 1, 0, 0, 0, 0, 0, 0, 0, 0, 0, 0, 0, 0, 0, 0\\n0, 0, 0, 4, 0, 0, 1, 0, 0]'),\n",
       " Text(221.94606741573037, 165.44347826086957, 'X[194] <= 0.068\\ngini = 0.5\\nsamples = 2\\nvalue = [0, 0, 0, 0, 0, 0, 0, 0, 1, 0, 0, 0, 0, 0, 0, 0, 0, 0, 0, 0, 0, 0, 0\\n0, 0, 0, 0, 0, 0, 1, 0, 0]'),\n",
       " Text(218.93662921348317, 162.29217391304348, 'gini = 0.0\\nsamples = 1\\nvalue = [0, 0, 0, 0, 0, 0, 0, 0, 0, 0, 0, 0, 0, 0, 0, 0, 0, 0, 0, 0, 0, 0, 0\\n0, 0, 0, 0, 0, 0, 1, 0, 0]'),\n",
       " Text(224.95550561797754, 162.29217391304348, 'gini = 0.0\\nsamples = 1\\nvalue = [0, 0, 0, 0, 0, 0, 0, 0, 1, 0, 0, 0, 0, 0, 0, 0, 0, 0, 0, 0, 0, 0, 0\\n0, 0, 0, 0, 0, 0, 0, 0, 0]'),\n",
       " Text(227.96494382022473, 165.44347826086957, 'gini = 0.0\\nsamples = 4\\nvalue = [0, 0, 0, 0, 0, 0, 0, 0, 0, 0, 0, 0, 0, 0, 0, 0, 0, 0, 0, 0, 0, 0, 0\\n0, 0, 0, 4, 0, 0, 0, 0, 0]'),\n",
       " Text(230.97438202247193, 168.59478260869565, 'gini = 0.0\\nsamples = 8\\nvalue = [0, 0, 0, 0, 0, 0, 0, 0, 0, 0, 0, 0, 0, 0, 0, 0, 0, 0, 0, 8, 0, 0, 0\\n0, 0, 0, 0, 0, 0, 0, 0, 0]'),\n",
       " Text(233.98382022471912, 178.0486956521739, 'X[16] <= -0.017\\ngini = 0.645\\nsamples = 41\\nvalue = [0, 0, 0, 0, 1, 0, 0, 0, 0, 0, 0, 1, 0, 19, 0, 0, 0, 0, 2, 0, 0, 2, 0\\n0, 15, 0, 1, 0, 0, 0, 0, 0]'),\n",
       " Text(230.97438202247193, 174.89739130434782, 'gini = 0.0\\nsamples = 19\\nvalue = [0, 0, 0, 0, 0, 0, 0, 0, 0, 0, 0, 0, 0, 19, 0, 0, 0, 0, 0, 0, 0, 0, 0\\n0, 0, 0, 0, 0, 0, 0, 0, 0]'),\n",
       " Text(236.99325842696632, 174.89739130434782, 'X[22] <= -0.142\\ngini = 0.512\\nsamples = 22\\nvalue = [0, 0, 0, 0, 1, 0, 0, 0, 0, 0, 0, 1, 0, 0, 0, 0, 0, 0, 2, 0, 0, 2, 0\\n0, 15, 0, 1, 0, 0, 0, 0, 0]'),\n",
       " Text(233.98382022471912, 171.74608695652174, 'gini = 0.0\\nsamples = 15\\nvalue = [0, 0, 0, 0, 0, 0, 0, 0, 0, 0, 0, 0, 0, 0, 0, 0, 0, 0, 0, 0, 0, 0, 0\\n0, 15, 0, 0, 0, 0, 0, 0, 0]'),\n",
       " Text(240.00269662921352, 171.74608695652174, 'X[45] <= -0.074\\ngini = 0.776\\nsamples = 7\\nvalue = [0, 0, 0, 0, 1, 0, 0, 0, 0, 0, 0, 1, 0, 0, 0, 0, 0, 0, 2, 0, 0, 2, 0\\n0, 0, 0, 1, 0, 0, 0, 0, 0]'),\n",
       " Text(236.99325842696632, 168.59478260869565, 'gini = 0.0\\nsamples = 2\\nvalue = [0, 0, 0, 0, 0, 0, 0, 0, 0, 0, 0, 0, 0, 0, 0, 0, 0, 0, 0, 0, 0, 2, 0\\n0, 0, 0, 0, 0, 0, 0, 0, 0]'),\n",
       " Text(243.01213483146068, 168.59478260869565, 'X[116] <= 0.094\\ngini = 0.72\\nsamples = 5\\nvalue = [0, 0, 0, 0, 1, 0, 0, 0, 0, 0, 0, 1, 0, 0, 0, 0, 0, 0, 2, 0, 0, 0, 0\\n0, 0, 0, 1, 0, 0, 0, 0, 0]'),\n",
       " Text(240.00269662921352, 165.44347826086957, 'X[175] <= -0.069\\ngini = 0.667\\nsamples = 3\\nvalue = [0, 0, 0, 0, 1, 0, 0, 0, 0, 0, 0, 1, 0, 0, 0, 0, 0, 0, 0, 0, 0, 0, 0\\n0, 0, 0, 1, 0, 0, 0, 0, 0]'),\n",
       " Text(236.99325842696632, 162.29217391304348, 'gini = 0.0\\nsamples = 1\\nvalue = [0, 0, 0, 0, 0, 0, 0, 0, 0, 0, 0, 1, 0, 0, 0, 0, 0, 0, 0, 0, 0, 0, 0\\n0, 0, 0, 0, 0, 0, 0, 0, 0]'),\n",
       " Text(243.01213483146068, 162.29217391304348, 'X[333] <= -0.374\\ngini = 0.5\\nsamples = 2\\nvalue = [0, 0, 0, 0, 1, 0, 0, 0, 0, 0, 0, 0, 0, 0, 0, 0, 0, 0, 0, 0, 0, 0, 0\\n0, 0, 0, 1, 0, 0, 0, 0, 0]'),\n",
       " Text(240.00269662921352, 159.1408695652174, 'gini = 0.0\\nsamples = 1\\nvalue = [0, 0, 0, 0, 0, 0, 0, 0, 0, 0, 0, 0, 0, 0, 0, 0, 0, 0, 0, 0, 0, 0, 0\\n0, 0, 0, 1, 0, 0, 0, 0, 0]'),\n",
       " Text(246.02157303370788, 159.1408695652174, 'gini = 0.0\\nsamples = 1\\nvalue = [0, 0, 0, 0, 1, 0, 0, 0, 0, 0, 0, 0, 0, 0, 0, 0, 0, 0, 0, 0, 0, 0, 0\\n0, 0, 0, 0, 0, 0, 0, 0, 0]'),\n",
       " Text(246.02157303370788, 165.44347826086957, 'gini = 0.0\\nsamples = 2\\nvalue = [0, 0, 0, 0, 0, 0, 0, 0, 0, 0, 0, 0, 0, 0, 0, 0, 0, 0, 2, 0, 0, 0, 0\\n0, 0, 0, 0, 0, 0, 0, 0, 0]'),\n",
       " Text(246.02157303370788, 184.3513043478261, 'X[420] <= -0.154\\ngini = 0.574\\nsamples = 34\\nvalue = [0, 0, 0, 0, 1, 20, 0, 0, 0, 1, 0, 0, 0, 0, 0, 0, 0, 0, 0, 0, 0, 0, 3\\n0, 0, 0, 0, 9, 0, 0, 0, 0]'),\n",
       " Text(243.01213483146068, 181.2, 'gini = 0.0\\nsamples = 20\\nvalue = [0, 0, 0, 0, 0, 20, 0, 0, 0, 0, 0, 0, 0, 0, 0, 0, 0, 0, 0, 0, 0, 0, 0\\n0, 0, 0, 0, 0, 0, 0, 0, 0]'),\n",
       " Text(249.03101123595508, 181.2, 'X[414] <= -0.237\\ngini = 0.531\\nsamples = 14\\nvalue = [0, 0, 0, 0, 1, 0, 0, 0, 0, 1, 0, 0, 0, 0, 0, 0, 0, 0, 0, 0, 0, 0, 3\\n0, 0, 0, 0, 9, 0, 0, 0, 0]'),\n",
       " Text(246.02157303370788, 178.0486956521739, 'gini = 0.0\\nsamples = 9\\nvalue = [0, 0, 0, 0, 0, 0, 0, 0, 0, 0, 0, 0, 0, 0, 0, 0, 0, 0, 0, 0, 0, 0, 0\\n0, 0, 0, 0, 9, 0, 0, 0, 0]'),\n",
       " Text(252.04044943820227, 178.0486956521739, 'X[322] <= -0.035\\ngini = 0.56\\nsamples = 5\\nvalue = [0, 0, 0, 0, 1, 0, 0, 0, 0, 1, 0, 0, 0, 0, 0, 0, 0, 0, 0, 0, 0, 0, 3\\n0, 0, 0, 0, 0, 0, 0, 0, 0]'),\n",
       " Text(249.03101123595508, 174.89739130434782, 'X[448] <= -0.02\\ngini = 0.5\\nsamples = 2\\nvalue = [0, 0, 0, 0, 1, 0, 0, 0, 0, 1, 0, 0, 0, 0, 0, 0, 0, 0, 0, 0, 0, 0, 0\\n0, 0, 0, 0, 0, 0, 0, 0, 0]'),\n",
       " Text(246.02157303370788, 171.74608695652174, 'gini = 0.0\\nsamples = 1\\nvalue = [0, 0, 0, 0, 0, 0, 0, 0, 0, 1, 0, 0, 0, 0, 0, 0, 0, 0, 0, 0, 0, 0, 0\\n0, 0, 0, 0, 0, 0, 0, 0, 0]'),\n",
       " Text(252.04044943820227, 171.74608695652174, 'gini = 0.0\\nsamples = 1\\nvalue = [0, 0, 0, 0, 1, 0, 0, 0, 0, 0, 0, 0, 0, 0, 0, 0, 0, 0, 0, 0, 0, 0, 0\\n0, 0, 0, 0, 0, 0, 0, 0, 0]'),\n",
       " Text(255.04988764044947, 174.89739130434782, 'gini = 0.0\\nsamples = 3\\nvalue = [0, 0, 0, 0, 0, 0, 0, 0, 0, 0, 0, 0, 0, 0, 0, 0, 0, 0, 0, 0, 0, 0, 3\\n0, 0, 0, 0, 0, 0, 0, 0, 0]'),\n",
       " Text(255.04988764044947, 187.50260869565219, 'X[71] <= 0.063\\ngini = 0.198\\nsamples = 18\\nvalue = [0, 16, 0, 0, 0, 0, 0, 0, 0, 2, 0, 0, 0, 0, 0, 0, 0, 0, 0, 0, 0, 0, 0\\n0, 0, 0, 0, 0, 0, 0, 0, 0]'),\n",
       " Text(252.04044943820227, 184.3513043478261, 'gini = 0.0\\nsamples = 16\\nvalue = [0, 16, 0, 0, 0, 0, 0, 0, 0, 0, 0, 0, 0, 0, 0, 0, 0, 0, 0, 0, 0, 0, 0\\n0, 0, 0, 0, 0, 0, 0, 0, 0]'),\n",
       " Text(258.05932584269664, 184.3513043478261, 'gini = 0.0\\nsamples = 2\\nvalue = [0, 0, 0, 0, 0, 0, 0, 0, 0, 2, 0, 0, 0, 0, 0, 0, 0, 0, 0, 0, 0, 0, 0\\n0, 0, 0, 0, 0, 0, 0, 0, 0]'),\n",
       " Text(261.06876404494386, 193.80521739130435, 'X[20] <= -0.309\\ngini = 0.764\\nsamples = 69\\nvalue = [2, 0, 0, 23, 0, 0, 1, 0, 0, 3, 0, 0, 0, 1, 23, 0, 0, 0, 3, 1, 0, 0, 0\\n4, 0, 0, 4, 0, 1, 0, 3, 0]'),\n",
       " Text(258.05932584269664, 190.65391304347827, 'gini = 0.0\\nsamples = 23\\nvalue = [0, 0, 0, 23, 0, 0, 0, 0, 0, 0, 0, 0, 0, 0, 0, 0, 0, 0, 0, 0, 0, 0, 0\\n0, 0, 0, 0, 0, 0, 0, 0, 0]'),\n",
       " Text(264.07820224719103, 190.65391304347827, 'X[51] <= -0.015\\ngini = 0.718\\nsamples = 46\\nvalue = [2, 0, 0, 0, 0, 0, 1, 0, 0, 3, 0, 0, 0, 1, 23, 0, 0, 0, 3, 1, 0, 0, 0\\n4, 0, 0, 4, 0, 1, 0, 3, 0]'),\n",
       " Text(261.06876404494386, 187.50260869565219, 'gini = 0.0\\nsamples = 20\\nvalue = [0, 0, 0, 0, 0, 0, 0, 0, 0, 0, 0, 0, 0, 0, 20, 0, 0, 0, 0, 0, 0, 0, 0\\n0, 0, 0, 0, 0, 0, 0, 0, 0]'),\n",
       " Text(267.0876404494382, 187.50260869565219, 'X[22] <= -0.538\\ngini = 0.888\\nsamples = 26\\nvalue = [2, 0, 0, 0, 0, 0, 1, 0, 0, 3, 0, 0, 0, 1, 3, 0, 0, 0, 3, 1, 0, 0, 0\\n4, 0, 0, 4, 0, 1, 0, 3, 0]'),\n",
       " Text(264.07820224719103, 184.3513043478261, 'gini = 0.0\\nsamples = 4\\nvalue = [0, 0, 0, 0, 0, 0, 0, 0, 0, 0, 0, 0, 0, 0, 0, 0, 0, 0, 0, 0, 0, 0, 0\\n4, 0, 0, 0, 0, 0, 0, 0, 0]'),\n",
       " Text(270.0970786516854, 184.3513043478261, 'X[22] <= 0.268\\ngini = 0.876\\nsamples = 22\\nvalue = [2, 0, 0, 0, 0, 0, 1, 0, 0, 3, 0, 0, 0, 1, 3, 0, 0, 0, 3, 1, 0, 0, 0\\n0, 0, 0, 4, 0, 1, 0, 3, 0]'),\n",
       " Text(267.0876404494382, 181.2, 'X[215] <= -0.621\\ngini = 0.864\\nsamples = 18\\nvalue = [2, 0, 0, 0, 0, 0, 1, 0, 0, 3, 0, 0, 0, 1, 3, 0, 0, 0, 3, 1, 0, 0, 0\\n0, 0, 0, 0, 0, 1, 0, 3, 0]'),\n",
       " Text(264.07820224719103, 178.0486956521739, 'gini = 0.0\\nsamples = 3\\nvalue = [0, 0, 0, 0, 0, 0, 0, 0, 0, 0, 0, 0, 0, 0, 0, 0, 0, 0, 3, 0, 0, 0, 0\\n0, 0, 0, 0, 0, 0, 0, 0, 0]'),\n",
       " Text(270.0970786516854, 178.0486956521739, 'X[4] <= -0.502\\ngini = 0.844\\nsamples = 15\\nvalue = [2, 0, 0, 0, 0, 0, 1, 0, 0, 3, 0, 0, 0, 1, 3, 0, 0, 0, 0, 1, 0, 0, 0\\n0, 0, 0, 0, 0, 1, 0, 3, 0]'),\n",
       " Text(267.0876404494382, 174.89739130434782, 'gini = 0.0\\nsamples = 3\\nvalue = [0, 0, 0, 0, 0, 0, 0, 0, 0, 0, 0, 0, 0, 0, 0, 0, 0, 0, 0, 0, 0, 0, 0\\n0, 0, 0, 0, 0, 0, 0, 3, 0]'),\n",
       " Text(273.1065168539326, 174.89739130434782, 'X[32] <= -0.007\\ngini = 0.819\\nsamples = 12\\nvalue = [2, 0, 0, 0, 0, 0, 1, 0, 0, 3, 0, 0, 0, 1, 3, 0, 0, 0, 0, 1, 0, 0, 0\\n0, 0, 0, 0, 0, 1, 0, 0, 0]'),\n",
       " Text(270.0970786516854, 171.74608695652174, 'X[197] <= 0.077\\ngini = 0.79\\nsamples = 9\\nvalue = [2, 0, 0, 0, 0, 0, 1, 0, 0, 3, 0, 0, 0, 1, 0, 0, 0, 0, 0, 1, 0, 0, 0\\n0, 0, 0, 0, 0, 1, 0, 0, 0]'),\n",
       " Text(267.0876404494382, 168.59478260869565, 'gini = 0.0\\nsamples = 3\\nvalue = [0, 0, 0, 0, 0, 0, 0, 0, 0, 3, 0, 0, 0, 0, 0, 0, 0, 0, 0, 0, 0, 0, 0\\n0, 0, 0, 0, 0, 0, 0, 0, 0]'),\n",
       " Text(273.1065168539326, 168.59478260869565, 'X[1] <= 0.221\\ngini = 0.778\\nsamples = 6\\nvalue = [2, 0, 0, 0, 0, 0, 1, 0, 0, 0, 0, 0, 0, 1, 0, 0, 0, 0, 0, 1, 0, 0, 0\\n0, 0, 0, 0, 0, 1, 0, 0, 0]'),\n",
       " Text(270.0970786516854, 165.44347826086957, 'X[152] <= -0.062\\ngini = 0.75\\nsamples = 4\\nvalue = [0, 0, 0, 0, 0, 0, 1, 0, 0, 0, 0, 0, 0, 1, 0, 0, 0, 0, 0, 1, 0, 0, 0\\n0, 0, 0, 0, 0, 1, 0, 0, 0]'),\n",
       " Text(267.0876404494382, 162.29217391304348, 'gini = 0.0\\nsamples = 1\\nvalue = [0, 0, 0, 0, 0, 0, 0, 0, 0, 0, 0, 0, 0, 0, 0, 0, 0, 0, 0, 1, 0, 0, 0\\n0, 0, 0, 0, 0, 0, 0, 0, 0]'),\n",
       " Text(273.1065168539326, 162.29217391304348, 'X[16] <= 0.146\\ngini = 0.667\\nsamples = 3\\nvalue = [0, 0, 0, 0, 0, 0, 1, 0, 0, 0, 0, 0, 0, 1, 0, 0, 0, 0, 0, 0, 0, 0, 0\\n0, 0, 0, 0, 0, 1, 0, 0, 0]'),\n",
       " Text(270.0970786516854, 159.1408695652174, 'gini = 0.0\\nsamples = 1\\nvalue = [0, 0, 0, 0, 0, 0, 0, 0, 0, 0, 0, 0, 0, 1, 0, 0, 0, 0, 0, 0, 0, 0, 0\\n0, 0, 0, 0, 0, 0, 0, 0, 0]'),\n",
       " Text(276.1159550561798, 159.1408695652174, 'X[10] <= -0.185\\ngini = 0.5\\nsamples = 2\\nvalue = [0, 0, 0, 0, 0, 0, 1, 0, 0, 0, 0, 0, 0, 0, 0, 0, 0, 0, 0, 0, 0, 0, 0\\n0, 0, 0, 0, 0, 1, 0, 0, 0]'),\n",
       " Text(273.1065168539326, 155.98956521739132, 'gini = 0.0\\nsamples = 1\\nvalue = [0, 0, 0, 0, 0, 0, 0, 0, 0, 0, 0, 0, 0, 0, 0, 0, 0, 0, 0, 0, 0, 0, 0\\n0, 0, 0, 0, 0, 1, 0, 0, 0]'),\n",
       " Text(279.125393258427, 155.98956521739132, 'gini = 0.0\\nsamples = 1\\nvalue = [0, 0, 0, 0, 0, 0, 1, 0, 0, 0, 0, 0, 0, 0, 0, 0, 0, 0, 0, 0, 0, 0, 0\\n0, 0, 0, 0, 0, 0, 0, 0, 0]'),\n",
       " Text(276.1159550561798, 165.44347826086957, 'gini = 0.0\\nsamples = 2\\nvalue = [2, 0, 0, 0, 0, 0, 0, 0, 0, 0, 0, 0, 0, 0, 0, 0, 0, 0, 0, 0, 0, 0, 0\\n0, 0, 0, 0, 0, 0, 0, 0, 0]'),\n",
       " Text(276.1159550561798, 171.74608695652174, 'gini = 0.0\\nsamples = 3\\nvalue = [0, 0, 0, 0, 0, 0, 0, 0, 0, 0, 0, 0, 0, 0, 3, 0, 0, 0, 0, 0, 0, 0, 0\\n0, 0, 0, 0, 0, 0, 0, 0, 0]'),\n",
       " Text(273.1065168539326, 181.2, 'gini = 0.0\\nsamples = 4\\nvalue = [0, 0, 0, 0, 0, 0, 0, 0, 0, 0, 0, 0, 0, 0, 0, 0, 0, 0, 0, 0, 0, 0, 0\\n0, 0, 0, 4, 0, 0, 0, 0, 0]'),\n",
       " Text(270.0970786516854, 196.95652173913044, 'X[225] <= 0.093\\ngini = 0.299\\nsamples = 24\\nvalue = [0, 1, 0, 0, 0, 0, 1, 0, 0, 0, 0, 0, 0, 0, 0, 0, 0, 1, 0, 0, 0, 0, 0\\n0, 0, 20, 0, 0, 1, 0, 0, 0]'),\n",
       " Text(267.0876404494382, 193.80521739130435, 'gini = 0.0\\nsamples = 20\\nvalue = [0, 0, 0, 0, 0, 0, 0, 0, 0, 0, 0, 0, 0, 0, 0, 0, 0, 0, 0, 0, 0, 0, 0\\n0, 0, 20, 0, 0, 0, 0, 0, 0]'),\n",
       " Text(273.1065168539326, 193.80521739130435, 'X[422] <= -0.279\\ngini = 0.75\\nsamples = 4\\nvalue = [0, 1, 0, 0, 0, 0, 1, 0, 0, 0, 0, 0, 0, 0, 0, 0, 0, 1, 0, 0, 0, 0, 0\\n0, 0, 0, 0, 0, 1, 0, 0, 0]'),\n",
       " Text(270.0970786516854, 190.65391304347827, 'gini = 0.0\\nsamples = 1\\nvalue = [0, 0, 0, 0, 0, 0, 0, 0, 0, 0, 0, 0, 0, 0, 0, 0, 0, 0, 0, 0, 0, 0, 0\\n0, 0, 0, 0, 0, 1, 0, 0, 0]'),\n",
       " Text(276.1159550561798, 190.65391304347827, 'X[184] <= -0.062\\ngini = 0.667\\nsamples = 3\\nvalue = [0, 1, 0, 0, 0, 0, 1, 0, 0, 0, 0, 0, 0, 0, 0, 0, 0, 1, 0, 0, 0, 0, 0\\n0, 0, 0, 0, 0, 0, 0, 0, 0]'),\n",
       " Text(273.1065168539326, 187.50260869565219, 'gini = 0.0\\nsamples = 1\\nvalue = [0, 0, 0, 0, 0, 0, 1, 0, 0, 0, 0, 0, 0, 0, 0, 0, 0, 0, 0, 0, 0, 0, 0\\n0, 0, 0, 0, 0, 0, 0, 0, 0]'),\n",
       " Text(279.125393258427, 187.50260869565219, 'X[248] <= -0.0\\ngini = 0.5\\nsamples = 2\\nvalue = [0, 1, 0, 0, 0, 0, 0, 0, 0, 0, 0, 0, 0, 0, 0, 0, 0, 1, 0, 0, 0, 0, 0\\n0, 0, 0, 0, 0, 0, 0, 0, 0]'),\n",
       " Text(276.1159550561798, 184.3513043478261, 'gini = 0.0\\nsamples = 1\\nvalue = [0, 1, 0, 0, 0, 0, 0, 0, 0, 0, 0, 0, 0, 0, 0, 0, 0, 0, 0, 0, 0, 0, 0\\n0, 0, 0, 0, 0, 0, 0, 0, 0]'),\n",
       " Text(282.1348314606742, 184.3513043478261, 'gini = 0.0\\nsamples = 1\\nvalue = [0, 0, 0, 0, 0, 0, 0, 0, 0, 0, 0, 0, 0, 0, 0, 0, 0, 1, 0, 0, 0, 0, 0\\n0, 0, 0, 0, 0, 0, 0, 0, 0]'),\n",
       " Text(313.73393258426967, 200.10782608695652, 'X[19] <= 0.195\\ngini = 0.767\\nsamples = 74\\nvalue = [0, 0, 0, 1, 1, 0, 0, 3, 0, 1, 0, 14, 1, 0, 5, 3, 0, 2, 0, 1, 0, 31, 8\\n0, 1, 0, 0, 2, 0, 0, 0, 0]'),\n",
       " Text(310.7244943820225, 196.95652173913044, 'X[9] <= 0.238\\ngini = 0.854\\nsamples = 51\\nvalue = [0, 0, 0, 1, 1, 0, 0, 3, 0, 1, 0, 14, 1, 0, 5, 3, 0, 2, 0, 1, 0, 8, 8\\n0, 1, 0, 0, 2, 0, 0, 0, 0]'),\n",
       " Text(307.71505617977533, 193.80521739130435, 'X[78] <= 0.163\\ngini = 0.829\\nsamples = 43\\nvalue = [0, 0, 0, 1, 1, 0, 0, 3, 0, 1, 0, 14, 1, 0, 5, 3, 0, 2, 0, 1, 0, 0, 8\\n0, 1, 0, 0, 2, 0, 0, 0, 0]'),\n",
       " Text(304.7056179775281, 190.65391304347827, 'X[329] <= 0.144\\ngini = 0.873\\nsamples = 32\\nvalue = [0, 0, 0, 1, 1, 0, 0, 3, 0, 1, 0, 3, 1, 0, 5, 3, 0, 2, 0, 1, 0, 0, 8\\n0, 1, 0, 0, 2, 0, 0, 0, 0]'),\n",
       " Text(294.17258426966293, 187.50260869565219, 'X[98] <= -0.045\\ngini = 0.866\\nsamples = 21\\nvalue = [0, 0, 0, 1, 1, 0, 0, 3, 0, 1, 0, 3, 1, 0, 5, 3, 0, 0, 0, 1, 0, 0, 0\\n0, 1, 0, 0, 1, 0, 0, 0, 0]'),\n",
       " Text(288.15370786516854, 184.3513043478261, 'X[455] <= 0.095\\ngini = 0.278\\nsamples = 6\\nvalue = [0, 0, 0, 1, 0, 0, 0, 0, 0, 0, 0, 0, 0, 0, 5, 0, 0, 0, 0, 0, 0, 0, 0\\n0, 0, 0, 0, 0, 0, 0, 0, 0]'),\n",
       " Text(285.1442696629214, 181.2, 'gini = 0.0\\nsamples = 5\\nvalue = [0, 0, 0, 0, 0, 0, 0, 0, 0, 0, 0, 0, 0, 0, 5, 0, 0, 0, 0, 0, 0, 0, 0\\n0, 0, 0, 0, 0, 0, 0, 0, 0]'),\n",
       " Text(291.16314606741577, 181.2, 'gini = 0.0\\nsamples = 1\\nvalue = [0, 0, 0, 1, 0, 0, 0, 0, 0, 0, 0, 0, 0, 0, 0, 0, 0, 0, 0, 0, 0, 0, 0\\n0, 0, 0, 0, 0, 0, 0, 0, 0]'),\n",
       " Text(300.1914606741573, 184.3513043478261, 'X[105] <= 0.185\\ngini = 0.853\\nsamples = 15\\nvalue = [0, 0, 0, 0, 1, 0, 0, 3, 0, 1, 0, 3, 1, 0, 0, 3, 0, 0, 0, 1, 0, 0, 0\\n0, 1, 0, 0, 1, 0, 0, 0, 0]'),\n",
       " Text(297.18202247191016, 181.2, 'X[289] <= 0.087\\ngini = 0.833\\nsamples = 12\\nvalue = [0, 0, 0, 0, 1, 0, 0, 3, 0, 1, 0, 0, 1, 0, 0, 3, 0, 0, 0, 1, 0, 0, 0\\n0, 1, 0, 0, 1, 0, 0, 0, 0]'),\n",
       " Text(294.17258426966293, 178.0486956521739, 'X[15] <= -0.258\\ngini = 0.815\\nsamples = 9\\nvalue = [0, 0, 0, 0, 1, 0, 0, 0, 0, 1, 0, 0, 1, 0, 0, 3, 0, 0, 0, 1, 0, 0, 0\\n0, 1, 0, 0, 1, 0, 0, 0, 0]'),\n",
       " Text(291.16314606741577, 174.89739130434782, 'gini = 0.0\\nsamples = 3\\nvalue = [0, 0, 0, 0, 0, 0, 0, 0, 0, 0, 0, 0, 0, 0, 0, 3, 0, 0, 0, 0, 0, 0, 0\\n0, 0, 0, 0, 0, 0, 0, 0, 0]'),\n",
       " Text(297.18202247191016, 174.89739130434782, 'X[380] <= -0.132\\ngini = 0.833\\nsamples = 6\\nvalue = [0, 0, 0, 0, 1, 0, 0, 0, 0, 1, 0, 0, 1, 0, 0, 0, 0, 0, 0, 1, 0, 0, 0\\n0, 1, 0, 0, 1, 0, 0, 0, 0]'),\n",
       " Text(294.17258426966293, 171.74608695652174, 'gini = 0.0\\nsamples = 1\\nvalue = [0, 0, 0, 0, 0, 0, 0, 0, 0, 0, 0, 0, 1, 0, 0, 0, 0, 0, 0, 0, 0, 0, 0\\n0, 0, 0, 0, 0, 0, 0, 0, 0]'),\n",
       " Text(300.1914606741573, 171.74608695652174, 'X[309] <= 0.018\\ngini = 0.8\\nsamples = 5\\nvalue = [0, 0, 0, 0, 1, 0, 0, 0, 0, 1, 0, 0, 0, 0, 0, 0, 0, 0, 0, 1, 0, 0, 0\\n0, 1, 0, 0, 1, 0, 0, 0, 0]'),\n",
       " Text(297.18202247191016, 168.59478260869565, 'gini = 0.0\\nsamples = 1\\nvalue = [0, 0, 0, 0, 0, 0, 0, 0, 0, 0, 0, 0, 0, 0, 0, 0, 0, 0, 0, 0, 0, 0, 0\\n0, 0, 0, 0, 1, 0, 0, 0, 0]'),\n",
       " Text(303.2008988764045, 168.59478260869565, 'X[13] <= -0.224\\ngini = 0.75\\nsamples = 4\\nvalue = [0, 0, 0, 0, 1, 0, 0, 0, 0, 1, 0, 0, 0, 0, 0, 0, 0, 0, 0, 1, 0, 0, 0\\n0, 1, 0, 0, 0, 0, 0, 0, 0]'),\n",
       " Text(300.1914606741573, 165.44347826086957, 'gini = 0.0\\nsamples = 1\\nvalue = [0, 0, 0, 0, 0, 0, 0, 0, 0, 0, 0, 0, 0, 0, 0, 0, 0, 0, 0, 0, 0, 0, 0\\n0, 1, 0, 0, 0, 0, 0, 0, 0]'),\n",
       " Text(306.2103370786517, 165.44347826086957, 'X[213] <= -0.144\\ngini = 0.667\\nsamples = 3\\nvalue = [0, 0, 0, 0, 1, 0, 0, 0, 0, 1, 0, 0, 0, 0, 0, 0, 0, 0, 0, 1, 0, 0, 0\\n0, 0, 0, 0, 0, 0, 0, 0, 0]'),\n",
       " Text(303.2008988764045, 162.29217391304348, 'gini = 0.0\\nsamples = 1\\nvalue = [0, 0, 0, 0, 0, 0, 0, 0, 0, 1, 0, 0, 0, 0, 0, 0, 0, 0, 0, 0, 0, 0, 0\\n0, 0, 0, 0, 0, 0, 0, 0, 0]'),\n",
       " Text(309.2197752808989, 162.29217391304348, 'X[287] <= -0.098\\ngini = 0.5\\nsamples = 2\\nvalue = [0, 0, 0, 0, 1, 0, 0, 0, 0, 0, 0, 0, 0, 0, 0, 0, 0, 0, 0, 1, 0, 0, 0\\n0, 0, 0, 0, 0, 0, 0, 0, 0]'),\n",
       " Text(306.2103370786517, 159.1408695652174, 'gini = 0.0\\nsamples = 1\\nvalue = [0, 0, 0, 0, 0, 0, 0, 0, 0, 0, 0, 0, 0, 0, 0, 0, 0, 0, 0, 1, 0, 0, 0\\n0, 0, 0, 0, 0, 0, 0, 0, 0]'),\n",
       " Text(312.2292134831461, 159.1408695652174, 'gini = 0.0\\nsamples = 1\\nvalue = [0, 0, 0, 0, 1, 0, 0, 0, 0, 0, 0, 0, 0, 0, 0, 0, 0, 0, 0, 0, 0, 0, 0\\n0, 0, 0, 0, 0, 0, 0, 0, 0]'),\n",
       " Text(300.1914606741573, 178.0486956521739, 'gini = 0.0\\nsamples = 3\\nvalue = [0, 0, 0, 0, 0, 0, 0, 3, 0, 0, 0, 0, 0, 0, 0, 0, 0, 0, 0, 0, 0, 0, 0\\n0, 0, 0, 0, 0, 0, 0, 0, 0]'),\n",
       " Text(303.2008988764045, 181.2, 'gini = 0.0\\nsamples = 3\\nvalue = [0, 0, 0, 0, 0, 0, 0, 0, 0, 0, 0, 3, 0, 0, 0, 0, 0, 0, 0, 0, 0, 0, 0\\n0, 0, 0, 0, 0, 0, 0, 0, 0]'),\n",
       " Text(315.2386516853933, 187.50260869565219, 'X[61] <= -0.017\\ngini = 0.43\\nsamples = 11\\nvalue = [0, 0, 0, 0, 0, 0, 0, 0, 0, 0, 0, 0, 0, 0, 0, 0, 0, 2, 0, 0, 0, 0, 8\\n0, 0, 0, 0, 1, 0, 0, 0, 0]'),\n",
       " Text(312.2292134831461, 184.3513043478261, 'X[276] <= 0.077\\ngini = 0.444\\nsamples = 3\\nvalue = [0, 0, 0, 0, 0, 0, 0, 0, 0, 0, 0, 0, 0, 0, 0, 0, 0, 2, 0, 0, 0, 0, 0\\n0, 0, 0, 0, 1, 0, 0, 0, 0]'),\n",
       " Text(309.2197752808989, 181.2, 'gini = 0.0\\nsamples = 2\\nvalue = [0, 0, 0, 0, 0, 0, 0, 0, 0, 0, 0, 0, 0, 0, 0, 0, 0, 2, 0, 0, 0, 0, 0\\n0, 0, 0, 0, 0, 0, 0, 0, 0]'),\n",
       " Text(315.2386516853933, 181.2, 'gini = 0.0\\nsamples = 1\\nvalue = [0, 0, 0, 0, 0, 0, 0, 0, 0, 0, 0, 0, 0, 0, 0, 0, 0, 0, 0, 0, 0, 0, 0\\n0, 0, 0, 0, 1, 0, 0, 0, 0]'),\n",
       " Text(318.2480898876405, 184.3513043478261, 'gini = 0.0\\nsamples = 8\\nvalue = [0, 0, 0, 0, 0, 0, 0, 0, 0, 0, 0, 0, 0, 0, 0, 0, 0, 0, 0, 0, 0, 0, 8\\n0, 0, 0, 0, 0, 0, 0, 0, 0]'),\n",
       " Text(310.7244943820225, 190.65391304347827, 'gini = 0.0\\nsamples = 11\\nvalue = [0, 0, 0, 0, 0, 0, 0, 0, 0, 0, 0, 11, 0, 0, 0, 0, 0, 0, 0, 0, 0, 0, 0\\n0, 0, 0, 0, 0, 0, 0, 0, 0]'),\n",
       " Text(313.73393258426967, 193.80521739130435, 'gini = 0.0\\nsamples = 8\\nvalue = [0, 0, 0, 0, 0, 0, 0, 0, 0, 0, 0, 0, 0, 0, 0, 0, 0, 0, 0, 0, 0, 8, 0\\n0, 0, 0, 0, 0, 0, 0, 0, 0]'),\n",
       " Text(316.7433707865169, 196.95652173913044, 'gini = 0.0\\nsamples = 23\\nvalue = [0, 0, 0, 0, 0, 0, 0, 0, 0, 0, 0, 0, 0, 0, 0, 0, 0, 0, 0, 0, 0, 23, 0\\n0, 0, 0, 0, 0, 0, 0, 0, 0]'),\n",
       " Text(328.7811235955056, 203.2591304347826, 'X[364] <= -0.053\\ngini = 0.288\\nsamples = 24\\nvalue = [0, 0, 0, 0, 0, 0, 0, 0, 20, 0, 0, 0, 0, 0, 0, 0, 0, 0, 0, 0, 1, 0, 0\\n0, 0, 0, 3, 0, 0, 0, 0, 0]'),\n",
       " Text(325.77168539325845, 200.10782608695652, 'X[450] <= 0.272\\ngini = 0.375\\nsamples = 4\\nvalue = [0, 0, 0, 0, 0, 0, 0, 0, 0, 0, 0, 0, 0, 0, 0, 0, 0, 0, 0, 0, 1, 0, 0\\n0, 0, 0, 3, 0, 0, 0, 0, 0]'),\n",
       " Text(322.7622471910113, 196.95652173913044, 'gini = 0.0\\nsamples = 3\\nvalue = [0, 0, 0, 0, 0, 0, 0, 0, 0, 0, 0, 0, 0, 0, 0, 0, 0, 0, 0, 0, 0, 0, 0\\n0, 0, 0, 3, 0, 0, 0, 0, 0]'),\n",
       " Text(328.7811235955056, 196.95652173913044, 'gini = 0.0\\nsamples = 1\\nvalue = [0, 0, 0, 0, 0, 0, 0, 0, 0, 0, 0, 0, 0, 0, 0, 0, 0, 0, 0, 0, 1, 0, 0\\n0, 0, 0, 0, 0, 0, 0, 0, 0]'),\n",
       " Text(331.79056179775284, 200.10782608695652, 'gini = 0.0\\nsamples = 20\\nvalue = [0, 0, 0, 0, 0, 0, 0, 0, 20, 0, 0, 0, 0, 0, 0, 0, 0, 0, 0, 0, 0, 0, 0\\n0, 0, 0, 0, 0, 0, 0, 0, 0]'),\n",
       " Text(258.2277101461004, 212.71304347826086, 'gini = 0.0\\nsamples = 21\\nvalue = [0, 0, 0, 0, 0, 0, 0, 0, 0, 0, 0, 0, 0, 0, 0, 0, 0, 0, 0, 0, 0, 0, 0\\n21, 0, 0, 0, 0, 0, 0, 0, 0]')]"
      ]
     },
     "execution_count": 58,
     "metadata": {},
     "output_type": "execute_result"
    },
    {
     "data": {
      "image/png": "[encoded data removed]",
      "text/plain": [
       "<Figure size 432x288 with 1 Axes>"
      ]
     },
     "metadata": {
      "needs_background": "light"
     },
     "output_type": "display_data"
    }
   ],
   "source": [
    "tree.plot_tree(classifier) "
   ]
  },
  {
   "cell_type": "code",
   "execution_count": 59,
   "metadata": {
    "ExecuteTime": {
     "end_time": "2020-10-20T19:36:51.560631Z",
     "start_time": "2020-10-20T19:36:41.813236Z"
    }
   },
   "outputs": [
    {
     "data": {
      "image/png": "[encoded data removed]",
      "text/plain": [
       "<Figure size 1440x1440 with 1 Axes>"
      ]
     },
     "metadata": {
      "needs_background": "light"
     },
     "output_type": "display_data"
    }
   ],
   "source": [
    "fig, ax = plt.subplots(figsize=(20, 20))\n",
    "tree.plot_tree(classifier)\n",
    "plt.show()"
   ]
  },
  {
   "cell_type": "code",
   "execution_count": 60,
   "metadata": {
    "ExecuteTime": {
     "end_time": "2020-10-20T19:36:51.576179Z",
     "start_time": "2020-10-20T19:36:51.561892Z"
    }
   },
   "outputs": [],
   "source": [
    "classifier = RandomForestClassifier(n_estimators=3)"
   ]
  },
  {
   "cell_type": "code",
   "execution_count": 61,
   "metadata": {
    "ExecuteTime": {
     "end_time": "2020-10-20T19:36:51.689390Z",
     "start_time": "2020-10-20T19:36:51.577413Z"
    }
   },
   "outputs": [
    {
     "data": {
      "text/plain": [
       "RandomForestClassifier(n_estimators=3)"
      ]
     },
     "execution_count": 61,
     "metadata": {},
     "output_type": "execute_result"
    }
   ],
   "source": [
    "classifier.fit(X_train, y_train)"
   ]
  },
  {
   "cell_type": "code",
   "execution_count": 62,
   "metadata": {
    "ExecuteTime": {
     "end_time": "2020-10-20T19:36:51.708742Z",
     "start_time": "2020-10-20T19:36:51.690574Z"
    }
   },
   "outputs": [],
   "source": [
    "predicted = classifier.predict(X_test)"
   ]
  },
  {
   "cell_type": "code",
   "execution_count": 63,
   "metadata": {
    "ExecuteTime": {
     "end_time": "2020-10-20T19:36:53.527403Z",
     "start_time": "2020-10-20T19:36:51.710087Z"
    }
   },
   "outputs": [
    {
     "name": "stderr",
     "output_type": "stream",
     "text": [
      "/media/tris/tris_files/anaconda3/envs/fastai/lib/python3.7/site-packages/sklearn/metrics/_classification.py:1221: UndefinedMetricWarning: Precision and F-score are ill-defined and being set to 0.0 in labels with no predicted samples. Use `zero_division` parameter to control this behavior.\n",
      "  _warn_prf(average, modifier, msg_start, len(result))\n"
     ]
    },
    {
     "name": "stdout",
     "output_type": "stream",
     "text": [
      "Classification report for classifier RandomForestClassifier(n_estimators=3):\n",
      "              precision    recall  f1-score   support\n",
      "\n",
      "           1       0.56      0.71      0.63         7\n",
      "           2       0.21      0.75      0.33         4\n",
      "           3       0.25      0.73      0.37        11\n",
      "           4       0.45      0.71      0.56         7\n",
      "           5       0.58      0.70      0.64        10\n",
      "           6       0.21      0.75      0.33         4\n",
      "           7       0.44      1.00      0.62         8\n",
      "           8       0.67      0.80      0.73        10\n",
      "           9       0.25      0.50      0.33         6\n",
      "          10       1.00      0.33      0.50         9\n",
      "          11       0.38      0.60      0.46         5\n",
      "          12       0.42      0.45      0.43        11\n",
      "          13       0.56      0.50      0.53        10\n",
      "          14       0.40      0.25      0.31         8\n",
      "          15       0.25      0.50      0.33         4\n",
      "          16       0.33      0.17      0.22         6\n",
      "          17       0.71      0.71      0.71         7\n",
      "          18       0.00      0.00      0.00         6\n",
      "          19       1.00      0.50      0.67        12\n",
      "          20       0.67      0.18      0.29        11\n",
      "          21       0.86      0.55      0.67        11\n",
      "          22       0.80      0.80      0.80         5\n",
      "          23       0.80      0.40      0.53        10\n",
      "          24       0.86      0.60      0.71        10\n",
      "          25       1.00      0.43      0.60         7\n",
      "          26       0.71      0.83      0.77         6\n",
      "          27       0.00      0.00      0.00         9\n",
      "          28       0.71      0.56      0.63         9\n",
      "          29       0.50      0.38      0.43         8\n",
      "          30       0.50      0.11      0.18         9\n",
      "          31       1.00      0.30      0.46        10\n",
      "          32       1.00      0.67      0.80         6\n",
      "\n",
      "    accuracy                           0.50       256\n",
      "   macro avg       0.57      0.51      0.49       256\n",
      "weighted avg       0.60      0.50      0.49       256\n",
      "\n",
      "\n",
      "Confusion matrix:\n",
      "[[5 0 0 0 ... 0 0 0 0]\n",
      " [0 3 0 0 ... 0 0 0 0]\n",
      " [0 0 8 1 ... 0 0 0 0]\n",
      " [0 0 0 5 ... 0 0 0 0]\n",
      " ...\n",
      " [0 1 0 0 ... 3 1 0 0]\n",
      " [0 1 1 1 ... 1 1 0 0]\n",
      " [0 0 2 0 ... 0 0 3 0]\n",
      " [0 0 1 0 ... 0 0 0 4]]\n"
     ]
    },
    {
     "data": {
      "image/png": "[encoded data removed]",
      "text/plain": [
       "<Figure size 432x288 with 2 Axes>"
      ]
     },
     "metadata": {
      "needs_background": "light"
     },
     "output_type": "display_data"
    }
   ],
   "source": [
    "print(\"Classification report for classifier %s:\\n%s\\n\"\n",
    "      % (classifier, metrics.classification_report(y_test, predicted)))\n",
    "disp = metrics.plot_confusion_matrix(classifier, X_test, y_test)\n",
    "disp.figure_.suptitle(\"Confusion Matrix\")\n",
    "print(\"Confusion matrix:\\n%s\" % disp.confusion_matrix)"
   ]
  },
  {
   "cell_type": "code",
   "execution_count": 68,
   "metadata": {
    "ExecuteTime": {
     "end_time": "2020-10-15T23:17:50.284486Z",
     "start_time": "2020-10-15T23:17:50.268523Z"
    }
   },
   "outputs": [],
   "source": [
    "X_train, X_test, y_train, y_test = train_test_split(\n",
    "    df1_raw, emotion_quad1, test_size=0.2, shuffle=True)"
   ]
  },
  {
   "cell_type": "code",
   "execution_count": 69,
   "metadata": {
    "ExecuteTime": {
     "end_time": "2020-10-15T23:17:50.773180Z",
     "start_time": "2020-10-15T23:17:50.759489Z"
    }
   },
   "outputs": [],
   "source": [
    "classifier = RandomForestClassifier(n_estimators=3)"
   ]
  },
  {
   "cell_type": "code",
   "execution_count": 70,
   "metadata": {
    "ExecuteTime": {
     "end_time": "2020-10-15T23:17:51.276784Z",
     "start_time": "2020-10-15T23:17:51.255323Z"
    }
   },
   "outputs": [
    {
     "data": {
      "text/plain": [
       "RandomForestClassifier(n_estimators=3)"
      ]
     },
     "execution_count": 70,
     "metadata": {},
     "output_type": "execute_result"
    }
   ],
   "source": [
    "classifier.fit(X_train, y_train)"
   ]
  },
  {
   "cell_type": "code",
   "execution_count": 71,
   "metadata": {
    "ExecuteTime": {
     "end_time": "2020-10-15T23:17:51.691267Z",
     "start_time": "2020-10-15T23:17:51.673717Z"
    }
   },
   "outputs": [],
   "source": [
    "predicted = classifier.predict(X_test)"
   ]
  },
  {
   "cell_type": "code",
   "execution_count": 72,
   "metadata": {
    "ExecuteTime": {
     "end_time": "2020-10-15T23:17:52.181849Z",
     "start_time": "2020-10-15T23:17:52.033484Z"
    }
   },
   "outputs": [
    {
     "name": "stdout",
     "output_type": "stream",
     "text": [
      "Classification report for classifier RandomForestClassifier(n_estimators=3):\n",
      "              precision    recall  f1-score   support\n",
      "\n",
      "         0.0       0.40      0.67      0.50         3\n",
      "         1.0       0.00      0.00      0.00         2\n",
      "         2.0       0.00      0.00      0.00         1\n",
      "         3.0       0.00      0.00      0.00         2\n",
      "\n",
      "    accuracy                           0.25         8\n",
      "   macro avg       0.10      0.17      0.12         8\n",
      "weighted avg       0.15      0.25      0.19         8\n",
      "\n",
      "\n",
      "Confusion matrix:\n",
      "[[2 0 1 0]\n",
      " [1 0 1 0]\n",
      " [0 0 0 1]\n",
      " [2 0 0 0]]\n"
     ]
    },
    {
     "name": "stderr",
     "output_type": "stream",
     "text": [
      "/media/tris/tris_files/anaconda3/envs/fastai/lib/python3.7/site-packages/sklearn/metrics/_classification.py:1221: UndefinedMetricWarning: Precision and F-score are ill-defined and being set to 0.0 in labels with no predicted samples. Use `zero_division` parameter to control this behavior.\n",
      "  _warn_prf(average, modifier, msg_start, len(result))\n"
     ]
    },
    {
     "data": {
      "image/png": "[encoded data removed]",
      "text/plain": [
       "<Figure size 432x288 with 2 Axes>"
      ]
     },
     "metadata": {
      "needs_background": "light"
     },
     "output_type": "display_data"
    }
   ],
   "source": [
    "print(\"Classification report for classifier %s:\\n%s\\n\"\n",
    "      % (classifier, metrics.classification_report(y_test, predicted)))\n",
    "disp = metrics.plot_confusion_matrix(classifier, X_test, y_test)\n",
    "disp.figure_.suptitle(\"Confusion Matrix\")\n",
    "print(\"Confusion matrix:\\n%s\" % disp.confusion_matrix)"
   ]
  },
  {
   "cell_type": "code",
   "execution_count": null,
   "metadata": {},
   "outputs": [],
   "source": []
  },
  {
   "cell_type": "code",
   "execution_count": null,
   "metadata": {},
   "outputs": [],
   "source": []
  },
  {
   "cell_type": "code",
   "execution_count": null,
   "metadata": {},
   "outputs": [],
   "source": []
  }
 ],
 "metadata": {
  "kernelspec": {
   "display_name": "Python 3",
   "language": "python",
   "name": "python3"
  },
  "language_info": {
   "codemirror_mode": {
    "name": "ipython",
    "version": 3
   },
   "file_extension": ".py",
   "mimetype": "text/x-python",
   "name": "python",
   "nbconvert_exporter": "python",
   "pygments_lexer": "ipython3",
   "version": "3.7.6"
  }
 },
 "nbformat": 4,
 "nbformat_minor": 2
}
