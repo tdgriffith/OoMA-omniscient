{
 "cells": [
  {
   "cell_type": "markdown",
   "metadata": {},
   "source": [
    "# Random Forrests for Exploration of DEAP Dataset\n",
    "Fingerprinting with DMD modes has worked really well. Can we learn from RF's too? Which features are important?"
   ]
  },
  {
   "cell_type": "code",
   "execution_count": 1,
   "metadata": {},
   "outputs": [],
   "source": [
    "%load_ext autoreload\n",
    "%autoreload 2\n",
    "\n",
    "%matplotlib inline"
   ]
  },
  {
   "cell_type": "code",
   "execution_count": 2,
   "metadata": {},
   "outputs": [
    {
     "name": "stderr",
     "output_type": "stream",
     "text": [
      "/home/tris/anaconda3/envs/fastai_old/lib/python3.6/site-packages/sklearn/utils/deprecation.py:143: FutureWarning: The sklearn.ensemble.forest module is  deprecated in version 0.22 and will be removed in version 0.24. The corresponding classes / functions should instead be imported from sklearn.ensemble. Anything that cannot be imported from sklearn.ensemble is now part of the private API.\n",
      "  warnings.warn(message, FutureWarning)\n"
     ]
    }
   ],
   "source": [
    "from fastai.imports import *\n",
    "from fastai.structured import *\n",
    "\n",
    "from pandas_summary import DataFrameSummary\n",
    "from sklearn.ensemble import RandomForestRegressor, RandomForestClassifier\n",
    "from IPython.display import display\n",
    "\n",
    "from sklearn import metrics"
   ]
  },
  {
   "cell_type": "code",
   "execution_count": 3,
   "metadata": {},
   "outputs": [],
   "source": [
    "PATH = \"/home/tris/Documents/EEG_data/DMD_DEAP\""
   ]
  },
  {
   "cell_type": "code",
   "execution_count": 16,
   "metadata": {},
   "outputs": [],
   "source": [
    "col_names=['subject','trial','mode_no','real1','real2','real3','real4','real5','real6','real7','real8','real9','real10','real11','real12','real13','real14','real15','real16','real17','real18','real19','real20','real21','real22','real23','real24','real25','real26','real27','real28','real29','real30','real31','real32','imag1','imag2','imag3','imag4','imag5','imag6','imag7','imag8','imag9','imag10','imag11','imag12','imag13','imag14','imag15','imag16','imag17','imag18','imag19','imag20','imag21','imag22','imag23','imag24','imag25','imag26','imag27','imag28','imag29','imag30','imag31','imag32','fn','zeta'];"
   ]
  },
  {
   "cell_type": "code",
   "execution_count": 17,
   "metadata": {},
   "outputs": [
    {
     "data": {
      "text/plain": [
       "69"
      ]
     },
     "execution_count": 17,
     "metadata": {},
     "output_type": "execute_result"
    }
   ],
   "source": [
    "len(col_names)"
   ]
  },
  {
   "cell_type": "code",
   "execution_count": 19,
   "metadata": {},
   "outputs": [
    {
     "data": {
      "text/html": [
       "<div>\n",
       "<style scoped>\n",
       "    .dataframe tbody tr th:only-of-type {\n",
       "        vertical-align: middle;\n",
       "    }\n",
       "\n",
       "    .dataframe tbody tr th {\n",
       "        vertical-align: top;\n",
       "    }\n",
       "\n",
       "    .dataframe thead th {\n",
       "        text-align: right;\n",
       "    }\n",
       "</style>\n",
       "<table border=\"1\" class=\"dataframe\">\n",
       "  <thead>\n",
       "    <tr style=\"text-align: right;\">\n",
       "      <th></th>\n",
       "      <th>subject</th>\n",
       "      <th>trial</th>\n",
       "      <th>mode_no</th>\n",
       "      <th>real1</th>\n",
       "      <th>real2</th>\n",
       "      <th>real3</th>\n",
       "      <th>real4</th>\n",
       "      <th>real5</th>\n",
       "      <th>real6</th>\n",
       "      <th>real7</th>\n",
       "      <th>...</th>\n",
       "      <th>imag25</th>\n",
       "      <th>imag26</th>\n",
       "      <th>imag27</th>\n",
       "      <th>imag28</th>\n",
       "      <th>imag29</th>\n",
       "      <th>imag30</th>\n",
       "      <th>imag31</th>\n",
       "      <th>imag32</th>\n",
       "      <th>fn</th>\n",
       "      <th>zeta</th>\n",
       "    </tr>\n",
       "  </thead>\n",
       "  <tbody>\n",
       "    <tr>\n",
       "      <th>0</th>\n",
       "      <td>1</td>\n",
       "      <td>1</td>\n",
       "      <td>1</td>\n",
       "      <td>-0.233814</td>\n",
       "      <td>0.653657</td>\n",
       "      <td>1.119798</td>\n",
       "      <td>1.118466</td>\n",
       "      <td>-1.255351</td>\n",
       "      <td>-1.236550</td>\n",
       "      <td>1.164892</td>\n",
       "      <td>...</td>\n",
       "      <td>0.358402</td>\n",
       "      <td>0.231342</td>\n",
       "      <td>-0.282112</td>\n",
       "      <td>-0.102463</td>\n",
       "      <td>1.269087</td>\n",
       "      <td>-0.602535</td>\n",
       "      <td>0.980090</td>\n",
       "      <td>0.583008</td>\n",
       "      <td>39.773965</td>\n",
       "      <td>0.037864</td>\n",
       "    </tr>\n",
       "    <tr>\n",
       "      <th>1</th>\n",
       "      <td>1</td>\n",
       "      <td>1</td>\n",
       "      <td>2</td>\n",
       "      <td>-0.969863</td>\n",
       "      <td>-0.720410</td>\n",
       "      <td>-0.466967</td>\n",
       "      <td>-0.403137</td>\n",
       "      <td>-0.033661</td>\n",
       "      <td>-0.303601</td>\n",
       "      <td>0.516251</td>\n",
       "      <td>...</td>\n",
       "      <td>0.292212</td>\n",
       "      <td>0.683578</td>\n",
       "      <td>0.712324</td>\n",
       "      <td>0.220430</td>\n",
       "      <td>-0.325849</td>\n",
       "      <td>1.042614</td>\n",
       "      <td>-0.439303</td>\n",
       "      <td>-0.508781</td>\n",
       "      <td>39.247203</td>\n",
       "      <td>0.039895</td>\n",
       "    </tr>\n",
       "    <tr>\n",
       "      <th>2</th>\n",
       "      <td>1</td>\n",
       "      <td>1</td>\n",
       "      <td>3</td>\n",
       "      <td>1.700171</td>\n",
       "      <td>1.721272</td>\n",
       "      <td>1.682740</td>\n",
       "      <td>1.707089</td>\n",
       "      <td>1.173998</td>\n",
       "      <td>0.844426</td>\n",
       "      <td>0.774884</td>\n",
       "      <td>...</td>\n",
       "      <td>0.733444</td>\n",
       "      <td>1.213559</td>\n",
       "      <td>1.093763</td>\n",
       "      <td>0.406481</td>\n",
       "      <td>1.063819</td>\n",
       "      <td>1.420983</td>\n",
       "      <td>0.799485</td>\n",
       "      <td>0.448324</td>\n",
       "      <td>37.805621</td>\n",
       "      <td>0.051107</td>\n",
       "    </tr>\n",
       "    <tr>\n",
       "      <th>3</th>\n",
       "      <td>1</td>\n",
       "      <td>1</td>\n",
       "      <td>4</td>\n",
       "      <td>0.720502</td>\n",
       "      <td>1.007657</td>\n",
       "      <td>1.283749</td>\n",
       "      <td>0.814081</td>\n",
       "      <td>-0.209438</td>\n",
       "      <td>0.377033</td>\n",
       "      <td>0.619588</td>\n",
       "      <td>...</td>\n",
       "      <td>0.091587</td>\n",
       "      <td>-0.222744</td>\n",
       "      <td>0.090740</td>\n",
       "      <td>0.001649</td>\n",
       "      <td>0.065053</td>\n",
       "      <td>0.141014</td>\n",
       "      <td>-0.120066</td>\n",
       "      <td>-0.383417</td>\n",
       "      <td>36.233767</td>\n",
       "      <td>0.056515</td>\n",
       "    </tr>\n",
       "    <tr>\n",
       "      <th>4</th>\n",
       "      <td>1</td>\n",
       "      <td>1</td>\n",
       "      <td>5</td>\n",
       "      <td>0.177535</td>\n",
       "      <td>0.185284</td>\n",
       "      <td>0.119175</td>\n",
       "      <td>-0.289875</td>\n",
       "      <td>-0.300527</td>\n",
       "      <td>0.045760</td>\n",
       "      <td>-0.443727</td>\n",
       "      <td>...</td>\n",
       "      <td>0.132251</td>\n",
       "      <td>1.767138</td>\n",
       "      <td>0.348059</td>\n",
       "      <td>-0.511474</td>\n",
       "      <td>-0.909534</td>\n",
       "      <td>0.003420</td>\n",
       "      <td>-1.370316</td>\n",
       "      <td>-1.478614</td>\n",
       "      <td>33.840774</td>\n",
       "      <td>0.078882</td>\n",
       "    </tr>\n",
       "    <tr>\n",
       "      <th>...</th>\n",
       "      <td>...</td>\n",
       "      <td>...</td>\n",
       "      <td>...</td>\n",
       "      <td>...</td>\n",
       "      <td>...</td>\n",
       "      <td>...</td>\n",
       "      <td>...</td>\n",
       "      <td>...</td>\n",
       "      <td>...</td>\n",
       "      <td>...</td>\n",
       "      <td>...</td>\n",
       "      <td>...</td>\n",
       "      <td>...</td>\n",
       "      <td>...</td>\n",
       "      <td>...</td>\n",
       "      <td>...</td>\n",
       "      <td>...</td>\n",
       "      <td>...</td>\n",
       "      <td>...</td>\n",
       "      <td>...</td>\n",
       "      <td>...</td>\n",
       "    </tr>\n",
       "    <tr>\n",
       "      <th>63995</th>\n",
       "      <td>32</td>\n",
       "      <td>40</td>\n",
       "      <td>46</td>\n",
       "      <td>1.332834</td>\n",
       "      <td>0.458221</td>\n",
       "      <td>1.152535</td>\n",
       "      <td>-1.927631</td>\n",
       "      <td>-0.077903</td>\n",
       "      <td>1.881693</td>\n",
       "      <td>0.931110</td>\n",
       "      <td>...</td>\n",
       "      <td>-0.728442</td>\n",
       "      <td>0.466957</td>\n",
       "      <td>-4.243140</td>\n",
       "      <td>-1.094212</td>\n",
       "      <td>-0.893601</td>\n",
       "      <td>-2.149343</td>\n",
       "      <td>-2.515235</td>\n",
       "      <td>-1.037549</td>\n",
       "      <td>8.010576</td>\n",
       "      <td>0.147832</td>\n",
       "    </tr>\n",
       "    <tr>\n",
       "      <th>63996</th>\n",
       "      <td>32</td>\n",
       "      <td>40</td>\n",
       "      <td>47</td>\n",
       "      <td>-2.554262</td>\n",
       "      <td>-2.770043</td>\n",
       "      <td>-0.071107</td>\n",
       "      <td>-1.917483</td>\n",
       "      <td>1.219112</td>\n",
       "      <td>0.777120</td>\n",
       "      <td>1.624867</td>\n",
       "      <td>...</td>\n",
       "      <td>2.058085</td>\n",
       "      <td>-1.567285</td>\n",
       "      <td>2.461179</td>\n",
       "      <td>1.790917</td>\n",
       "      <td>1.097920</td>\n",
       "      <td>-1.484108</td>\n",
       "      <td>2.898821</td>\n",
       "      <td>-0.070275</td>\n",
       "      <td>7.610978</td>\n",
       "      <td>0.154817</td>\n",
       "    </tr>\n",
       "    <tr>\n",
       "      <th>63997</th>\n",
       "      <td>32</td>\n",
       "      <td>40</td>\n",
       "      <td>48</td>\n",
       "      <td>1.769437</td>\n",
       "      <td>7.856667</td>\n",
       "      <td>3.457387</td>\n",
       "      <td>12.130922</td>\n",
       "      <td>0.863311</td>\n",
       "      <td>-0.122387</td>\n",
       "      <td>-2.668721</td>\n",
       "      <td>...</td>\n",
       "      <td>-1.628713</td>\n",
       "      <td>0.317715</td>\n",
       "      <td>-0.247429</td>\n",
       "      <td>-0.554011</td>\n",
       "      <td>-1.184486</td>\n",
       "      <td>-0.994303</td>\n",
       "      <td>-0.054431</td>\n",
       "      <td>-0.227949</td>\n",
       "      <td>7.332086</td>\n",
       "      <td>0.166979</td>\n",
       "    </tr>\n",
       "    <tr>\n",
       "      <th>63998</th>\n",
       "      <td>32</td>\n",
       "      <td>40</td>\n",
       "      <td>49</td>\n",
       "      <td>2.033926</td>\n",
       "      <td>5.380182</td>\n",
       "      <td>3.489802</td>\n",
       "      <td>7.566818</td>\n",
       "      <td>2.008225</td>\n",
       "      <td>1.209121</td>\n",
       "      <td>-0.942851</td>\n",
       "      <td>...</td>\n",
       "      <td>-0.984694</td>\n",
       "      <td>0.066438</td>\n",
       "      <td>-1.360488</td>\n",
       "      <td>-0.618895</td>\n",
       "      <td>-1.474774</td>\n",
       "      <td>-1.446316</td>\n",
       "      <td>-0.970886</td>\n",
       "      <td>-1.971653</td>\n",
       "      <td>8.987644</td>\n",
       "      <td>0.184399</td>\n",
       "    </tr>\n",
       "    <tr>\n",
       "      <th>63999</th>\n",
       "      <td>32</td>\n",
       "      <td>40</td>\n",
       "      <td>50</td>\n",
       "      <td>-1.591909</td>\n",
       "      <td>0.405371</td>\n",
       "      <td>0.449983</td>\n",
       "      <td>1.200268</td>\n",
       "      <td>0.539903</td>\n",
       "      <td>0.062324</td>\n",
       "      <td>0.451743</td>\n",
       "      <td>...</td>\n",
       "      <td>-0.462696</td>\n",
       "      <td>1.494657</td>\n",
       "      <td>-2.124916</td>\n",
       "      <td>-1.822549</td>\n",
       "      <td>-1.725268</td>\n",
       "      <td>0.463610</td>\n",
       "      <td>-4.220235</td>\n",
       "      <td>-1.313692</td>\n",
       "      <td>8.548448</td>\n",
       "      <td>0.183478</td>\n",
       "    </tr>\n",
       "  </tbody>\n",
       "</table>\n",
       "<p>64000 rows × 69 columns</p>\n",
       "</div>"
      ],
      "text/plain": [
       "       subject  trial  mode_no     real1     real2     real3      real4  \\\n",
       "0            1      1        1 -0.233814  0.653657  1.119798   1.118466   \n",
       "1            1      1        2 -0.969863 -0.720410 -0.466967  -0.403137   \n",
       "2            1      1        3  1.700171  1.721272  1.682740   1.707089   \n",
       "3            1      1        4  0.720502  1.007657  1.283749   0.814081   \n",
       "4            1      1        5  0.177535  0.185284  0.119175  -0.289875   \n",
       "...        ...    ...      ...       ...       ...       ...        ...   \n",
       "63995       32     40       46  1.332834  0.458221  1.152535  -1.927631   \n",
       "63996       32     40       47 -2.554262 -2.770043 -0.071107  -1.917483   \n",
       "63997       32     40       48  1.769437  7.856667  3.457387  12.130922   \n",
       "63998       32     40       49  2.033926  5.380182  3.489802   7.566818   \n",
       "63999       32     40       50 -1.591909  0.405371  0.449983   1.200268   \n",
       "\n",
       "          real5     real6     real7  ...    imag25    imag26    imag27  \\\n",
       "0     -1.255351 -1.236550  1.164892  ...  0.358402  0.231342 -0.282112   \n",
       "1     -0.033661 -0.303601  0.516251  ...  0.292212  0.683578  0.712324   \n",
       "2      1.173998  0.844426  0.774884  ...  0.733444  1.213559  1.093763   \n",
       "3     -0.209438  0.377033  0.619588  ...  0.091587 -0.222744  0.090740   \n",
       "4     -0.300527  0.045760 -0.443727  ...  0.132251  1.767138  0.348059   \n",
       "...         ...       ...       ...  ...       ...       ...       ...   \n",
       "63995 -0.077903  1.881693  0.931110  ... -0.728442  0.466957 -4.243140   \n",
       "63996  1.219112  0.777120  1.624867  ...  2.058085 -1.567285  2.461179   \n",
       "63997  0.863311 -0.122387 -2.668721  ... -1.628713  0.317715 -0.247429   \n",
       "63998  2.008225  1.209121 -0.942851  ... -0.984694  0.066438 -1.360488   \n",
       "63999  0.539903  0.062324  0.451743  ... -0.462696  1.494657 -2.124916   \n",
       "\n",
       "         imag28    imag29    imag30    imag31    imag32         fn      zeta  \n",
       "0     -0.102463  1.269087 -0.602535  0.980090  0.583008  39.773965  0.037864  \n",
       "1      0.220430 -0.325849  1.042614 -0.439303 -0.508781  39.247203  0.039895  \n",
       "2      0.406481  1.063819  1.420983  0.799485  0.448324  37.805621  0.051107  \n",
       "3      0.001649  0.065053  0.141014 -0.120066 -0.383417  36.233767  0.056515  \n",
       "4     -0.511474 -0.909534  0.003420 -1.370316 -1.478614  33.840774  0.078882  \n",
       "...         ...       ...       ...       ...       ...        ...       ...  \n",
       "63995 -1.094212 -0.893601 -2.149343 -2.515235 -1.037549   8.010576  0.147832  \n",
       "63996  1.790917  1.097920 -1.484108  2.898821 -0.070275   7.610978  0.154817  \n",
       "63997 -0.554011 -1.184486 -0.994303 -0.054431 -0.227949   7.332086  0.166979  \n",
       "63998 -0.618895 -1.474774 -1.446316 -0.970886 -1.971653   8.987644  0.184399  \n",
       "63999 -1.822549 -1.725268  0.463610 -4.220235 -1.313692   8.548448  0.183478  \n",
       "\n",
       "[64000 rows x 69 columns]"
      ]
     },
     "execution_count": 19,
     "metadata": {},
     "output_type": "execute_result"
    }
   ],
   "source": [
    "df_raw = pd.read_csv('/home/tris/Documents/EEG_data/DMD_DEAP/dmd_deap_100modes_vecs.csv',header=None, names=col_names)\n",
    "df_raw"
   ]
  },
  {
   "cell_type": "code",
   "execution_count": 20,
   "metadata": {},
   "outputs": [
    {
     "data": {
      "text/html": [
       "<div>\n",
       "<style scoped>\n",
       "    .dataframe tbody tr th:only-of-type {\n",
       "        vertical-align: middle;\n",
       "    }\n",
       "\n",
       "    .dataframe tbody tr th {\n",
       "        vertical-align: top;\n",
       "    }\n",
       "\n",
       "    .dataframe thead th {\n",
       "        text-align: right;\n",
       "    }\n",
       "</style>\n",
       "<table border=\"1\" class=\"dataframe\">\n",
       "  <thead>\n",
       "    <tr style=\"text-align: right;\">\n",
       "      <th></th>\n",
       "      <th>subject</th>\n",
       "      <th>trial</th>\n",
       "      <th>mode_no</th>\n",
       "      <th>real1</th>\n",
       "      <th>real2</th>\n",
       "      <th>real3</th>\n",
       "      <th>real4</th>\n",
       "      <th>real5</th>\n",
       "      <th>real6</th>\n",
       "      <th>real7</th>\n",
       "      <th>...</th>\n",
       "      <th>imag25</th>\n",
       "      <th>imag26</th>\n",
       "      <th>imag27</th>\n",
       "      <th>imag28</th>\n",
       "      <th>imag29</th>\n",
       "      <th>imag30</th>\n",
       "      <th>imag31</th>\n",
       "      <th>imag32</th>\n",
       "      <th>fn</th>\n",
       "      <th>zeta</th>\n",
       "    </tr>\n",
       "  </thead>\n",
       "  <tbody>\n",
       "    <tr>\n",
       "      <th>40</th>\n",
       "      <td>1</td>\n",
       "      <td>1</td>\n",
       "      <td>41</td>\n",
       "      <td>-0.528828</td>\n",
       "      <td>-1.250851</td>\n",
       "      <td>-2.298565</td>\n",
       "      <td>-0.089783</td>\n",
       "      <td>-1.076812</td>\n",
       "      <td>-1.97694</td>\n",
       "      <td>-0.157367</td>\n",
       "      <td>...</td>\n",
       "      <td>1.22405</td>\n",
       "      <td>-1.133452</td>\n",
       "      <td>0.368515</td>\n",
       "      <td>1.116685</td>\n",
       "      <td>1.359537</td>\n",
       "      <td>-0.162272</td>\n",
       "      <td>1.608768</td>\n",
       "      <td>1.324755</td>\n",
       "      <td>10.243236</td>\n",
       "      <td>0.166065</td>\n",
       "    </tr>\n",
       "  </tbody>\n",
       "</table>\n",
       "<p>1 rows × 69 columns</p>\n",
       "</div>"
      ],
      "text/plain": [
       "    subject  trial  mode_no     real1     real2     real3     real4     real5  \\\n",
       "40        1      1       41 -0.528828 -1.250851 -2.298565 -0.089783 -1.076812   \n",
       "\n",
       "      real6     real7  ...   imag25    imag26    imag27    imag28    imag29  \\\n",
       "40 -1.97694 -0.157367  ...  1.22405 -1.133452  0.368515  1.116685  1.359537   \n",
       "\n",
       "      imag30    imag31    imag32         fn      zeta  \n",
       "40 -0.162272  1.608768  1.324755  10.243236  0.166065  \n",
       "\n",
       "[1 rows x 69 columns]"
      ]
     },
     "execution_count": 20,
     "metadata": {},
     "output_type": "execute_result"
    }
   ],
   "source": [
    "df_raw.iloc[[40],:]"
   ]
  },
  {
   "cell_type": "code",
   "execution_count": 21,
   "metadata": {},
   "outputs": [],
   "source": [
    "os.makedirs('tmp', exist_ok=True)\n",
    "df_raw.to_feather('tmp/eeg-raw')"
   ]
  },
  {
   "cell_type": "code",
   "execution_count": 23,
   "metadata": {},
   "outputs": [
    {
     "data": {
      "text/html": [
       "<div>\n",
       "<style scoped>\n",
       "    .dataframe tbody tr th:only-of-type {\n",
       "        vertical-align: middle;\n",
       "    }\n",
       "\n",
       "    .dataframe tbody tr th {\n",
       "        vertical-align: top;\n",
       "    }\n",
       "\n",
       "    .dataframe thead th {\n",
       "        text-align: right;\n",
       "    }\n",
       "</style>\n",
       "<table border=\"1\" class=\"dataframe\">\n",
       "  <thead>\n",
       "    <tr style=\"text-align: right;\">\n",
       "      <th></th>\n",
       "      <th>subject</th>\n",
       "      <th>trial</th>\n",
       "      <th>mode_no</th>\n",
       "      <th>real1</th>\n",
       "      <th>real2</th>\n",
       "      <th>real3</th>\n",
       "      <th>real4</th>\n",
       "      <th>real5</th>\n",
       "      <th>real6</th>\n",
       "      <th>real7</th>\n",
       "      <th>...</th>\n",
       "      <th>imag25</th>\n",
       "      <th>imag26</th>\n",
       "      <th>imag27</th>\n",
       "      <th>imag28</th>\n",
       "      <th>imag29</th>\n",
       "      <th>imag30</th>\n",
       "      <th>imag31</th>\n",
       "      <th>imag32</th>\n",
       "      <th>fn</th>\n",
       "      <th>zeta</th>\n",
       "    </tr>\n",
       "  </thead>\n",
       "  <tbody>\n",
       "    <tr>\n",
       "      <th>0</th>\n",
       "      <td>1</td>\n",
       "      <td>1</td>\n",
       "      <td>1</td>\n",
       "      <td>-0.233814</td>\n",
       "      <td>0.653657</td>\n",
       "      <td>1.119798</td>\n",
       "      <td>1.118466</td>\n",
       "      <td>-1.255351</td>\n",
       "      <td>-1.236550</td>\n",
       "      <td>1.164892</td>\n",
       "      <td>...</td>\n",
       "      <td>0.358402</td>\n",
       "      <td>0.231342</td>\n",
       "      <td>-0.282112</td>\n",
       "      <td>-0.102463</td>\n",
       "      <td>1.269087</td>\n",
       "      <td>-0.602535</td>\n",
       "      <td>0.980090</td>\n",
       "      <td>0.583008</td>\n",
       "      <td>39.773965</td>\n",
       "      <td>0.037864</td>\n",
       "    </tr>\n",
       "    <tr>\n",
       "      <th>1</th>\n",
       "      <td>1</td>\n",
       "      <td>1</td>\n",
       "      <td>2</td>\n",
       "      <td>-0.969863</td>\n",
       "      <td>-0.720410</td>\n",
       "      <td>-0.466967</td>\n",
       "      <td>-0.403137</td>\n",
       "      <td>-0.033661</td>\n",
       "      <td>-0.303601</td>\n",
       "      <td>0.516251</td>\n",
       "      <td>...</td>\n",
       "      <td>0.292212</td>\n",
       "      <td>0.683578</td>\n",
       "      <td>0.712324</td>\n",
       "      <td>0.220430</td>\n",
       "      <td>-0.325849</td>\n",
       "      <td>1.042614</td>\n",
       "      <td>-0.439303</td>\n",
       "      <td>-0.508781</td>\n",
       "      <td>39.247203</td>\n",
       "      <td>0.039895</td>\n",
       "    </tr>\n",
       "    <tr>\n",
       "      <th>2</th>\n",
       "      <td>1</td>\n",
       "      <td>1</td>\n",
       "      <td>3</td>\n",
       "      <td>1.700171</td>\n",
       "      <td>1.721272</td>\n",
       "      <td>1.682740</td>\n",
       "      <td>1.707089</td>\n",
       "      <td>1.173998</td>\n",
       "      <td>0.844426</td>\n",
       "      <td>0.774884</td>\n",
       "      <td>...</td>\n",
       "      <td>0.733444</td>\n",
       "      <td>1.213559</td>\n",
       "      <td>1.093763</td>\n",
       "      <td>0.406481</td>\n",
       "      <td>1.063819</td>\n",
       "      <td>1.420983</td>\n",
       "      <td>0.799485</td>\n",
       "      <td>0.448324</td>\n",
       "      <td>37.805621</td>\n",
       "      <td>0.051107</td>\n",
       "    </tr>\n",
       "    <tr>\n",
       "      <th>3</th>\n",
       "      <td>1</td>\n",
       "      <td>1</td>\n",
       "      <td>4</td>\n",
       "      <td>0.720502</td>\n",
       "      <td>1.007657</td>\n",
       "      <td>1.283749</td>\n",
       "      <td>0.814081</td>\n",
       "      <td>-0.209438</td>\n",
       "      <td>0.377033</td>\n",
       "      <td>0.619588</td>\n",
       "      <td>...</td>\n",
       "      <td>0.091587</td>\n",
       "      <td>-0.222744</td>\n",
       "      <td>0.090740</td>\n",
       "      <td>0.001649</td>\n",
       "      <td>0.065053</td>\n",
       "      <td>0.141014</td>\n",
       "      <td>-0.120066</td>\n",
       "      <td>-0.383417</td>\n",
       "      <td>36.233767</td>\n",
       "      <td>0.056515</td>\n",
       "    </tr>\n",
       "    <tr>\n",
       "      <th>4</th>\n",
       "      <td>1</td>\n",
       "      <td>1</td>\n",
       "      <td>5</td>\n",
       "      <td>0.177535</td>\n",
       "      <td>0.185284</td>\n",
       "      <td>0.119175</td>\n",
       "      <td>-0.289875</td>\n",
       "      <td>-0.300527</td>\n",
       "      <td>0.045760</td>\n",
       "      <td>-0.443727</td>\n",
       "      <td>...</td>\n",
       "      <td>0.132251</td>\n",
       "      <td>1.767138</td>\n",
       "      <td>0.348059</td>\n",
       "      <td>-0.511474</td>\n",
       "      <td>-0.909534</td>\n",
       "      <td>0.003420</td>\n",
       "      <td>-1.370316</td>\n",
       "      <td>-1.478614</td>\n",
       "      <td>33.840774</td>\n",
       "      <td>0.078882</td>\n",
       "    </tr>\n",
       "  </tbody>\n",
       "</table>\n",
       "<p>5 rows × 69 columns</p>\n",
       "</div>"
      ],
      "text/plain": [
       "   subject  trial  mode_no     real1     real2     real3     real4     real5  \\\n",
       "0        1      1        1 -0.233814  0.653657  1.119798  1.118466 -1.255351   \n",
       "1        1      1        2 -0.969863 -0.720410 -0.466967 -0.403137 -0.033661   \n",
       "2        1      1        3  1.700171  1.721272  1.682740  1.707089  1.173998   \n",
       "3        1      1        4  0.720502  1.007657  1.283749  0.814081 -0.209438   \n",
       "4        1      1        5  0.177535  0.185284  0.119175 -0.289875 -0.300527   \n",
       "\n",
       "      real6     real7  ...    imag25    imag26    imag27    imag28    imag29  \\\n",
       "0 -1.236550  1.164892  ...  0.358402  0.231342 -0.282112 -0.102463  1.269087   \n",
       "1 -0.303601  0.516251  ...  0.292212  0.683578  0.712324  0.220430 -0.325849   \n",
       "2  0.844426  0.774884  ...  0.733444  1.213559  1.093763  0.406481  1.063819   \n",
       "3  0.377033  0.619588  ...  0.091587 -0.222744  0.090740  0.001649  0.065053   \n",
       "4  0.045760 -0.443727  ...  0.132251  1.767138  0.348059 -0.511474 -0.909534   \n",
       "\n",
       "     imag30    imag31    imag32         fn      zeta  \n",
       "0 -0.602535  0.980090  0.583008  39.773965  0.037864  \n",
       "1  1.042614 -0.439303 -0.508781  39.247203  0.039895  \n",
       "2  1.420983  0.799485  0.448324  37.805621  0.051107  \n",
       "3  0.141014 -0.120066 -0.383417  36.233767  0.056515  \n",
       "4  0.003420 -1.370316 -1.478614  33.840774  0.078882  \n",
       "\n",
       "[5 rows x 69 columns]"
      ]
     },
     "execution_count": 23,
     "metadata": {},
     "output_type": "execute_result"
    }
   ],
   "source": [
    "import pandas as pd\n",
    "df_raw = pd.read_feather('tmp/eeg-raw') #lol raw fish sashimis and sushis\n",
    "df_raw.head()"
   ]
  },
  {
   "cell_type": "code",
   "execution_count": 24,
   "metadata": {},
   "outputs": [
    {
     "data": {
      "text/html": [
       "<div>\n",
       "<style scoped>\n",
       "    .dataframe tbody tr th:only-of-type {\n",
       "        vertical-align: middle;\n",
       "    }\n",
       "\n",
       "    .dataframe tbody tr th {\n",
       "        vertical-align: top;\n",
       "    }\n",
       "\n",
       "    .dataframe thead th {\n",
       "        text-align: right;\n",
       "    }\n",
       "</style>\n",
       "<table border=\"1\" class=\"dataframe\">\n",
       "  <thead>\n",
       "    <tr style=\"text-align: right;\">\n",
       "      <th></th>\n",
       "      <th>subject</th>\n",
       "      <th>trial</th>\n",
       "      <th>mode_no</th>\n",
       "      <th>real1</th>\n",
       "      <th>real2</th>\n",
       "      <th>real3</th>\n",
       "      <th>real4</th>\n",
       "      <th>real5</th>\n",
       "      <th>real6</th>\n",
       "      <th>real7</th>\n",
       "      <th>...</th>\n",
       "      <th>imag25</th>\n",
       "      <th>imag26</th>\n",
       "      <th>imag27</th>\n",
       "      <th>imag28</th>\n",
       "      <th>imag29</th>\n",
       "      <th>imag30</th>\n",
       "      <th>imag31</th>\n",
       "      <th>imag32</th>\n",
       "      <th>fn</th>\n",
       "      <th>zeta</th>\n",
       "    </tr>\n",
       "  </thead>\n",
       "  <tbody>\n",
       "    <tr>\n",
       "      <th>40</th>\n",
       "      <td>1</td>\n",
       "      <td>1</td>\n",
       "      <td>41</td>\n",
       "      <td>-0.528828</td>\n",
       "      <td>-1.250851</td>\n",
       "      <td>-2.298565</td>\n",
       "      <td>-0.089783</td>\n",
       "      <td>-1.076812</td>\n",
       "      <td>-1.97694</td>\n",
       "      <td>-0.157367</td>\n",
       "      <td>...</td>\n",
       "      <td>1.22405</td>\n",
       "      <td>-1.133452</td>\n",
       "      <td>0.368515</td>\n",
       "      <td>1.116685</td>\n",
       "      <td>1.359537</td>\n",
       "      <td>-0.162272</td>\n",
       "      <td>1.608768</td>\n",
       "      <td>1.324755</td>\n",
       "      <td>10.243236</td>\n",
       "      <td>0.166065</td>\n",
       "    </tr>\n",
       "  </tbody>\n",
       "</table>\n",
       "<p>1 rows × 69 columns</p>\n",
       "</div>"
      ],
      "text/plain": [
       "    subject  trial  mode_no     real1     real2     real3     real4     real5  \\\n",
       "40        1      1       41 -0.528828 -1.250851 -2.298565 -0.089783 -1.076812   \n",
       "\n",
       "      real6     real7  ...   imag25    imag26    imag27    imag28    imag29  \\\n",
       "40 -1.97694 -0.157367  ...  1.22405 -1.133452  0.368515  1.116685  1.359537   \n",
       "\n",
       "      imag30    imag31    imag32         fn      zeta  \n",
       "40 -0.162272  1.608768  1.324755  10.243236  0.166065  \n",
       "\n",
       "[1 rows x 69 columns]"
      ]
     },
     "execution_count": 24,
     "metadata": {},
     "output_type": "execute_result"
    }
   ],
   "source": [
    "df_raw.iloc[[40],:]"
   ]
  },
  {
   "cell_type": "code",
   "execution_count": 26,
   "metadata": {},
   "outputs": [
    {
     "data": {
      "text/plain": [
       "Text(0.5, 1.0, 'Real Chan. 5')"
      ]
     },
     "execution_count": 26,
     "metadata": {},
     "output_type": "execute_result"
    },
    {
     "data": {
      "image/png": "[encoded data removed]",
      "text/plain": [
       "<Figure size 1080x360 with 5 Axes>"
      ]
     },
     "metadata": {
      "needs_background": "light"
     },
     "output_type": "display_data"
    }
   ],
   "source": [
    "fig, axs = plt.subplots(1, 5, figsize=(15, 5))\n",
    "axs[0].hist(df_raw.real1)\n",
    "axs[0].set_title('Real Chan. 1')\n",
    "axs[1].hist(df_raw.fn)\n",
    "axs[1].set_title('frequency')\n",
    "axs[2].hist(df_raw.imag27)\n",
    "axs[2].set_title('Imag Chan. 27')\n",
    "axs[3].hist(df_raw.zeta)\n",
    "axs[3].set_title('Damping')\n",
    "axs[4].hist(df_raw.real5)\n",
    "axs[4].set_title('Real Chan. 5')"
   ]
  },
  {
   "cell_type": "code",
   "execution_count": 27,
   "metadata": {},
   "outputs": [],
   "source": [
    "train_cats(df_raw)\n",
    "df, y, nas = proc_df(df_raw, 'subject')"
   ]
  },
  {
   "cell_type": "code",
   "execution_count": 28,
   "metadata": {},
   "outputs": [
    {
     "data": {
      "text/plain": [
       "0.9576876464809384"
      ]
     },
     "execution_count": 28,
     "metadata": {},
     "output_type": "execute_result"
    }
   ],
   "source": [
    "m = RandomForestRegressor(n_jobs=-1)\n",
    "m.fit(df, y)\n",
    "m.score(df,y) #overfit, but proves code is working"
   ]
  },
  {
   "cell_type": "code",
   "execution_count": 32,
   "metadata": {},
   "outputs": [
    {
     "data": {
      "text/plain": [
       "((51249, 68), (51249,), (12751, 68), (12751,))"
      ]
     },
     "execution_count": 32,
     "metadata": {},
     "output_type": "execute_result"
    }
   ],
   "source": [
    "msk = np.random.rand(len(df)) < 0.8\n",
    "X_train = df[msk]\n",
    "y_train=y[msk]\n",
    "X_valid = df[~msk]\n",
    "y_valid = y[~msk]\n",
    "X_train.shape, y_train.shape, X_valid.shape, y_valid.shape"
   ]
  },
  {
   "cell_type": "code",
   "execution_count": 33,
   "metadata": {},
   "outputs": [],
   "source": [
    "def rmse(x,y): return math.sqrt(((x-y)**2).mean())\n",
    "\n",
    "def print_score(m):\n",
    "    res = [rmse(m.predict(X_train), y_train), rmse(m.predict(X_valid), y_valid),\n",
    "                m.score(X_train, y_train), m.score(X_valid, y_valid)]\n",
    "    if hasattr(m, 'oob_score_'): res.append(m.oob_score_)\n",
    "    print(res)"
   ]
  },
  {
   "cell_type": "code",
   "execution_count": 34,
   "metadata": {},
   "outputs": [
    {
     "name": "stdout",
     "output_type": "stream",
     "text": [
      "CPU times: user 22min 38s, sys: 1.08 s, total: 22min 39s\n",
      "Wall time: 3min 7s\n",
      "[1.9440532570395723, 5.094469945881307, 0.9558088783463597, 0.6915786893840828]\n"
     ]
    }
   ],
   "source": [
    "m = RandomForestRegressor(n_jobs=-1)\n",
    "%time m.fit(X_train, y_train)\n",
    "print_score(m)"
   ]
  },
  {
   "cell_type": "code",
   "execution_count": 37,
   "metadata": {},
   "outputs": [],
   "source": [
    "?? print_score"
   ]
  },
  {
   "cell_type": "code",
   "execution_count": 38,
   "metadata": {},
   "outputs": [
    {
     "data": {
      "text/plain": [
       "(array([ 5., 11.,  9., 16., 17.,  1., 30., 16.,  1.,  1.,  1.,  1., 26.,  6.,  1., 31., 16., 27.,  5.,  5.,\n",
       "         6.,  1.,  1.,  1., 10., 21., 30., 10.,  1.,  8., 16., 30.,  1.,  1.,  7.,  2.,  1., 23., 24.,  9.,\n",
       "         1., 16., 17., 21., 11.,  2., 29., 31.,  1.,  8., 26., 10.,  1.,  1., 30., 26.,  5., 19.,  1.,  1.,\n",
       "        11., 17., 32., 21.,  3.,  1., 27.,  1.,  1., 19., 16., 13.,  8., 20., 20., 18.,  1.,  8., 23.,  1.,\n",
       "        19.,  1.,  1.,  1.,  5., 13.,  5., 11., 10., 24.,  8.,  1., 16., 16., 24.,  5.,  1., 14.,  1., 32.]),\n",
       " 11.55,\n",
       " 1)"
      ]
     },
     "execution_count": 38,
     "metadata": {},
     "output_type": "execute_result"
    }
   ],
   "source": [
    "preds = np.stack([t.predict(X_valid) for t in m.estimators_])\n",
    "preds[:,0], np.mean(preds[:,0]), y_valid[0]"
   ]
  },
  {
   "cell_type": "code",
   "execution_count": 39,
   "metadata": {},
   "outputs": [
    {
     "data": {
      "text/plain": [
       "(100, 12751)"
      ]
     },
     "execution_count": 39,
     "metadata": {},
     "output_type": "execute_result"
    }
   ],
   "source": [
    "preds.shape"
   ]
  },
  {
   "cell_type": "code",
   "execution_count": 43,
   "metadata": {},
   "outputs": [
    {
     "data": {
      "image/png": "[encoded data removed]",
      "text/plain": [
       "<Figure size 432x288 with 1 Axes>"
      ]
     },
     "metadata": {},
     "output_type": "display_data"
    }
   ],
   "source": [
    "plt.plot([metrics.r2_score(y_valid, np.mean(preds[:i+1], axis=0)) for i in range(100)]);\n",
    "plt.grid(True)"
   ]
  },
  {
   "cell_type": "code",
   "execution_count": 44,
   "metadata": {},
   "outputs": [
    {
     "name": "stdout",
     "output_type": "stream",
     "text": [
      "[2.169941894907483, 5.28512427710282, 0.944942698952143, 0.6680621495639416]\n"
     ]
    }
   ],
   "source": [
    "m = RandomForestRegressor(n_estimators=20, n_jobs=-1)\n",
    "m.fit(X_train, y_train)\n",
    "print_score(m)"
   ]
  },
  {
   "cell_type": "code",
   "execution_count": 45,
   "metadata": {},
   "outputs": [
    {
     "name": "stdout",
     "output_type": "stream",
     "text": [
      "[2.0327857389180233, 5.147276768421807, 0.95168278217481, 0.6851516577624932]\n"
     ]
    }
   ],
   "source": [
    "m = RandomForestRegressor(n_estimators=40, n_jobs=-1)\n",
    "m.fit(X_train, y_train)\n",
    "print_score(m)"
   ]
  },
  {
   "cell_type": "code",
   "execution_count": 46,
   "metadata": {},
   "outputs": [
    {
     "name": "stdout",
     "output_type": "stream",
     "text": [
      "[1.9506033447948992, 5.093549653599196, 0.9555105908847747, 0.6916901090677119]\n"
     ]
    }
   ],
   "source": [
    "m = RandomForestRegressor(n_estimators=80, n_jobs=-1)\n",
    "m.fit(X_train, y_train)\n",
    "print_score(m)"
   ]
  },
  {
   "cell_type": "code",
   "execution_count": 47,
   "metadata": {},
   "outputs": [
    {
     "name": "stdout",
     "output_type": "stream",
     "text": [
      "[2.024916461567092, 5.155134668266666, 0.9520561472842987, 0.6841896208225635, 0.6558062582597399]\n"
     ]
    }
   ],
   "source": [
    "m = RandomForestRegressor(n_estimators=40, n_jobs=-1, oob_score=True)\n",
    "m.fit(X_train, y_train)\n",
    "print_score(m)"
   ]
  },
  {
   "cell_type": "code",
   "execution_count": 48,
   "metadata": {},
   "outputs": [],
   "source": [
    "def dectree_max_depth(tree):\n",
    "    children_left = tree.children_left\n",
    "    children_right = tree.children_right\n",
    "\n",
    "    def walk(node_id):\n",
    "        if (children_left[node_id] != children_right[node_id]):\n",
    "            left_max = 1 + walk(children_left[node_id])\n",
    "            right_max = 1 + walk(children_right[node_id])\n",
    "            return max(left_max, right_max)\n",
    "        else: # leaf\n",
    "            return 1\n",
    "\n",
    "    root_node_id = 0\n",
    "    return walk(root_node_id)"
   ]
  },
  {
   "cell_type": "code",
   "execution_count": 49,
   "metadata": {},
   "outputs": [],
   "source": [
    "t=m.estimators_[0].tree_"
   ]
  },
  {
   "cell_type": "code",
   "execution_count": 50,
   "metadata": {},
   "outputs": [
    {
     "data": {
      "text/plain": [
       "65"
      ]
     },
     "execution_count": 50,
     "metadata": {},
     "output_type": "execute_result"
    }
   ],
   "source": [
    "dectree_max_depth(t)"
   ]
  },
  {
   "cell_type": "code",
   "execution_count": 51,
   "metadata": {},
   "outputs": [
    {
     "name": "stdout",
     "output_type": "stream",
     "text": [
      "[2.421927322926877, 5.154274088440533, 0.9314131398017034, 0.6842950525420801, 0.6555846058089945]\n"
     ]
    }
   ],
   "source": [
    "m = RandomForestRegressor(n_estimators=40, min_samples_leaf=3, n_jobs=-1, oob_score=True)\n",
    "m.fit(X_train, y_train)\n",
    "print_score(m)"
   ]
  },
  {
   "cell_type": "code",
   "execution_count": 52,
   "metadata": {},
   "outputs": [
    {
     "name": "stdout",
     "output_type": "stream",
     "text": [
      "[2.5133397376744453, 5.239704495583008, 0.9261379930201067, 0.6737429096626046, 0.6451309550319786]\n"
     ]
    }
   ],
   "source": [
    "m = RandomForestRegressor(n_estimators=40, min_samples_leaf=3, max_features=0.5, n_jobs=-1, oob_score=True)\n",
    "m.fit(X_train, y_train)\n",
    "print_score(m)"
   ]
  },
  {
   "cell_type": "code",
   "execution_count": 53,
   "metadata": {},
   "outputs": [
    {
     "name": "stdout",
     "output_type": "stream",
     "text": [
      "[1.9657748281005265, 5.0954631301025515, 0.9548158363766056, 0.691458422097619]\n"
     ]
    }
   ],
   "source": [
    "m = RandomForestRegressor(n_estimators=80, n_jobs=-1)\n",
    "m.fit(X_train, y_train)\n",
    "print_score(m)"
   ]
  },
  {
   "cell_type": "code",
   "execution_count": 61,
   "metadata": {},
   "outputs": [
    {
     "name": "stdout",
     "output_type": "stream",
     "text": [
      "[2.505049786384013, 5.2257311266728, 0.9266244394890384, 0.675480729717467, 0.6476294454322943]\n"
     ]
    }
   ],
   "source": [
    "\n",
    "\n",
    "m = RandomForestRegressor(n_estimators=40, min_samples_leaf=3, max_features=0.5,\n",
    "                          n_jobs=-1, oob_score=True)\n",
    "m.fit(X_train, y_train)\n",
    "print_score(m)\n",
    "\n"
   ]
  },
  {
   "cell_type": "code",
   "execution_count": 62,
   "metadata": {},
   "outputs": [
    {
     "name": "stdout",
     "output_type": "stream",
     "text": [
      "CPU times: user 296 ms, sys: 2 µs, total: 296 ms\n",
      "Wall time: 295 ms\n"
     ]
    },
    {
     "data": {
      "text/plain": [
       "(11.52186507936508, 8.632435940185184)"
      ]
     },
     "execution_count": 62,
     "metadata": {},
     "output_type": "execute_result"
    }
   ],
   "source": [
    "%time preds = np.stack([t.predict(X_valid) for t in m.estimators_])\n",
    "np.mean(preds[:,0]), np.std(preds[:,0])"
   ]
  },
  {
   "cell_type": "code",
   "execution_count": 63,
   "metadata": {},
   "outputs": [
    {
     "data": {
      "text/html": [
       "<div>\n",
       "<style scoped>\n",
       "    .dataframe tbody tr th:only-of-type {\n",
       "        vertical-align: middle;\n",
       "    }\n",
       "\n",
       "    .dataframe tbody tr th {\n",
       "        vertical-align: top;\n",
       "    }\n",
       "\n",
       "    .dataframe thead th {\n",
       "        text-align: right;\n",
       "    }\n",
       "</style>\n",
       "<table border=\"1\" class=\"dataframe\">\n",
       "  <thead>\n",
       "    <tr style=\"text-align: right;\">\n",
       "      <th></th>\n",
       "      <th>cols</th>\n",
       "      <th>imp</th>\n",
       "    </tr>\n",
       "  </thead>\n",
       "  <tbody>\n",
       "    <tr>\n",
       "      <th>24</th>\n",
       "      <td>real23</td>\n",
       "      <td>0.033266</td>\n",
       "    </tr>\n",
       "    <tr>\n",
       "      <th>42</th>\n",
       "      <td>imag9</td>\n",
       "      <td>0.032346</td>\n",
       "    </tr>\n",
       "    <tr>\n",
       "      <th>21</th>\n",
       "      <td>real20</td>\n",
       "      <td>0.028109</td>\n",
       "    </tr>\n",
       "    <tr>\n",
       "      <th>17</th>\n",
       "      <td>real16</td>\n",
       "      <td>0.027822</td>\n",
       "    </tr>\n",
       "    <tr>\n",
       "      <th>56</th>\n",
       "      <td>imag23</td>\n",
       "      <td>0.026324</td>\n",
       "    </tr>\n",
       "    <tr>\n",
       "      <th>53</th>\n",
       "      <td>imag20</td>\n",
       "      <td>0.024680</td>\n",
       "    </tr>\n",
       "    <tr>\n",
       "      <th>10</th>\n",
       "      <td>real9</td>\n",
       "      <td>0.022816</td>\n",
       "    </tr>\n",
       "    <tr>\n",
       "      <th>49</th>\n",
       "      <td>imag16</td>\n",
       "      <td>0.022801</td>\n",
       "    </tr>\n",
       "    <tr>\n",
       "      <th>8</th>\n",
       "      <td>real7</td>\n",
       "      <td>0.020889</td>\n",
       "    </tr>\n",
       "    <tr>\n",
       "      <th>12</th>\n",
       "      <td>real11</td>\n",
       "      <td>0.019997</td>\n",
       "    </tr>\n",
       "  </tbody>\n",
       "</table>\n",
       "</div>"
      ],
      "text/plain": [
       "      cols       imp\n",
       "24  real23  0.033266\n",
       "42   imag9  0.032346\n",
       "21  real20  0.028109\n",
       "17  real16  0.027822\n",
       "56  imag23  0.026324\n",
       "53  imag20  0.024680\n",
       "10   real9  0.022816\n",
       "49  imag16  0.022801\n",
       "8    real7  0.020889\n",
       "12  real11  0.019997"
      ]
     },
     "execution_count": 63,
     "metadata": {},
     "output_type": "execute_result"
    }
   ],
   "source": [
    "fi = rf_feat_importance(m, X_train); fi[:10]"
   ]
  },
  {
   "cell_type": "code",
   "execution_count": 64,
   "metadata": {},
   "outputs": [
    {
     "data": {
      "image/png": "[encoded data removed]",
      "text/plain": [
       "<Figure size 720x432 with 1 Axes>"
      ]
     },
     "metadata": {},
     "output_type": "display_data"
    }
   ],
   "source": [
    "fi.plot('cols', 'imp', figsize=(10,6), legend=False);"
   ]
  },
  {
   "cell_type": "code",
   "execution_count": 65,
   "metadata": {},
   "outputs": [
    {
     "data": {
      "image/png": "[encoded data removed]",
      "text/plain": [
       "<Figure size 864x504 with 1 Axes>"
      ]
     },
     "metadata": {},
     "output_type": "display_data"
    }
   ],
   "source": [
    "def plot_fi(fi): return fi.plot('cols', 'imp', 'barh', figsize=(12,7), legend=False)\n",
    "plot_fi(fi[:40]);"
   ]
  },
  {
   "cell_type": "code",
   "execution_count": 68,
   "metadata": {},
   "outputs": [
    {
     "data": {
      "text/plain": [
       "67"
      ]
     },
     "execution_count": 68,
     "metadata": {},
     "output_type": "execute_result"
    }
   ],
   "source": [
    "to_keep = fi[fi.imp>0.005].cols; len(to_keep)"
   ]
  },
  {
   "cell_type": "code",
   "execution_count": 66,
   "metadata": {},
   "outputs": [],
   "source": [
    "from scipy.cluster import hierarchy as hc"
   ]
  },
  {
   "cell_type": "code",
   "execution_count": 84,
   "metadata": {},
   "outputs": [
    {
     "data": {
      "text/plain": [
       "68"
      ]
     },
     "execution_count": 84,
     "metadata": {},
     "output_type": "execute_result"
    }
   ],
   "source": [
    "len(df.columns)"
   ]
  },
  {
   "cell_type": "code",
   "execution_count": 89,
   "metadata": {},
   "outputs": [
    {
     "data": {
      "image/png": "[encoded data removed]",
      "text/plain": [
       "<Figure size 1152x720 with 1 Axes>"
      ]
     },
     "metadata": {},
     "output_type": "display_data"
    }
   ],
   "source": [
    "corr = np.round(scipy.stats.spearmanr(df).correlation, 4)\n",
    "corr_condensed = hc.distance.squareform(1-corr)\n",
    "z = hc.linkage(corr_condensed, method='average')\n",
    "fig = plt.figure(figsize=(16,10))\n",
    "dendrogram = hc.dendrogram(z,orientation='left', leaf_font_size=10)\n",
    "plt.show()"
   ]
  },
  {
   "cell_type": "code",
   "execution_count": 85,
   "metadata": {},
   "outputs": [],
   "source": []
  },
  {
   "cell_type": "code",
   "execution_count": null,
   "metadata": {},
   "outputs": [],
   "source": []
  },
  {
   "cell_type": "code",
   "execution_count": null,
   "metadata": {},
   "outputs": [],
   "source": []
  }
 ],
 "metadata": {
  "kernelspec": {
   "display_name": "Python 3",
   "language": "python",
   "name": "python3"
  },
  "language_info": {
   "codemirror_mode": {
    "name": "ipython",
    "version": 3
   },
   "file_extension": ".py",
   "mimetype": "text/x-python",
   "name": "python",
   "nbconvert_exporter": "python",
   "pygments_lexer": "ipython3",
   "version": "3.6.10"
  }
 },
 "nbformat": 4,
 "nbformat_minor": 2
}
