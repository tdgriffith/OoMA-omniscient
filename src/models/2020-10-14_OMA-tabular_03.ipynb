{
 "cells": [
  {
   "cell_type": "markdown",
   "metadata": {},
   "source": [
    "# Random Forrests for Exploration of DEAP Dataset\n",
    "Fingerprinting with OMA modes has worked really well. What about in tabular format?\n",
    "\n",
    "Fingerprinting is good, try Quads"
   ]
  },
  {
   "cell_type": "code",
   "execution_count": 1,
   "metadata": {
    "ExecuteTime": {
     "end_time": "2020-10-15T23:18:31.153425Z",
     "start_time": "2020-10-15T23:18:30.970382Z"
    }
   },
   "outputs": [],
   "source": [
    "%load_ext autoreload\n",
    "%autoreload 2\n",
    "\n",
    "%matplotlib inline"
   ]
  },
  {
   "cell_type": "code",
   "execution_count": 2,
   "metadata": {
    "ExecuteTime": {
     "end_time": "2020-10-15T23:18:31.162730Z",
     "start_time": "2020-10-15T23:18:31.154504Z"
    }
   },
   "outputs": [
    {
     "data": {
      "application/javascript": [
       "utils.load_extension('collapsible_headings/main')\n",
       "utils.load_extension('hide_input/main')\n",
       "utils.load_extension('execute_time/ExecuteTime')\n",
       "utils.load_extension('code_prettify/code_prettify')\n",
       "utils.load_extension('scroll_down/main')\n",
       "utils.load_extension('jupyter-js-widgets/extension')\n"
      ],
      "text/plain": [
       "<IPython.core.display.Javascript object>"
      ]
     },
     "metadata": {},
     "output_type": "display_data"
    }
   ],
   "source": [
    "%%javascript\n",
    "utils.load_extension('collapsible_headings/main')\n",
    "utils.load_extension('hide_input/main')\n",
    "utils.load_extension('execute_time/ExecuteTime')\n",
    "utils.load_extension('code_prettify/code_prettify')\n",
    "utils.load_extension('scroll_down/main')\n",
    "utils.load_extension('jupyter-js-widgets/extension')"
   ]
  },
  {
   "cell_type": "code",
   "execution_count": 3,
   "metadata": {
    "ExecuteTime": {
     "end_time": "2020-10-15T23:18:31.947364Z",
     "start_time": "2020-10-15T23:18:31.163977Z"
    }
   },
   "outputs": [],
   "source": [
    "from fastai.tabular import *\n",
    "from sklearn.model_selection import train_test_split,cross_val_score\n",
    "from sklearn import datasets, svm, metrics, tree\n",
    "from sklearn.ensemble import RandomForestClassifier, AdaBoostClassifier\n",
    "from sklearn.tree import DecisionTreeClassifier"
   ]
  },
  {
   "cell_type": "code",
   "execution_count": 4,
   "metadata": {
    "ExecuteTime": {
     "end_time": "2020-10-15T23:18:31.963036Z",
     "start_time": "2020-10-15T23:18:31.948472Z"
    }
   },
   "outputs": [
    {
     "data": {
      "text/plain": [
       "PosixPath('/home/tris/Documents/EEG_data/DMD_DEAP')"
      ]
     },
     "execution_count": 4,
     "metadata": {},
     "output_type": "execute_result"
    }
   ],
   "source": [
    "path=pathlib.Path('/home/tris/Documents/EEG_data/DMD_DEAP')\n",
    "path"
   ]
  },
  {
   "cell_type": "code",
   "execution_count": 5,
   "metadata": {
    "ExecuteTime": {
     "end_time": "2020-10-15T23:18:35.897537Z",
     "start_time": "2020-10-15T23:18:31.963939Z"
    }
   },
   "outputs": [],
   "source": [
    "path = '/media/tris/tris_files/EEG_datasets/DEAP_data_preprocessed_python/s01.dat'\n",
    "df_read = pickle.load(open(path, 'rb'), encoding='latin1')\n",
    "labels=df_read['labels']\n",
    "df_tmp = pd.DataFrame(labels, columns=['valence','arousal','dominance','liking'])\n",
    "df=df_tmp\n",
    "for n in range (2,10):\n",
    "    path = '/media/tris/tris_files/EEG_datasets/DEAP_data_preprocessed_python/s0'+str(n)+'.dat'\n",
    "    df_read = pickle.load(open(path, 'rb'), encoding='latin1')\n",
    "    labels=df_read['labels']\n",
    "    df_tmp = pd.DataFrame(labels, columns=['valence','arousal','dominance','liking'])\n",
    "    df=df.append(df_tmp, ignore_index=True)\n",
    "for n in range (10,33):\n",
    "    path = '/media/tris/tris_files/EEG_datasets/DEAP_data_preprocessed_python/s'+str(n)+'.dat'\n",
    "    df_read = pickle.load(open(path, 'rb'), encoding='latin1')\n",
    "    labels=df_read['labels']\n",
    "    df_tmp = pd.DataFrame(labels, columns=['valence','arousal','dominance','liking'])\n",
    "    df=df.append(df_tmp, ignore_index=True) "
   ]
  },
  {
   "cell_type": "code",
   "execution_count": 6,
   "metadata": {
    "ExecuteTime": {
     "end_time": "2020-10-15T23:18:35.920238Z",
     "start_time": "2020-10-15T23:18:35.898518Z"
    }
   },
   "outputs": [
    {
     "data": {
      "text/html": [
       "<div>\n",
       "<style scoped>\n",
       "    .dataframe tbody tr th:only-of-type {\n",
       "        vertical-align: middle;\n",
       "    }\n",
       "\n",
       "    .dataframe tbody tr th {\n",
       "        vertical-align: top;\n",
       "    }\n",
       "\n",
       "    .dataframe thead th {\n",
       "        text-align: right;\n",
       "    }\n",
       "</style>\n",
       "<table border=\"1\" class=\"dataframe\">\n",
       "  <thead>\n",
       "    <tr style=\"text-align: right;\">\n",
       "      <th></th>\n",
       "      <th>valence</th>\n",
       "      <th>arousal</th>\n",
       "      <th>dominance</th>\n",
       "      <th>liking</th>\n",
       "    </tr>\n",
       "  </thead>\n",
       "  <tbody>\n",
       "    <tr>\n",
       "      <th>0</th>\n",
       "      <td>0.856667</td>\n",
       "      <td>0.844444</td>\n",
       "      <td>0.766667</td>\n",
       "      <td>0.870000</td>\n",
       "    </tr>\n",
       "    <tr>\n",
       "      <th>1</th>\n",
       "      <td>0.900000</td>\n",
       "      <td>0.812222</td>\n",
       "      <td>0.808889</td>\n",
       "      <td>0.941111</td>\n",
       "    </tr>\n",
       "    <tr>\n",
       "      <th>2</th>\n",
       "      <td>0.953333</td>\n",
       "      <td>0.837778</td>\n",
       "      <td>1.000000</td>\n",
       "      <td>0.786667</td>\n",
       "    </tr>\n",
       "    <tr>\n",
       "      <th>3</th>\n",
       "      <td>0.548889</td>\n",
       "      <td>0.667778</td>\n",
       "      <td>0.680000</td>\n",
       "      <td>0.895556</td>\n",
       "    </tr>\n",
       "    <tr>\n",
       "      <th>4</th>\n",
       "      <td>0.773333</td>\n",
       "      <td>0.435556</td>\n",
       "      <td>0.798889</td>\n",
       "      <td>0.672222</td>\n",
       "    </tr>\n",
       "  </tbody>\n",
       "</table>\n",
       "</div>"
      ],
      "text/plain": [
       "    valence   arousal  dominance    liking\n",
       "0  0.856667  0.844444   0.766667  0.870000\n",
       "1  0.900000  0.812222   0.808889  0.941111\n",
       "2  0.953333  0.837778   1.000000  0.786667\n",
       "3  0.548889  0.667778   0.680000  0.895556\n",
       "4  0.773333  0.435556   0.798889  0.672222"
      ]
     },
     "execution_count": 6,
     "metadata": {},
     "output_type": "execute_result"
    }
   ],
   "source": [
    "df=df.div(9) #normalize\n",
    "df.head()"
   ]
  },
  {
   "cell_type": "code",
   "execution_count": 7,
   "metadata": {
    "ExecuteTime": {
     "end_time": "2020-10-15T23:18:35.936634Z",
     "start_time": "2020-10-15T23:18:35.921658Z"
    }
   },
   "outputs": [],
   "source": [
    "df=df.loc[df.index.repeat(4)].reset_index(drop=True)"
   ]
  },
  {
   "cell_type": "code",
   "execution_count": 8,
   "metadata": {
    "ExecuteTime": {
     "end_time": "2020-10-15T23:18:35.956448Z",
     "start_time": "2020-10-15T23:18:35.938335Z"
    }
   },
   "outputs": [
    {
     "data": {
      "text/html": [
       "<div>\n",
       "<style scoped>\n",
       "    .dataframe tbody tr th:only-of-type {\n",
       "        vertical-align: middle;\n",
       "    }\n",
       "\n",
       "    .dataframe tbody tr th {\n",
       "        vertical-align: top;\n",
       "    }\n",
       "\n",
       "    .dataframe thead th {\n",
       "        text-align: right;\n",
       "    }\n",
       "</style>\n",
       "<table border=\"1\" class=\"dataframe\">\n",
       "  <thead>\n",
       "    <tr style=\"text-align: right;\">\n",
       "      <th></th>\n",
       "      <th>valence</th>\n",
       "      <th>arousal</th>\n",
       "      <th>dominance</th>\n",
       "      <th>liking</th>\n",
       "    </tr>\n",
       "  </thead>\n",
       "  <tbody>\n",
       "    <tr>\n",
       "      <th>5115</th>\n",
       "      <td>0.443333</td>\n",
       "      <td>0.796667</td>\n",
       "      <td>0.538889</td>\n",
       "      <td>0.111111</td>\n",
       "    </tr>\n",
       "    <tr>\n",
       "      <th>5116</th>\n",
       "      <td>0.794444</td>\n",
       "      <td>0.447778</td>\n",
       "      <td>1.000000</td>\n",
       "      <td>0.208889</td>\n",
       "    </tr>\n",
       "    <tr>\n",
       "      <th>5117</th>\n",
       "      <td>0.794444</td>\n",
       "      <td>0.447778</td>\n",
       "      <td>1.000000</td>\n",
       "      <td>0.208889</td>\n",
       "    </tr>\n",
       "    <tr>\n",
       "      <th>5118</th>\n",
       "      <td>0.794444</td>\n",
       "      <td>0.447778</td>\n",
       "      <td>1.000000</td>\n",
       "      <td>0.208889</td>\n",
       "    </tr>\n",
       "    <tr>\n",
       "      <th>5119</th>\n",
       "      <td>0.794444</td>\n",
       "      <td>0.447778</td>\n",
       "      <td>1.000000</td>\n",
       "      <td>0.208889</td>\n",
       "    </tr>\n",
       "  </tbody>\n",
       "</table>\n",
       "</div>"
      ],
      "text/plain": [
       "       valence   arousal  dominance    liking\n",
       "5115  0.443333  0.796667   0.538889  0.111111\n",
       "5116  0.794444  0.447778   1.000000  0.208889\n",
       "5117  0.794444  0.447778   1.000000  0.208889\n",
       "5118  0.794444  0.447778   1.000000  0.208889\n",
       "5119  0.794444  0.447778   1.000000  0.208889"
      ]
     },
     "execution_count": 8,
     "metadata": {},
     "output_type": "execute_result"
    }
   ],
   "source": [
    "df.tail()"
   ]
  },
  {
   "cell_type": "code",
   "execution_count": 9,
   "metadata": {
    "ExecuteTime": {
     "end_time": "2020-10-15T23:18:35.978139Z",
     "start_time": "2020-10-15T23:18:35.957948Z"
    }
   },
   "outputs": [],
   "source": [
    "filenames=[]\n",
    "subject_labels=[]\n",
    "for n in range (0,9):\n",
    "    for i in range (0,9):\n",
    "        filename='S'+str(n+1)+'T'+str(i+1)\n",
    "        filenames.append(filename)\n",
    "        subject_label=n+1\n",
    "        subject_labels.append(subject_label)\n",
    "    for i in range (9,160):\n",
    "        filename='S'+str(n+1)+'T'+str(i+1)\n",
    "        filenames.append(filename)\n",
    "        subject_label=n+1\n",
    "        subject_labels.append(subject_label)\n",
    "for n in range (9,32):\n",
    "    for i in range (0,9):\n",
    "        filename='S'+str(n+1)+'T'+str(i+1)\n",
    "        filenames.append(filename)\n",
    "        subject_label=n+1\n",
    "        subject_labels.append(subject_label)\n",
    "    for i in range (9,160):\n",
    "        filename='S'+str(n+1)+'T'+str(i+1)\n",
    "        filenames.append(filename)\n",
    "        subject_label=n+1\n",
    "        subject_labels.append(subject_label)"
   ]
  },
  {
   "cell_type": "code",
   "execution_count": 10,
   "metadata": {
    "ExecuteTime": {
     "end_time": "2020-10-15T23:18:35.999165Z",
     "start_time": "2020-10-15T23:18:35.979165Z"
    }
   },
   "outputs": [
    {
     "data": {
      "text/html": [
       "<div>\n",
       "<style scoped>\n",
       "    .dataframe tbody tr th:only-of-type {\n",
       "        vertical-align: middle;\n",
       "    }\n",
       "\n",
       "    .dataframe tbody tr th {\n",
       "        vertical-align: top;\n",
       "    }\n",
       "\n",
       "    .dataframe thead th {\n",
       "        text-align: right;\n",
       "    }\n",
       "</style>\n",
       "<table border=\"1\" class=\"dataframe\">\n",
       "  <thead>\n",
       "    <tr style=\"text-align: right;\">\n",
       "      <th></th>\n",
       "      <th>file_name</th>\n",
       "      <th>subject_label</th>\n",
       "      <th>valence</th>\n",
       "      <th>arousal</th>\n",
       "    </tr>\n",
       "  </thead>\n",
       "  <tbody>\n",
       "    <tr>\n",
       "      <th>5115</th>\n",
       "      <td>S32T156</td>\n",
       "      <td>32</td>\n",
       "      <td>0.443333</td>\n",
       "      <td>0.796667</td>\n",
       "    </tr>\n",
       "    <tr>\n",
       "      <th>5116</th>\n",
       "      <td>S32T157</td>\n",
       "      <td>32</td>\n",
       "      <td>0.794444</td>\n",
       "      <td>0.447778</td>\n",
       "    </tr>\n",
       "    <tr>\n",
       "      <th>5117</th>\n",
       "      <td>S32T158</td>\n",
       "      <td>32</td>\n",
       "      <td>0.794444</td>\n",
       "      <td>0.447778</td>\n",
       "    </tr>\n",
       "    <tr>\n",
       "      <th>5118</th>\n",
       "      <td>S32T159</td>\n",
       "      <td>32</td>\n",
       "      <td>0.794444</td>\n",
       "      <td>0.447778</td>\n",
       "    </tr>\n",
       "    <tr>\n",
       "      <th>5119</th>\n",
       "      <td>S32T160</td>\n",
       "      <td>32</td>\n",
       "      <td>0.794444</td>\n",
       "      <td>0.447778</td>\n",
       "    </tr>\n",
       "  </tbody>\n",
       "</table>\n",
       "</div>"
      ],
      "text/plain": [
       "     file_name  subject_label   valence   arousal\n",
       "5115   S32T156             32  0.443333  0.796667\n",
       "5116   S32T157             32  0.794444  0.447778\n",
       "5117   S32T158             32  0.794444  0.447778\n",
       "5118   S32T159             32  0.794444  0.447778\n",
       "5119   S32T160             32  0.794444  0.447778"
      ]
     },
     "execution_count": 10,
     "metadata": {},
     "output_type": "execute_result"
    }
   ],
   "source": [
    "df['file_name']=filenames\n",
    "df['subject_label']=subject_labels\n",
    "df=df[['file_name','subject_label','valence','arousal']]\n",
    "df.tail()"
   ]
  },
  {
   "cell_type": "code",
   "execution_count": 11,
   "metadata": {
    "ExecuteTime": {
     "end_time": "2020-10-15T23:18:36.028692Z",
     "start_time": "2020-10-15T23:18:36.000211Z"
    }
   },
   "outputs": [
    {
     "data": {
      "text/html": [
       "<div>\n",
       "<style scoped>\n",
       "    .dataframe tbody tr th:only-of-type {\n",
       "        vertical-align: middle;\n",
       "    }\n",
       "\n",
       "    .dataframe tbody tr th {\n",
       "        vertical-align: top;\n",
       "    }\n",
       "\n",
       "    .dataframe thead th {\n",
       "        text-align: right;\n",
       "    }\n",
       "</style>\n",
       "<table border=\"1\" class=\"dataframe\">\n",
       "  <thead>\n",
       "    <tr style=\"text-align: right;\">\n",
       "      <th></th>\n",
       "      <th>file_name</th>\n",
       "      <th>subject_label</th>\n",
       "      <th>valence</th>\n",
       "      <th>arousal</th>\n",
       "      <th>emotion_quad</th>\n",
       "    </tr>\n",
       "  </thead>\n",
       "  <tbody>\n",
       "    <tr>\n",
       "      <th>0</th>\n",
       "      <td>S1T1</td>\n",
       "      <td>1</td>\n",
       "      <td>0.856667</td>\n",
       "      <td>0.844444</td>\n",
       "      <td>0.0</td>\n",
       "    </tr>\n",
       "    <tr>\n",
       "      <th>1</th>\n",
       "      <td>S1T2</td>\n",
       "      <td>1</td>\n",
       "      <td>0.856667</td>\n",
       "      <td>0.844444</td>\n",
       "      <td>0.0</td>\n",
       "    </tr>\n",
       "    <tr>\n",
       "      <th>2</th>\n",
       "      <td>S1T3</td>\n",
       "      <td>1</td>\n",
       "      <td>0.856667</td>\n",
       "      <td>0.844444</td>\n",
       "      <td>0.0</td>\n",
       "    </tr>\n",
       "    <tr>\n",
       "      <th>3</th>\n",
       "      <td>S1T4</td>\n",
       "      <td>1</td>\n",
       "      <td>0.856667</td>\n",
       "      <td>0.844444</td>\n",
       "      <td>0.0</td>\n",
       "    </tr>\n",
       "    <tr>\n",
       "      <th>4</th>\n",
       "      <td>S1T5</td>\n",
       "      <td>1</td>\n",
       "      <td>0.900000</td>\n",
       "      <td>0.812222</td>\n",
       "      <td>0.0</td>\n",
       "    </tr>\n",
       "  </tbody>\n",
       "</table>\n",
       "</div>"
      ],
      "text/plain": [
       "  file_name  subject_label   valence   arousal  emotion_quad\n",
       "0      S1T1              1  0.856667  0.844444           0.0\n",
       "1      S1T2              1  0.856667  0.844444           0.0\n",
       "2      S1T3              1  0.856667  0.844444           0.0\n",
       "3      S1T4              1  0.856667  0.844444           0.0\n",
       "4      S1T5              1  0.900000  0.812222           0.0"
      ]
     },
     "execution_count": 11,
     "metadata": {},
     "output_type": "execute_result"
    }
   ],
   "source": [
    "df.loc[(df['valence'] >= 0.5) & (df['arousal'] >= 0.5), 'emotion_quad'] = 0\n",
    "df.loc[(df['valence'] <= 0.5) & (df['arousal'] >= 0.5), 'emotion_quad'] = 1\n",
    "df.loc[(df['valence'] <= 0.5) & (df['arousal'] <= 0.5), 'emotion_quad'] = 2  \n",
    "df.loc[(df['valence'] >= 0.5) & (df['arousal'] <= 0.5), 'emotion_quad'] = 3\n",
    "df.head()"
   ]
  },
  {
   "cell_type": "code",
   "execution_count": 12,
   "metadata": {
    "ExecuteTime": {
     "end_time": "2020-10-15T23:18:36.050977Z",
     "start_time": "2020-10-15T23:18:36.029778Z"
    }
   },
   "outputs": [
    {
     "data": {
      "text/html": [
       "<div>\n",
       "<style scoped>\n",
       "    .dataframe tbody tr th:only-of-type {\n",
       "        vertical-align: middle;\n",
       "    }\n",
       "\n",
       "    .dataframe tbody tr th {\n",
       "        vertical-align: top;\n",
       "    }\n",
       "\n",
       "    .dataframe thead th {\n",
       "        text-align: right;\n",
       "    }\n",
       "</style>\n",
       "<table border=\"1\" class=\"dataframe\">\n",
       "  <thead>\n",
       "    <tr style=\"text-align: right;\">\n",
       "      <th></th>\n",
       "      <th>file_name</th>\n",
       "      <th>subject_label</th>\n",
       "      <th>valence</th>\n",
       "      <th>arousal</th>\n",
       "      <th>emotion_quad</th>\n",
       "    </tr>\n",
       "  </thead>\n",
       "  <tbody>\n",
       "    <tr>\n",
       "      <th>0</th>\n",
       "      <td>S1T1</td>\n",
       "      <td>1</td>\n",
       "      <td>0.856667</td>\n",
       "      <td>0.844444</td>\n",
       "      <td>0.0</td>\n",
       "    </tr>\n",
       "    <tr>\n",
       "      <th>1</th>\n",
       "      <td>S1T2</td>\n",
       "      <td>1</td>\n",
       "      <td>0.856667</td>\n",
       "      <td>0.844444</td>\n",
       "      <td>0.0</td>\n",
       "    </tr>\n",
       "    <tr>\n",
       "      <th>2</th>\n",
       "      <td>S1T3</td>\n",
       "      <td>1</td>\n",
       "      <td>0.856667</td>\n",
       "      <td>0.844444</td>\n",
       "      <td>0.0</td>\n",
       "    </tr>\n",
       "    <tr>\n",
       "      <th>3</th>\n",
       "      <td>S1T4</td>\n",
       "      <td>1</td>\n",
       "      <td>0.856667</td>\n",
       "      <td>0.844444</td>\n",
       "      <td>0.0</td>\n",
       "    </tr>\n",
       "    <tr>\n",
       "      <th>4</th>\n",
       "      <td>S1T5</td>\n",
       "      <td>1</td>\n",
       "      <td>0.900000</td>\n",
       "      <td>0.812222</td>\n",
       "      <td>0.0</td>\n",
       "    </tr>\n",
       "    <tr>\n",
       "      <th>...</th>\n",
       "      <td>...</td>\n",
       "      <td>...</td>\n",
       "      <td>...</td>\n",
       "      <td>...</td>\n",
       "      <td>...</td>\n",
       "    </tr>\n",
       "    <tr>\n",
       "      <th>5115</th>\n",
       "      <td>S32T156</td>\n",
       "      <td>32</td>\n",
       "      <td>0.443333</td>\n",
       "      <td>0.796667</td>\n",
       "      <td>1.0</td>\n",
       "    </tr>\n",
       "    <tr>\n",
       "      <th>5116</th>\n",
       "      <td>S32T157</td>\n",
       "      <td>32</td>\n",
       "      <td>0.794444</td>\n",
       "      <td>0.447778</td>\n",
       "      <td>3.0</td>\n",
       "    </tr>\n",
       "    <tr>\n",
       "      <th>5117</th>\n",
       "      <td>S32T158</td>\n",
       "      <td>32</td>\n",
       "      <td>0.794444</td>\n",
       "      <td>0.447778</td>\n",
       "      <td>3.0</td>\n",
       "    </tr>\n",
       "    <tr>\n",
       "      <th>5118</th>\n",
       "      <td>S32T159</td>\n",
       "      <td>32</td>\n",
       "      <td>0.794444</td>\n",
       "      <td>0.447778</td>\n",
       "      <td>3.0</td>\n",
       "    </tr>\n",
       "    <tr>\n",
       "      <th>5119</th>\n",
       "      <td>S32T160</td>\n",
       "      <td>32</td>\n",
       "      <td>0.794444</td>\n",
       "      <td>0.447778</td>\n",
       "      <td>3.0</td>\n",
       "    </tr>\n",
       "  </tbody>\n",
       "</table>\n",
       "<p>5120 rows × 5 columns</p>\n",
       "</div>"
      ],
      "text/plain": [
       "     file_name  subject_label   valence   arousal  emotion_quad\n",
       "0         S1T1              1  0.856667  0.844444           0.0\n",
       "1         S1T2              1  0.856667  0.844444           0.0\n",
       "2         S1T3              1  0.856667  0.844444           0.0\n",
       "3         S1T4              1  0.856667  0.844444           0.0\n",
       "4         S1T5              1  0.900000  0.812222           0.0\n",
       "...        ...            ...       ...       ...           ...\n",
       "5115   S32T156             32  0.443333  0.796667           1.0\n",
       "5116   S32T157             32  0.794444  0.447778           3.0\n",
       "5117   S32T158             32  0.794444  0.447778           3.0\n",
       "5118   S32T159             32  0.794444  0.447778           3.0\n",
       "5119   S32T160             32  0.794444  0.447778           3.0\n",
       "\n",
       "[5120 rows x 5 columns]"
      ]
     },
     "execution_count": 12,
     "metadata": {},
     "output_type": "execute_result"
    }
   ],
   "source": [
    "df=df.reset_index(drop=True); df"
   ]
  },
  {
   "cell_type": "code",
   "execution_count": 13,
   "metadata": {
    "ExecuteTime": {
     "end_time": "2020-10-15T23:18:36.067201Z",
     "start_time": "2020-10-15T23:18:36.052229Z"
    }
   },
   "outputs": [
    {
     "data": {
      "text/plain": [
       "PosixPath('/media/tris/tris_files/EEG_datasets/OMA/window')"
      ]
     },
     "execution_count": 13,
     "metadata": {},
     "output_type": "execute_result"
    }
   ],
   "source": [
    "path=pathlib.Path('/media/tris/tris_files/EEG_datasets/OMA/window')\n",
    "path"
   ]
  },
  {
   "cell_type": "code",
   "execution_count": 14,
   "metadata": {
    "ExecuteTime": {
     "end_time": "2020-10-15T23:18:36.104619Z",
     "start_time": "2020-10-15T23:18:36.068244Z"
    }
   },
   "outputs": [],
   "source": [
    "df.to_csv(path/'labels_proc_window.csv', index=False)"
   ]
  },
  {
   "cell_type": "code",
   "execution_count": 15,
   "metadata": {
    "ExecuteTime": {
     "end_time": "2020-10-15T23:18:36.128009Z",
     "start_time": "2020-10-15T23:18:36.105657Z"
    }
   },
   "outputs": [
    {
     "data": {
      "text/html": [
       "<div>\n",
       "<style scoped>\n",
       "    .dataframe tbody tr th:only-of-type {\n",
       "        vertical-align: middle;\n",
       "    }\n",
       "\n",
       "    .dataframe tbody tr th {\n",
       "        vertical-align: top;\n",
       "    }\n",
       "\n",
       "    .dataframe thead th {\n",
       "        text-align: right;\n",
       "    }\n",
       "</style>\n",
       "<table border=\"1\" class=\"dataframe\">\n",
       "  <thead>\n",
       "    <tr style=\"text-align: right;\">\n",
       "      <th></th>\n",
       "      <th>file_name</th>\n",
       "      <th>subject_label</th>\n",
       "      <th>valence</th>\n",
       "      <th>arousal</th>\n",
       "      <th>emotion_quad</th>\n",
       "    </tr>\n",
       "  </thead>\n",
       "  <tbody>\n",
       "    <tr>\n",
       "      <th>5115</th>\n",
       "      <td>S32T156</td>\n",
       "      <td>32</td>\n",
       "      <td>0.443333</td>\n",
       "      <td>0.796667</td>\n",
       "      <td>1.0</td>\n",
       "    </tr>\n",
       "    <tr>\n",
       "      <th>5116</th>\n",
       "      <td>S32T157</td>\n",
       "      <td>32</td>\n",
       "      <td>0.794444</td>\n",
       "      <td>0.447778</td>\n",
       "      <td>3.0</td>\n",
       "    </tr>\n",
       "    <tr>\n",
       "      <th>5117</th>\n",
       "      <td>S32T158</td>\n",
       "      <td>32</td>\n",
       "      <td>0.794444</td>\n",
       "      <td>0.447778</td>\n",
       "      <td>3.0</td>\n",
       "    </tr>\n",
       "    <tr>\n",
       "      <th>5118</th>\n",
       "      <td>S32T159</td>\n",
       "      <td>32</td>\n",
       "      <td>0.794444</td>\n",
       "      <td>0.447778</td>\n",
       "      <td>3.0</td>\n",
       "    </tr>\n",
       "    <tr>\n",
       "      <th>5119</th>\n",
       "      <td>S32T160</td>\n",
       "      <td>32</td>\n",
       "      <td>0.794444</td>\n",
       "      <td>0.447778</td>\n",
       "      <td>3.0</td>\n",
       "    </tr>\n",
       "  </tbody>\n",
       "</table>\n",
       "</div>"
      ],
      "text/plain": [
       "     file_name  subject_label   valence   arousal  emotion_quad\n",
       "5115   S32T156             32  0.443333  0.796667           1.0\n",
       "5116   S32T157             32  0.794444  0.447778           3.0\n",
       "5117   S32T158             32  0.794444  0.447778           3.0\n",
       "5118   S32T159             32  0.794444  0.447778           3.0\n",
       "5119   S32T160             32  0.794444  0.447778           3.0"
      ]
     },
     "execution_count": 15,
     "metadata": {},
     "output_type": "execute_result"
    }
   ],
   "source": [
    "df = pd.read_csv(path/'labels_proc_window.csv') #load labels\n",
    "df.tail()"
   ]
  },
  {
   "cell_type": "code",
   "execution_count": 16,
   "metadata": {
    "ExecuteTime": {
     "end_time": "2020-10-15T23:18:36.465469Z",
     "start_time": "2020-10-15T23:18:36.128973Z"
    }
   },
   "outputs": [
    {
     "data": {
      "text/plain": [
       "array([[<matplotlib.axes._subplots.AxesSubplot object at 0x7f392bce08d0>,\n",
       "        <matplotlib.axes._subplots.AxesSubplot object at 0x7f392c92fdd0>],\n",
       "       [<matplotlib.axes._subplots.AxesSubplot object at 0x7f392c8ee610>,\n",
       "        <matplotlib.axes._subplots.AxesSubplot object at 0x7f392c89fe10>]], dtype=object)"
      ]
     },
     "execution_count": 16,
     "metadata": {},
     "output_type": "execute_result"
    },
    {
     "data": {
      "image/png": "[encoded data removed]",
      "text/plain": [
       "<Figure size 432x288 with 4 Axes>"
      ]
     },
     "metadata": {
      "needs_background": "light"
     },
     "output_type": "display_data"
    }
   ],
   "source": [
    "df.hist()"
   ]
  },
  {
   "cell_type": "code",
   "execution_count": 17,
   "metadata": {
    "ExecuteTime": {
     "end_time": "2020-10-15T23:18:36.481043Z",
     "start_time": "2020-10-15T23:18:36.466509Z"
    }
   },
   "outputs": [],
   "source": [
    "PATH = \"/media/tris/tris_files/EEG_datasets/OMA/window\""
   ]
  },
  {
   "cell_type": "code",
   "execution_count": 18,
   "metadata": {
    "ExecuteTime": {
     "end_time": "2020-10-15T23:18:36.885019Z",
     "start_time": "2020-10-15T23:18:36.482093Z"
    }
   },
   "outputs": [
    {
     "data": {
      "text/html": [
       "<div>\n",
       "<style scoped>\n",
       "    .dataframe tbody tr th:only-of-type {\n",
       "        vertical-align: middle;\n",
       "    }\n",
       "\n",
       "    .dataframe tbody tr th {\n",
       "        vertical-align: top;\n",
       "    }\n",
       "\n",
       "    .dataframe thead th {\n",
       "        text-align: right;\n",
       "    }\n",
       "</style>\n",
       "<table border=\"1\" class=\"dataframe\">\n",
       "  <thead>\n",
       "    <tr style=\"text-align: right;\">\n",
       "      <th></th>\n",
       "      <th>Subject</th>\n",
       "      <th>Trial</th>\n",
       "      <th>Real_Comp1_Mode1</th>\n",
       "      <th>Real_Comp2_Mode1</th>\n",
       "      <th>Real_Comp3_Mode1</th>\n",
       "      <th>Real_Comp4_Mode1</th>\n",
       "      <th>Real_Comp5_Mode1</th>\n",
       "      <th>Real_Comp6_Mode1</th>\n",
       "      <th>Real_Comp7_Mode1</th>\n",
       "      <th>Real_Comp8_Mode1</th>\n",
       "      <th>...</th>\n",
       "      <th>zeta5</th>\n",
       "      <th>zeta6</th>\n",
       "      <th>zeta7</th>\n",
       "      <th>fn1</th>\n",
       "      <th>fn2</th>\n",
       "      <th>fn3</th>\n",
       "      <th>fn4</th>\n",
       "      <th>fn5</th>\n",
       "      <th>fn6</th>\n",
       "      <th>fn7</th>\n",
       "    </tr>\n",
       "  </thead>\n",
       "  <tbody>\n",
       "    <tr>\n",
       "      <th>0</th>\n",
       "      <td>1</td>\n",
       "      <td>1</td>\n",
       "      <td>0.081948</td>\n",
       "      <td>-0.045425</td>\n",
       "      <td>-0.015341</td>\n",
       "      <td>-0.076406</td>\n",
       "      <td>0.171911</td>\n",
       "      <td>0.138256</td>\n",
       "      <td>-0.036334</td>\n",
       "      <td>-0.163510</td>\n",
       "      <td>...</td>\n",
       "      <td>-0.051060</td>\n",
       "      <td>-0.077595</td>\n",
       "      <td>-0.035316</td>\n",
       "      <td>0.044253</td>\n",
       "      <td>-0.011422</td>\n",
       "      <td>0.032761</td>\n",
       "      <td>0.036446</td>\n",
       "      <td>0.093352</td>\n",
       "      <td>0.019047</td>\n",
       "      <td>45.343738</td>\n",
       "    </tr>\n",
       "    <tr>\n",
       "      <th>1</th>\n",
       "      <td>1</td>\n",
       "      <td>2</td>\n",
       "      <td>0.049658</td>\n",
       "      <td>0.009936</td>\n",
       "      <td>0.017493</td>\n",
       "      <td>-0.036572</td>\n",
       "      <td>0.046062</td>\n",
       "      <td>0.030815</td>\n",
       "      <td>-0.004333</td>\n",
       "      <td>-0.053269</td>\n",
       "      <td>...</td>\n",
       "      <td>-0.313788</td>\n",
       "      <td>-0.102129</td>\n",
       "      <td>0.234990</td>\n",
       "      <td>0.556034</td>\n",
       "      <td>-0.339402</td>\n",
       "      <td>-0.340453</td>\n",
       "      <td>-0.097615</td>\n",
       "      <td>0.110119</td>\n",
       "      <td>0.011303</td>\n",
       "      <td>41.336668</td>\n",
       "    </tr>\n",
       "    <tr>\n",
       "      <th>2</th>\n",
       "      <td>1</td>\n",
       "      <td>3</td>\n",
       "      <td>0.168706</td>\n",
       "      <td>-0.067328</td>\n",
       "      <td>0.087951</td>\n",
       "      <td>-0.029108</td>\n",
       "      <td>0.285195</td>\n",
       "      <td>0.090563</td>\n",
       "      <td>-0.165873</td>\n",
       "      <td>-0.376551</td>\n",
       "      <td>...</td>\n",
       "      <td>0.178666</td>\n",
       "      <td>-0.025014</td>\n",
       "      <td>-0.349329</td>\n",
       "      <td>-0.488738</td>\n",
       "      <td>0.337106</td>\n",
       "      <td>0.338119</td>\n",
       "      <td>0.184487</td>\n",
       "      <td>-0.002215</td>\n",
       "      <td>0.019710</td>\n",
       "      <td>40.198276</td>\n",
       "    </tr>\n",
       "    <tr>\n",
       "      <th>3</th>\n",
       "      <td>1</td>\n",
       "      <td>4</td>\n",
       "      <td>-0.195931</td>\n",
       "      <td>0.064528</td>\n",
       "      <td>-0.073303</td>\n",
       "      <td>0.056689</td>\n",
       "      <td>-0.257539</td>\n",
       "      <td>-0.099162</td>\n",
       "      <td>0.151166</td>\n",
       "      <td>0.382519</td>\n",
       "      <td>...</td>\n",
       "      <td>0.200335</td>\n",
       "      <td>-0.001949</td>\n",
       "      <td>-0.208238</td>\n",
       "      <td>-0.534020</td>\n",
       "      <td>0.417333</td>\n",
       "      <td>0.369180</td>\n",
       "      <td>0.162184</td>\n",
       "      <td>-0.209589</td>\n",
       "      <td>0.009616</td>\n",
       "      <td>48.866446</td>\n",
       "    </tr>\n",
       "    <tr>\n",
       "      <th>4</th>\n",
       "      <td>1</td>\n",
       "      <td>5</td>\n",
       "      <td>-0.122429</td>\n",
       "      <td>0.024698</td>\n",
       "      <td>0.052268</td>\n",
       "      <td>0.085952</td>\n",
       "      <td>-0.197063</td>\n",
       "      <td>-0.162514</td>\n",
       "      <td>0.035680</td>\n",
       "      <td>0.108430</td>\n",
       "      <td>...</td>\n",
       "      <td>-0.178251</td>\n",
       "      <td>-0.066832</td>\n",
       "      <td>0.178333</td>\n",
       "      <td>0.325097</td>\n",
       "      <td>-0.204320</td>\n",
       "      <td>-0.241421</td>\n",
       "      <td>-0.034872</td>\n",
       "      <td>0.097101</td>\n",
       "      <td>0.006341</td>\n",
       "      <td>47.811462</td>\n",
       "    </tr>\n",
       "    <tr>\n",
       "      <th>...</th>\n",
       "      <td>...</td>\n",
       "      <td>...</td>\n",
       "      <td>...</td>\n",
       "      <td>...</td>\n",
       "      <td>...</td>\n",
       "      <td>...</td>\n",
       "      <td>...</td>\n",
       "      <td>...</td>\n",
       "      <td>...</td>\n",
       "      <td>...</td>\n",
       "      <td>...</td>\n",
       "      <td>...</td>\n",
       "      <td>...</td>\n",
       "      <td>...</td>\n",
       "      <td>...</td>\n",
       "      <td>...</td>\n",
       "      <td>...</td>\n",
       "      <td>...</td>\n",
       "      <td>...</td>\n",
       "      <td>...</td>\n",
       "      <td>...</td>\n",
       "    </tr>\n",
       "    <tr>\n",
       "      <th>5115</th>\n",
       "      <td>32</td>\n",
       "      <td>156</td>\n",
       "      <td>-0.357643</td>\n",
       "      <td>-0.491085</td>\n",
       "      <td>0.209572</td>\n",
       "      <td>-0.171950</td>\n",
       "      <td>0.338017</td>\n",
       "      <td>0.007259</td>\n",
       "      <td>0.585254</td>\n",
       "      <td>0.222424</td>\n",
       "      <td>...</td>\n",
       "      <td>0.130738</td>\n",
       "      <td>0.157728</td>\n",
       "      <td>-0.073260</td>\n",
       "      <td>0.035155</td>\n",
       "      <td>-0.099400</td>\n",
       "      <td>-0.010219</td>\n",
       "      <td>-0.206379</td>\n",
       "      <td>-0.079857</td>\n",
       "      <td>0.014983</td>\n",
       "      <td>30.739507</td>\n",
       "    </tr>\n",
       "    <tr>\n",
       "      <th>5116</th>\n",
       "      <td>32</td>\n",
       "      <td>157</td>\n",
       "      <td>-0.358014</td>\n",
       "      <td>-0.582069</td>\n",
       "      <td>0.212574</td>\n",
       "      <td>-0.247489</td>\n",
       "      <td>0.437359</td>\n",
       "      <td>0.003154</td>\n",
       "      <td>0.714734</td>\n",
       "      <td>0.266580</td>\n",
       "      <td>...</td>\n",
       "      <td>0.000000</td>\n",
       "      <td>0.000000</td>\n",
       "      <td>0.000000</td>\n",
       "      <td>0.000000</td>\n",
       "      <td>0.000000</td>\n",
       "      <td>0.000000</td>\n",
       "      <td>0.000000</td>\n",
       "      <td>0.000000</td>\n",
       "      <td>1.000000</td>\n",
       "      <td>28.682687</td>\n",
       "    </tr>\n",
       "    <tr>\n",
       "      <th>5117</th>\n",
       "      <td>32</td>\n",
       "      <td>158</td>\n",
       "      <td>-0.379006</td>\n",
       "      <td>-0.487530</td>\n",
       "      <td>0.214247</td>\n",
       "      <td>-0.157777</td>\n",
       "      <td>0.327218</td>\n",
       "      <td>0.016778</td>\n",
       "      <td>0.575243</td>\n",
       "      <td>0.213227</td>\n",
       "      <td>...</td>\n",
       "      <td>-0.015303</td>\n",
       "      <td>-0.231798</td>\n",
       "      <td>0.010316</td>\n",
       "      <td>-0.188196</td>\n",
       "      <td>0.253593</td>\n",
       "      <td>-0.023508</td>\n",
       "      <td>0.315596</td>\n",
       "      <td>0.116271</td>\n",
       "      <td>0.032695</td>\n",
       "      <td>26.565669</td>\n",
       "    </tr>\n",
       "    <tr>\n",
       "      <th>5118</th>\n",
       "      <td>32</td>\n",
       "      <td>159</td>\n",
       "      <td>0.111528</td>\n",
       "      <td>0.150362</td>\n",
       "      <td>-0.060776</td>\n",
       "      <td>0.045534</td>\n",
       "      <td>-0.100818</td>\n",
       "      <td>-0.012377</td>\n",
       "      <td>-0.170067</td>\n",
       "      <td>-0.047020</td>\n",
       "      <td>...</td>\n",
       "      <td>0.194464</td>\n",
       "      <td>0.271677</td>\n",
       "      <td>-0.133987</td>\n",
       "      <td>0.107742</td>\n",
       "      <td>-0.205606</td>\n",
       "      <td>0.007676</td>\n",
       "      <td>-0.341775</td>\n",
       "      <td>-0.160257</td>\n",
       "      <td>0.007078</td>\n",
       "      <td>27.228309</td>\n",
       "    </tr>\n",
       "    <tr>\n",
       "      <th>5119</th>\n",
       "      <td>32</td>\n",
       "      <td>160</td>\n",
       "      <td>0.215345</td>\n",
       "      <td>0.465507</td>\n",
       "      <td>-0.140404</td>\n",
       "      <td>0.239657</td>\n",
       "      <td>-0.376952</td>\n",
       "      <td>0.016717</td>\n",
       "      <td>-0.574127</td>\n",
       "      <td>-0.221902</td>\n",
       "      <td>...</td>\n",
       "      <td>-0.283264</td>\n",
       "      <td>-0.328863</td>\n",
       "      <td>0.174402</td>\n",
       "      <td>-0.075506</td>\n",
       "      <td>0.190160</td>\n",
       "      <td>0.017348</td>\n",
       "      <td>0.388787</td>\n",
       "      <td>0.165252</td>\n",
       "      <td>0.019329</td>\n",
       "      <td>28.729179</td>\n",
       "    </tr>\n",
       "  </tbody>\n",
       "</table>\n",
       "<p>5120 rows × 464 columns</p>\n",
       "</div>"
      ],
      "text/plain": [
       "      Subject  Trial  Real_Comp1_Mode1  Real_Comp2_Mode1  Real_Comp3_Mode1  \\\n",
       "0           1      1          0.081948         -0.045425         -0.015341   \n",
       "1           1      2          0.049658          0.009936          0.017493   \n",
       "2           1      3          0.168706         -0.067328          0.087951   \n",
       "3           1      4         -0.195931          0.064528         -0.073303   \n",
       "4           1      5         -0.122429          0.024698          0.052268   \n",
       "...       ...    ...               ...               ...               ...   \n",
       "5115       32    156         -0.357643         -0.491085          0.209572   \n",
       "5116       32    157         -0.358014         -0.582069          0.212574   \n",
       "5117       32    158         -0.379006         -0.487530          0.214247   \n",
       "5118       32    159          0.111528          0.150362         -0.060776   \n",
       "5119       32    160          0.215345          0.465507         -0.140404   \n",
       "\n",
       "      Real_Comp4_Mode1  Real_Comp5_Mode1  Real_Comp6_Mode1  Real_Comp7_Mode1  \\\n",
       "0            -0.076406          0.171911          0.138256         -0.036334   \n",
       "1            -0.036572          0.046062          0.030815         -0.004333   \n",
       "2            -0.029108          0.285195          0.090563         -0.165873   \n",
       "3             0.056689         -0.257539         -0.099162          0.151166   \n",
       "4             0.085952         -0.197063         -0.162514          0.035680   \n",
       "...                ...               ...               ...               ...   \n",
       "5115         -0.171950          0.338017          0.007259          0.585254   \n",
       "5116         -0.247489          0.437359          0.003154          0.714734   \n",
       "5117         -0.157777          0.327218          0.016778          0.575243   \n",
       "5118          0.045534         -0.100818         -0.012377         -0.170067   \n",
       "5119          0.239657         -0.376952          0.016717         -0.574127   \n",
       "\n",
       "      Real_Comp8_Mode1  ...     zeta5     zeta6     zeta7       fn1       fn2  \\\n",
       "0            -0.163510  ... -0.051060 -0.077595 -0.035316  0.044253 -0.011422   \n",
       "1            -0.053269  ... -0.313788 -0.102129  0.234990  0.556034 -0.339402   \n",
       "2            -0.376551  ...  0.178666 -0.025014 -0.349329 -0.488738  0.337106   \n",
       "3             0.382519  ...  0.200335 -0.001949 -0.208238 -0.534020  0.417333   \n",
       "4             0.108430  ... -0.178251 -0.066832  0.178333  0.325097 -0.204320   \n",
       "...                ...  ...       ...       ...       ...       ...       ...   \n",
       "5115          0.222424  ...  0.130738  0.157728 -0.073260  0.035155 -0.099400   \n",
       "5116          0.266580  ...  0.000000  0.000000  0.000000  0.000000  0.000000   \n",
       "5117          0.213227  ... -0.015303 -0.231798  0.010316 -0.188196  0.253593   \n",
       "5118         -0.047020  ...  0.194464  0.271677 -0.133987  0.107742 -0.205606   \n",
       "5119         -0.221902  ... -0.283264 -0.328863  0.174402 -0.075506  0.190160   \n",
       "\n",
       "           fn3       fn4       fn5       fn6        fn7  \n",
       "0     0.032761  0.036446  0.093352  0.019047  45.343738  \n",
       "1    -0.340453 -0.097615  0.110119  0.011303  41.336668  \n",
       "2     0.338119  0.184487 -0.002215  0.019710  40.198276  \n",
       "3     0.369180  0.162184 -0.209589  0.009616  48.866446  \n",
       "4    -0.241421 -0.034872  0.097101  0.006341  47.811462  \n",
       "...        ...       ...       ...       ...        ...  \n",
       "5115 -0.010219 -0.206379 -0.079857  0.014983  30.739507  \n",
       "5116  0.000000  0.000000  0.000000  1.000000  28.682687  \n",
       "5117 -0.023508  0.315596  0.116271  0.032695  26.565669  \n",
       "5118  0.007676 -0.341775 -0.160257  0.007078  27.228309  \n",
       "5119  0.017348  0.388787  0.165252  0.019329  28.729179  \n",
       "\n",
       "[5120 rows x 464 columns]"
      ]
     },
     "execution_count": 18,
     "metadata": {},
     "output_type": "execute_result"
    }
   ],
   "source": [
    "df_raw = pd.read_csv('/media/tris/tris_files/EEG_datasets/OMA/window/OMA_deap_window_head.csv')\n",
    "df_raw"
   ]
  },
  {
   "cell_type": "code",
   "execution_count": 19,
   "metadata": {
    "ExecuteTime": {
     "end_time": "2020-10-15T23:18:36.899998Z",
     "start_time": "2020-10-15T23:18:36.886112Z"
    }
   },
   "outputs": [],
   "source": [
    "emotion_quad = df['emotion_quad']\n",
    "# df_learn = df_raw.join(emotion_quad)\n",
    "df_learn=df_raw"
   ]
  },
  {
   "cell_type": "code",
   "execution_count": 20,
   "metadata": {
    "ExecuteTime": {
     "end_time": "2020-10-15T23:18:36.926408Z",
     "start_time": "2020-10-15T23:18:36.901200Z"
    }
   },
   "outputs": [
    {
     "data": {
      "text/html": [
       "<div>\n",
       "<style scoped>\n",
       "    .dataframe tbody tr th:only-of-type {\n",
       "        vertical-align: middle;\n",
       "    }\n",
       "\n",
       "    .dataframe tbody tr th {\n",
       "        vertical-align: top;\n",
       "    }\n",
       "\n",
       "    .dataframe thead th {\n",
       "        text-align: right;\n",
       "    }\n",
       "</style>\n",
       "<table border=\"1\" class=\"dataframe\">\n",
       "  <thead>\n",
       "    <tr style=\"text-align: right;\">\n",
       "      <th></th>\n",
       "      <th>Subject</th>\n",
       "      <th>Trial</th>\n",
       "      <th>Real_Comp1_Mode1</th>\n",
       "      <th>Real_Comp2_Mode1</th>\n",
       "      <th>Real_Comp3_Mode1</th>\n",
       "      <th>Real_Comp4_Mode1</th>\n",
       "      <th>Real_Comp5_Mode1</th>\n",
       "      <th>Real_Comp6_Mode1</th>\n",
       "      <th>Real_Comp7_Mode1</th>\n",
       "      <th>Real_Comp8_Mode1</th>\n",
       "      <th>...</th>\n",
       "      <th>zeta5</th>\n",
       "      <th>zeta6</th>\n",
       "      <th>zeta7</th>\n",
       "      <th>fn1</th>\n",
       "      <th>fn2</th>\n",
       "      <th>fn3</th>\n",
       "      <th>fn4</th>\n",
       "      <th>fn5</th>\n",
       "      <th>fn6</th>\n",
       "      <th>fn7</th>\n",
       "    </tr>\n",
       "  </thead>\n",
       "  <tbody>\n",
       "    <tr>\n",
       "      <th>40</th>\n",
       "      <td>1</td>\n",
       "      <td>41</td>\n",
       "      <td>0.039184</td>\n",
       "      <td>0.058918</td>\n",
       "      <td>-0.065916</td>\n",
       "      <td>-0.123054</td>\n",
       "      <td>0.146321</td>\n",
       "      <td>0.102099</td>\n",
       "      <td>0.081156</td>\n",
       "      <td>-0.021269</td>\n",
       "      <td>...</td>\n",
       "      <td>-0.03036</td>\n",
       "      <td>-0.036511</td>\n",
       "      <td>0.167833</td>\n",
       "      <td>0.226212</td>\n",
       "      <td>-0.148387</td>\n",
       "      <td>-0.210056</td>\n",
       "      <td>-0.299728</td>\n",
       "      <td>-0.136652</td>\n",
       "      <td>0.008732</td>\n",
       "      <td>45.824037</td>\n",
       "    </tr>\n",
       "  </tbody>\n",
       "</table>\n",
       "<p>1 rows × 464 columns</p>\n",
       "</div>"
      ],
      "text/plain": [
       "    Subject  Trial  Real_Comp1_Mode1  Real_Comp2_Mode1  Real_Comp3_Mode1  \\\n",
       "40        1     41          0.039184          0.058918         -0.065916   \n",
       "\n",
       "    Real_Comp4_Mode1  Real_Comp5_Mode1  Real_Comp6_Mode1  Real_Comp7_Mode1  \\\n",
       "40         -0.123054          0.146321          0.102099          0.081156   \n",
       "\n",
       "    Real_Comp8_Mode1  ...    zeta5     zeta6     zeta7       fn1       fn2  \\\n",
       "40         -0.021269  ... -0.03036 -0.036511  0.167833  0.226212 -0.148387   \n",
       "\n",
       "         fn3       fn4       fn5       fn6        fn7  \n",
       "40 -0.210056 -0.299728 -0.136652  0.008732  45.824037  \n",
       "\n",
       "[1 rows x 464 columns]"
      ]
     },
     "execution_count": 20,
     "metadata": {},
     "output_type": "execute_result"
    }
   ],
   "source": [
    "df_learn.iloc[[40],:]"
   ]
  },
  {
   "cell_type": "code",
   "execution_count": 21,
   "metadata": {
    "ExecuteTime": {
     "end_time": "2020-10-15T23:18:37.150576Z",
     "start_time": "2020-10-15T23:18:36.927463Z"
    }
   },
   "outputs": [],
   "source": [
    "os.makedirs('tmp', exist_ok=True)\n",
    "df_learn.to_feather('tmp/eeg-raw')"
   ]
  },
  {
   "cell_type": "code",
   "execution_count": 22,
   "metadata": {
    "ExecuteTime": {
     "end_time": "2020-10-15T23:18:37.214568Z",
     "start_time": "2020-10-15T23:18:37.155355Z"
    }
   },
   "outputs": [
    {
     "data": {
      "text/html": [
       "<div>\n",
       "<style scoped>\n",
       "    .dataframe tbody tr th:only-of-type {\n",
       "        vertical-align: middle;\n",
       "    }\n",
       "\n",
       "    .dataframe tbody tr th {\n",
       "        vertical-align: top;\n",
       "    }\n",
       "\n",
       "    .dataframe thead th {\n",
       "        text-align: right;\n",
       "    }\n",
       "</style>\n",
       "<table border=\"1\" class=\"dataframe\">\n",
       "  <thead>\n",
       "    <tr style=\"text-align: right;\">\n",
       "      <th></th>\n",
       "      <th>Subject</th>\n",
       "      <th>Trial</th>\n",
       "      <th>Real_Comp1_Mode1</th>\n",
       "      <th>Real_Comp2_Mode1</th>\n",
       "      <th>Real_Comp3_Mode1</th>\n",
       "      <th>Real_Comp4_Mode1</th>\n",
       "      <th>Real_Comp5_Mode1</th>\n",
       "      <th>Real_Comp6_Mode1</th>\n",
       "      <th>Real_Comp7_Mode1</th>\n",
       "      <th>Real_Comp8_Mode1</th>\n",
       "      <th>...</th>\n",
       "      <th>zeta5</th>\n",
       "      <th>zeta6</th>\n",
       "      <th>zeta7</th>\n",
       "      <th>fn1</th>\n",
       "      <th>fn2</th>\n",
       "      <th>fn3</th>\n",
       "      <th>fn4</th>\n",
       "      <th>fn5</th>\n",
       "      <th>fn6</th>\n",
       "      <th>fn7</th>\n",
       "    </tr>\n",
       "  </thead>\n",
       "  <tbody>\n",
       "    <tr>\n",
       "      <th>0</th>\n",
       "      <td>1</td>\n",
       "      <td>1</td>\n",
       "      <td>0.081948</td>\n",
       "      <td>-0.045425</td>\n",
       "      <td>-0.015341</td>\n",
       "      <td>-0.076406</td>\n",
       "      <td>0.171911</td>\n",
       "      <td>0.138256</td>\n",
       "      <td>-0.036334</td>\n",
       "      <td>-0.163510</td>\n",
       "      <td>...</td>\n",
       "      <td>-0.051060</td>\n",
       "      <td>-0.077595</td>\n",
       "      <td>-0.035316</td>\n",
       "      <td>0.044253</td>\n",
       "      <td>-0.011422</td>\n",
       "      <td>0.032761</td>\n",
       "      <td>0.036446</td>\n",
       "      <td>0.093352</td>\n",
       "      <td>0.019047</td>\n",
       "      <td>45.343738</td>\n",
       "    </tr>\n",
       "    <tr>\n",
       "      <th>1</th>\n",
       "      <td>1</td>\n",
       "      <td>2</td>\n",
       "      <td>0.049658</td>\n",
       "      <td>0.009936</td>\n",
       "      <td>0.017493</td>\n",
       "      <td>-0.036572</td>\n",
       "      <td>0.046062</td>\n",
       "      <td>0.030815</td>\n",
       "      <td>-0.004333</td>\n",
       "      <td>-0.053269</td>\n",
       "      <td>...</td>\n",
       "      <td>-0.313788</td>\n",
       "      <td>-0.102129</td>\n",
       "      <td>0.234990</td>\n",
       "      <td>0.556034</td>\n",
       "      <td>-0.339402</td>\n",
       "      <td>-0.340453</td>\n",
       "      <td>-0.097615</td>\n",
       "      <td>0.110119</td>\n",
       "      <td>0.011303</td>\n",
       "      <td>41.336668</td>\n",
       "    </tr>\n",
       "    <tr>\n",
       "      <th>2</th>\n",
       "      <td>1</td>\n",
       "      <td>3</td>\n",
       "      <td>0.168706</td>\n",
       "      <td>-0.067328</td>\n",
       "      <td>0.087951</td>\n",
       "      <td>-0.029108</td>\n",
       "      <td>0.285195</td>\n",
       "      <td>0.090563</td>\n",
       "      <td>-0.165873</td>\n",
       "      <td>-0.376551</td>\n",
       "      <td>...</td>\n",
       "      <td>0.178666</td>\n",
       "      <td>-0.025014</td>\n",
       "      <td>-0.349329</td>\n",
       "      <td>-0.488738</td>\n",
       "      <td>0.337106</td>\n",
       "      <td>0.338119</td>\n",
       "      <td>0.184487</td>\n",
       "      <td>-0.002215</td>\n",
       "      <td>0.019710</td>\n",
       "      <td>40.198276</td>\n",
       "    </tr>\n",
       "    <tr>\n",
       "      <th>3</th>\n",
       "      <td>1</td>\n",
       "      <td>4</td>\n",
       "      <td>-0.195931</td>\n",
       "      <td>0.064528</td>\n",
       "      <td>-0.073303</td>\n",
       "      <td>0.056689</td>\n",
       "      <td>-0.257539</td>\n",
       "      <td>-0.099162</td>\n",
       "      <td>0.151166</td>\n",
       "      <td>0.382519</td>\n",
       "      <td>...</td>\n",
       "      <td>0.200335</td>\n",
       "      <td>-0.001949</td>\n",
       "      <td>-0.208238</td>\n",
       "      <td>-0.534020</td>\n",
       "      <td>0.417333</td>\n",
       "      <td>0.369180</td>\n",
       "      <td>0.162184</td>\n",
       "      <td>-0.209589</td>\n",
       "      <td>0.009616</td>\n",
       "      <td>48.866446</td>\n",
       "    </tr>\n",
       "    <tr>\n",
       "      <th>4</th>\n",
       "      <td>1</td>\n",
       "      <td>5</td>\n",
       "      <td>-0.122429</td>\n",
       "      <td>0.024698</td>\n",
       "      <td>0.052268</td>\n",
       "      <td>0.085952</td>\n",
       "      <td>-0.197063</td>\n",
       "      <td>-0.162514</td>\n",
       "      <td>0.035680</td>\n",
       "      <td>0.108430</td>\n",
       "      <td>...</td>\n",
       "      <td>-0.178251</td>\n",
       "      <td>-0.066832</td>\n",
       "      <td>0.178333</td>\n",
       "      <td>0.325097</td>\n",
       "      <td>-0.204320</td>\n",
       "      <td>-0.241421</td>\n",
       "      <td>-0.034872</td>\n",
       "      <td>0.097101</td>\n",
       "      <td>0.006341</td>\n",
       "      <td>47.811462</td>\n",
       "    </tr>\n",
       "  </tbody>\n",
       "</table>\n",
       "<p>5 rows × 464 columns</p>\n",
       "</div>"
      ],
      "text/plain": [
       "   Subject  Trial  Real_Comp1_Mode1  Real_Comp2_Mode1  Real_Comp3_Mode1  \\\n",
       "0        1      1          0.081948         -0.045425         -0.015341   \n",
       "1        1      2          0.049658          0.009936          0.017493   \n",
       "2        1      3          0.168706         -0.067328          0.087951   \n",
       "3        1      4         -0.195931          0.064528         -0.073303   \n",
       "4        1      5         -0.122429          0.024698          0.052268   \n",
       "\n",
       "   Real_Comp4_Mode1  Real_Comp5_Mode1  Real_Comp6_Mode1  Real_Comp7_Mode1  \\\n",
       "0         -0.076406          0.171911          0.138256         -0.036334   \n",
       "1         -0.036572          0.046062          0.030815         -0.004333   \n",
       "2         -0.029108          0.285195          0.090563         -0.165873   \n",
       "3          0.056689         -0.257539         -0.099162          0.151166   \n",
       "4          0.085952         -0.197063         -0.162514          0.035680   \n",
       "\n",
       "   Real_Comp8_Mode1  ...     zeta5     zeta6     zeta7       fn1       fn2  \\\n",
       "0         -0.163510  ... -0.051060 -0.077595 -0.035316  0.044253 -0.011422   \n",
       "1         -0.053269  ... -0.313788 -0.102129  0.234990  0.556034 -0.339402   \n",
       "2         -0.376551  ...  0.178666 -0.025014 -0.349329 -0.488738  0.337106   \n",
       "3          0.382519  ...  0.200335 -0.001949 -0.208238 -0.534020  0.417333   \n",
       "4          0.108430  ... -0.178251 -0.066832  0.178333  0.325097 -0.204320   \n",
       "\n",
       "        fn3       fn4       fn5       fn6        fn7  \n",
       "0  0.032761  0.036446  0.093352  0.019047  45.343738  \n",
       "1 -0.340453 -0.097615  0.110119  0.011303  41.336668  \n",
       "2  0.338119  0.184487 -0.002215  0.019710  40.198276  \n",
       "3  0.369180  0.162184 -0.209589  0.009616  48.866446  \n",
       "4 -0.241421 -0.034872  0.097101  0.006341  47.811462  \n",
       "\n",
       "[5 rows x 464 columns]"
      ]
     },
     "execution_count": 22,
     "metadata": {},
     "output_type": "execute_result"
    }
   ],
   "source": [
    "import pandas as pd\n",
    "df_raw = pd.read_feather('tmp/eeg-raw') #lol raw sashimis and sushis\n",
    "df_raw.head()"
   ]
  },
  {
   "cell_type": "code",
   "execution_count": 23,
   "metadata": {
    "ExecuteTime": {
     "end_time": "2020-10-15T23:18:37.243016Z",
     "start_time": "2020-10-15T23:18:37.216744Z"
    }
   },
   "outputs": [
    {
     "data": {
      "text/html": [
       "<div>\n",
       "<style scoped>\n",
       "    .dataframe tbody tr th:only-of-type {\n",
       "        vertical-align: middle;\n",
       "    }\n",
       "\n",
       "    .dataframe tbody tr th {\n",
       "        vertical-align: top;\n",
       "    }\n",
       "\n",
       "    .dataframe thead th {\n",
       "        text-align: right;\n",
       "    }\n",
       "</style>\n",
       "<table border=\"1\" class=\"dataframe\">\n",
       "  <thead>\n",
       "    <tr style=\"text-align: right;\">\n",
       "      <th></th>\n",
       "      <th>Subject</th>\n",
       "      <th>Trial</th>\n",
       "      <th>Real_Comp1_Mode1</th>\n",
       "      <th>Real_Comp2_Mode1</th>\n",
       "      <th>Real_Comp3_Mode1</th>\n",
       "      <th>Real_Comp4_Mode1</th>\n",
       "      <th>Real_Comp5_Mode1</th>\n",
       "      <th>Real_Comp6_Mode1</th>\n",
       "      <th>Real_Comp7_Mode1</th>\n",
       "      <th>Real_Comp8_Mode1</th>\n",
       "      <th>...</th>\n",
       "      <th>zeta5</th>\n",
       "      <th>zeta6</th>\n",
       "      <th>zeta7</th>\n",
       "      <th>fn1</th>\n",
       "      <th>fn2</th>\n",
       "      <th>fn3</th>\n",
       "      <th>fn4</th>\n",
       "      <th>fn5</th>\n",
       "      <th>fn6</th>\n",
       "      <th>fn7</th>\n",
       "    </tr>\n",
       "  </thead>\n",
       "  <tbody>\n",
       "    <tr>\n",
       "      <th>100</th>\n",
       "      <td>1</td>\n",
       "      <td>101</td>\n",
       "      <td>0.295503</td>\n",
       "      <td>0.263211</td>\n",
       "      <td>-0.36884</td>\n",
       "      <td>-0.054941</td>\n",
       "      <td>0.174653</td>\n",
       "      <td>0.174065</td>\n",
       "      <td>-0.052186</td>\n",
       "      <td>-0.331137</td>\n",
       "      <td>...</td>\n",
       "      <td>-0.111255</td>\n",
       "      <td>-0.000796</td>\n",
       "      <td>0.111426</td>\n",
       "      <td>0.104641</td>\n",
       "      <td>-0.112401</td>\n",
       "      <td>-0.103564</td>\n",
       "      <td>0.01163</td>\n",
       "      <td>0.13046</td>\n",
       "      <td>0.002736</td>\n",
       "      <td>49.569047</td>\n",
       "    </tr>\n",
       "  </tbody>\n",
       "</table>\n",
       "<p>1 rows × 464 columns</p>\n",
       "</div>"
      ],
      "text/plain": [
       "     Subject  Trial  Real_Comp1_Mode1  Real_Comp2_Mode1  Real_Comp3_Mode1  \\\n",
       "100        1    101          0.295503          0.263211          -0.36884   \n",
       "\n",
       "     Real_Comp4_Mode1  Real_Comp5_Mode1  Real_Comp6_Mode1  Real_Comp7_Mode1  \\\n",
       "100         -0.054941          0.174653          0.174065         -0.052186   \n",
       "\n",
       "     Real_Comp8_Mode1  ...     zeta5     zeta6     zeta7       fn1       fn2  \\\n",
       "100         -0.331137  ... -0.111255 -0.000796  0.111426  0.104641 -0.112401   \n",
       "\n",
       "          fn3      fn4      fn5       fn6        fn7  \n",
       "100 -0.103564  0.01163  0.13046  0.002736  49.569047  \n",
       "\n",
       "[1 rows x 464 columns]"
      ]
     },
     "execution_count": 23,
     "metadata": {},
     "output_type": "execute_result"
    }
   ],
   "source": [
    "df_raw.iloc[[100],:]"
   ]
  },
  {
   "cell_type": "code",
   "execution_count": 24,
   "metadata": {
    "ExecuteTime": {
     "end_time": "2020-10-15T23:18:37.611359Z",
     "start_time": "2020-10-15T23:18:37.244418Z"
    }
   },
   "outputs": [
    {
     "data": {
      "text/plain": [
       "Text(0.5, 1.0, 'zeta6')"
      ]
     },
     "execution_count": 24,
     "metadata": {},
     "output_type": "execute_result"
    },
    {
     "data": {
      "image/png": "[encoded data removed]",
      "text/plain": [
       "<Figure size 1080x360 with 4 Axes>"
      ]
     },
     "metadata": {
      "needs_background": "light"
     },
     "output_type": "display_data"
    }
   ],
   "source": [
    "fig, axs = plt.subplots(1, 4, figsize=(15, 5))\n",
    "axs[0].hist(df_raw.Real_Comp1_Mode1)\n",
    "axs[0].set_title('Real_Comp1_Mode1')\n",
    "axs[1].hist(df_raw.fn7)\n",
    "axs[1].set_title('freq7')\n",
    "axs[2].hist(df_raw.Imag_Comp1_Mode3)\n",
    "axs[2].set_title('Imag Chan. 27')\n",
    "axs[3].hist(df_raw.zeta6)\n",
    "axs[3].set_title('zeta6')"
   ]
  },
  {
   "cell_type": "code",
   "execution_count": 47,
   "metadata": {
    "ExecuteTime": {
     "end_time": "2020-10-15T23:19:21.122280Z",
     "start_time": "2020-10-15T23:19:21.066085Z"
    }
   },
   "outputs": [
    {
     "data": {
      "text/html": [
       "<div>\n",
       "<style scoped>\n",
       "    .dataframe tbody tr th:only-of-type {\n",
       "        vertical-align: middle;\n",
       "    }\n",
       "\n",
       "    .dataframe tbody tr th {\n",
       "        vertical-align: top;\n",
       "    }\n",
       "\n",
       "    .dataframe thead th {\n",
       "        text-align: right;\n",
       "    }\n",
       "</style>\n",
       "<table border=\"1\" class=\"dataframe\">\n",
       "  <thead>\n",
       "    <tr style=\"text-align: right;\">\n",
       "      <th></th>\n",
       "      <th>Subject</th>\n",
       "      <th>Trial</th>\n",
       "      <th>Real_Comp1_Mode1</th>\n",
       "      <th>Real_Comp2_Mode1</th>\n",
       "      <th>Real_Comp3_Mode1</th>\n",
       "      <th>Real_Comp4_Mode1</th>\n",
       "      <th>Real_Comp5_Mode1</th>\n",
       "      <th>Real_Comp6_Mode1</th>\n",
       "      <th>Real_Comp7_Mode1</th>\n",
       "      <th>Real_Comp8_Mode1</th>\n",
       "      <th>...</th>\n",
       "      <th>zeta5</th>\n",
       "      <th>zeta6</th>\n",
       "      <th>zeta7</th>\n",
       "      <th>fn1</th>\n",
       "      <th>fn2</th>\n",
       "      <th>fn3</th>\n",
       "      <th>fn4</th>\n",
       "      <th>fn5</th>\n",
       "      <th>fn6</th>\n",
       "      <th>fn7</th>\n",
       "    </tr>\n",
       "  </thead>\n",
       "  <tbody>\n",
       "    <tr>\n",
       "      <th>3040</th>\n",
       "      <td>20</td>\n",
       "      <td>1</td>\n",
       "      <td>-0.056983</td>\n",
       "      <td>0.121494</td>\n",
       "      <td>0.122826</td>\n",
       "      <td>0.370707</td>\n",
       "      <td>0.259455</td>\n",
       "      <td>0.268945</td>\n",
       "      <td>-0.072952</td>\n",
       "      <td>-0.423519</td>\n",
       "      <td>...</td>\n",
       "      <td>-0.011264</td>\n",
       "      <td>0.006614</td>\n",
       "      <td>0.030698</td>\n",
       "      <td>0.128073</td>\n",
       "      <td>0.040066</td>\n",
       "      <td>0.036141</td>\n",
       "      <td>-0.018530</td>\n",
       "      <td>-0.084185</td>\n",
       "      <td>0.017676</td>\n",
       "      <td>39.917840</td>\n",
       "    </tr>\n",
       "    <tr>\n",
       "      <th>3041</th>\n",
       "      <td>20</td>\n",
       "      <td>2</td>\n",
       "      <td>-0.051022</td>\n",
       "      <td>0.107672</td>\n",
       "      <td>0.110119</td>\n",
       "      <td>0.357124</td>\n",
       "      <td>0.211579</td>\n",
       "      <td>0.263696</td>\n",
       "      <td>-0.118687</td>\n",
       "      <td>-0.330177</td>\n",
       "      <td>...</td>\n",
       "      <td>0.027428</td>\n",
       "      <td>-0.046467</td>\n",
       "      <td>-0.053315</td>\n",
       "      <td>-0.177649</td>\n",
       "      <td>-0.111414</td>\n",
       "      <td>-0.144880</td>\n",
       "      <td>0.071104</td>\n",
       "      <td>0.162073</td>\n",
       "      <td>0.034191</td>\n",
       "      <td>41.942799</td>\n",
       "    </tr>\n",
       "    <tr>\n",
       "      <th>3042</th>\n",
       "      <td>20</td>\n",
       "      <td>3</td>\n",
       "      <td>0.026027</td>\n",
       "      <td>0.067860</td>\n",
       "      <td>0.057757</td>\n",
       "      <td>0.180407</td>\n",
       "      <td>0.136766</td>\n",
       "      <td>0.129509</td>\n",
       "      <td>-0.047773</td>\n",
       "      <td>-0.210255</td>\n",
       "      <td>...</td>\n",
       "      <td>0.052946</td>\n",
       "      <td>-0.067048</td>\n",
       "      <td>-0.078516</td>\n",
       "      <td>-0.203363</td>\n",
       "      <td>-0.120417</td>\n",
       "      <td>-0.160872</td>\n",
       "      <td>0.062376</td>\n",
       "      <td>0.203119</td>\n",
       "      <td>0.013242</td>\n",
       "      <td>38.700241</td>\n",
       "    </tr>\n",
       "    <tr>\n",
       "      <th>3043</th>\n",
       "      <td>20</td>\n",
       "      <td>4</td>\n",
       "      <td>-0.015422</td>\n",
       "      <td>0.039077</td>\n",
       "      <td>0.042744</td>\n",
       "      <td>0.124100</td>\n",
       "      <td>0.086355</td>\n",
       "      <td>0.089485</td>\n",
       "      <td>-0.027165</td>\n",
       "      <td>-0.136750</td>\n",
       "      <td>...</td>\n",
       "      <td>-0.029321</td>\n",
       "      <td>-0.043078</td>\n",
       "      <td>-0.002096</td>\n",
       "      <td>-0.083490</td>\n",
       "      <td>-0.081462</td>\n",
       "      <td>-0.078701</td>\n",
       "      <td>0.022817</td>\n",
       "      <td>0.119484</td>\n",
       "      <td>0.016707</td>\n",
       "      <td>40.619493</td>\n",
       "    </tr>\n",
       "    <tr>\n",
       "      <th>3044</th>\n",
       "      <td>20</td>\n",
       "      <td>5</td>\n",
       "      <td>-0.035802</td>\n",
       "      <td>0.106297</td>\n",
       "      <td>0.109939</td>\n",
       "      <td>0.314577</td>\n",
       "      <td>0.194122</td>\n",
       "      <td>0.234018</td>\n",
       "      <td>-0.114754</td>\n",
       "      <td>-0.300023</td>\n",
       "      <td>...</td>\n",
       "      <td>-0.023527</td>\n",
       "      <td>0.042607</td>\n",
       "      <td>0.046197</td>\n",
       "      <td>0.168223</td>\n",
       "      <td>0.087952</td>\n",
       "      <td>0.116776</td>\n",
       "      <td>-0.068602</td>\n",
       "      <td>-0.134462</td>\n",
       "      <td>0.025168</td>\n",
       "      <td>43.002914</td>\n",
       "    </tr>\n",
       "    <tr>\n",
       "      <th>...</th>\n",
       "      <td>...</td>\n",
       "      <td>...</td>\n",
       "      <td>...</td>\n",
       "      <td>...</td>\n",
       "      <td>...</td>\n",
       "      <td>...</td>\n",
       "      <td>...</td>\n",
       "      <td>...</td>\n",
       "      <td>...</td>\n",
       "      <td>...</td>\n",
       "      <td>...</td>\n",
       "      <td>...</td>\n",
       "      <td>...</td>\n",
       "      <td>...</td>\n",
       "      <td>...</td>\n",
       "      <td>...</td>\n",
       "      <td>...</td>\n",
       "      <td>...</td>\n",
       "      <td>...</td>\n",
       "      <td>...</td>\n",
       "      <td>...</td>\n",
       "    </tr>\n",
       "    <tr>\n",
       "      <th>3195</th>\n",
       "      <td>20</td>\n",
       "      <td>156</td>\n",
       "      <td>-0.130403</td>\n",
       "      <td>-0.040159</td>\n",
       "      <td>-0.007582</td>\n",
       "      <td>-0.001925</td>\n",
       "      <td>-0.042419</td>\n",
       "      <td>0.124117</td>\n",
       "      <td>0.110720</td>\n",
       "      <td>0.089664</td>\n",
       "      <td>...</td>\n",
       "      <td>0.268996</td>\n",
       "      <td>0.102377</td>\n",
       "      <td>-0.120604</td>\n",
       "      <td>-0.230765</td>\n",
       "      <td>0.223091</td>\n",
       "      <td>-0.144767</td>\n",
       "      <td>-0.222682</td>\n",
       "      <td>-0.257049</td>\n",
       "      <td>0.024634</td>\n",
       "      <td>40.030387</td>\n",
       "    </tr>\n",
       "    <tr>\n",
       "      <th>3196</th>\n",
       "      <td>20</td>\n",
       "      <td>157</td>\n",
       "      <td>-0.391796</td>\n",
       "      <td>-0.162019</td>\n",
       "      <td>-0.036077</td>\n",
       "      <td>-0.006733</td>\n",
       "      <td>-0.126669</td>\n",
       "      <td>0.421110</td>\n",
       "      <td>0.372316</td>\n",
       "      <td>0.280346</td>\n",
       "      <td>...</td>\n",
       "      <td>-0.375279</td>\n",
       "      <td>-0.255828</td>\n",
       "      <td>-0.120273</td>\n",
       "      <td>0.093641</td>\n",
       "      <td>-0.099482</td>\n",
       "      <td>0.352651</td>\n",
       "      <td>0.380970</td>\n",
       "      <td>0.222986</td>\n",
       "      <td>0.014899</td>\n",
       "      <td>41.602871</td>\n",
       "    </tr>\n",
       "    <tr>\n",
       "      <th>3197</th>\n",
       "      <td>20</td>\n",
       "      <td>158</td>\n",
       "      <td>-0.413344</td>\n",
       "      <td>-0.174920</td>\n",
       "      <td>-0.035365</td>\n",
       "      <td>0.000787</td>\n",
       "      <td>-0.138799</td>\n",
       "      <td>0.449982</td>\n",
       "      <td>0.373947</td>\n",
       "      <td>0.282735</td>\n",
       "      <td>...</td>\n",
       "      <td>-0.128977</td>\n",
       "      <td>-0.068554</td>\n",
       "      <td>-0.065211</td>\n",
       "      <td>0.060042</td>\n",
       "      <td>-0.040111</td>\n",
       "      <td>0.144089</td>\n",
       "      <td>0.165944</td>\n",
       "      <td>0.092236</td>\n",
       "      <td>0.010396</td>\n",
       "      <td>39.646926</td>\n",
       "    </tr>\n",
       "    <tr>\n",
       "      <th>3198</th>\n",
       "      <td>20</td>\n",
       "      <td>159</td>\n",
       "      <td>-0.334815</td>\n",
       "      <td>-0.134735</td>\n",
       "      <td>-0.016694</td>\n",
       "      <td>0.001096</td>\n",
       "      <td>-0.125259</td>\n",
       "      <td>0.370330</td>\n",
       "      <td>0.302659</td>\n",
       "      <td>0.229224</td>\n",
       "      <td>...</td>\n",
       "      <td>0.174808</td>\n",
       "      <td>0.108698</td>\n",
       "      <td>0.061634</td>\n",
       "      <td>0.000600</td>\n",
       "      <td>0.032620</td>\n",
       "      <td>-0.213247</td>\n",
       "      <td>-0.196300</td>\n",
       "      <td>-0.084683</td>\n",
       "      <td>0.019365</td>\n",
       "      <td>39.772735</td>\n",
       "    </tr>\n",
       "    <tr>\n",
       "      <th>3199</th>\n",
       "      <td>20</td>\n",
       "      <td>160</td>\n",
       "      <td>0.560767</td>\n",
       "      <td>0.257931</td>\n",
       "      <td>0.068780</td>\n",
       "      <td>-0.009205</td>\n",
       "      <td>0.183485</td>\n",
       "      <td>-0.587320</td>\n",
       "      <td>-0.516796</td>\n",
       "      <td>-0.370477</td>\n",
       "      <td>...</td>\n",
       "      <td>-0.398974</td>\n",
       "      <td>-0.197314</td>\n",
       "      <td>0.103900</td>\n",
       "      <td>0.396878</td>\n",
       "      <td>-0.285524</td>\n",
       "      <td>0.242767</td>\n",
       "      <td>0.327580</td>\n",
       "      <td>0.357173</td>\n",
       "      <td>0.011261</td>\n",
       "      <td>40.360722</td>\n",
       "    </tr>\n",
       "  </tbody>\n",
       "</table>\n",
       "<p>160 rows × 464 columns</p>\n",
       "</div>"
      ],
      "text/plain": [
       "      Subject  Trial  Real_Comp1_Mode1  Real_Comp2_Mode1  Real_Comp3_Mode1  \\\n",
       "3040       20      1         -0.056983          0.121494          0.122826   \n",
       "3041       20      2         -0.051022          0.107672          0.110119   \n",
       "3042       20      3          0.026027          0.067860          0.057757   \n",
       "3043       20      4         -0.015422          0.039077          0.042744   \n",
       "3044       20      5         -0.035802          0.106297          0.109939   \n",
       "...       ...    ...               ...               ...               ...   \n",
       "3195       20    156         -0.130403         -0.040159         -0.007582   \n",
       "3196       20    157         -0.391796         -0.162019         -0.036077   \n",
       "3197       20    158         -0.413344         -0.174920         -0.035365   \n",
       "3198       20    159         -0.334815         -0.134735         -0.016694   \n",
       "3199       20    160          0.560767          0.257931          0.068780   \n",
       "\n",
       "      Real_Comp4_Mode1  Real_Comp5_Mode1  Real_Comp6_Mode1  Real_Comp7_Mode1  \\\n",
       "3040          0.370707          0.259455          0.268945         -0.072952   \n",
       "3041          0.357124          0.211579          0.263696         -0.118687   \n",
       "3042          0.180407          0.136766          0.129509         -0.047773   \n",
       "3043          0.124100          0.086355          0.089485         -0.027165   \n",
       "3044          0.314577          0.194122          0.234018         -0.114754   \n",
       "...                ...               ...               ...               ...   \n",
       "3195         -0.001925         -0.042419          0.124117          0.110720   \n",
       "3196         -0.006733         -0.126669          0.421110          0.372316   \n",
       "3197          0.000787         -0.138799          0.449982          0.373947   \n",
       "3198          0.001096         -0.125259          0.370330          0.302659   \n",
       "3199         -0.009205          0.183485         -0.587320         -0.516796   \n",
       "\n",
       "      Real_Comp8_Mode1  ...     zeta5     zeta6     zeta7       fn1       fn2  \\\n",
       "3040         -0.423519  ... -0.011264  0.006614  0.030698  0.128073  0.040066   \n",
       "3041         -0.330177  ...  0.027428 -0.046467 -0.053315 -0.177649 -0.111414   \n",
       "3042         -0.210255  ...  0.052946 -0.067048 -0.078516 -0.203363 -0.120417   \n",
       "3043         -0.136750  ... -0.029321 -0.043078 -0.002096 -0.083490 -0.081462   \n",
       "3044         -0.300023  ... -0.023527  0.042607  0.046197  0.168223  0.087952   \n",
       "...                ...  ...       ...       ...       ...       ...       ...   \n",
       "3195          0.089664  ...  0.268996  0.102377 -0.120604 -0.230765  0.223091   \n",
       "3196          0.280346  ... -0.375279 -0.255828 -0.120273  0.093641 -0.099482   \n",
       "3197          0.282735  ... -0.128977 -0.068554 -0.065211  0.060042 -0.040111   \n",
       "3198          0.229224  ...  0.174808  0.108698  0.061634  0.000600  0.032620   \n",
       "3199         -0.370477  ... -0.398974 -0.197314  0.103900  0.396878 -0.285524   \n",
       "\n",
       "           fn3       fn4       fn5       fn6        fn7  \n",
       "3040  0.036141 -0.018530 -0.084185  0.017676  39.917840  \n",
       "3041 -0.144880  0.071104  0.162073  0.034191  41.942799  \n",
       "3042 -0.160872  0.062376  0.203119  0.013242  38.700241  \n",
       "3043 -0.078701  0.022817  0.119484  0.016707  40.619493  \n",
       "3044  0.116776 -0.068602 -0.134462  0.025168  43.002914  \n",
       "...        ...       ...       ...       ...        ...  \n",
       "3195 -0.144767 -0.222682 -0.257049  0.024634  40.030387  \n",
       "3196  0.352651  0.380970  0.222986  0.014899  41.602871  \n",
       "3197  0.144089  0.165944  0.092236  0.010396  39.646926  \n",
       "3198 -0.213247 -0.196300 -0.084683  0.019365  39.772735  \n",
       "3199  0.242767  0.327580  0.357173  0.011261  40.360722  \n",
       "\n",
       "[160 rows x 464 columns]"
      ]
     },
     "execution_count": 47,
     "metadata": {},
     "output_type": "execute_result"
    }
   ],
   "source": [
    "df1_raw = df_raw[(df_raw['Subject'] == 20)]\n",
    "df1_raw"
   ]
  },
  {
   "cell_type": "code",
   "execution_count": 48,
   "metadata": {
    "ExecuteTime": {
     "end_time": "2020-10-15T23:19:21.324464Z",
     "start_time": "2020-10-15T23:19:21.292477Z"
    }
   },
   "outputs": [
    {
     "data": {
      "text/plain": [
       "3040    0.0\n",
       "3041    0.0\n",
       "3042    0.0\n",
       "3043    0.0\n",
       "3044    0.0\n",
       "       ... \n",
       "3195    0.0\n",
       "3196    3.0\n",
       "3197    3.0\n",
       "3198    3.0\n",
       "3199    3.0\n",
       "Name: emotion_quad, Length: 160, dtype: float64"
      ]
     },
     "execution_count": 48,
     "metadata": {},
     "output_type": "execute_result"
    }
   ],
   "source": [
    "emotion_quad1 = emotion_quad[(df['subject_label'] == 20)]\n",
    "emotion_quad1"
   ]
  },
  {
   "cell_type": "code",
   "execution_count": 49,
   "metadata": {
    "ExecuteTime": {
     "end_time": "2020-10-15T23:19:23.485988Z",
     "start_time": "2020-10-15T23:19:23.467691Z"
    }
   },
   "outputs": [],
   "source": [
    "X_train, X_test, y_train, y_test = train_test_split(\n",
    "    df1_raw, emotion_quad1, test_size=0.2, shuffle=True)"
   ]
  },
  {
   "cell_type": "code",
   "execution_count": 58,
   "metadata": {
    "ExecuteTime": {
     "end_time": "2020-10-15T23:19:39.899772Z",
     "start_time": "2020-10-15T23:19:39.880716Z"
    }
   },
   "outputs": [],
   "source": [
    "classifier = AdaBoostClassifier(n_estimators=5)"
   ]
  },
  {
   "cell_type": "code",
   "execution_count": 59,
   "metadata": {
    "ExecuteTime": {
     "end_time": "2020-10-15T23:19:40.201639Z",
     "start_time": "2020-10-15T23:19:40.137436Z"
    }
   },
   "outputs": [
    {
     "data": {
      "text/plain": [
       "AdaBoostClassifier(n_estimators=5)"
      ]
     },
     "execution_count": 59,
     "metadata": {},
     "output_type": "execute_result"
    }
   ],
   "source": [
    "classifier.fit(X_train, y_train)"
   ]
  },
  {
   "cell_type": "code",
   "execution_count": 60,
   "metadata": {
    "ExecuteTime": {
     "end_time": "2020-10-15T23:19:40.410920Z",
     "start_time": "2020-10-15T23:19:40.375185Z"
    }
   },
   "outputs": [],
   "source": [
    "predicted = classifier.predict(X_test)"
   ]
  },
  {
   "cell_type": "code",
   "execution_count": 61,
   "metadata": {
    "ExecuteTime": {
     "end_time": "2020-10-15T23:19:40.769853Z",
     "start_time": "2020-10-15T23:19:40.614684Z"
    }
   },
   "outputs": [
    {
     "name": "stdout",
     "output_type": "stream",
     "text": [
      "Classification report for classifier AdaBoostClassifier(n_estimators=5):\n",
      "              precision    recall  f1-score   support\n",
      "\n",
      "         0.0       0.83      0.26      0.40        19\n",
      "         1.0       0.54      0.88      0.67         8\n",
      "         2.0       1.00      0.33      0.50         3\n",
      "         3.0       0.08      0.50      0.14         2\n",
      "\n",
      "    accuracy                           0.44        32\n",
      "   macro avg       0.61      0.49      0.43        32\n",
      "weighted avg       0.73      0.44      0.46        32\n",
      "\n",
      "\n",
      "Confusion matrix:\n",
      "[[ 5  3  0 11]\n",
      " [ 1  7  0  0]\n",
      " [ 0  2  1  0]\n",
      " [ 0  1  0  1]]\n"
     ]
    },
    {
     "data": {
      "image/png": "[encoded data removed]",
      "text/plain": [
       "<Figure size 432x288 with 2 Axes>"
      ]
     },
     "metadata": {
      "needs_background": "light"
     },
     "output_type": "display_data"
    }
   ],
   "source": [
    "print(\"Classification report for classifier %s:\\n%s\\n\"\n",
    "      % (classifier, metrics.classification_report(y_test, predicted)))\n",
    "disp = metrics.plot_confusion_matrix(classifier, X_test, y_test)\n",
    "disp.figure_.suptitle(\"Confusion Matrix\")\n",
    "print(\"Confusion matrix:\\n%s\" % disp.confusion_matrix)"
   ]
  },
  {
   "cell_type": "code",
   "execution_count": 62,
   "metadata": {
    "ExecuteTime": {
     "end_time": "2020-10-15T23:19:42.186602Z",
     "start_time": "2020-10-15T23:19:42.172140Z"
    }
   },
   "outputs": [],
   "source": [
    "classifier = svm.SVC(gamma=0.2, kernel='poly', degree=5)"
   ]
  },
  {
   "cell_type": "code",
   "execution_count": 55,
   "metadata": {
    "ExecuteTime": {
     "end_time": "2020-10-15T23:19:28.511611Z",
     "start_time": "2020-10-15T23:19:28.447168Z"
    }
   },
   "outputs": [
    {
     "data": {
      "text/plain": [
       "SVC(degree=5, gamma=0.2, kernel='poly')"
      ]
     },
     "execution_count": 55,
     "metadata": {},
     "output_type": "execute_result"
    }
   ],
   "source": [
    "classifier.fit(X_train, y_train)"
   ]
  },
  {
   "cell_type": "code",
   "execution_count": 56,
   "metadata": {
    "ExecuteTime": {
     "end_time": "2020-10-15T23:19:28.772053Z",
     "start_time": "2020-10-15T23:19:28.737754Z"
    }
   },
   "outputs": [],
   "source": [
    "predicted = classifier.predict(X_test)"
   ]
  },
  {
   "cell_type": "code",
   "execution_count": 57,
   "metadata": {
    "ExecuteTime": {
     "end_time": "2020-10-15T23:19:29.139384Z",
     "start_time": "2020-10-15T23:19:28.986551Z"
    }
   },
   "outputs": [
    {
     "name": "stdout",
     "output_type": "stream",
     "text": [
      "Classification report for classifier SVC(degree=5, gamma=0.2, kernel='poly'):\n",
      "              precision    recall  f1-score   support\n",
      "\n",
      "         0.0       0.71      0.53      0.61        19\n",
      "         1.0       0.45      0.62      0.53         8\n",
      "         2.0       0.00      0.00      0.00         3\n",
      "         3.0       0.00      0.00      0.00         2\n",
      "\n",
      "    accuracy                           0.47        32\n",
      "   macro avg       0.29      0.29      0.28        32\n",
      "weighted avg       0.54      0.47      0.49        32\n",
      "\n",
      "\n",
      "Confusion matrix:\n",
      "[[10  4  1  4]\n",
      " [ 2  5  0  1]\n",
      " [ 1  1  0  1]\n",
      " [ 1  1  0  0]]\n"
     ]
    },
    {
     "data": {
      "image/png": "[encoded data removed]",
      "text/plain": [
       "<Figure size 432x288 with 2 Axes>"
      ]
     },
     "metadata": {
      "needs_background": "light"
     },
     "output_type": "display_data"
    }
   ],
   "source": [
    "print(\"Classification report for classifier %s:\\n%s\\n\"\n",
    "      % (classifier, metrics.classification_report(y_test, predicted)))\n",
    "disp = metrics.plot_confusion_matrix(classifier, X_test, y_test)\n",
    "disp.figure_.suptitle(\"Confusion Matrix\")\n",
    "print(\"Confusion matrix:\\n%s\" % disp.confusion_matrix)"
   ]
  },
  {
   "cell_type": "code",
   "execution_count": null,
   "metadata": {},
   "outputs": [],
   "source": []
  }
 ],
 "metadata": {
  "kernelspec": {
   "display_name": "Python 3",
   "language": "python",
   "name": "python3"
  },
  "language_info": {
   "codemirror_mode": {
    "name": "ipython",
    "version": 3
   },
   "file_extension": ".py",
   "mimetype": "text/x-python",
   "name": "python",
   "nbconvert_exporter": "python",
   "pygments_lexer": "ipython3",
   "version": "3.7.6"
  }
 },
 "nbformat": 4,
 "nbformat_minor": 2
}
