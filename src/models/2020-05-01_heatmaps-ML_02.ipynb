{
 "cells": [
  {
   "cell_type": "markdown",
   "metadata": {},
   "source": [
    "# Single Subject"
   ]
  },
  {
   "cell_type": "code",
   "execution_count": 1,
   "metadata": {
    "ExecuteTime": {
     "end_time": "2020-05-01T16:11:03.278371Z",
     "start_time": "2020-05-01T16:11:03.102985Z"
    }
   },
   "outputs": [],
   "source": [
    "%reload_ext autoreload\n",
    "%autoreload 2\n",
    "%matplotlib inline"
   ]
  },
  {
   "cell_type": "code",
   "execution_count": 2,
   "metadata": {
    "ExecuteTime": {
     "end_time": "2020-05-01T16:11:03.421997Z",
     "start_time": "2020-05-01T16:11:03.408502Z"
    }
   },
   "outputs": [
    {
     "data": {
      "application/javascript": [
       "utils.load_extension('collapsible_headings/main')\n",
       "utils.load_extension('hide_input/main')\n",
       "utils.load_extension('autosavetime/main')\n",
       "utils.load_extension('execute_time/ExecuteTime')\n",
       "utils.load_extension('code_prettify/code_prettify')\n",
       "utils.load_extension('scroll_down/main')\n",
       "utils.load_extension('jupyter-js-widgets/extension')\n"
      ],
      "text/plain": [
       "<IPython.core.display.Javascript object>"
      ]
     },
     "metadata": {},
     "output_type": "display_data"
    }
   ],
   "source": [
    "%%javascript\n",
    "utils.load_extension('collapsible_headings/main')\n",
    "utils.load_extension('hide_input/main')\n",
    "utils.load_extension('autosavetime/main')\n",
    "utils.load_extension('execute_time/ExecuteTime')\n",
    "utils.load_extension('code_prettify/code_prettify')\n",
    "utils.load_extension('scroll_down/main')\n",
    "utils.load_extension('jupyter-js-widgets/extension')"
   ]
  },
  {
   "cell_type": "code",
   "execution_count": 3,
   "metadata": {
    "ExecuteTime": {
     "end_time": "2020-05-01T16:11:04.595340Z",
     "start_time": "2020-05-01T16:11:03.791948Z"
    }
   },
   "outputs": [],
   "source": [
    "from fastai.vision import *\n",
    "import os\n",
    "import numpy as np\n",
    "import pandas as pd\n",
    "import pickle"
   ]
  },
  {
   "cell_type": "code",
   "execution_count": 4,
   "metadata": {
    "ExecuteTime": {
     "end_time": "2020-05-01T16:11:04.611181Z",
     "start_time": "2020-05-01T16:11:04.596426Z"
    }
   },
   "outputs": [
    {
     "data": {
      "text/plain": [
       "PosixPath('/media/tris/tris_files/github/OoMA-omniscient/data/processed/heatmaps_ind')"
      ]
     },
     "execution_count": 4,
     "metadata": {},
     "output_type": "execute_result"
    }
   ],
   "source": [
    "path=pathlib.Path('/media/tris/tris_files/github/OoMA-omniscient/data/processed/heatmaps_ind')\n",
    "path"
   ]
  },
  {
   "cell_type": "code",
   "execution_count": 5,
   "metadata": {
    "ExecuteTime": {
     "end_time": "2020-05-01T16:11:09.449735Z",
     "start_time": "2020-05-01T16:11:05.477605Z"
    }
   },
   "outputs": [],
   "source": [
    "path = '/media/tris/tris_files/DEAP_dataset/data_preprocessed_python/s01.dat'\n",
    "df_read = pickle.load(open(path, 'rb'), encoding='latin1')\n",
    "labels=df_read['labels']\n",
    "df_tmp = pd.DataFrame(labels, columns=['valence','arousal','dominance','liking'])\n",
    "df=df_tmp\n",
    "for n in range (2,10):\n",
    "    path = '/media/tris/tris_files/DEAP_dataset/data_preprocessed_python/s0'+str(n)+'.dat'\n",
    "    df_read = pickle.load(open(path, 'rb'), encoding='latin1')\n",
    "    labels=df_read['labels']\n",
    "    df_tmp = pd.DataFrame(labels, columns=['valence','arousal','dominance','liking'])\n",
    "    df=df.append(df_tmp, ignore_index=True)\n",
    "for n in range (10,33):\n",
    "    path = '/media/tris/tris_files/DEAP_dataset/data_preprocessed_python/s'+str(n)+'.dat'\n",
    "    df_read = pickle.load(open(path, 'rb'), encoding='latin1')\n",
    "    labels=df_read['labels']\n",
    "    df_tmp = pd.DataFrame(labels, columns=['valence','arousal','dominance','liking'])\n",
    "    df=df.append(df_tmp, ignore_index=True) "
   ]
  },
  {
   "cell_type": "code",
   "execution_count": 6,
   "metadata": {
    "ExecuteTime": {
     "end_time": "2020-05-01T16:11:10.092689Z",
     "start_time": "2020-05-01T16:11:10.070338Z"
    }
   },
   "outputs": [
    {
     "data": {
      "text/html": [
       "<div>\n",
       "<style scoped>\n",
       "    .dataframe tbody tr th:only-of-type {\n",
       "        vertical-align: middle;\n",
       "    }\n",
       "\n",
       "    .dataframe tbody tr th {\n",
       "        vertical-align: top;\n",
       "    }\n",
       "\n",
       "    .dataframe thead th {\n",
       "        text-align: right;\n",
       "    }\n",
       "</style>\n",
       "<table border=\"1\" class=\"dataframe\">\n",
       "  <thead>\n",
       "    <tr style=\"text-align: right;\">\n",
       "      <th></th>\n",
       "      <th>valence</th>\n",
       "      <th>arousal</th>\n",
       "      <th>dominance</th>\n",
       "      <th>liking</th>\n",
       "    </tr>\n",
       "  </thead>\n",
       "  <tbody>\n",
       "    <tr>\n",
       "      <th>0</th>\n",
       "      <td>0.856667</td>\n",
       "      <td>0.844444</td>\n",
       "      <td>0.766667</td>\n",
       "      <td>0.870000</td>\n",
       "    </tr>\n",
       "    <tr>\n",
       "      <th>1</th>\n",
       "      <td>0.900000</td>\n",
       "      <td>0.812222</td>\n",
       "      <td>0.808889</td>\n",
       "      <td>0.941111</td>\n",
       "    </tr>\n",
       "    <tr>\n",
       "      <th>2</th>\n",
       "      <td>0.953333</td>\n",
       "      <td>0.837778</td>\n",
       "      <td>1.000000</td>\n",
       "      <td>0.786667</td>\n",
       "    </tr>\n",
       "    <tr>\n",
       "      <th>3</th>\n",
       "      <td>0.548889</td>\n",
       "      <td>0.667778</td>\n",
       "      <td>0.680000</td>\n",
       "      <td>0.895556</td>\n",
       "    </tr>\n",
       "    <tr>\n",
       "      <th>4</th>\n",
       "      <td>0.773333</td>\n",
       "      <td>0.435556</td>\n",
       "      <td>0.798889</td>\n",
       "      <td>0.672222</td>\n",
       "    </tr>\n",
       "  </tbody>\n",
       "</table>\n",
       "</div>"
      ],
      "text/plain": [
       "    valence   arousal  dominance    liking\n",
       "0  0.856667  0.844444   0.766667  0.870000\n",
       "1  0.900000  0.812222   0.808889  0.941111\n",
       "2  0.953333  0.837778   1.000000  0.786667\n",
       "3  0.548889  0.667778   0.680000  0.895556\n",
       "4  0.773333  0.435556   0.798889  0.672222"
      ]
     },
     "execution_count": 6,
     "metadata": {},
     "output_type": "execute_result"
    }
   ],
   "source": [
    "df=df.div(9)\n",
    "df.head()"
   ]
  },
  {
   "cell_type": "code",
   "execution_count": 7,
   "metadata": {
    "ExecuteTime": {
     "end_time": "2020-05-01T16:11:13.734817Z",
     "start_time": "2020-05-01T16:11:13.712659Z"
    }
   },
   "outputs": [
    {
     "data": {
      "text/html": [
       "<div>\n",
       "<style scoped>\n",
       "    .dataframe tbody tr th:only-of-type {\n",
       "        vertical-align: middle;\n",
       "    }\n",
       "\n",
       "    .dataframe tbody tr th {\n",
       "        vertical-align: top;\n",
       "    }\n",
       "\n",
       "    .dataframe thead th {\n",
       "        text-align: right;\n",
       "    }\n",
       "</style>\n",
       "<table border=\"1\" class=\"dataframe\">\n",
       "  <thead>\n",
       "    <tr style=\"text-align: right;\">\n",
       "      <th></th>\n",
       "      <th>file_name</th>\n",
       "      <th>valence</th>\n",
       "    </tr>\n",
       "  </thead>\n",
       "  <tbody>\n",
       "    <tr>\n",
       "      <th>1275</th>\n",
       "      <td>S32T36</td>\n",
       "      <td>0.434444</td>\n",
       "    </tr>\n",
       "    <tr>\n",
       "      <th>1276</th>\n",
       "      <td>S32T37</td>\n",
       "      <td>0.312222</td>\n",
       "    </tr>\n",
       "    <tr>\n",
       "      <th>1277</th>\n",
       "      <td>S32T38</td>\n",
       "      <td>0.338889</td>\n",
       "    </tr>\n",
       "    <tr>\n",
       "      <th>1278</th>\n",
       "      <td>S32T39</td>\n",
       "      <td>0.443333</td>\n",
       "    </tr>\n",
       "    <tr>\n",
       "      <th>1279</th>\n",
       "      <td>S32T40</td>\n",
       "      <td>0.794444</td>\n",
       "    </tr>\n",
       "  </tbody>\n",
       "</table>\n",
       "</div>"
      ],
      "text/plain": [
       "     file_name   valence\n",
       "1275    S32T36  0.434444\n",
       "1276    S32T37  0.312222\n",
       "1277    S32T38  0.338889\n",
       "1278    S32T39  0.443333\n",
       "1279    S32T40  0.794444"
      ]
     },
     "execution_count": 7,
     "metadata": {},
     "output_type": "execute_result"
    }
   ],
   "source": [
    "filenames=[]\n",
    "for n in range (0,9):\n",
    "    for i in range (0,9):\n",
    "        filename='S'+str(n+1)+'T'+str(i+1)\n",
    "        filenames.append(filename)\n",
    "    for i in range (9,40):\n",
    "        filename='S'+str(n+1)+'T'+str(i+1)\n",
    "        filenames.append(filename)\n",
    "for n in range (9,32):\n",
    "    for i in range (0,9):\n",
    "        filename='S'+str(n+1)+'T'+str(i+1)\n",
    "        filenames.append(filename)\n",
    "    for i in range (9,40):\n",
    "        filename='S'+str(n+1)+'T'+str(i+1)\n",
    "        filenames.append(filename)\n",
    "df['file_name']=filenames\n",
    "# df=df[['file_name','valence','arousal','dominance','liking']]\n",
    "df=df[['file_name','valence']]\n",
    "df.tail()"
   ]
  },
  {
   "cell_type": "code",
   "execution_count": 8,
   "metadata": {
    "ExecuteTime": {
     "end_time": "2020-05-01T16:11:17.562691Z",
     "start_time": "2020-05-01T16:11:17.549763Z"
    }
   },
   "outputs": [],
   "source": [
    "# for i in range(1,33):\n",
    "#     for ii in range(1,41):\n",
    "#         os.rename(r'/media/tris/tris_files/github/OoMA-omniscient/data/processed/heatmaps_ind/heatmaps/T'+str(ii)+'S'+str(i)+\".png\",r'/media/tris/tris_files/github/OoMA-omniscient/data/processed/heatmaps_ind/heatmaps/S'+str(i)+'T'+str(ii)+\".png\")"
   ]
  },
  {
   "cell_type": "code",
   "execution_count": 9,
   "metadata": {
    "ExecuteTime": {
     "end_time": "2020-05-01T16:11:17.923708Z",
     "start_time": "2020-05-01T16:11:17.897674Z"
    }
   },
   "outputs": [],
   "source": [
    "# from PIL import Image\n",
    "\n",
    "# for i in range (0,1280):\n",
    "    \n",
    "#     im = Image.open(r\"/media/tris/tris_files/github/OoMA-omniscient/data/processed/heatmaps_ind/heatmaps/\"+str(df.file_name[i])+\".png\")\n",
    "#     im1=im.crop((0,0,1450,1030))\n",
    "#     im1.save(\"/media/tris/tris_files/github/OoMA-omniscient/data/processed/heatmaps_ind/heatmaps_re/\"+str(df.file_name[i])+\".png\")"
   ]
  },
  {
   "cell_type": "code",
   "execution_count": 10,
   "metadata": {
    "ExecuteTime": {
     "end_time": "2020-05-01T16:11:18.230153Z",
     "start_time": "2020-05-01T16:11:18.202599Z"
    }
   },
   "outputs": [],
   "source": [
    "# df=df[0:32]\n",
    "# df.head()"
   ]
  },
  {
   "cell_type": "markdown",
   "metadata": {},
   "source": [
    "Not enough data for one subject alone to make sense... Go back to whole set"
   ]
  },
  {
   "cell_type": "code",
   "execution_count": 14,
   "metadata": {
    "ExecuteTime": {
     "end_time": "2020-05-01T16:11:57.766073Z",
     "start_time": "2020-05-01T16:11:57.751663Z"
    }
   },
   "outputs": [
    {
     "data": {
      "text/plain": [
       "PosixPath('/media/tris/tris_files/github/OoMA-omniscient/data/processed/heatmaps_ind')"
      ]
     },
     "execution_count": 14,
     "metadata": {},
     "output_type": "execute_result"
    }
   ],
   "source": [
    "path=pathlib.Path('/media/tris/tris_files/github/OoMA-omniscient/data/processed/heatmaps_ind')\n",
    "path"
   ]
  },
  {
   "cell_type": "code",
   "execution_count": 15,
   "metadata": {
    "ExecuteTime": {
     "end_time": "2020-05-01T16:11:58.118784Z",
     "start_time": "2020-05-01T16:11:58.091557Z"
    }
   },
   "outputs": [],
   "source": [
    "df.to_csv(path/'labels_proc.csv', index=False)"
   ]
  },
  {
   "cell_type": "code",
   "execution_count": null,
   "metadata": {
    "ExecuteTime": {
     "end_time": "2020-05-01T14:22:29.272330Z",
     "start_time": "2020-05-01T14:22:29.257930Z"
    }
   },
   "outputs": [],
   "source": []
  },
  {
   "cell_type": "code",
   "execution_count": 16,
   "metadata": {
    "ExecuteTime": {
     "end_time": "2020-05-01T16:12:00.396739Z",
     "start_time": "2020-05-01T16:12:00.378998Z"
    }
   },
   "outputs": [
    {
     "data": {
      "text/html": [
       "<div>\n",
       "<style scoped>\n",
       "    .dataframe tbody tr th:only-of-type {\n",
       "        vertical-align: middle;\n",
       "    }\n",
       "\n",
       "    .dataframe tbody tr th {\n",
       "        vertical-align: top;\n",
       "    }\n",
       "\n",
       "    .dataframe thead th {\n",
       "        text-align: right;\n",
       "    }\n",
       "</style>\n",
       "<table border=\"1\" class=\"dataframe\">\n",
       "  <thead>\n",
       "    <tr style=\"text-align: right;\">\n",
       "      <th></th>\n",
       "      <th>file_name</th>\n",
       "      <th>valence</th>\n",
       "    </tr>\n",
       "  </thead>\n",
       "  <tbody>\n",
       "    <tr>\n",
       "      <th>1275</th>\n",
       "      <td>S32T36</td>\n",
       "      <td>0.434444</td>\n",
       "    </tr>\n",
       "    <tr>\n",
       "      <th>1276</th>\n",
       "      <td>S32T37</td>\n",
       "      <td>0.312222</td>\n",
       "    </tr>\n",
       "    <tr>\n",
       "      <th>1277</th>\n",
       "      <td>S32T38</td>\n",
       "      <td>0.338889</td>\n",
       "    </tr>\n",
       "    <tr>\n",
       "      <th>1278</th>\n",
       "      <td>S32T39</td>\n",
       "      <td>0.443333</td>\n",
       "    </tr>\n",
       "    <tr>\n",
       "      <th>1279</th>\n",
       "      <td>S32T40</td>\n",
       "      <td>0.794444</td>\n",
       "    </tr>\n",
       "  </tbody>\n",
       "</table>\n",
       "</div>"
      ],
      "text/plain": [
       "     file_name   valence\n",
       "1275    S32T36  0.434444\n",
       "1276    S32T37  0.312222\n",
       "1277    S32T38  0.338889\n",
       "1278    S32T39  0.443333\n",
       "1279    S32T40  0.794444"
      ]
     },
     "execution_count": 16,
     "metadata": {},
     "output_type": "execute_result"
    }
   ],
   "source": [
    "df = pd.read_csv(path/'labels_proc.csv')\n",
    "df.tail()"
   ]
  },
  {
   "cell_type": "code",
   "execution_count": null,
   "metadata": {
    "ExecuteTime": {
     "end_time": "2020-05-01T15:48:19.560299Z",
     "start_time": "2020-05-01T15:48:19.540884Z"
    }
   },
   "outputs": [],
   "source": []
  },
  {
   "cell_type": "code",
   "execution_count": null,
   "metadata": {
    "ExecuteTime": {
     "end_time": "2020-05-01T15:49:39.987444Z",
     "start_time": "2020-05-01T15:49:39.973662Z"
    }
   },
   "outputs": [],
   "source": []
  },
  {
   "cell_type": "code",
   "execution_count": 17,
   "metadata": {
    "ExecuteTime": {
     "end_time": "2020-05-01T16:12:08.105546Z",
     "start_time": "2020-05-01T16:12:06.183509Z"
    }
   },
   "outputs": [],
   "source": [
    "src = (ImageList.from_csv(path, 'labels_proc.csv', folder='heatmaps', suffix='.png')\n",
    "       .split_by_rand_pct(0.2)\n",
    "       .label_from_df(cols=['valence'],label_cls=FloatList)\n",
    "#        .label_from_df(cols=['valence','arousal','dominance','liking'],label_cls=FloatList)\n",
    "       .transform()\n",
    "       .databunch(bs=4).normalize())"
   ]
  },
  {
   "cell_type": "code",
   "execution_count": 18,
   "metadata": {
    "ExecuteTime": {
     "end_time": "2020-05-01T16:12:09.652984Z",
     "start_time": "2020-05-01T16:12:09.091488Z"
    }
   },
   "outputs": [
    {
     "data": {
      "image/png": "[encoded data removed]",
      "text/plain": [
       "<Figure size 864x648 with 4 Axes>"
      ]
     },
     "metadata": {
      "needs_background": "light"
     },
     "output_type": "display_data"
    }
   ],
   "source": [
    "src.show_batch(rows=4, figsize=(12,9))"
   ]
  },
  {
   "cell_type": "code",
   "execution_count": 19,
   "metadata": {
    "ExecuteTime": {
     "end_time": "2020-05-01T16:12:15.250373Z",
     "start_time": "2020-05-01T16:12:15.049420Z"
    }
   },
   "outputs": [],
   "source": [
    "learn = cnn_learner(src, models.resnet18, metrics=[root_mean_squared_error], loss_func=MSELossFlat())"
   ]
  },
  {
   "cell_type": "code",
   "execution_count": 20,
   "metadata": {
    "ExecuteTime": {
     "end_time": "2020-05-01T16:12:17.045944Z",
     "start_time": "2020-05-01T16:12:16.357671Z"
    }
   },
   "outputs": [
    {
     "data": {
      "text/plain": [
       "Sequential\n",
       "======================================================================\n",
       "Layer (type)         Output Shape         Param #    Trainable \n",
       "======================================================================\n",
       "Conv2d               [64, 515, 725]       9,408      False     \n",
       "______________________________________________________________________\n",
       "BatchNorm2d          [64, 515, 725]       128        True      \n",
       "______________________________________________________________________\n",
       "ReLU                 [64, 515, 725]       0          False     \n",
       "______________________________________________________________________\n",
       "MaxPool2d            [64, 258, 363]       0          False     \n",
       "______________________________________________________________________\n",
       "Conv2d               [64, 258, 363]       36,864     False     \n",
       "______________________________________________________________________\n",
       "BatchNorm2d          [64, 258, 363]       128        True      \n",
       "______________________________________________________________________\n",
       "ReLU                 [64, 258, 363]       0          False     \n",
       "______________________________________________________________________\n",
       "Conv2d               [64, 258, 363]       36,864     False     \n",
       "______________________________________________________________________\n",
       "BatchNorm2d          [64, 258, 363]       128        True      \n",
       "______________________________________________________________________\n",
       "Conv2d               [64, 258, 363]       36,864     False     \n",
       "______________________________________________________________________\n",
       "BatchNorm2d          [64, 258, 363]       128        True      \n",
       "______________________________________________________________________\n",
       "ReLU                 [64, 258, 363]       0          False     \n",
       "______________________________________________________________________\n",
       "Conv2d               [64, 258, 363]       36,864     False     \n",
       "______________________________________________________________________\n",
       "BatchNorm2d          [64, 258, 363]       128        True      \n",
       "______________________________________________________________________\n",
       "Conv2d               [128, 129, 182]      73,728     False     \n",
       "______________________________________________________________________\n",
       "BatchNorm2d          [128, 129, 182]      256        True      \n",
       "______________________________________________________________________\n",
       "ReLU                 [128, 129, 182]      0          False     \n",
       "______________________________________________________________________\n",
       "Conv2d               [128, 129, 182]      147,456    False     \n",
       "______________________________________________________________________\n",
       "BatchNorm2d          [128, 129, 182]      256        True      \n",
       "______________________________________________________________________\n",
       "Conv2d               [128, 129, 182]      8,192      False     \n",
       "______________________________________________________________________\n",
       "BatchNorm2d          [128, 129, 182]      256        True      \n",
       "______________________________________________________________________\n",
       "Conv2d               [128, 129, 182]      147,456    False     \n",
       "______________________________________________________________________\n",
       "BatchNorm2d          [128, 129, 182]      256        True      \n",
       "______________________________________________________________________\n",
       "ReLU                 [128, 129, 182]      0          False     \n",
       "______________________________________________________________________\n",
       "Conv2d               [128, 129, 182]      147,456    False     \n",
       "______________________________________________________________________\n",
       "BatchNorm2d          [128, 129, 182]      256        True      \n",
       "______________________________________________________________________\n",
       "Conv2d               [256, 65, 91]        294,912    False     \n",
       "______________________________________________________________________\n",
       "BatchNorm2d          [256, 65, 91]        512        True      \n",
       "______________________________________________________________________\n",
       "ReLU                 [256, 65, 91]        0          False     \n",
       "______________________________________________________________________\n",
       "Conv2d               [256, 65, 91]        589,824    False     \n",
       "______________________________________________________________________\n",
       "BatchNorm2d          [256, 65, 91]        512        True      \n",
       "______________________________________________________________________\n",
       "Conv2d               [256, 65, 91]        32,768     False     \n",
       "______________________________________________________________________\n",
       "BatchNorm2d          [256, 65, 91]        512        True      \n",
       "______________________________________________________________________\n",
       "Conv2d               [256, 65, 91]        589,824    False     \n",
       "______________________________________________________________________\n",
       "BatchNorm2d          [256, 65, 91]        512        True      \n",
       "______________________________________________________________________\n",
       "ReLU                 [256, 65, 91]        0          False     \n",
       "______________________________________________________________________\n",
       "Conv2d               [256, 65, 91]        589,824    False     \n",
       "______________________________________________________________________\n",
       "BatchNorm2d          [256, 65, 91]        512        True      \n",
       "______________________________________________________________________\n",
       "Conv2d               [512, 33, 46]        1,179,648  False     \n",
       "______________________________________________________________________\n",
       "BatchNorm2d          [512, 33, 46]        1,024      True      \n",
       "______________________________________________________________________\n",
       "ReLU                 [512, 33, 46]        0          False     \n",
       "______________________________________________________________________\n",
       "Conv2d               [512, 33, 46]        2,359,296  False     \n",
       "______________________________________________________________________\n",
       "BatchNorm2d          [512, 33, 46]        1,024      True      \n",
       "______________________________________________________________________\n",
       "Conv2d               [512, 33, 46]        131,072    False     \n",
       "______________________________________________________________________\n",
       "BatchNorm2d          [512, 33, 46]        1,024      True      \n",
       "______________________________________________________________________\n",
       "Conv2d               [512, 33, 46]        2,359,296  False     \n",
       "______________________________________________________________________\n",
       "BatchNorm2d          [512, 33, 46]        1,024      True      \n",
       "______________________________________________________________________\n",
       "ReLU                 [512, 33, 46]        0          False     \n",
       "______________________________________________________________________\n",
       "Conv2d               [512, 33, 46]        2,359,296  False     \n",
       "______________________________________________________________________\n",
       "BatchNorm2d          [512, 33, 46]        1,024      True      \n",
       "______________________________________________________________________\n",
       "AdaptiveAvgPool2d    [512, 1, 1]          0          False     \n",
       "______________________________________________________________________\n",
       "AdaptiveMaxPool2d    [512, 1, 1]          0          False     \n",
       "______________________________________________________________________\n",
       "Flatten              [1024]               0          False     \n",
       "______________________________________________________________________\n",
       "BatchNorm1d          [1024]               2,048      True      \n",
       "______________________________________________________________________\n",
       "Dropout              [1024]               0          False     \n",
       "______________________________________________________________________\n",
       "Linear               [512]                524,800    True      \n",
       "______________________________________________________________________\n",
       "ReLU                 [512]                0          False     \n",
       "______________________________________________________________________\n",
       "BatchNorm1d          [512]                1,024      True      \n",
       "______________________________________________________________________\n",
       "Dropout              [512]                0          False     \n",
       "______________________________________________________________________\n",
       "Linear               [1]                  513        True      \n",
       "______________________________________________________________________\n",
       "\n",
       "Total params: 11,704,897\n",
       "Total trainable params: 537,985\n",
       "Total non-trainable params: 11,166,912\n",
       "Optimized with 'torch.optim.adam.Adam', betas=(0.9, 0.99)\n",
       "Using true weight decay as discussed in https://www.fast.ai/2018/07/02/adam-weight-decay/ \n",
       "Loss function : FlattenedLoss\n",
       "======================================================================\n",
       "Callbacks functions applied "
      ]
     },
     "execution_count": 20,
     "metadata": {},
     "output_type": "execute_result"
    }
   ],
   "source": [
    "learn.summary()"
   ]
  },
  {
   "cell_type": "code",
   "execution_count": 22,
   "metadata": {
    "ExecuteTime": {
     "end_time": "2020-05-01T16:12:54.461562Z",
     "start_time": "2020-05-01T16:12:33.160520Z"
    }
   },
   "outputs": [
    {
     "data": {
      "text/html": [
       "\n",
       "    <div>\n",
       "        <style>\n",
       "            /* Turns off some styling */\n",
       "            progress {\n",
       "                /* gets rid of default border in Firefox and Opera. */\n",
       "                border: none;\n",
       "                /* Needs to be in here for Safari polyfill so background images work as expected. */\n",
       "                background-size: auto;\n",
       "            }\n",
       "            .progress-bar-interrupted, .progress-bar-interrupted::-webkit-progress-bar {\n",
       "                background: #F44336;\n",
       "            }\n",
       "        </style>\n",
       "      <progress value='0' class='' max='1', style='width:300px; height:20px; vertical-align: middle;'></progress>\n",
       "      0.00% [0/1 00:00<00:00]\n",
       "    </div>\n",
       "    \n",
       "<table border=\"1\" class=\"dataframe\">\n",
       "  <thead>\n",
       "    <tr style=\"text-align: left;\">\n",
       "      <th>epoch</th>\n",
       "      <th>train_loss</th>\n",
       "      <th>valid_loss</th>\n",
       "      <th>root_mean_squared_error</th>\n",
       "      <th>time</th>\n",
       "    </tr>\n",
       "  </thead>\n",
       "  <tbody>\n",
       "  </tbody>\n",
       "</table><p>\n",
       "\n",
       "    <div>\n",
       "        <style>\n",
       "            /* Turns off some styling */\n",
       "            progress {\n",
       "                /* gets rid of default border in Firefox and Opera. */\n",
       "                border: none;\n",
       "                /* Needs to be in here for Safari polyfill so background images work as expected. */\n",
       "                background-size: auto;\n",
       "            }\n",
       "            .progress-bar-interrupted, .progress-bar-interrupted::-webkit-progress-bar {\n",
       "                background: #F44336;\n",
       "            }\n",
       "        </style>\n",
       "      <progress value='81' class='' max='256', style='width:300px; height:20px; vertical-align: middle;'></progress>\n",
       "      31.64% [81/256 00:20<00:44 9.5805]\n",
       "    </div>\n",
       "    "
      ],
      "text/plain": [
       "<IPython.core.display.HTML object>"
      ]
     },
     "metadata": {},
     "output_type": "display_data"
    },
    {
     "name": "stdout",
     "output_type": "stream",
     "text": [
      "LR Finder is complete, type {learner_name}.recorder.plot() to see the graph.\n"
     ]
    },
    {
     "data": {
      "image/png": "[encoded data removed]",
      "text/plain": [
       "<Figure size 432x288 with 1 Axes>"
      ]
     },
     "metadata": {
      "needs_background": "light"
     },
     "output_type": "display_data"
    }
   ],
   "source": [
    "learn.lr_find()\n",
    "learn.recorder.plot()"
   ]
  },
  {
   "cell_type": "code",
   "execution_count": 23,
   "metadata": {
    "ExecuteTime": {
     "end_time": "2020-05-01T16:19:10.452185Z",
     "start_time": "2020-05-01T16:13:06.637495Z"
    }
   },
   "outputs": [
    {
     "data": {
      "text/html": [
       "<table border=\"1\" class=\"dataframe\">\n",
       "  <thead>\n",
       "    <tr style=\"text-align: left;\">\n",
       "      <th>epoch</th>\n",
       "      <th>train_loss</th>\n",
       "      <th>valid_loss</th>\n",
       "      <th>root_mean_squared_error</th>\n",
       "      <th>time</th>\n",
       "    </tr>\n",
       "  </thead>\n",
       "  <tbody>\n",
       "    <tr>\n",
       "      <td>0</td>\n",
       "      <td>2.451128</td>\n",
       "      <td>1.502643</td>\n",
       "      <td>1.159762</td>\n",
       "      <td>01:11</td>\n",
       "    </tr>\n",
       "    <tr>\n",
       "      <td>1</td>\n",
       "      <td>0.662469</td>\n",
       "      <td>0.417395</td>\n",
       "      <td>0.608850</td>\n",
       "      <td>01:12</td>\n",
       "    </tr>\n",
       "    <tr>\n",
       "      <td>2</td>\n",
       "      <td>0.222500</td>\n",
       "      <td>0.123077</td>\n",
       "      <td>0.341269</td>\n",
       "      <td>01:12</td>\n",
       "    </tr>\n",
       "    <tr>\n",
       "      <td>3</td>\n",
       "      <td>0.129704</td>\n",
       "      <td>0.086075</td>\n",
       "      <td>0.280078</td>\n",
       "      <td>01:14</td>\n",
       "    </tr>\n",
       "    <tr>\n",
       "      <td>4</td>\n",
       "      <td>0.091430</td>\n",
       "      <td>0.069190</td>\n",
       "      <td>0.254283</td>\n",
       "      <td>01:12</td>\n",
       "    </tr>\n",
       "  </tbody>\n",
       "</table>"
      ],
      "text/plain": [
       "<IPython.core.display.HTML object>"
      ]
     },
     "metadata": {},
     "output_type": "display_data"
    }
   ],
   "source": [
    "lr = 3e-3\n",
    "learn.fit_one_cycle(5, slice(lr))"
   ]
  },
  {
   "cell_type": "code",
   "execution_count": 24,
   "metadata": {
    "ExecuteTime": {
     "end_time": "2020-05-01T16:19:19.954888Z",
     "start_time": "2020-05-01T16:19:19.798037Z"
    }
   },
   "outputs": [
    {
     "data": {
      "image/png": "[encoded data removed]",
      "text/plain": [
       "<Figure size 432x288 with 1 Axes>"
      ]
     },
     "metadata": {
      "needs_background": "light"
     },
     "output_type": "display_data"
    }
   ],
   "source": [
    "learn.recorder.plot_losses()"
   ]
  },
  {
   "cell_type": "code",
   "execution_count": 25,
   "metadata": {
    "ExecuteTime": {
     "end_time": "2020-05-01T16:19:23.201877Z",
     "start_time": "2020-05-01T16:19:22.620192Z"
    }
   },
   "outputs": [
    {
     "data": {
      "image/png": "[encoded data removed]",
      "text/plain": [
       "<Figure size 576x576 with 4 Axes>"
      ]
     },
     "metadata": {
      "needs_background": "light"
     },
     "output_type": "display_data"
    }
   ],
   "source": [
    "learn.show_results()"
   ]
  },
  {
   "cell_type": "code",
   "execution_count": 27,
   "metadata": {
    "ExecuteTime": {
     "end_time": "2020-05-01T16:19:59.565169Z",
     "start_time": "2020-05-01T16:19:33.217081Z"
    }
   },
   "outputs": [
    {
     "data": {
      "text/html": [
       "\n",
       "    <div>\n",
       "        <style>\n",
       "            /* Turns off some styling */\n",
       "            progress {\n",
       "                /* gets rid of default border in Firefox and Opera. */\n",
       "                border: none;\n",
       "                /* Needs to be in here for Safari polyfill so background images work as expected. */\n",
       "                background-size: auto;\n",
       "            }\n",
       "            .progress-bar-interrupted, .progress-bar-interrupted::-webkit-progress-bar {\n",
       "                background: #F44336;\n",
       "            }\n",
       "        </style>\n",
       "      <progress value='0' class='' max='1', style='width:300px; height:20px; vertical-align: middle;'></progress>\n",
       "      0.00% [0/1 00:00<00:00]\n",
       "    </div>\n",
       "    \n",
       "<table border=\"1\" class=\"dataframe\">\n",
       "  <thead>\n",
       "    <tr style=\"text-align: left;\">\n",
       "      <th>epoch</th>\n",
       "      <th>train_loss</th>\n",
       "      <th>valid_loss</th>\n",
       "      <th>root_mean_squared_error</th>\n",
       "      <th>time</th>\n",
       "    </tr>\n",
       "  </thead>\n",
       "  <tbody>\n",
       "  </tbody>\n",
       "</table><p>\n",
       "\n",
       "    <div>\n",
       "        <style>\n",
       "            /* Turns off some styling */\n",
       "            progress {\n",
       "                /* gets rid of default border in Firefox and Opera. */\n",
       "                border: none;\n",
       "                /* Needs to be in here for Safari polyfill so background images work as expected. */\n",
       "                background-size: auto;\n",
       "            }\n",
       "            .progress-bar-interrupted, .progress-bar-interrupted::-webkit-progress-bar {\n",
       "                background: #F44336;\n",
       "            }\n",
       "        </style>\n",
       "      <progress value='72' class='' max='256', style='width:300px; height:20px; vertical-align: middle;'></progress>\n",
       "      28.12% [72/256 00:25<01:05 0.2622]\n",
       "    </div>\n",
       "    "
      ],
      "text/plain": [
       "<IPython.core.display.HTML object>"
      ]
     },
     "metadata": {},
     "output_type": "display_data"
    },
    {
     "name": "stdout",
     "output_type": "stream",
     "text": [
      "LR Finder is complete, type {learner_name}.recorder.plot() to see the graph.\n"
     ]
    },
    {
     "data": {
      "image/png": "[encoded data removed]",
      "text/plain": [
       "<Figure size 432x288 with 1 Axes>"
      ]
     },
     "metadata": {
      "needs_background": "light"
     },
     "output_type": "display_data"
    }
   ],
   "source": [
    "learn.unfreeze()\n",
    "learn.lr_find()\n",
    "learn.recorder.plot()"
   ]
  },
  {
   "cell_type": "code",
   "execution_count": 28,
   "metadata": {
    "ExecuteTime": {
     "end_time": "2020-05-01T16:28:27.479709Z",
     "start_time": "2020-05-01T16:20:18.561266Z"
    }
   },
   "outputs": [
    {
     "data": {
      "text/html": [
       "<table border=\"1\" class=\"dataframe\">\n",
       "  <thead>\n",
       "    <tr style=\"text-align: left;\">\n",
       "      <th>epoch</th>\n",
       "      <th>train_loss</th>\n",
       "      <th>valid_loss</th>\n",
       "      <th>root_mean_squared_error</th>\n",
       "      <th>time</th>\n",
       "    </tr>\n",
       "  </thead>\n",
       "  <tbody>\n",
       "    <tr>\n",
       "      <td>0</td>\n",
       "      <td>0.080752</td>\n",
       "      <td>0.076196</td>\n",
       "      <td>0.266861</td>\n",
       "      <td>01:37</td>\n",
       "    </tr>\n",
       "    <tr>\n",
       "      <td>1</td>\n",
       "      <td>0.096196</td>\n",
       "      <td>0.083923</td>\n",
       "      <td>0.279456</td>\n",
       "      <td>01:37</td>\n",
       "    </tr>\n",
       "    <tr>\n",
       "      <td>2</td>\n",
       "      <td>0.083119</td>\n",
       "      <td>0.070491</td>\n",
       "      <td>0.256774</td>\n",
       "      <td>01:37</td>\n",
       "    </tr>\n",
       "    <tr>\n",
       "      <td>3</td>\n",
       "      <td>0.075400</td>\n",
       "      <td>0.073879</td>\n",
       "      <td>0.260282</td>\n",
       "      <td>01:39</td>\n",
       "    </tr>\n",
       "    <tr>\n",
       "      <td>4</td>\n",
       "      <td>0.076689</td>\n",
       "      <td>0.069633</td>\n",
       "      <td>0.253543</td>\n",
       "      <td>01:37</td>\n",
       "    </tr>\n",
       "  </tbody>\n",
       "</table>"
      ],
      "text/plain": [
       "<IPython.core.display.HTML object>"
      ]
     },
     "metadata": {},
     "output_type": "display_data"
    }
   ],
   "source": [
    "lr = 4e-5\n",
    "learn.fit_one_cycle(5, slice(lr))"
   ]
  },
  {
   "cell_type": "code",
   "execution_count": 29,
   "metadata": {
    "ExecuteTime": {
     "end_time": "2020-05-01T16:30:04.090541Z",
     "start_time": "2020-05-01T16:30:03.473682Z"
    }
   },
   "outputs": [
    {
     "data": {
      "image/png": "[encoded data removed]",
      "text/plain": [
       "<Figure size 576x576 with 4 Axes>"
      ]
     },
     "metadata": {
      "needs_background": "light"
     },
     "output_type": "display_data"
    }
   ],
   "source": [
    "learn.show_results()"
   ]
  },
  {
   "cell_type": "code",
   "execution_count": 31,
   "metadata": {
    "ExecuteTime": {
     "end_time": "2020-05-01T16:31:13.110649Z",
     "start_time": "2020-05-01T16:30:48.927665Z"
    }
   },
   "outputs": [
    {
     "data": {
      "text/html": [
       "\n",
       "    <div>\n",
       "        <style>\n",
       "            /* Turns off some styling */\n",
       "            progress {\n",
       "                /* gets rid of default border in Firefox and Opera. */\n",
       "                border: none;\n",
       "                /* Needs to be in here for Safari polyfill so background images work as expected. */\n",
       "                background-size: auto;\n",
       "            }\n",
       "            .progress-bar-interrupted, .progress-bar-interrupted::-webkit-progress-bar {\n",
       "                background: #F44336;\n",
       "            }\n",
       "        </style>\n",
       "      <progress value='0' class='' max='1', style='width:300px; height:20px; vertical-align: middle;'></progress>\n",
       "      0.00% [0/1 00:00<00:00]\n",
       "    </div>\n",
       "    \n",
       "<table border=\"1\" class=\"dataframe\">\n",
       "  <thead>\n",
       "    <tr style=\"text-align: left;\">\n",
       "      <th>epoch</th>\n",
       "      <th>train_loss</th>\n",
       "      <th>valid_loss</th>\n",
       "      <th>root_mean_squared_error</th>\n",
       "      <th>time</th>\n",
       "    </tr>\n",
       "  </thead>\n",
       "  <tbody>\n",
       "  </tbody>\n",
       "</table><p>\n",
       "\n",
       "    <div>\n",
       "        <style>\n",
       "            /* Turns off some styling */\n",
       "            progress {\n",
       "                /* gets rid of default border in Firefox and Opera. */\n",
       "                border: none;\n",
       "                /* Needs to be in here for Safari polyfill so background images work as expected. */\n",
       "                background-size: auto;\n",
       "            }\n",
       "            .progress-bar-interrupted, .progress-bar-interrupted::-webkit-progress-bar {\n",
       "                background: #F44336;\n",
       "            }\n",
       "        </style>\n",
       "      <progress value='67' class='' max='256', style='width:300px; height:20px; vertical-align: middle;'></progress>\n",
       "      26.17% [67/256 00:23<01:05 0.1028]\n",
       "    </div>\n",
       "    "
      ],
      "text/plain": [
       "<IPython.core.display.HTML object>"
      ]
     },
     "metadata": {},
     "output_type": "display_data"
    },
    {
     "name": "stdout",
     "output_type": "stream",
     "text": [
      "LR Finder is complete, type {learner_name}.recorder.plot() to see the graph.\n"
     ]
    },
    {
     "data": {
      "image/png": "[encoded data removed]",
      "text/plain": [
       "<Figure size 432x288 with 1 Axes>"
      ]
     },
     "metadata": {
      "needs_background": "light"
     },
     "output_type": "display_data"
    }
   ],
   "source": [
    "learn.unfreeze()\n",
    "learn.lr_find()\n",
    "learn.recorder.plot()"
   ]
  },
  {
   "cell_type": "code",
   "execution_count": 32,
   "metadata": {
    "ExecuteTime": {
     "end_time": "2020-05-01T17:04:24.722538Z",
     "start_time": "2020-05-01T16:31:31.342141Z"
    }
   },
   "outputs": [
    {
     "data": {
      "text/html": [
       "<table border=\"1\" class=\"dataframe\">\n",
       "  <thead>\n",
       "    <tr style=\"text-align: left;\">\n",
       "      <th>epoch</th>\n",
       "      <th>train_loss</th>\n",
       "      <th>valid_loss</th>\n",
       "      <th>root_mean_squared_error</th>\n",
       "      <th>time</th>\n",
       "    </tr>\n",
       "  </thead>\n",
       "  <tbody>\n",
       "    <tr>\n",
       "      <td>0</td>\n",
       "      <td>0.076326</td>\n",
       "      <td>0.070716</td>\n",
       "      <td>0.255495</td>\n",
       "      <td>01:36</td>\n",
       "    </tr>\n",
       "    <tr>\n",
       "      <td>1</td>\n",
       "      <td>0.074817</td>\n",
       "      <td>0.066959</td>\n",
       "      <td>0.249246</td>\n",
       "      <td>01:36</td>\n",
       "    </tr>\n",
       "    <tr>\n",
       "      <td>2</td>\n",
       "      <td>0.082141</td>\n",
       "      <td>0.071865</td>\n",
       "      <td>0.256439</td>\n",
       "      <td>01:37</td>\n",
       "    </tr>\n",
       "    <tr>\n",
       "      <td>3</td>\n",
       "      <td>0.075814</td>\n",
       "      <td>0.072607</td>\n",
       "      <td>0.258614</td>\n",
       "      <td>01:37</td>\n",
       "    </tr>\n",
       "    <tr>\n",
       "      <td>4</td>\n",
       "      <td>0.073073</td>\n",
       "      <td>0.067201</td>\n",
       "      <td>0.249413</td>\n",
       "      <td>01:37</td>\n",
       "    </tr>\n",
       "    <tr>\n",
       "      <td>5</td>\n",
       "      <td>0.074128</td>\n",
       "      <td>0.073629</td>\n",
       "      <td>0.258498</td>\n",
       "      <td>01:37</td>\n",
       "    </tr>\n",
       "    <tr>\n",
       "      <td>6</td>\n",
       "      <td>0.075584</td>\n",
       "      <td>0.090918</td>\n",
       "      <td>0.287018</td>\n",
       "      <td>01:37</td>\n",
       "    </tr>\n",
       "    <tr>\n",
       "      <td>7</td>\n",
       "      <td>0.074143</td>\n",
       "      <td>0.079624</td>\n",
       "      <td>0.268342</td>\n",
       "      <td>01:38</td>\n",
       "    </tr>\n",
       "    <tr>\n",
       "      <td>8</td>\n",
       "      <td>0.066595</td>\n",
       "      <td>0.139866</td>\n",
       "      <td>0.356362</td>\n",
       "      <td>01:38</td>\n",
       "    </tr>\n",
       "    <tr>\n",
       "      <td>9</td>\n",
       "      <td>0.070101</td>\n",
       "      <td>0.081309</td>\n",
       "      <td>0.274091</td>\n",
       "      <td>01:38</td>\n",
       "    </tr>\n",
       "    <tr>\n",
       "      <td>10</td>\n",
       "      <td>0.077980</td>\n",
       "      <td>0.072751</td>\n",
       "      <td>0.258622</td>\n",
       "      <td>01:40</td>\n",
       "    </tr>\n",
       "    <tr>\n",
       "      <td>11</td>\n",
       "      <td>0.078483</td>\n",
       "      <td>0.064627</td>\n",
       "      <td>0.245880</td>\n",
       "      <td>01:39</td>\n",
       "    </tr>\n",
       "    <tr>\n",
       "      <td>12</td>\n",
       "      <td>0.068199</td>\n",
       "      <td>0.065914</td>\n",
       "      <td>0.248153</td>\n",
       "      <td>01:39</td>\n",
       "    </tr>\n",
       "    <tr>\n",
       "      <td>13</td>\n",
       "      <td>0.071634</td>\n",
       "      <td>0.072218</td>\n",
       "      <td>0.258964</td>\n",
       "      <td>01:39</td>\n",
       "    </tr>\n",
       "    <tr>\n",
       "      <td>14</td>\n",
       "      <td>0.064896</td>\n",
       "      <td>0.073384</td>\n",
       "      <td>0.261234</td>\n",
       "      <td>01:39</td>\n",
       "    </tr>\n",
       "    <tr>\n",
       "      <td>15</td>\n",
       "      <td>0.067492</td>\n",
       "      <td>0.064113</td>\n",
       "      <td>0.244789</td>\n",
       "      <td>01:39</td>\n",
       "    </tr>\n",
       "    <tr>\n",
       "      <td>16</td>\n",
       "      <td>0.068864</td>\n",
       "      <td>0.066615</td>\n",
       "      <td>0.249123</td>\n",
       "      <td>01:39</td>\n",
       "    </tr>\n",
       "    <tr>\n",
       "      <td>17</td>\n",
       "      <td>0.067052</td>\n",
       "      <td>0.065052</td>\n",
       "      <td>0.245858</td>\n",
       "      <td>01:39</td>\n",
       "    </tr>\n",
       "    <tr>\n",
       "      <td>18</td>\n",
       "      <td>0.071363</td>\n",
       "      <td>0.064513</td>\n",
       "      <td>0.245005</td>\n",
       "      <td>01:39</td>\n",
       "    </tr>\n",
       "    <tr>\n",
       "      <td>19</td>\n",
       "      <td>0.068754</td>\n",
       "      <td>0.069875</td>\n",
       "      <td>0.255029</td>\n",
       "      <td>01:39</td>\n",
       "    </tr>\n",
       "  </tbody>\n",
       "</table>"
      ],
      "text/plain": [
       "<IPython.core.display.HTML object>"
      ]
     },
     "metadata": {},
     "output_type": "display_data"
    }
   ],
   "source": [
    "lr = 2e-5\n",
    "learn.fit_one_cycle(20, slice(lr))"
   ]
  },
  {
   "cell_type": "markdown",
   "metadata": {},
   "source": [
    "*time is not a substitute for good data*"
   ]
  },
  {
   "cell_type": "code",
   "execution_count": 33,
   "metadata": {
    "ExecuteTime": {
     "end_time": "2020-05-01T17:05:37.534137Z",
     "start_time": "2020-05-01T17:05:36.936079Z"
    }
   },
   "outputs": [
    {
     "data": {
      "image/png": "[encoded data removed]",
      "text/plain": [
       "<Figure size 576x576 with 4 Axes>"
      ]
     },
     "metadata": {
      "needs_background": "light"
     },
     "output_type": "display_data"
    }
   ],
   "source": [
    "learn.show_results()"
   ]
  },
  {
   "cell_type": "code",
   "execution_count": 20,
   "metadata": {
    "ExecuteTime": {
     "end_time": "2020-05-01T15:43:50.057724Z",
     "start_time": "2020-05-01T15:43:42.518313Z"
    }
   },
   "outputs": [
    {
     "data": {
      "text/html": [],
      "text/plain": [
       "<IPython.core.display.HTML object>"
      ]
     },
     "metadata": {},
     "output_type": "display_data"
    }
   ],
   "source": [
    "preds,y,losses = learn.get_preds(with_loss=True)\n",
    "interp = ClassificationInterpretation(learn, preds, y, losses)"
   ]
  },
  {
   "cell_type": "code",
   "execution_count": 25,
   "metadata": {
    "ExecuteTime": {
     "end_time": "2020-05-01T15:44:34.896291Z",
     "start_time": "2020-05-01T15:44:34.875535Z"
    }
   },
   "outputs": [
    {
     "ename": "TypeError",
     "evalue": "'Tensor' object is not callable",
     "output_type": "error",
     "traceback": [
      "\u001b[0;31m---------------------------------------------------------------------------\u001b[0m",
      "\u001b[0;31mTypeError\u001b[0m                                 Traceback (most recent call last)",
      "\u001b[0;32m<ipython-input-25-e053c57b5315>\u001b[0m in \u001b[0;36m<module>\u001b[0;34m\u001b[0m\n\u001b[0;32m----> 1\u001b[0;31m \u001b[0minterp\u001b[0m\u001b[0;34m.\u001b[0m\u001b[0mpreds\u001b[0m\u001b[0;34m(\u001b[0m\u001b[0;34m)\u001b[0m\u001b[0;34m\u001b[0m\u001b[0;34m\u001b[0m\u001b[0m\n\u001b[0m",
      "\u001b[0;31mTypeError\u001b[0m: 'Tensor' object is not callable"
     ]
    }
   ],
   "source": [
    "interp.preds()"
   ]
  },
  {
   "cell_type": "markdown",
   "metadata": {},
   "source": [
    ":sadface:"
   ]
  },
  {
   "cell_type": "code",
   "execution_count": null,
   "metadata": {},
   "outputs": [],
   "source": []
  }
 ],
 "metadata": {
  "kernelspec": {
   "display_name": "Python 3",
   "language": "python",
   "name": "python3"
  },
  "language_info": {
   "codemirror_mode": {
    "name": "ipython",
    "version": 3
   },
   "file_extension": ".py",
   "mimetype": "text/x-python",
   "name": "python",
   "nbconvert_exporter": "python",
   "pygments_lexer": "ipython3",
   "version": "3.7.6"
  }
 },
 "nbformat": 4,
 "nbformat_minor": 2
}
