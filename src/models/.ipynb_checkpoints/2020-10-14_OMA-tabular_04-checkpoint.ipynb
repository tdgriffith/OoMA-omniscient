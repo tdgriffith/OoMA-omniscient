{
 "cells": [
  {
   "cell_type": "markdown",
   "metadata": {},
   "source": [
    "# Random Forrests for Exploration of DEAP Dataset\n",
    "Fingerprinting with OMA modes has worked really well. What about in tabular format?\n",
    "\n",
    "Fingerprinting is good, try Quads"
   ]
  },
  {
   "cell_type": "code",
   "execution_count": 1,
   "metadata": {
    "ExecuteTime": {
     "end_time": "2020-10-15T21:01:15.932230Z",
     "start_time": "2020-10-15T21:01:15.746511Z"
    }
   },
   "outputs": [],
   "source": [
    "%load_ext autoreload\n",
    "%autoreload 2\n",
    "\n",
    "%matplotlib inline"
   ]
  },
  {
   "cell_type": "code",
   "execution_count": 2,
   "metadata": {
    "ExecuteTime": {
     "end_time": "2020-10-15T21:01:15.941421Z",
     "start_time": "2020-10-15T21:01:15.933325Z"
    }
   },
   "outputs": [
    {
     "data": {
      "application/javascript": [
       "utils.load_extension('collapsible_headings/main')\n",
       "utils.load_extension('hide_input/main')\n",
       "utils.load_extension('execute_time/ExecuteTime')\n",
       "utils.load_extension('code_prettify/code_prettify')\n",
       "utils.load_extension('scroll_down/main')\n",
       "utils.load_extension('jupyter-js-widgets/extension')\n"
      ],
      "text/plain": [
       "<IPython.core.display.Javascript object>"
      ]
     },
     "metadata": {},
     "output_type": "display_data"
    }
   ],
   "source": [
    "%%javascript\n",
    "utils.load_extension('collapsible_headings/main')\n",
    "utils.load_extension('hide_input/main')\n",
    "utils.load_extension('execute_time/ExecuteTime')\n",
    "utils.load_extension('code_prettify/code_prettify')\n",
    "utils.load_extension('scroll_down/main')\n",
    "utils.load_extension('jupyter-js-widgets/extension')"
   ]
  },
  {
   "cell_type": "code",
   "execution_count": 3,
   "metadata": {
    "ExecuteTime": {
     "end_time": "2020-10-15T21:01:16.752664Z",
     "start_time": "2020-10-15T21:01:15.942908Z"
    }
   },
   "outputs": [],
   "source": [
    "from fastai.tabular import *\n",
    "from sklearn.model_selection import train_test_split,cross_val_score\n",
    "from sklearn import datasets, svm, metrics, tree\n",
    "from sklearn.ensemble import RandomForestClassifier, AdaBoostClassifier\n",
    "from sklearn.tree import DecisionTreeClassifier"
   ]
  },
  {
   "cell_type": "code",
   "execution_count": 4,
   "metadata": {
    "ExecuteTime": {
     "end_time": "2020-10-15T21:01:16.768181Z",
     "start_time": "2020-10-15T21:01:16.753852Z"
    }
   },
   "outputs": [
    {
     "data": {
      "text/plain": [
       "PosixPath('/home/tris/Documents/EEG_data/DMD_DEAP')"
      ]
     },
     "execution_count": 4,
     "metadata": {},
     "output_type": "execute_result"
    }
   ],
   "source": [
    "path=pathlib.Path('/home/tris/Documents/EEG_data/DMD_DEAP')\n",
    "path"
   ]
  },
  {
   "cell_type": "code",
   "execution_count": 5,
   "metadata": {
    "ExecuteTime": {
     "end_time": "2020-10-15T21:01:20.638155Z",
     "start_time": "2020-10-15T21:01:16.769169Z"
    }
   },
   "outputs": [],
   "source": [
    "path = '/media/tris/tris_files/EEG_datasets/DEAP_data_preprocessed_python/s01.dat'\n",
    "df_read = pickle.load(open(path, 'rb'), encoding='latin1')\n",
    "labels=df_read['labels']\n",
    "df_tmp = pd.DataFrame(labels, columns=['valence','arousal','dominance','liking'])\n",
    "df=df_tmp\n",
    "for n in range (2,10):\n",
    "    path = '/media/tris/tris_files/EEG_datasets/DEAP_data_preprocessed_python/s0'+str(n)+'.dat'\n",
    "    df_read = pickle.load(open(path, 'rb'), encoding='latin1')\n",
    "    labels=df_read['labels']\n",
    "    df_tmp = pd.DataFrame(labels, columns=['valence','arousal','dominance','liking'])\n",
    "    df=df.append(df_tmp, ignore_index=True)\n",
    "for n in range (10,33):\n",
    "    path = '/media/tris/tris_files/EEG_datasets/DEAP_data_preprocessed_python/s'+str(n)+'.dat'\n",
    "    df_read = pickle.load(open(path, 'rb'), encoding='latin1')\n",
    "    labels=df_read['labels']\n",
    "    df_tmp = pd.DataFrame(labels, columns=['valence','arousal','dominance','liking'])\n",
    "    df=df.append(df_tmp, ignore_index=True) "
   ]
  },
  {
   "cell_type": "code",
   "execution_count": 6,
   "metadata": {
    "ExecuteTime": {
     "end_time": "2020-10-15T21:01:20.661178Z",
     "start_time": "2020-10-15T21:01:20.639367Z"
    }
   },
   "outputs": [
    {
     "data": {
      "text/html": [
       "<div>\n",
       "<style scoped>\n",
       "    .dataframe tbody tr th:only-of-type {\n",
       "        vertical-align: middle;\n",
       "    }\n",
       "\n",
       "    .dataframe tbody tr th {\n",
       "        vertical-align: top;\n",
       "    }\n",
       "\n",
       "    .dataframe thead th {\n",
       "        text-align: right;\n",
       "    }\n",
       "</style>\n",
       "<table border=\"1\" class=\"dataframe\">\n",
       "  <thead>\n",
       "    <tr style=\"text-align: right;\">\n",
       "      <th></th>\n",
       "      <th>valence</th>\n",
       "      <th>arousal</th>\n",
       "      <th>dominance</th>\n",
       "      <th>liking</th>\n",
       "    </tr>\n",
       "  </thead>\n",
       "  <tbody>\n",
       "    <tr>\n",
       "      <th>0</th>\n",
       "      <td>0.856667</td>\n",
       "      <td>0.844444</td>\n",
       "      <td>0.766667</td>\n",
       "      <td>0.870000</td>\n",
       "    </tr>\n",
       "    <tr>\n",
       "      <th>1</th>\n",
       "      <td>0.900000</td>\n",
       "      <td>0.812222</td>\n",
       "      <td>0.808889</td>\n",
       "      <td>0.941111</td>\n",
       "    </tr>\n",
       "    <tr>\n",
       "      <th>2</th>\n",
       "      <td>0.953333</td>\n",
       "      <td>0.837778</td>\n",
       "      <td>1.000000</td>\n",
       "      <td>0.786667</td>\n",
       "    </tr>\n",
       "    <tr>\n",
       "      <th>3</th>\n",
       "      <td>0.548889</td>\n",
       "      <td>0.667778</td>\n",
       "      <td>0.680000</td>\n",
       "      <td>0.895556</td>\n",
       "    </tr>\n",
       "    <tr>\n",
       "      <th>4</th>\n",
       "      <td>0.773333</td>\n",
       "      <td>0.435556</td>\n",
       "      <td>0.798889</td>\n",
       "      <td>0.672222</td>\n",
       "    </tr>\n",
       "  </tbody>\n",
       "</table>\n",
       "</div>"
      ],
      "text/plain": [
       "    valence   arousal  dominance    liking\n",
       "0  0.856667  0.844444   0.766667  0.870000\n",
       "1  0.900000  0.812222   0.808889  0.941111\n",
       "2  0.953333  0.837778   1.000000  0.786667\n",
       "3  0.548889  0.667778   0.680000  0.895556\n",
       "4  0.773333  0.435556   0.798889  0.672222"
      ]
     },
     "execution_count": 6,
     "metadata": {},
     "output_type": "execute_result"
    }
   ],
   "source": [
    "df=df.div(9) #normalize\n",
    "df.head()"
   ]
  },
  {
   "cell_type": "code",
   "execution_count": 7,
   "metadata": {
    "ExecuteTime": {
     "end_time": "2020-10-15T21:01:20.677491Z",
     "start_time": "2020-10-15T21:01:20.662142Z"
    }
   },
   "outputs": [],
   "source": [
    "df=df.loc[df.index.repeat(4)].reset_index(drop=True)"
   ]
  },
  {
   "cell_type": "code",
   "execution_count": 8,
   "metadata": {
    "ExecuteTime": {
     "end_time": "2020-10-15T21:01:20.696190Z",
     "start_time": "2020-10-15T21:01:20.679086Z"
    }
   },
   "outputs": [
    {
     "data": {
      "text/html": [
       "<div>\n",
       "<style scoped>\n",
       "    .dataframe tbody tr th:only-of-type {\n",
       "        vertical-align: middle;\n",
       "    }\n",
       "\n",
       "    .dataframe tbody tr th {\n",
       "        vertical-align: top;\n",
       "    }\n",
       "\n",
       "    .dataframe thead th {\n",
       "        text-align: right;\n",
       "    }\n",
       "</style>\n",
       "<table border=\"1\" class=\"dataframe\">\n",
       "  <thead>\n",
       "    <tr style=\"text-align: right;\">\n",
       "      <th></th>\n",
       "      <th>valence</th>\n",
       "      <th>arousal</th>\n",
       "      <th>dominance</th>\n",
       "      <th>liking</th>\n",
       "    </tr>\n",
       "  </thead>\n",
       "  <tbody>\n",
       "    <tr>\n",
       "      <th>5115</th>\n",
       "      <td>0.443333</td>\n",
       "      <td>0.796667</td>\n",
       "      <td>0.538889</td>\n",
       "      <td>0.111111</td>\n",
       "    </tr>\n",
       "    <tr>\n",
       "      <th>5116</th>\n",
       "      <td>0.794444</td>\n",
       "      <td>0.447778</td>\n",
       "      <td>1.000000</td>\n",
       "      <td>0.208889</td>\n",
       "    </tr>\n",
       "    <tr>\n",
       "      <th>5117</th>\n",
       "      <td>0.794444</td>\n",
       "      <td>0.447778</td>\n",
       "      <td>1.000000</td>\n",
       "      <td>0.208889</td>\n",
       "    </tr>\n",
       "    <tr>\n",
       "      <th>5118</th>\n",
       "      <td>0.794444</td>\n",
       "      <td>0.447778</td>\n",
       "      <td>1.000000</td>\n",
       "      <td>0.208889</td>\n",
       "    </tr>\n",
       "    <tr>\n",
       "      <th>5119</th>\n",
       "      <td>0.794444</td>\n",
       "      <td>0.447778</td>\n",
       "      <td>1.000000</td>\n",
       "      <td>0.208889</td>\n",
       "    </tr>\n",
       "  </tbody>\n",
       "</table>\n",
       "</div>"
      ],
      "text/plain": [
       "       valence   arousal  dominance    liking\n",
       "5115  0.443333  0.796667   0.538889  0.111111\n",
       "5116  0.794444  0.447778   1.000000  0.208889\n",
       "5117  0.794444  0.447778   1.000000  0.208889\n",
       "5118  0.794444  0.447778   1.000000  0.208889\n",
       "5119  0.794444  0.447778   1.000000  0.208889"
      ]
     },
     "execution_count": 8,
     "metadata": {},
     "output_type": "execute_result"
    }
   ],
   "source": [
    "df.tail()"
   ]
  },
  {
   "cell_type": "code",
   "execution_count": 9,
   "metadata": {
    "ExecuteTime": {
     "end_time": "2020-10-15T21:01:20.717258Z",
     "start_time": "2020-10-15T21:01:20.697428Z"
    }
   },
   "outputs": [],
   "source": [
    "filenames=[]\n",
    "subject_labels=[]\n",
    "for n in range (0,9):\n",
    "    for i in range (0,9):\n",
    "        filename='S'+str(n+1)+'T'+str(i+1)\n",
    "        filenames.append(filename)\n",
    "        subject_label=n+1\n",
    "        subject_labels.append(subject_label)\n",
    "    for i in range (9,160):\n",
    "        filename='S'+str(n+1)+'T'+str(i+1)\n",
    "        filenames.append(filename)\n",
    "        subject_label=n+1\n",
    "        subject_labels.append(subject_label)\n",
    "for n in range (9,32):\n",
    "    for i in range (0,9):\n",
    "        filename='S'+str(n+1)+'T'+str(i+1)\n",
    "        filenames.append(filename)\n",
    "        subject_label=n+1\n",
    "        subject_labels.append(subject_label)\n",
    "    for i in range (9,160):\n",
    "        filename='S'+str(n+1)+'T'+str(i+1)\n",
    "        filenames.append(filename)\n",
    "        subject_label=n+1\n",
    "        subject_labels.append(subject_label)"
   ]
  },
  {
   "cell_type": "code",
   "execution_count": 10,
   "metadata": {
    "ExecuteTime": {
     "end_time": "2020-10-15T21:01:20.738602Z",
     "start_time": "2020-10-15T21:01:20.718412Z"
    }
   },
   "outputs": [
    {
     "data": {
      "text/html": [
       "<div>\n",
       "<style scoped>\n",
       "    .dataframe tbody tr th:only-of-type {\n",
       "        vertical-align: middle;\n",
       "    }\n",
       "\n",
       "    .dataframe tbody tr th {\n",
       "        vertical-align: top;\n",
       "    }\n",
       "\n",
       "    .dataframe thead th {\n",
       "        text-align: right;\n",
       "    }\n",
       "</style>\n",
       "<table border=\"1\" class=\"dataframe\">\n",
       "  <thead>\n",
       "    <tr style=\"text-align: right;\">\n",
       "      <th></th>\n",
       "      <th>file_name</th>\n",
       "      <th>subject_label</th>\n",
       "      <th>valence</th>\n",
       "      <th>arousal</th>\n",
       "    </tr>\n",
       "  </thead>\n",
       "  <tbody>\n",
       "    <tr>\n",
       "      <th>5115</th>\n",
       "      <td>S32T156</td>\n",
       "      <td>32</td>\n",
       "      <td>0.443333</td>\n",
       "      <td>0.796667</td>\n",
       "    </tr>\n",
       "    <tr>\n",
       "      <th>5116</th>\n",
       "      <td>S32T157</td>\n",
       "      <td>32</td>\n",
       "      <td>0.794444</td>\n",
       "      <td>0.447778</td>\n",
       "    </tr>\n",
       "    <tr>\n",
       "      <th>5117</th>\n",
       "      <td>S32T158</td>\n",
       "      <td>32</td>\n",
       "      <td>0.794444</td>\n",
       "      <td>0.447778</td>\n",
       "    </tr>\n",
       "    <tr>\n",
       "      <th>5118</th>\n",
       "      <td>S32T159</td>\n",
       "      <td>32</td>\n",
       "      <td>0.794444</td>\n",
       "      <td>0.447778</td>\n",
       "    </tr>\n",
       "    <tr>\n",
       "      <th>5119</th>\n",
       "      <td>S32T160</td>\n",
       "      <td>32</td>\n",
       "      <td>0.794444</td>\n",
       "      <td>0.447778</td>\n",
       "    </tr>\n",
       "  </tbody>\n",
       "</table>\n",
       "</div>"
      ],
      "text/plain": [
       "     file_name  subject_label   valence   arousal\n",
       "5115   S32T156             32  0.443333  0.796667\n",
       "5116   S32T157             32  0.794444  0.447778\n",
       "5117   S32T158             32  0.794444  0.447778\n",
       "5118   S32T159             32  0.794444  0.447778\n",
       "5119   S32T160             32  0.794444  0.447778"
      ]
     },
     "execution_count": 10,
     "metadata": {},
     "output_type": "execute_result"
    }
   ],
   "source": [
    "df['file_name']=filenames\n",
    "df['subject_label']=subject_labels\n",
    "df=df[['file_name','subject_label','valence','arousal']]\n",
    "df.tail()"
   ]
  },
  {
   "cell_type": "code",
   "execution_count": 28,
   "metadata": {
    "ExecuteTime": {
     "end_time": "2020-10-15T21:04:08.601493Z",
     "start_time": "2020-10-15T21:04:08.571315Z"
    }
   },
   "outputs": [
    {
     "data": {
      "text/html": [
       "<div>\n",
       "<style scoped>\n",
       "    .dataframe tbody tr th:only-of-type {\n",
       "        vertical-align: middle;\n",
       "    }\n",
       "\n",
       "    .dataframe tbody tr th {\n",
       "        vertical-align: top;\n",
       "    }\n",
       "\n",
       "    .dataframe thead th {\n",
       "        text-align: right;\n",
       "    }\n",
       "</style>\n",
       "<table border=\"1\" class=\"dataframe\">\n",
       "  <thead>\n",
       "    <tr style=\"text-align: right;\">\n",
       "      <th></th>\n",
       "      <th>file_name</th>\n",
       "      <th>subject_label</th>\n",
       "      <th>valence</th>\n",
       "      <th>arousal</th>\n",
       "      <th>emotion_quad</th>\n",
       "    </tr>\n",
       "  </thead>\n",
       "  <tbody>\n",
       "    <tr>\n",
       "      <th>0</th>\n",
       "      <td>S1T1</td>\n",
       "      <td>1</td>\n",
       "      <td>0.856667</td>\n",
       "      <td>0.844444</td>\n",
       "      <td>0</td>\n",
       "    </tr>\n",
       "    <tr>\n",
       "      <th>1</th>\n",
       "      <td>S1T2</td>\n",
       "      <td>1</td>\n",
       "      <td>0.856667</td>\n",
       "      <td>0.844444</td>\n",
       "      <td>0</td>\n",
       "    </tr>\n",
       "    <tr>\n",
       "      <th>2</th>\n",
       "      <td>S1T3</td>\n",
       "      <td>1</td>\n",
       "      <td>0.856667</td>\n",
       "      <td>0.844444</td>\n",
       "      <td>0</td>\n",
       "    </tr>\n",
       "    <tr>\n",
       "      <th>3</th>\n",
       "      <td>S1T4</td>\n",
       "      <td>1</td>\n",
       "      <td>0.856667</td>\n",
       "      <td>0.844444</td>\n",
       "      <td>0</td>\n",
       "    </tr>\n",
       "    <tr>\n",
       "      <th>4</th>\n",
       "      <td>S1T5</td>\n",
       "      <td>1</td>\n",
       "      <td>0.900000</td>\n",
       "      <td>0.812222</td>\n",
       "      <td>0</td>\n",
       "    </tr>\n",
       "  </tbody>\n",
       "</table>\n",
       "</div>"
      ],
      "text/plain": [
       "  file_name  subject_label   valence   arousal  emotion_quad\n",
       "0      S1T1              1  0.856667  0.844444             0\n",
       "1      S1T2              1  0.856667  0.844444             0\n",
       "2      S1T3              1  0.856667  0.844444             0\n",
       "3      S1T4              1  0.856667  0.844444             0\n",
       "4      S1T5              1  0.900000  0.812222             0"
      ]
     },
     "execution_count": 28,
     "metadata": {},
     "output_type": "execute_result"
    }
   ],
   "source": [
    "df.loc[(df['valence'] >= 0.5) & (df['arousal'] >= 0.5), 'emotion_quad'] = 0\n",
    "df.loc[(df['valence'] <= 0.5) & (df['arousal'] >= 0.5), 'emotion_quad'] = 1\n",
    "df.loc[(df['valence'] <= 0.5) & (df['arousal'] <= 0.5), 'emotion_quad'] = 2  \n",
    "df.loc[(df['valence'] >= 0.5) & (df['arousal'] <= 0.5), 'emotion_quad'] = 3\n",
    "df.head()"
   ]
  },
  {
   "cell_type": "code",
   "execution_count": 29,
   "metadata": {
    "ExecuteTime": {
     "end_time": "2020-10-15T21:04:08.827177Z",
     "start_time": "2020-10-15T21:04:08.800221Z"
    }
   },
   "outputs": [
    {
     "data": {
      "text/html": [
       "<div>\n",
       "<style scoped>\n",
       "    .dataframe tbody tr th:only-of-type {\n",
       "        vertical-align: middle;\n",
       "    }\n",
       "\n",
       "    .dataframe tbody tr th {\n",
       "        vertical-align: top;\n",
       "    }\n",
       "\n",
       "    .dataframe thead th {\n",
       "        text-align: right;\n",
       "    }\n",
       "</style>\n",
       "<table border=\"1\" class=\"dataframe\">\n",
       "  <thead>\n",
       "    <tr style=\"text-align: right;\">\n",
       "      <th></th>\n",
       "      <th>file_name</th>\n",
       "      <th>subject_label</th>\n",
       "      <th>valence</th>\n",
       "      <th>arousal</th>\n",
       "      <th>emotion_quad</th>\n",
       "    </tr>\n",
       "  </thead>\n",
       "  <tbody>\n",
       "    <tr>\n",
       "      <th>0</th>\n",
       "      <td>S1T1</td>\n",
       "      <td>1</td>\n",
       "      <td>0.856667</td>\n",
       "      <td>0.844444</td>\n",
       "      <td>0</td>\n",
       "    </tr>\n",
       "    <tr>\n",
       "      <th>1</th>\n",
       "      <td>S1T2</td>\n",
       "      <td>1</td>\n",
       "      <td>0.856667</td>\n",
       "      <td>0.844444</td>\n",
       "      <td>0</td>\n",
       "    </tr>\n",
       "    <tr>\n",
       "      <th>2</th>\n",
       "      <td>S1T3</td>\n",
       "      <td>1</td>\n",
       "      <td>0.856667</td>\n",
       "      <td>0.844444</td>\n",
       "      <td>0</td>\n",
       "    </tr>\n",
       "    <tr>\n",
       "      <th>3</th>\n",
       "      <td>S1T4</td>\n",
       "      <td>1</td>\n",
       "      <td>0.856667</td>\n",
       "      <td>0.844444</td>\n",
       "      <td>0</td>\n",
       "    </tr>\n",
       "    <tr>\n",
       "      <th>4</th>\n",
       "      <td>S1T5</td>\n",
       "      <td>1</td>\n",
       "      <td>0.900000</td>\n",
       "      <td>0.812222</td>\n",
       "      <td>0</td>\n",
       "    </tr>\n",
       "    <tr>\n",
       "      <th>...</th>\n",
       "      <td>...</td>\n",
       "      <td>...</td>\n",
       "      <td>...</td>\n",
       "      <td>...</td>\n",
       "      <td>...</td>\n",
       "    </tr>\n",
       "    <tr>\n",
       "      <th>5115</th>\n",
       "      <td>S32T156</td>\n",
       "      <td>32</td>\n",
       "      <td>0.443333</td>\n",
       "      <td>0.796667</td>\n",
       "      <td>1</td>\n",
       "    </tr>\n",
       "    <tr>\n",
       "      <th>5116</th>\n",
       "      <td>S32T157</td>\n",
       "      <td>32</td>\n",
       "      <td>0.794444</td>\n",
       "      <td>0.447778</td>\n",
       "      <td>3</td>\n",
       "    </tr>\n",
       "    <tr>\n",
       "      <th>5117</th>\n",
       "      <td>S32T158</td>\n",
       "      <td>32</td>\n",
       "      <td>0.794444</td>\n",
       "      <td>0.447778</td>\n",
       "      <td>3</td>\n",
       "    </tr>\n",
       "    <tr>\n",
       "      <th>5118</th>\n",
       "      <td>S32T159</td>\n",
       "      <td>32</td>\n",
       "      <td>0.794444</td>\n",
       "      <td>0.447778</td>\n",
       "      <td>3</td>\n",
       "    </tr>\n",
       "    <tr>\n",
       "      <th>5119</th>\n",
       "      <td>S32T160</td>\n",
       "      <td>32</td>\n",
       "      <td>0.794444</td>\n",
       "      <td>0.447778</td>\n",
       "      <td>3</td>\n",
       "    </tr>\n",
       "  </tbody>\n",
       "</table>\n",
       "<p>5120 rows × 5 columns</p>\n",
       "</div>"
      ],
      "text/plain": [
       "     file_name  subject_label   valence   arousal  emotion_quad\n",
       "0         S1T1              1  0.856667  0.844444             0\n",
       "1         S1T2              1  0.856667  0.844444             0\n",
       "2         S1T3              1  0.856667  0.844444             0\n",
       "3         S1T4              1  0.856667  0.844444             0\n",
       "4         S1T5              1  0.900000  0.812222             0\n",
       "...        ...            ...       ...       ...           ...\n",
       "5115   S32T156             32  0.443333  0.796667             1\n",
       "5116   S32T157             32  0.794444  0.447778             3\n",
       "5117   S32T158             32  0.794444  0.447778             3\n",
       "5118   S32T159             32  0.794444  0.447778             3\n",
       "5119   S32T160             32  0.794444  0.447778             3\n",
       "\n",
       "[5120 rows x 5 columns]"
      ]
     },
     "execution_count": 29,
     "metadata": {},
     "output_type": "execute_result"
    }
   ],
   "source": [
    "df=df.reset_index(drop=True); df"
   ]
  },
  {
   "cell_type": "code",
   "execution_count": 30,
   "metadata": {
    "ExecuteTime": {
     "end_time": "2020-10-15T21:04:09.077165Z",
     "start_time": "2020-10-15T21:04:09.041949Z"
    }
   },
   "outputs": [
    {
     "data": {
      "text/plain": [
       "PosixPath('/media/tris/tris_files/EEG_datasets/OMA/window')"
      ]
     },
     "execution_count": 30,
     "metadata": {},
     "output_type": "execute_result"
    }
   ],
   "source": [
    "path=pathlib.Path('/media/tris/tris_files/EEG_datasets/OMA/window')\n",
    "path"
   ]
  },
  {
   "cell_type": "code",
   "execution_count": 31,
   "metadata": {
    "ExecuteTime": {
     "end_time": "2020-10-15T21:04:09.312410Z",
     "start_time": "2020-10-15T21:04:09.260050Z"
    }
   },
   "outputs": [],
   "source": [
    "df.to_csv(path/'labels_proc_window.csv', index=False)"
   ]
  },
  {
   "cell_type": "code",
   "execution_count": 32,
   "metadata": {
    "ExecuteTime": {
     "end_time": "2020-10-15T21:04:09.532913Z",
     "start_time": "2020-10-15T21:04:09.494660Z"
    }
   },
   "outputs": [
    {
     "data": {
      "text/html": [
       "<div>\n",
       "<style scoped>\n",
       "    .dataframe tbody tr th:only-of-type {\n",
       "        vertical-align: middle;\n",
       "    }\n",
       "\n",
       "    .dataframe tbody tr th {\n",
       "        vertical-align: top;\n",
       "    }\n",
       "\n",
       "    .dataframe thead th {\n",
       "        text-align: right;\n",
       "    }\n",
       "</style>\n",
       "<table border=\"1\" class=\"dataframe\">\n",
       "  <thead>\n",
       "    <tr style=\"text-align: right;\">\n",
       "      <th></th>\n",
       "      <th>file_name</th>\n",
       "      <th>subject_label</th>\n",
       "      <th>valence</th>\n",
       "      <th>arousal</th>\n",
       "      <th>emotion_quad</th>\n",
       "    </tr>\n",
       "  </thead>\n",
       "  <tbody>\n",
       "    <tr>\n",
       "      <th>5115</th>\n",
       "      <td>S32T156</td>\n",
       "      <td>32</td>\n",
       "      <td>0.443333</td>\n",
       "      <td>0.796667</td>\n",
       "      <td>1</td>\n",
       "    </tr>\n",
       "    <tr>\n",
       "      <th>5116</th>\n",
       "      <td>S32T157</td>\n",
       "      <td>32</td>\n",
       "      <td>0.794444</td>\n",
       "      <td>0.447778</td>\n",
       "      <td>3</td>\n",
       "    </tr>\n",
       "    <tr>\n",
       "      <th>5117</th>\n",
       "      <td>S32T158</td>\n",
       "      <td>32</td>\n",
       "      <td>0.794444</td>\n",
       "      <td>0.447778</td>\n",
       "      <td>3</td>\n",
       "    </tr>\n",
       "    <tr>\n",
       "      <th>5118</th>\n",
       "      <td>S32T159</td>\n",
       "      <td>32</td>\n",
       "      <td>0.794444</td>\n",
       "      <td>0.447778</td>\n",
       "      <td>3</td>\n",
       "    </tr>\n",
       "    <tr>\n",
       "      <th>5119</th>\n",
       "      <td>S32T160</td>\n",
       "      <td>32</td>\n",
       "      <td>0.794444</td>\n",
       "      <td>0.447778</td>\n",
       "      <td>3</td>\n",
       "    </tr>\n",
       "  </tbody>\n",
       "</table>\n",
       "</div>"
      ],
      "text/plain": [
       "     file_name  subject_label   valence   arousal  emotion_quad\n",
       "5115   S32T156             32  0.443333  0.796667             1\n",
       "5116   S32T157             32  0.794444  0.447778             3\n",
       "5117   S32T158             32  0.794444  0.447778             3\n",
       "5118   S32T159             32  0.794444  0.447778             3\n",
       "5119   S32T160             32  0.794444  0.447778             3"
      ]
     },
     "execution_count": 32,
     "metadata": {},
     "output_type": "execute_result"
    }
   ],
   "source": [
    "df = pd.read_csv(path/'labels_proc_window.csv') #load labels\n",
    "df.tail()"
   ]
  },
  {
   "cell_type": "code",
   "execution_count": 33,
   "metadata": {
    "ExecuteTime": {
     "end_time": "2020-10-15T21:04:10.082137Z",
     "start_time": "2020-10-15T21:04:09.737063Z"
    }
   },
   "outputs": [
    {
     "data": {
      "text/plain": [
       "array([[<matplotlib.axes._subplots.AxesSubplot object at 0x7fde24e506d0>,\n",
       "        <matplotlib.axes._subplots.AxesSubplot object at 0x7fde24df6590>],\n",
       "       [<matplotlib.axes._subplots.AxesSubplot object at 0x7fde24e24d50>,\n",
       "        <matplotlib.axes._subplots.AxesSubplot object at 0x7fde24de3590>]], dtype=object)"
      ]
     },
     "execution_count": 33,
     "metadata": {},
     "output_type": "execute_result"
    },
    {
     "data": {
      "image/png": "[encoded data removed]",
      "text/plain": [
       "<Figure size 432x288 with 4 Axes>"
      ]
     },
     "metadata": {
      "needs_background": "light"
     },
     "output_type": "display_data"
    }
   ],
   "source": [
    "df.hist()"
   ]
  },
  {
   "cell_type": "code",
   "execution_count": 34,
   "metadata": {
    "ExecuteTime": {
     "end_time": "2020-10-15T21:04:10.096831Z",
     "start_time": "2020-10-15T21:04:10.083239Z"
    }
   },
   "outputs": [],
   "source": [
    "PATH = \"/media/tris/tris_files/EEG_datasets/OMA/window\""
   ]
  },
  {
   "cell_type": "code",
   "execution_count": 35,
   "metadata": {
    "ExecuteTime": {
     "end_time": "2020-10-15T21:04:10.662270Z",
     "start_time": "2020-10-15T21:04:10.247941Z"
    }
   },
   "outputs": [
    {
     "data": {
      "text/html": [
       "<div>\n",
       "<style scoped>\n",
       "    .dataframe tbody tr th:only-of-type {\n",
       "        vertical-align: middle;\n",
       "    }\n",
       "\n",
       "    .dataframe tbody tr th {\n",
       "        vertical-align: top;\n",
       "    }\n",
       "\n",
       "    .dataframe thead th {\n",
       "        text-align: right;\n",
       "    }\n",
       "</style>\n",
       "<table border=\"1\" class=\"dataframe\">\n",
       "  <thead>\n",
       "    <tr style=\"text-align: right;\">\n",
       "      <th></th>\n",
       "      <th>Subject</th>\n",
       "      <th>Trial</th>\n",
       "      <th>Real_Comp1_Mode1</th>\n",
       "      <th>Real_Comp2_Mode1</th>\n",
       "      <th>Real_Comp3_Mode1</th>\n",
       "      <th>Real_Comp4_Mode1</th>\n",
       "      <th>Real_Comp5_Mode1</th>\n",
       "      <th>Real_Comp6_Mode1</th>\n",
       "      <th>Real_Comp7_Mode1</th>\n",
       "      <th>Real_Comp8_Mode1</th>\n",
       "      <th>...</th>\n",
       "      <th>zeta5</th>\n",
       "      <th>zeta6</th>\n",
       "      <th>zeta7</th>\n",
       "      <th>fn1</th>\n",
       "      <th>fn2</th>\n",
       "      <th>fn3</th>\n",
       "      <th>fn4</th>\n",
       "      <th>fn5</th>\n",
       "      <th>fn6</th>\n",
       "      <th>fn7</th>\n",
       "    </tr>\n",
       "  </thead>\n",
       "  <tbody>\n",
       "    <tr>\n",
       "      <th>0</th>\n",
       "      <td>1</td>\n",
       "      <td>1</td>\n",
       "      <td>0.081948</td>\n",
       "      <td>-0.045425</td>\n",
       "      <td>-0.015341</td>\n",
       "      <td>-0.076406</td>\n",
       "      <td>0.171911</td>\n",
       "      <td>0.138256</td>\n",
       "      <td>-0.036334</td>\n",
       "      <td>-0.163510</td>\n",
       "      <td>...</td>\n",
       "      <td>-0.051060</td>\n",
       "      <td>-0.077595</td>\n",
       "      <td>-0.035316</td>\n",
       "      <td>0.044253</td>\n",
       "      <td>-0.011422</td>\n",
       "      <td>0.032761</td>\n",
       "      <td>0.036446</td>\n",
       "      <td>0.093352</td>\n",
       "      <td>0.019047</td>\n",
       "      <td>45.343738</td>\n",
       "    </tr>\n",
       "    <tr>\n",
       "      <th>1</th>\n",
       "      <td>1</td>\n",
       "      <td>2</td>\n",
       "      <td>0.049658</td>\n",
       "      <td>0.009936</td>\n",
       "      <td>0.017493</td>\n",
       "      <td>-0.036572</td>\n",
       "      <td>0.046062</td>\n",
       "      <td>0.030815</td>\n",
       "      <td>-0.004333</td>\n",
       "      <td>-0.053269</td>\n",
       "      <td>...</td>\n",
       "      <td>-0.313788</td>\n",
       "      <td>-0.102129</td>\n",
       "      <td>0.234990</td>\n",
       "      <td>0.556034</td>\n",
       "      <td>-0.339402</td>\n",
       "      <td>-0.340453</td>\n",
       "      <td>-0.097615</td>\n",
       "      <td>0.110119</td>\n",
       "      <td>0.011303</td>\n",
       "      <td>41.336668</td>\n",
       "    </tr>\n",
       "    <tr>\n",
       "      <th>2</th>\n",
       "      <td>1</td>\n",
       "      <td>3</td>\n",
       "      <td>0.168706</td>\n",
       "      <td>-0.067328</td>\n",
       "      <td>0.087951</td>\n",
       "      <td>-0.029108</td>\n",
       "      <td>0.285195</td>\n",
       "      <td>0.090563</td>\n",
       "      <td>-0.165873</td>\n",
       "      <td>-0.376551</td>\n",
       "      <td>...</td>\n",
       "      <td>0.178666</td>\n",
       "      <td>-0.025014</td>\n",
       "      <td>-0.349329</td>\n",
       "      <td>-0.488738</td>\n",
       "      <td>0.337106</td>\n",
       "      <td>0.338119</td>\n",
       "      <td>0.184487</td>\n",
       "      <td>-0.002215</td>\n",
       "      <td>0.019710</td>\n",
       "      <td>40.198276</td>\n",
       "    </tr>\n",
       "    <tr>\n",
       "      <th>3</th>\n",
       "      <td>1</td>\n",
       "      <td>4</td>\n",
       "      <td>-0.195931</td>\n",
       "      <td>0.064528</td>\n",
       "      <td>-0.073303</td>\n",
       "      <td>0.056689</td>\n",
       "      <td>-0.257539</td>\n",
       "      <td>-0.099162</td>\n",
       "      <td>0.151166</td>\n",
       "      <td>0.382519</td>\n",
       "      <td>...</td>\n",
       "      <td>0.200335</td>\n",
       "      <td>-0.001949</td>\n",
       "      <td>-0.208238</td>\n",
       "      <td>-0.534020</td>\n",
       "      <td>0.417333</td>\n",
       "      <td>0.369180</td>\n",
       "      <td>0.162184</td>\n",
       "      <td>-0.209589</td>\n",
       "      <td>0.009616</td>\n",
       "      <td>48.866446</td>\n",
       "    </tr>\n",
       "    <tr>\n",
       "      <th>4</th>\n",
       "      <td>1</td>\n",
       "      <td>5</td>\n",
       "      <td>-0.122429</td>\n",
       "      <td>0.024698</td>\n",
       "      <td>0.052268</td>\n",
       "      <td>0.085952</td>\n",
       "      <td>-0.197063</td>\n",
       "      <td>-0.162514</td>\n",
       "      <td>0.035680</td>\n",
       "      <td>0.108430</td>\n",
       "      <td>...</td>\n",
       "      <td>-0.178251</td>\n",
       "      <td>-0.066832</td>\n",
       "      <td>0.178333</td>\n",
       "      <td>0.325097</td>\n",
       "      <td>-0.204320</td>\n",
       "      <td>-0.241421</td>\n",
       "      <td>-0.034872</td>\n",
       "      <td>0.097101</td>\n",
       "      <td>0.006341</td>\n",
       "      <td>47.811462</td>\n",
       "    </tr>\n",
       "    <tr>\n",
       "      <th>...</th>\n",
       "      <td>...</td>\n",
       "      <td>...</td>\n",
       "      <td>...</td>\n",
       "      <td>...</td>\n",
       "      <td>...</td>\n",
       "      <td>...</td>\n",
       "      <td>...</td>\n",
       "      <td>...</td>\n",
       "      <td>...</td>\n",
       "      <td>...</td>\n",
       "      <td>...</td>\n",
       "      <td>...</td>\n",
       "      <td>...</td>\n",
       "      <td>...</td>\n",
       "      <td>...</td>\n",
       "      <td>...</td>\n",
       "      <td>...</td>\n",
       "      <td>...</td>\n",
       "      <td>...</td>\n",
       "      <td>...</td>\n",
       "      <td>...</td>\n",
       "    </tr>\n",
       "    <tr>\n",
       "      <th>5115</th>\n",
       "      <td>32</td>\n",
       "      <td>156</td>\n",
       "      <td>-0.357643</td>\n",
       "      <td>-0.491085</td>\n",
       "      <td>0.209572</td>\n",
       "      <td>-0.171950</td>\n",
       "      <td>0.338017</td>\n",
       "      <td>0.007259</td>\n",
       "      <td>0.585254</td>\n",
       "      <td>0.222424</td>\n",
       "      <td>...</td>\n",
       "      <td>0.130738</td>\n",
       "      <td>0.157728</td>\n",
       "      <td>-0.073260</td>\n",
       "      <td>0.035155</td>\n",
       "      <td>-0.099400</td>\n",
       "      <td>-0.010219</td>\n",
       "      <td>-0.206379</td>\n",
       "      <td>-0.079857</td>\n",
       "      <td>0.014983</td>\n",
       "      <td>30.739507</td>\n",
       "    </tr>\n",
       "    <tr>\n",
       "      <th>5116</th>\n",
       "      <td>32</td>\n",
       "      <td>157</td>\n",
       "      <td>-0.358014</td>\n",
       "      <td>-0.582069</td>\n",
       "      <td>0.212574</td>\n",
       "      <td>-0.247489</td>\n",
       "      <td>0.437359</td>\n",
       "      <td>0.003154</td>\n",
       "      <td>0.714734</td>\n",
       "      <td>0.266580</td>\n",
       "      <td>...</td>\n",
       "      <td>0.000000</td>\n",
       "      <td>0.000000</td>\n",
       "      <td>0.000000</td>\n",
       "      <td>0.000000</td>\n",
       "      <td>0.000000</td>\n",
       "      <td>0.000000</td>\n",
       "      <td>0.000000</td>\n",
       "      <td>0.000000</td>\n",
       "      <td>1.000000</td>\n",
       "      <td>28.682687</td>\n",
       "    </tr>\n",
       "    <tr>\n",
       "      <th>5117</th>\n",
       "      <td>32</td>\n",
       "      <td>158</td>\n",
       "      <td>-0.379006</td>\n",
       "      <td>-0.487530</td>\n",
       "      <td>0.214247</td>\n",
       "      <td>-0.157777</td>\n",
       "      <td>0.327218</td>\n",
       "      <td>0.016778</td>\n",
       "      <td>0.575243</td>\n",
       "      <td>0.213227</td>\n",
       "      <td>...</td>\n",
       "      <td>-0.015303</td>\n",
       "      <td>-0.231798</td>\n",
       "      <td>0.010316</td>\n",
       "      <td>-0.188196</td>\n",
       "      <td>0.253593</td>\n",
       "      <td>-0.023508</td>\n",
       "      <td>0.315596</td>\n",
       "      <td>0.116271</td>\n",
       "      <td>0.032695</td>\n",
       "      <td>26.565669</td>\n",
       "    </tr>\n",
       "    <tr>\n",
       "      <th>5118</th>\n",
       "      <td>32</td>\n",
       "      <td>159</td>\n",
       "      <td>0.111528</td>\n",
       "      <td>0.150362</td>\n",
       "      <td>-0.060776</td>\n",
       "      <td>0.045534</td>\n",
       "      <td>-0.100818</td>\n",
       "      <td>-0.012377</td>\n",
       "      <td>-0.170067</td>\n",
       "      <td>-0.047020</td>\n",
       "      <td>...</td>\n",
       "      <td>0.194464</td>\n",
       "      <td>0.271677</td>\n",
       "      <td>-0.133987</td>\n",
       "      <td>0.107742</td>\n",
       "      <td>-0.205606</td>\n",
       "      <td>0.007676</td>\n",
       "      <td>-0.341775</td>\n",
       "      <td>-0.160257</td>\n",
       "      <td>0.007078</td>\n",
       "      <td>27.228309</td>\n",
       "    </tr>\n",
       "    <tr>\n",
       "      <th>5119</th>\n",
       "      <td>32</td>\n",
       "      <td>160</td>\n",
       "      <td>0.215345</td>\n",
       "      <td>0.465507</td>\n",
       "      <td>-0.140404</td>\n",
       "      <td>0.239657</td>\n",
       "      <td>-0.376952</td>\n",
       "      <td>0.016717</td>\n",
       "      <td>-0.574127</td>\n",
       "      <td>-0.221902</td>\n",
       "      <td>...</td>\n",
       "      <td>-0.283264</td>\n",
       "      <td>-0.328863</td>\n",
       "      <td>0.174402</td>\n",
       "      <td>-0.075506</td>\n",
       "      <td>0.190160</td>\n",
       "      <td>0.017348</td>\n",
       "      <td>0.388787</td>\n",
       "      <td>0.165252</td>\n",
       "      <td>0.019329</td>\n",
       "      <td>28.729179</td>\n",
       "    </tr>\n",
       "  </tbody>\n",
       "</table>\n",
       "<p>5120 rows × 464 columns</p>\n",
       "</div>"
      ],
      "text/plain": [
       "      Subject  Trial  Real_Comp1_Mode1  Real_Comp2_Mode1  Real_Comp3_Mode1  \\\n",
       "0           1      1          0.081948         -0.045425         -0.015341   \n",
       "1           1      2          0.049658          0.009936          0.017493   \n",
       "2           1      3          0.168706         -0.067328          0.087951   \n",
       "3           1      4         -0.195931          0.064528         -0.073303   \n",
       "4           1      5         -0.122429          0.024698          0.052268   \n",
       "...       ...    ...               ...               ...               ...   \n",
       "5115       32    156         -0.357643         -0.491085          0.209572   \n",
       "5116       32    157         -0.358014         -0.582069          0.212574   \n",
       "5117       32    158         -0.379006         -0.487530          0.214247   \n",
       "5118       32    159          0.111528          0.150362         -0.060776   \n",
       "5119       32    160          0.215345          0.465507         -0.140404   \n",
       "\n",
       "      Real_Comp4_Mode1  Real_Comp5_Mode1  Real_Comp6_Mode1  Real_Comp7_Mode1  \\\n",
       "0            -0.076406          0.171911          0.138256         -0.036334   \n",
       "1            -0.036572          0.046062          0.030815         -0.004333   \n",
       "2            -0.029108          0.285195          0.090563         -0.165873   \n",
       "3             0.056689         -0.257539         -0.099162          0.151166   \n",
       "4             0.085952         -0.197063         -0.162514          0.035680   \n",
       "...                ...               ...               ...               ...   \n",
       "5115         -0.171950          0.338017          0.007259          0.585254   \n",
       "5116         -0.247489          0.437359          0.003154          0.714734   \n",
       "5117         -0.157777          0.327218          0.016778          0.575243   \n",
       "5118          0.045534         -0.100818         -0.012377         -0.170067   \n",
       "5119          0.239657         -0.376952          0.016717         -0.574127   \n",
       "\n",
       "      Real_Comp8_Mode1  ...     zeta5     zeta6     zeta7       fn1       fn2  \\\n",
       "0            -0.163510  ... -0.051060 -0.077595 -0.035316  0.044253 -0.011422   \n",
       "1            -0.053269  ... -0.313788 -0.102129  0.234990  0.556034 -0.339402   \n",
       "2            -0.376551  ...  0.178666 -0.025014 -0.349329 -0.488738  0.337106   \n",
       "3             0.382519  ...  0.200335 -0.001949 -0.208238 -0.534020  0.417333   \n",
       "4             0.108430  ... -0.178251 -0.066832  0.178333  0.325097 -0.204320   \n",
       "...                ...  ...       ...       ...       ...       ...       ...   \n",
       "5115          0.222424  ...  0.130738  0.157728 -0.073260  0.035155 -0.099400   \n",
       "5116          0.266580  ...  0.000000  0.000000  0.000000  0.000000  0.000000   \n",
       "5117          0.213227  ... -0.015303 -0.231798  0.010316 -0.188196  0.253593   \n",
       "5118         -0.047020  ...  0.194464  0.271677 -0.133987  0.107742 -0.205606   \n",
       "5119         -0.221902  ... -0.283264 -0.328863  0.174402 -0.075506  0.190160   \n",
       "\n",
       "           fn3       fn4       fn5       fn6        fn7  \n",
       "0     0.032761  0.036446  0.093352  0.019047  45.343738  \n",
       "1    -0.340453 -0.097615  0.110119  0.011303  41.336668  \n",
       "2     0.338119  0.184487 -0.002215  0.019710  40.198276  \n",
       "3     0.369180  0.162184 -0.209589  0.009616  48.866446  \n",
       "4    -0.241421 -0.034872  0.097101  0.006341  47.811462  \n",
       "...        ...       ...       ...       ...        ...  \n",
       "5115 -0.010219 -0.206379 -0.079857  0.014983  30.739507  \n",
       "5116  0.000000  0.000000  0.000000  1.000000  28.682687  \n",
       "5117 -0.023508  0.315596  0.116271  0.032695  26.565669  \n",
       "5118  0.007676 -0.341775 -0.160257  0.007078  27.228309  \n",
       "5119  0.017348  0.388787  0.165252  0.019329  28.729179  \n",
       "\n",
       "[5120 rows x 464 columns]"
      ]
     },
     "execution_count": 35,
     "metadata": {},
     "output_type": "execute_result"
    }
   ],
   "source": [
    "df_raw = pd.read_csv('/media/tris/tris_files/EEG_datasets/OMA/window/OMA_deap_window_head.csv')\n",
    "df_raw"
   ]
  },
  {
   "cell_type": "code",
   "execution_count": 36,
   "metadata": {
    "ExecuteTime": {
     "end_time": "2020-10-15T21:04:10.694917Z",
     "start_time": "2020-10-15T21:04:10.663683Z"
    }
   },
   "outputs": [
    {
     "data": {
      "text/html": [
       "<div>\n",
       "<style scoped>\n",
       "    .dataframe tbody tr th:only-of-type {\n",
       "        vertical-align: middle;\n",
       "    }\n",
       "\n",
       "    .dataframe tbody tr th {\n",
       "        vertical-align: top;\n",
       "    }\n",
       "\n",
       "    .dataframe thead th {\n",
       "        text-align: right;\n",
       "    }\n",
       "</style>\n",
       "<table border=\"1\" class=\"dataframe\">\n",
       "  <thead>\n",
       "    <tr style=\"text-align: right;\">\n",
       "      <th></th>\n",
       "      <th>Subject</th>\n",
       "      <th>Trial</th>\n",
       "      <th>Real_Comp1_Mode1</th>\n",
       "      <th>Real_Comp2_Mode1</th>\n",
       "      <th>Real_Comp3_Mode1</th>\n",
       "      <th>Real_Comp4_Mode1</th>\n",
       "      <th>Real_Comp5_Mode1</th>\n",
       "      <th>Real_Comp6_Mode1</th>\n",
       "      <th>Real_Comp7_Mode1</th>\n",
       "      <th>Real_Comp8_Mode1</th>\n",
       "      <th>...</th>\n",
       "      <th>zeta6</th>\n",
       "      <th>zeta7</th>\n",
       "      <th>fn1</th>\n",
       "      <th>fn2</th>\n",
       "      <th>fn3</th>\n",
       "      <th>fn4</th>\n",
       "      <th>fn5</th>\n",
       "      <th>fn6</th>\n",
       "      <th>fn7</th>\n",
       "      <th>emotion_quad</th>\n",
       "    </tr>\n",
       "  </thead>\n",
       "  <tbody>\n",
       "    <tr>\n",
       "      <th>0</th>\n",
       "      <td>1</td>\n",
       "      <td>1</td>\n",
       "      <td>0.081948</td>\n",
       "      <td>-0.045425</td>\n",
       "      <td>-0.015341</td>\n",
       "      <td>-0.076406</td>\n",
       "      <td>0.171911</td>\n",
       "      <td>0.138256</td>\n",
       "      <td>-0.036334</td>\n",
       "      <td>-0.163510</td>\n",
       "      <td>...</td>\n",
       "      <td>-0.077595</td>\n",
       "      <td>-0.035316</td>\n",
       "      <td>0.044253</td>\n",
       "      <td>-0.011422</td>\n",
       "      <td>0.032761</td>\n",
       "      <td>0.036446</td>\n",
       "      <td>0.093352</td>\n",
       "      <td>0.019047</td>\n",
       "      <td>45.343738</td>\n",
       "      <td>0</td>\n",
       "    </tr>\n",
       "    <tr>\n",
       "      <th>1</th>\n",
       "      <td>1</td>\n",
       "      <td>2</td>\n",
       "      <td>0.049658</td>\n",
       "      <td>0.009936</td>\n",
       "      <td>0.017493</td>\n",
       "      <td>-0.036572</td>\n",
       "      <td>0.046062</td>\n",
       "      <td>0.030815</td>\n",
       "      <td>-0.004333</td>\n",
       "      <td>-0.053269</td>\n",
       "      <td>...</td>\n",
       "      <td>-0.102129</td>\n",
       "      <td>0.234990</td>\n",
       "      <td>0.556034</td>\n",
       "      <td>-0.339402</td>\n",
       "      <td>-0.340453</td>\n",
       "      <td>-0.097615</td>\n",
       "      <td>0.110119</td>\n",
       "      <td>0.011303</td>\n",
       "      <td>41.336668</td>\n",
       "      <td>0</td>\n",
       "    </tr>\n",
       "    <tr>\n",
       "      <th>2</th>\n",
       "      <td>1</td>\n",
       "      <td>3</td>\n",
       "      <td>0.168706</td>\n",
       "      <td>-0.067328</td>\n",
       "      <td>0.087951</td>\n",
       "      <td>-0.029108</td>\n",
       "      <td>0.285195</td>\n",
       "      <td>0.090563</td>\n",
       "      <td>-0.165873</td>\n",
       "      <td>-0.376551</td>\n",
       "      <td>...</td>\n",
       "      <td>-0.025014</td>\n",
       "      <td>-0.349329</td>\n",
       "      <td>-0.488738</td>\n",
       "      <td>0.337106</td>\n",
       "      <td>0.338119</td>\n",
       "      <td>0.184487</td>\n",
       "      <td>-0.002215</td>\n",
       "      <td>0.019710</td>\n",
       "      <td>40.198276</td>\n",
       "      <td>0</td>\n",
       "    </tr>\n",
       "    <tr>\n",
       "      <th>3</th>\n",
       "      <td>1</td>\n",
       "      <td>4</td>\n",
       "      <td>-0.195931</td>\n",
       "      <td>0.064528</td>\n",
       "      <td>-0.073303</td>\n",
       "      <td>0.056689</td>\n",
       "      <td>-0.257539</td>\n",
       "      <td>-0.099162</td>\n",
       "      <td>0.151166</td>\n",
       "      <td>0.382519</td>\n",
       "      <td>...</td>\n",
       "      <td>-0.001949</td>\n",
       "      <td>-0.208238</td>\n",
       "      <td>-0.534020</td>\n",
       "      <td>0.417333</td>\n",
       "      <td>0.369180</td>\n",
       "      <td>0.162184</td>\n",
       "      <td>-0.209589</td>\n",
       "      <td>0.009616</td>\n",
       "      <td>48.866446</td>\n",
       "      <td>0</td>\n",
       "    </tr>\n",
       "    <tr>\n",
       "      <th>4</th>\n",
       "      <td>1</td>\n",
       "      <td>5</td>\n",
       "      <td>-0.122429</td>\n",
       "      <td>0.024698</td>\n",
       "      <td>0.052268</td>\n",
       "      <td>0.085952</td>\n",
       "      <td>-0.197063</td>\n",
       "      <td>-0.162514</td>\n",
       "      <td>0.035680</td>\n",
       "      <td>0.108430</td>\n",
       "      <td>...</td>\n",
       "      <td>-0.066832</td>\n",
       "      <td>0.178333</td>\n",
       "      <td>0.325097</td>\n",
       "      <td>-0.204320</td>\n",
       "      <td>-0.241421</td>\n",
       "      <td>-0.034872</td>\n",
       "      <td>0.097101</td>\n",
       "      <td>0.006341</td>\n",
       "      <td>47.811462</td>\n",
       "      <td>0</td>\n",
       "    </tr>\n",
       "  </tbody>\n",
       "</table>\n",
       "<p>5 rows × 465 columns</p>\n",
       "</div>"
      ],
      "text/plain": [
       "   Subject  Trial  Real_Comp1_Mode1  Real_Comp2_Mode1  Real_Comp3_Mode1  \\\n",
       "0        1      1          0.081948         -0.045425         -0.015341   \n",
       "1        1      2          0.049658          0.009936          0.017493   \n",
       "2        1      3          0.168706         -0.067328          0.087951   \n",
       "3        1      4         -0.195931          0.064528         -0.073303   \n",
       "4        1      5         -0.122429          0.024698          0.052268   \n",
       "\n",
       "   Real_Comp4_Mode1  Real_Comp5_Mode1  Real_Comp6_Mode1  Real_Comp7_Mode1  \\\n",
       "0         -0.076406          0.171911          0.138256         -0.036334   \n",
       "1         -0.036572          0.046062          0.030815         -0.004333   \n",
       "2         -0.029108          0.285195          0.090563         -0.165873   \n",
       "3          0.056689         -0.257539         -0.099162          0.151166   \n",
       "4          0.085952         -0.197063         -0.162514          0.035680   \n",
       "\n",
       "   Real_Comp8_Mode1  ...     zeta6     zeta7       fn1       fn2       fn3  \\\n",
       "0         -0.163510  ... -0.077595 -0.035316  0.044253 -0.011422  0.032761   \n",
       "1         -0.053269  ... -0.102129  0.234990  0.556034 -0.339402 -0.340453   \n",
       "2         -0.376551  ... -0.025014 -0.349329 -0.488738  0.337106  0.338119   \n",
       "3          0.382519  ... -0.001949 -0.208238 -0.534020  0.417333  0.369180   \n",
       "4          0.108430  ... -0.066832  0.178333  0.325097 -0.204320 -0.241421   \n",
       "\n",
       "        fn4       fn5       fn6        fn7  emotion_quad  \n",
       "0  0.036446  0.093352  0.019047  45.343738             0  \n",
       "1 -0.097615  0.110119  0.011303  41.336668             0  \n",
       "2  0.184487 -0.002215  0.019710  40.198276             0  \n",
       "3  0.162184 -0.209589  0.009616  48.866446             0  \n",
       "4 -0.034872  0.097101  0.006341  47.811462             0  \n",
       "\n",
       "[5 rows x 465 columns]"
      ]
     },
     "execution_count": 36,
     "metadata": {},
     "output_type": "execute_result"
    }
   ],
   "source": [
    "emotion_quad = df['emotion_quad']\n",
    "df_learn = df_raw.join(emotion_quad)\n",
    "df_learn.head()"
   ]
  },
  {
   "cell_type": "code",
   "execution_count": 37,
   "metadata": {
    "ExecuteTime": {
     "end_time": "2020-10-15T21:04:10.727727Z",
     "start_time": "2020-10-15T21:04:10.701129Z"
    }
   },
   "outputs": [
    {
     "data": {
      "text/html": [
       "<div>\n",
       "<style scoped>\n",
       "    .dataframe tbody tr th:only-of-type {\n",
       "        vertical-align: middle;\n",
       "    }\n",
       "\n",
       "    .dataframe tbody tr th {\n",
       "        vertical-align: top;\n",
       "    }\n",
       "\n",
       "    .dataframe thead th {\n",
       "        text-align: right;\n",
       "    }\n",
       "</style>\n",
       "<table border=\"1\" class=\"dataframe\">\n",
       "  <thead>\n",
       "    <tr style=\"text-align: right;\">\n",
       "      <th></th>\n",
       "      <th>Subject</th>\n",
       "      <th>Trial</th>\n",
       "      <th>Real_Comp1_Mode1</th>\n",
       "      <th>Real_Comp2_Mode1</th>\n",
       "      <th>Real_Comp3_Mode1</th>\n",
       "      <th>Real_Comp4_Mode1</th>\n",
       "      <th>Real_Comp5_Mode1</th>\n",
       "      <th>Real_Comp6_Mode1</th>\n",
       "      <th>Real_Comp7_Mode1</th>\n",
       "      <th>Real_Comp8_Mode1</th>\n",
       "      <th>...</th>\n",
       "      <th>zeta6</th>\n",
       "      <th>zeta7</th>\n",
       "      <th>fn1</th>\n",
       "      <th>fn2</th>\n",
       "      <th>fn3</th>\n",
       "      <th>fn4</th>\n",
       "      <th>fn5</th>\n",
       "      <th>fn6</th>\n",
       "      <th>fn7</th>\n",
       "      <th>emotion_quad</th>\n",
       "    </tr>\n",
       "  </thead>\n",
       "  <tbody>\n",
       "    <tr>\n",
       "      <th>40</th>\n",
       "      <td>1</td>\n",
       "      <td>41</td>\n",
       "      <td>0.039184</td>\n",
       "      <td>0.058918</td>\n",
       "      <td>-0.065916</td>\n",
       "      <td>-0.123054</td>\n",
       "      <td>0.146321</td>\n",
       "      <td>0.102099</td>\n",
       "      <td>0.081156</td>\n",
       "      <td>-0.021269</td>\n",
       "      <td>...</td>\n",
       "      <td>-0.036511</td>\n",
       "      <td>0.167833</td>\n",
       "      <td>0.226212</td>\n",
       "      <td>-0.148387</td>\n",
       "      <td>-0.210056</td>\n",
       "      <td>-0.299728</td>\n",
       "      <td>-0.136652</td>\n",
       "      <td>0.008732</td>\n",
       "      <td>45.824037</td>\n",
       "      <td>2</td>\n",
       "    </tr>\n",
       "  </tbody>\n",
       "</table>\n",
       "<p>1 rows × 465 columns</p>\n",
       "</div>"
      ],
      "text/plain": [
       "    Subject  Trial  Real_Comp1_Mode1  Real_Comp2_Mode1  Real_Comp3_Mode1  \\\n",
       "40        1     41          0.039184          0.058918         -0.065916   \n",
       "\n",
       "    Real_Comp4_Mode1  Real_Comp5_Mode1  Real_Comp6_Mode1  Real_Comp7_Mode1  \\\n",
       "40         -0.123054          0.146321          0.102099          0.081156   \n",
       "\n",
       "    Real_Comp8_Mode1  ...     zeta6     zeta7       fn1       fn2       fn3  \\\n",
       "40         -0.021269  ... -0.036511  0.167833  0.226212 -0.148387 -0.210056   \n",
       "\n",
       "         fn4       fn5       fn6        fn7  emotion_quad  \n",
       "40 -0.299728 -0.136652  0.008732  45.824037             2  \n",
       "\n",
       "[1 rows x 465 columns]"
      ]
     },
     "execution_count": 37,
     "metadata": {},
     "output_type": "execute_result"
    }
   ],
   "source": [
    "df_learn.iloc[[40],:]"
   ]
  },
  {
   "cell_type": "code",
   "execution_count": 38,
   "metadata": {
    "ExecuteTime": {
     "end_time": "2020-10-15T21:04:11.115090Z",
     "start_time": "2020-10-15T21:04:10.958126Z"
    }
   },
   "outputs": [],
   "source": [
    "os.makedirs('tmp', exist_ok=True)\n",
    "df_learn.to_feather('tmp/eeg-raw')"
   ]
  },
  {
   "cell_type": "code",
   "execution_count": 39,
   "metadata": {
    "ExecuteTime": {
     "end_time": "2020-10-15T21:04:11.226739Z",
     "start_time": "2020-10-15T21:04:11.182155Z"
    }
   },
   "outputs": [
    {
     "data": {
      "text/html": [
       "<div>\n",
       "<style scoped>\n",
       "    .dataframe tbody tr th:only-of-type {\n",
       "        vertical-align: middle;\n",
       "    }\n",
       "\n",
       "    .dataframe tbody tr th {\n",
       "        vertical-align: top;\n",
       "    }\n",
       "\n",
       "    .dataframe thead th {\n",
       "        text-align: right;\n",
       "    }\n",
       "</style>\n",
       "<table border=\"1\" class=\"dataframe\">\n",
       "  <thead>\n",
       "    <tr style=\"text-align: right;\">\n",
       "      <th></th>\n",
       "      <th>Subject</th>\n",
       "      <th>Trial</th>\n",
       "      <th>Real_Comp1_Mode1</th>\n",
       "      <th>Real_Comp2_Mode1</th>\n",
       "      <th>Real_Comp3_Mode1</th>\n",
       "      <th>Real_Comp4_Mode1</th>\n",
       "      <th>Real_Comp5_Mode1</th>\n",
       "      <th>Real_Comp6_Mode1</th>\n",
       "      <th>Real_Comp7_Mode1</th>\n",
       "      <th>Real_Comp8_Mode1</th>\n",
       "      <th>...</th>\n",
       "      <th>zeta6</th>\n",
       "      <th>zeta7</th>\n",
       "      <th>fn1</th>\n",
       "      <th>fn2</th>\n",
       "      <th>fn3</th>\n",
       "      <th>fn4</th>\n",
       "      <th>fn5</th>\n",
       "      <th>fn6</th>\n",
       "      <th>fn7</th>\n",
       "      <th>emotion_quad</th>\n",
       "    </tr>\n",
       "  </thead>\n",
       "  <tbody>\n",
       "    <tr>\n",
       "      <th>0</th>\n",
       "      <td>1</td>\n",
       "      <td>1</td>\n",
       "      <td>0.081948</td>\n",
       "      <td>-0.045425</td>\n",
       "      <td>-0.015341</td>\n",
       "      <td>-0.076406</td>\n",
       "      <td>0.171911</td>\n",
       "      <td>0.138256</td>\n",
       "      <td>-0.036334</td>\n",
       "      <td>-0.163510</td>\n",
       "      <td>...</td>\n",
       "      <td>-0.077595</td>\n",
       "      <td>-0.035316</td>\n",
       "      <td>0.044253</td>\n",
       "      <td>-0.011422</td>\n",
       "      <td>0.032761</td>\n",
       "      <td>0.036446</td>\n",
       "      <td>0.093352</td>\n",
       "      <td>0.019047</td>\n",
       "      <td>45.343738</td>\n",
       "      <td>0</td>\n",
       "    </tr>\n",
       "    <tr>\n",
       "      <th>1</th>\n",
       "      <td>1</td>\n",
       "      <td>2</td>\n",
       "      <td>0.049658</td>\n",
       "      <td>0.009936</td>\n",
       "      <td>0.017493</td>\n",
       "      <td>-0.036572</td>\n",
       "      <td>0.046062</td>\n",
       "      <td>0.030815</td>\n",
       "      <td>-0.004333</td>\n",
       "      <td>-0.053269</td>\n",
       "      <td>...</td>\n",
       "      <td>-0.102129</td>\n",
       "      <td>0.234990</td>\n",
       "      <td>0.556034</td>\n",
       "      <td>-0.339402</td>\n",
       "      <td>-0.340453</td>\n",
       "      <td>-0.097615</td>\n",
       "      <td>0.110119</td>\n",
       "      <td>0.011303</td>\n",
       "      <td>41.336668</td>\n",
       "      <td>0</td>\n",
       "    </tr>\n",
       "    <tr>\n",
       "      <th>2</th>\n",
       "      <td>1</td>\n",
       "      <td>3</td>\n",
       "      <td>0.168706</td>\n",
       "      <td>-0.067328</td>\n",
       "      <td>0.087951</td>\n",
       "      <td>-0.029108</td>\n",
       "      <td>0.285195</td>\n",
       "      <td>0.090563</td>\n",
       "      <td>-0.165873</td>\n",
       "      <td>-0.376551</td>\n",
       "      <td>...</td>\n",
       "      <td>-0.025014</td>\n",
       "      <td>-0.349329</td>\n",
       "      <td>-0.488738</td>\n",
       "      <td>0.337106</td>\n",
       "      <td>0.338119</td>\n",
       "      <td>0.184487</td>\n",
       "      <td>-0.002215</td>\n",
       "      <td>0.019710</td>\n",
       "      <td>40.198276</td>\n",
       "      <td>0</td>\n",
       "    </tr>\n",
       "    <tr>\n",
       "      <th>3</th>\n",
       "      <td>1</td>\n",
       "      <td>4</td>\n",
       "      <td>-0.195931</td>\n",
       "      <td>0.064528</td>\n",
       "      <td>-0.073303</td>\n",
       "      <td>0.056689</td>\n",
       "      <td>-0.257539</td>\n",
       "      <td>-0.099162</td>\n",
       "      <td>0.151166</td>\n",
       "      <td>0.382519</td>\n",
       "      <td>...</td>\n",
       "      <td>-0.001949</td>\n",
       "      <td>-0.208238</td>\n",
       "      <td>-0.534020</td>\n",
       "      <td>0.417333</td>\n",
       "      <td>0.369180</td>\n",
       "      <td>0.162184</td>\n",
       "      <td>-0.209589</td>\n",
       "      <td>0.009616</td>\n",
       "      <td>48.866446</td>\n",
       "      <td>0</td>\n",
       "    </tr>\n",
       "    <tr>\n",
       "      <th>4</th>\n",
       "      <td>1</td>\n",
       "      <td>5</td>\n",
       "      <td>-0.122429</td>\n",
       "      <td>0.024698</td>\n",
       "      <td>0.052268</td>\n",
       "      <td>0.085952</td>\n",
       "      <td>-0.197063</td>\n",
       "      <td>-0.162514</td>\n",
       "      <td>0.035680</td>\n",
       "      <td>0.108430</td>\n",
       "      <td>...</td>\n",
       "      <td>-0.066832</td>\n",
       "      <td>0.178333</td>\n",
       "      <td>0.325097</td>\n",
       "      <td>-0.204320</td>\n",
       "      <td>-0.241421</td>\n",
       "      <td>-0.034872</td>\n",
       "      <td>0.097101</td>\n",
       "      <td>0.006341</td>\n",
       "      <td>47.811462</td>\n",
       "      <td>0</td>\n",
       "    </tr>\n",
       "  </tbody>\n",
       "</table>\n",
       "<p>5 rows × 465 columns</p>\n",
       "</div>"
      ],
      "text/plain": [
       "   Subject  Trial  Real_Comp1_Mode1  Real_Comp2_Mode1  Real_Comp3_Mode1  \\\n",
       "0        1      1          0.081948         -0.045425         -0.015341   \n",
       "1        1      2          0.049658          0.009936          0.017493   \n",
       "2        1      3          0.168706         -0.067328          0.087951   \n",
       "3        1      4         -0.195931          0.064528         -0.073303   \n",
       "4        1      5         -0.122429          0.024698          0.052268   \n",
       "\n",
       "   Real_Comp4_Mode1  Real_Comp5_Mode1  Real_Comp6_Mode1  Real_Comp7_Mode1  \\\n",
       "0         -0.076406          0.171911          0.138256         -0.036334   \n",
       "1         -0.036572          0.046062          0.030815         -0.004333   \n",
       "2         -0.029108          0.285195          0.090563         -0.165873   \n",
       "3          0.056689         -0.257539         -0.099162          0.151166   \n",
       "4          0.085952         -0.197063         -0.162514          0.035680   \n",
       "\n",
       "   Real_Comp8_Mode1  ...     zeta6     zeta7       fn1       fn2       fn3  \\\n",
       "0         -0.163510  ... -0.077595 -0.035316  0.044253 -0.011422  0.032761   \n",
       "1         -0.053269  ... -0.102129  0.234990  0.556034 -0.339402 -0.340453   \n",
       "2         -0.376551  ... -0.025014 -0.349329 -0.488738  0.337106  0.338119   \n",
       "3          0.382519  ... -0.001949 -0.208238 -0.534020  0.417333  0.369180   \n",
       "4          0.108430  ... -0.066832  0.178333  0.325097 -0.204320 -0.241421   \n",
       "\n",
       "        fn4       fn5       fn6        fn7  emotion_quad  \n",
       "0  0.036446  0.093352  0.019047  45.343738             0  \n",
       "1 -0.097615  0.110119  0.011303  41.336668             0  \n",
       "2  0.184487 -0.002215  0.019710  40.198276             0  \n",
       "3  0.162184 -0.209589  0.009616  48.866446             0  \n",
       "4 -0.034872  0.097101  0.006341  47.811462             0  \n",
       "\n",
       "[5 rows x 465 columns]"
      ]
     },
     "execution_count": 39,
     "metadata": {},
     "output_type": "execute_result"
    }
   ],
   "source": [
    "import pandas as pd\n",
    "df_raw = pd.read_feather('tmp/eeg-raw') #lol raw sashimis and sushis\n",
    "df_raw.head()"
   ]
  },
  {
   "cell_type": "code",
   "execution_count": 40,
   "metadata": {
    "ExecuteTime": {
     "end_time": "2020-10-15T21:04:11.468435Z",
     "start_time": "2020-10-15T21:04:11.420257Z"
    }
   },
   "outputs": [
    {
     "data": {
      "text/html": [
       "<div>\n",
       "<style scoped>\n",
       "    .dataframe tbody tr th:only-of-type {\n",
       "        vertical-align: middle;\n",
       "    }\n",
       "\n",
       "    .dataframe tbody tr th {\n",
       "        vertical-align: top;\n",
       "    }\n",
       "\n",
       "    .dataframe thead th {\n",
       "        text-align: right;\n",
       "    }\n",
       "</style>\n",
       "<table border=\"1\" class=\"dataframe\">\n",
       "  <thead>\n",
       "    <tr style=\"text-align: right;\">\n",
       "      <th></th>\n",
       "      <th>Subject</th>\n",
       "      <th>Trial</th>\n",
       "      <th>Real_Comp1_Mode1</th>\n",
       "      <th>Real_Comp2_Mode1</th>\n",
       "      <th>Real_Comp3_Mode1</th>\n",
       "      <th>Real_Comp4_Mode1</th>\n",
       "      <th>Real_Comp5_Mode1</th>\n",
       "      <th>Real_Comp6_Mode1</th>\n",
       "      <th>Real_Comp7_Mode1</th>\n",
       "      <th>Real_Comp8_Mode1</th>\n",
       "      <th>...</th>\n",
       "      <th>zeta6</th>\n",
       "      <th>zeta7</th>\n",
       "      <th>fn1</th>\n",
       "      <th>fn2</th>\n",
       "      <th>fn3</th>\n",
       "      <th>fn4</th>\n",
       "      <th>fn5</th>\n",
       "      <th>fn6</th>\n",
       "      <th>fn7</th>\n",
       "      <th>emotion_quad</th>\n",
       "    </tr>\n",
       "  </thead>\n",
       "  <tbody>\n",
       "    <tr>\n",
       "      <th>100</th>\n",
       "      <td>1</td>\n",
       "      <td>101</td>\n",
       "      <td>0.295503</td>\n",
       "      <td>0.263211</td>\n",
       "      <td>-0.36884</td>\n",
       "      <td>-0.054941</td>\n",
       "      <td>0.174653</td>\n",
       "      <td>0.174065</td>\n",
       "      <td>-0.052186</td>\n",
       "      <td>-0.331137</td>\n",
       "      <td>...</td>\n",
       "      <td>-0.000796</td>\n",
       "      <td>0.111426</td>\n",
       "      <td>0.104641</td>\n",
       "      <td>-0.112401</td>\n",
       "      <td>-0.103564</td>\n",
       "      <td>0.01163</td>\n",
       "      <td>0.13046</td>\n",
       "      <td>0.002736</td>\n",
       "      <td>49.569047</td>\n",
       "      <td>0</td>\n",
       "    </tr>\n",
       "  </tbody>\n",
       "</table>\n",
       "<p>1 rows × 465 columns</p>\n",
       "</div>"
      ],
      "text/plain": [
       "     Subject  Trial  Real_Comp1_Mode1  Real_Comp2_Mode1  Real_Comp3_Mode1  \\\n",
       "100        1    101          0.295503          0.263211          -0.36884   \n",
       "\n",
       "     Real_Comp4_Mode1  Real_Comp5_Mode1  Real_Comp6_Mode1  Real_Comp7_Mode1  \\\n",
       "100         -0.054941          0.174653          0.174065         -0.052186   \n",
       "\n",
       "     Real_Comp8_Mode1  ...     zeta6     zeta7       fn1       fn2       fn3  \\\n",
       "100         -0.331137  ... -0.000796  0.111426  0.104641 -0.112401 -0.103564   \n",
       "\n",
       "         fn4      fn5       fn6        fn7  emotion_quad  \n",
       "100  0.01163  0.13046  0.002736  49.569047             0  \n",
       "\n",
       "[1 rows x 465 columns]"
      ]
     },
     "execution_count": 40,
     "metadata": {},
     "output_type": "execute_result"
    }
   ],
   "source": [
    "df_raw.iloc[[100],:]"
   ]
  },
  {
   "cell_type": "code",
   "execution_count": 41,
   "metadata": {
    "ExecuteTime": {
     "end_time": "2020-10-15T21:04:12.034634Z",
     "start_time": "2020-10-15T21:04:11.644268Z"
    }
   },
   "outputs": [
    {
     "data": {
      "text/plain": [
       "Text(0.5, 1.0, 'zeta6')"
      ]
     },
     "execution_count": 41,
     "metadata": {},
     "output_type": "execute_result"
    },
    {
     "data": {
      "image/png": "[encoded data removed]",
      "text/plain": [
       "<Figure size 1080x360 with 4 Axes>"
      ]
     },
     "metadata": {
      "needs_background": "light"
     },
     "output_type": "display_data"
    }
   ],
   "source": [
    "fig, axs = plt.subplots(1, 4, figsize=(15, 5))\n",
    "axs[0].hist(df_raw.Real_Comp1_Mode1)\n",
    "axs[0].set_title('Real_Comp1_Mode1')\n",
    "axs[1].hist(df_raw.fn7)\n",
    "axs[1].set_title('freq7')\n",
    "axs[2].hist(df_raw.Imag_Comp1_Mode3)\n",
    "axs[2].set_title('Imag Chan. 27')\n",
    "axs[3].hist(df_raw.zeta6)\n",
    "axs[3].set_title('zeta6')"
   ]
  },
  {
   "cell_type": "code",
   "execution_count": 42,
   "metadata": {
    "ExecuteTime": {
     "end_time": "2020-10-15T21:04:12.058415Z",
     "start_time": "2020-10-15T21:04:12.035906Z"
    }
   },
   "outputs": [],
   "source": [
    "X_train, X_test, y_train, y_test = train_test_split(\n",
    "    df_raw, emotion_quad, test_size=0.2, shuffle=True)"
   ]
  },
  {
   "cell_type": "code",
   "execution_count": 43,
   "metadata": {
    "ExecuteTime": {
     "end_time": "2020-10-15T21:04:12.108779Z",
     "start_time": "2020-10-15T21:04:12.095102Z"
    }
   },
   "outputs": [],
   "source": [
    "classifier = AdaBoostClassifier(n_estimators=100)"
   ]
  },
  {
   "cell_type": "code",
   "execution_count": 44,
   "metadata": {
    "ExecuteTime": {
     "end_time": "2020-10-15T21:04:30.048127Z",
     "start_time": "2020-10-15T21:04:12.683846Z"
    }
   },
   "outputs": [
    {
     "data": {
      "text/plain": [
       "AdaBoostClassifier(n_estimators=100)"
      ]
     },
     "execution_count": 44,
     "metadata": {},
     "output_type": "execute_result"
    }
   ],
   "source": [
    "classifier.fit(X_train, y_train)"
   ]
  },
  {
   "cell_type": "code",
   "execution_count": 45,
   "metadata": {
    "ExecuteTime": {
     "end_time": "2020-10-15T21:04:30.149475Z",
     "start_time": "2020-10-15T21:04:30.049221Z"
    }
   },
   "outputs": [],
   "source": [
    "predicted = classifier.predict(X_test)"
   ]
  },
  {
   "cell_type": "code",
   "execution_count": 46,
   "metadata": {
    "ExecuteTime": {
     "end_time": "2020-10-15T21:04:34.533047Z",
     "start_time": "2020-10-15T21:04:34.289718Z"
    }
   },
   "outputs": [
    {
     "name": "stderr",
     "output_type": "stream",
     "text": [
      "/media/tris/tris_files/anaconda3/envs/fastai/lib/python3.7/site-packages/sklearn/metrics/_classification.py:1221: UndefinedMetricWarning: Precision and F-score are ill-defined and being set to 0.0 in labels with no predicted samples. Use `zero_division` parameter to control this behavior.\n",
      "  _warn_prf(average, modifier, msg_start, len(result))\n"
     ]
    },
    {
     "name": "stdout",
     "output_type": "stream",
     "text": [
      "Classification report for classifier AdaBoostClassifier(n_estimators=100):\n",
      "              precision    recall  f1-score   support\n",
      "\n",
      "           0       1.00      1.00      1.00       439\n",
      "           1       0.60      1.00      0.75       219\n",
      "           2       0.00      0.00      0.00       149\n",
      "           3       1.00      1.00      1.00       217\n",
      "\n",
      "    accuracy                           0.85      1024\n",
      "   macro avg       0.65      0.75      0.69      1024\n",
      "weighted avg       0.77      0.85      0.80      1024\n",
      "\n",
      "\n",
      "Confusion matrix:\n",
      "[[439   0   0   0]\n",
      " [  0 219   0   0]\n",
      " [  0 149   0   0]\n",
      " [  0   0   0 217]]\n"
     ]
    },
    {
     "data": {
      "image/png": "[encoded data removed]",
      "text/plain": [
       "<Figure size 432x288 with 2 Axes>"
      ]
     },
     "metadata": {
      "needs_background": "light"
     },
     "output_type": "display_data"
    }
   ],
   "source": [
    "print(\"Classification report for classifier %s:\\n%s\\n\"\n",
    "      % (classifier, metrics.classification_report(y_test, predicted)))\n",
    "disp = metrics.plot_confusion_matrix(classifier, X_test, y_test)\n",
    "disp.figure_.suptitle(\"Confusion Matrix\")\n",
    "print(\"Confusion matrix:\\n%s\" % disp.confusion_matrix)"
   ]
  },
  {
   "cell_type": "code",
   "execution_count": 47,
   "metadata": {
    "ExecuteTime": {
     "end_time": "2020-10-15T21:06:05.108152Z",
     "start_time": "2020-10-15T21:06:05.093903Z"
    }
   },
   "outputs": [],
   "source": [
    "classifier = svm.SVC(gamma=0.2, kernel='poly', degree=5)"
   ]
  },
  {
   "cell_type": "code",
   "execution_count": 48,
   "metadata": {
    "ExecuteTime": {
     "end_time": "2020-10-15T21:06:07.709213Z",
     "start_time": "2020-10-15T21:06:05.592574Z"
    }
   },
   "outputs": [
    {
     "data": {
      "text/plain": [
       "SVC(degree=5, gamma=0.2, kernel='poly')"
      ]
     },
     "execution_count": 48,
     "metadata": {},
     "output_type": "execute_result"
    }
   ],
   "source": [
    "classifier.fit(X_train, y_train)"
   ]
  },
  {
   "cell_type": "code",
   "execution_count": 49,
   "metadata": {
    "ExecuteTime": {
     "end_time": "2020-10-15T21:06:07.990348Z",
     "start_time": "2020-10-15T21:06:07.710455Z"
    }
   },
   "outputs": [],
   "source": [
    "predicted = classifier.predict(X_test)"
   ]
  },
  {
   "cell_type": "code",
   "execution_count": 50,
   "metadata": {
    "ExecuteTime": {
     "end_time": "2020-10-15T21:06:08.399156Z",
     "start_time": "2020-10-15T21:06:07.991524Z"
    }
   },
   "outputs": [
    {
     "name": "stdout",
     "output_type": "stream",
     "text": [
      "Classification report for classifier SVC(degree=5, gamma=0.2, kernel='poly'):\n",
      "              precision    recall  f1-score   support\n",
      "\n",
      "           0       0.99      1.00      0.99       439\n",
      "           1       0.96      0.98      0.97       219\n",
      "           2       0.97      0.97      0.97       149\n",
      "           3       1.00      0.98      0.99       217\n",
      "\n",
      "    accuracy                           0.99      1024\n",
      "   macro avg       0.98      0.98      0.98      1024\n",
      "weighted avg       0.99      0.99      0.99      1024\n",
      "\n",
      "\n",
      "Confusion matrix:\n",
      "[[437   2   0   0]\n",
      " [  2 215   2   0]\n",
      " [  1   3 145   0]\n",
      " [  0   3   2 212]]\n"
     ]
    },
    {
     "data": {
      "image/png": "[encoded data removed]",
      "text/plain": [
       "<Figure size 432x288 with 2 Axes>"
      ]
     },
     "metadata": {
      "needs_background": "light"
     },
     "output_type": "display_data"
    }
   ],
   "source": [
    "print(\"Classification report for classifier %s:\\n%s\\n\"\n",
    "      % (classifier, metrics.classification_report(y_test, predicted)))\n",
    "disp = metrics.plot_confusion_matrix(classifier, X_test, y_test)\n",
    "disp.figure_.suptitle(\"Confusion Matrix\")\n",
    "print(\"Confusion matrix:\\n%s\" % disp.confusion_matrix)"
   ]
  },
  {
   "cell_type": "markdown",
   "metadata": {},
   "source": [
    "![Alt Text](https://i.redd.it/w1pjxr62r6241.gif)"
   ]
  },
  {
   "cell_type": "code",
   "execution_count": null,
   "metadata": {},
   "outputs": [],
   "source": []
  }
 ],
 "metadata": {
  "kernelspec": {
   "display_name": "Python 3",
   "language": "python",
   "name": "python3"
  },
  "language_info": {
   "codemirror_mode": {
    "name": "ipython",
    "version": 3
   },
   "file_extension": ".py",
   "mimetype": "text/x-python",
   "name": "python",
   "nbconvert_exporter": "python",
   "pygments_lexer": "ipython3",
   "version": "3.7.6"
  }
 },
 "nbformat": 4,
 "nbformat_minor": 2
}
