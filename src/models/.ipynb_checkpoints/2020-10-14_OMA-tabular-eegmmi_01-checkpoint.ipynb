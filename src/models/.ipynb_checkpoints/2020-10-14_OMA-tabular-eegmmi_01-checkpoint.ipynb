{
 "cells": [
  {
   "cell_type": "markdown",
   "metadata": {},
   "source": [
    "# Random Forrests for Exploration of DEAP Dataset\n",
    "Fingerprinting with OMA modes has worked really well. What about in tabular format?\n",
    "\n",
    "Fingerprinting is good, try Quads"
   ]
  },
  {
   "cell_type": "code",
   "execution_count": 1,
   "metadata": {
    "ExecuteTime": {
     "end_time": "2020-10-16T13:27:24.979681Z",
     "start_time": "2020-10-16T13:27:24.767724Z"
    }
   },
   "outputs": [],
   "source": [
    "%load_ext autoreload\n",
    "%autoreload 2\n",
    "\n",
    "%matplotlib inline"
   ]
  },
  {
   "cell_type": "code",
   "execution_count": 2,
   "metadata": {
    "ExecuteTime": {
     "end_time": "2020-10-16T13:27:24.989925Z",
     "start_time": "2020-10-16T13:27:24.980823Z"
    }
   },
   "outputs": [
    {
     "data": {
      "application/javascript": [
       "utils.load_extension('collapsible_headings/main')\n",
       "utils.load_extension('hide_input/main')\n",
       "utils.load_extension('execute_time/ExecuteTime')\n",
       "utils.load_extension('code_prettify/code_prettify')\n",
       "utils.load_extension('scroll_down/main')\n",
       "utils.load_extension('jupyter-js-widgets/extension')\n"
      ],
      "text/plain": [
       "<IPython.core.display.Javascript object>"
      ]
     },
     "metadata": {},
     "output_type": "display_data"
    }
   ],
   "source": [
    "%%javascript\n",
    "utils.load_extension('collapsible_headings/main')\n",
    "utils.load_extension('hide_input/main')\n",
    "utils.load_extension('execute_time/ExecuteTime')\n",
    "utils.load_extension('code_prettify/code_prettify')\n",
    "utils.load_extension('scroll_down/main')\n",
    "utils.load_extension('jupyter-js-widgets/extension')"
   ]
  },
  {
   "cell_type": "code",
   "execution_count": 3,
   "metadata": {
    "ExecuteTime": {
     "end_time": "2020-10-16T13:27:25.803241Z",
     "start_time": "2020-10-16T13:27:24.991712Z"
    }
   },
   "outputs": [],
   "source": [
    "from fastai.tabular import *\n",
    "from sklearn.model_selection import train_test_split,cross_val_score\n",
    "from sklearn import datasets, svm, metrics, tree\n",
    "from sklearn.ensemble import RandomForestClassifier, AdaBoostClassifier\n",
    "from sklearn.tree import DecisionTreeClassifier"
   ]
  },
  {
   "cell_type": "code",
   "execution_count": 4,
   "metadata": {
    "ExecuteTime": {
     "end_time": "2020-10-16T13:27:25.819159Z",
     "start_time": "2020-10-16T13:27:25.804403Z"
    },
    "scrolled": true
   },
   "outputs": [
    {
     "data": {
      "text/plain": [
       "PosixPath('/home/tris/Documents/EEG_data/DMD_DEAP')"
      ]
     },
     "execution_count": 4,
     "metadata": {},
     "output_type": "execute_result"
    }
   ],
   "source": [
    "path=pathlib.Path('/home/tris/Documents/EEG_data/DMD_DEAP')\n",
    "path"
   ]
  },
  {
   "cell_type": "code",
   "execution_count": 81,
   "metadata": {
    "ExecuteTime": {
     "end_time": "2020-10-16T13:49:16.156892Z",
     "start_time": "2020-10-16T13:49:16.119314Z"
    }
   },
   "outputs": [],
   "source": [
    "filenames=[]\n",
    "subject_labels=[]\n",
    "trial_labels=[]\n",
    "for n in range (0,4):\n",
    "    for i in range (2,9):\n",
    "        for q in range (0,7):\n",
    "            filename='S'+str(n+1)+'T'+str(i+1)+'W'+str(q+1)\n",
    "            filenames.append(filename)\n",
    "            subject_label=n+1\n",
    "            subject_labels.append(subject_label)\n",
    "            trial_label = i+1\n",
    "            if trial_label == 3 or trial_label== 7 or trial_label== 13:\n",
    "                task = 1#'Open_Fist'\n",
    "                trial_labels.append(task)\n",
    "            elif trial_label == 4 or trial_label== 8 or trial_label== 12:\n",
    "                task = 2#'Imag_Fist'\n",
    "                trial_labels.append(task)\n",
    "            elif trial_label == 5 or trial_label== 9 or trial_label== 13:\n",
    "                task = 3#'Open_Feet'\n",
    "                trial_labels.append(task)\n",
    "            elif trial_label == 6 or trial_label== 10 or trial_label== 14:\n",
    "                task = 4#'Imag_feet'\n",
    "                trial_labels.append(task)\n",
    "    for i in range (9,14):\n",
    "        for q in range (0,7):\n",
    "            filename='S'+str(n+1)+'T'+str(i+1)+'W'+str(q+1)\n",
    "            filenames.append(filename)\n",
    "            subject_label=n+1\n",
    "            subject_labels.append(subject_label)\n",
    "            trial_label = i+1\n",
    "            if trial_label == 3 or trial_label== 7 or trial_label== 11:\n",
    "                task = 1#'Open_Fist'\n",
    "                trial_labels.append(task)\n",
    "            elif trial_label == 4 or trial_label== 8 or trial_label== 12:\n",
    "                task = 2#'Imag_Fist'\n",
    "                trial_labels.append(task)\n",
    "            elif trial_label == 5 or trial_label== 9 or trial_label== 13:\n",
    "                task = 3#'Open_Feet'\n",
    "                trial_labels.append(task)\n",
    "            elif trial_label == 6 or trial_label== 10 or trial_label== 14:\n",
    "                task = 4#'Imag_feet'\n",
    "                trial_labels.append(task)"
   ]
  },
  {
   "cell_type": "code",
   "execution_count": 82,
   "metadata": {
    "ExecuteTime": {
     "end_time": "2020-10-16T13:49:16.532365Z",
     "start_time": "2020-10-16T13:49:16.506375Z"
    }
   },
   "outputs": [
    {
     "data": {
      "text/plain": [
       "336"
      ]
     },
     "execution_count": 82,
     "metadata": {},
     "output_type": "execute_result"
    }
   ],
   "source": [
    "len(trial_labels)"
   ]
  },
  {
   "cell_type": "code",
   "execution_count": 83,
   "metadata": {
    "ExecuteTime": {
     "end_time": "2020-10-16T13:49:16.803735Z",
     "start_time": "2020-10-16T13:49:16.765873Z"
    }
   },
   "outputs": [
    {
     "data": {
      "text/html": [
       "<div>\n",
       "<style scoped>\n",
       "    .dataframe tbody tr th:only-of-type {\n",
       "        vertical-align: middle;\n",
       "    }\n",
       "\n",
       "    .dataframe tbody tr th {\n",
       "        vertical-align: top;\n",
       "    }\n",
       "\n",
       "    .dataframe thead th {\n",
       "        text-align: right;\n",
       "    }\n",
       "</style>\n",
       "<table border=\"1\" class=\"dataframe\">\n",
       "  <thead>\n",
       "    <tr style=\"text-align: right;\">\n",
       "      <th></th>\n",
       "      <th>file_name</th>\n",
       "      <th>subject_label</th>\n",
       "      <th>trial_label</th>\n",
       "    </tr>\n",
       "  </thead>\n",
       "  <tbody>\n",
       "    <tr>\n",
       "      <th>0</th>\n",
       "      <td>S1T3W1</td>\n",
       "      <td>1</td>\n",
       "      <td>1</td>\n",
       "    </tr>\n",
       "    <tr>\n",
       "      <th>1</th>\n",
       "      <td>S1T3W2</td>\n",
       "      <td>1</td>\n",
       "      <td>1</td>\n",
       "    </tr>\n",
       "    <tr>\n",
       "      <th>2</th>\n",
       "      <td>S1T3W3</td>\n",
       "      <td>1</td>\n",
       "      <td>1</td>\n",
       "    </tr>\n",
       "    <tr>\n",
       "      <th>3</th>\n",
       "      <td>S1T3W4</td>\n",
       "      <td>1</td>\n",
       "      <td>1</td>\n",
       "    </tr>\n",
       "    <tr>\n",
       "      <th>4</th>\n",
       "      <td>S1T3W5</td>\n",
       "      <td>1</td>\n",
       "      <td>1</td>\n",
       "    </tr>\n",
       "    <tr>\n",
       "      <th>...</th>\n",
       "      <td>...</td>\n",
       "      <td>...</td>\n",
       "      <td>...</td>\n",
       "    </tr>\n",
       "    <tr>\n",
       "      <th>331</th>\n",
       "      <td>S4T14W3</td>\n",
       "      <td>4</td>\n",
       "      <td>4</td>\n",
       "    </tr>\n",
       "    <tr>\n",
       "      <th>332</th>\n",
       "      <td>S4T14W4</td>\n",
       "      <td>4</td>\n",
       "      <td>4</td>\n",
       "    </tr>\n",
       "    <tr>\n",
       "      <th>333</th>\n",
       "      <td>S4T14W5</td>\n",
       "      <td>4</td>\n",
       "      <td>4</td>\n",
       "    </tr>\n",
       "    <tr>\n",
       "      <th>334</th>\n",
       "      <td>S4T14W6</td>\n",
       "      <td>4</td>\n",
       "      <td>4</td>\n",
       "    </tr>\n",
       "    <tr>\n",
       "      <th>335</th>\n",
       "      <td>S4T14W7</td>\n",
       "      <td>4</td>\n",
       "      <td>4</td>\n",
       "    </tr>\n",
       "  </tbody>\n",
       "</table>\n",
       "<p>336 rows × 3 columns</p>\n",
       "</div>"
      ],
      "text/plain": [
       "    file_name  subject_label  trial_label\n",
       "0      S1T3W1              1            1\n",
       "1      S1T3W2              1            1\n",
       "2      S1T3W3              1            1\n",
       "3      S1T3W4              1            1\n",
       "4      S1T3W5              1            1\n",
       "..        ...            ...          ...\n",
       "331   S4T14W3              4            4\n",
       "332   S4T14W4              4            4\n",
       "333   S4T14W5              4            4\n",
       "334   S4T14W6              4            4\n",
       "335   S4T14W7              4            4\n",
       "\n",
       "[336 rows x 3 columns]"
      ]
     },
     "execution_count": 83,
     "metadata": {},
     "output_type": "execute_result"
    }
   ],
   "source": [
    "df=pd.DataFrame()\n",
    "df['file_name']=filenames\n",
    "df['subject_label']=subject_labels\n",
    "df['trial_label']=trial_labels\n",
    "df=df[['file_name','subject_label','trial_label']]\n",
    "df"
   ]
  },
  {
   "cell_type": "code",
   "execution_count": null,
   "metadata": {
    "ExecuteTime": {
     "end_time": "2020-10-16T13:35:59.548079Z",
     "start_time": "2020-10-16T13:35:59.486129Z"
    }
   },
   "outputs": [],
   "source": []
  },
  {
   "cell_type": "code",
   "execution_count": 84,
   "metadata": {
    "ExecuteTime": {
     "end_time": "2020-10-16T13:49:17.350808Z",
     "start_time": "2020-10-16T13:49:17.312874Z"
    }
   },
   "outputs": [
    {
     "data": {
      "text/html": [
       "<div>\n",
       "<style scoped>\n",
       "    .dataframe tbody tr th:only-of-type {\n",
       "        vertical-align: middle;\n",
       "    }\n",
       "\n",
       "    .dataframe tbody tr th {\n",
       "        vertical-align: top;\n",
       "    }\n",
       "\n",
       "    .dataframe thead th {\n",
       "        text-align: right;\n",
       "    }\n",
       "</style>\n",
       "<table border=\"1\" class=\"dataframe\">\n",
       "  <thead>\n",
       "    <tr style=\"text-align: right;\">\n",
       "      <th></th>\n",
       "      <th>file_name</th>\n",
       "      <th>subject_label</th>\n",
       "      <th>trial_label</th>\n",
       "    </tr>\n",
       "  </thead>\n",
       "  <tbody>\n",
       "    <tr>\n",
       "      <th>0</th>\n",
       "      <td>S1T3W1</td>\n",
       "      <td>1</td>\n",
       "      <td>1</td>\n",
       "    </tr>\n",
       "    <tr>\n",
       "      <th>1</th>\n",
       "      <td>S1T3W2</td>\n",
       "      <td>1</td>\n",
       "      <td>1</td>\n",
       "    </tr>\n",
       "    <tr>\n",
       "      <th>2</th>\n",
       "      <td>S1T3W3</td>\n",
       "      <td>1</td>\n",
       "      <td>1</td>\n",
       "    </tr>\n",
       "    <tr>\n",
       "      <th>3</th>\n",
       "      <td>S1T3W4</td>\n",
       "      <td>1</td>\n",
       "      <td>1</td>\n",
       "    </tr>\n",
       "    <tr>\n",
       "      <th>4</th>\n",
       "      <td>S1T3W5</td>\n",
       "      <td>1</td>\n",
       "      <td>1</td>\n",
       "    </tr>\n",
       "    <tr>\n",
       "      <th>...</th>\n",
       "      <td>...</td>\n",
       "      <td>...</td>\n",
       "      <td>...</td>\n",
       "    </tr>\n",
       "    <tr>\n",
       "      <th>331</th>\n",
       "      <td>S4T14W3</td>\n",
       "      <td>4</td>\n",
       "      <td>4</td>\n",
       "    </tr>\n",
       "    <tr>\n",
       "      <th>332</th>\n",
       "      <td>S4T14W4</td>\n",
       "      <td>4</td>\n",
       "      <td>4</td>\n",
       "    </tr>\n",
       "    <tr>\n",
       "      <th>333</th>\n",
       "      <td>S4T14W5</td>\n",
       "      <td>4</td>\n",
       "      <td>4</td>\n",
       "    </tr>\n",
       "    <tr>\n",
       "      <th>334</th>\n",
       "      <td>S4T14W6</td>\n",
       "      <td>4</td>\n",
       "      <td>4</td>\n",
       "    </tr>\n",
       "    <tr>\n",
       "      <th>335</th>\n",
       "      <td>S4T14W7</td>\n",
       "      <td>4</td>\n",
       "      <td>4</td>\n",
       "    </tr>\n",
       "  </tbody>\n",
       "</table>\n",
       "<p>336 rows × 3 columns</p>\n",
       "</div>"
      ],
      "text/plain": [
       "    file_name  subject_label  trial_label\n",
       "0      S1T3W1              1            1\n",
       "1      S1T3W2              1            1\n",
       "2      S1T3W3              1            1\n",
       "3      S1T3W4              1            1\n",
       "4      S1T3W5              1            1\n",
       "..        ...            ...          ...\n",
       "331   S4T14W3              4            4\n",
       "332   S4T14W4              4            4\n",
       "333   S4T14W5              4            4\n",
       "334   S4T14W6              4            4\n",
       "335   S4T14W7              4            4\n",
       "\n",
       "[336 rows x 3 columns]"
      ]
     },
     "execution_count": 84,
     "metadata": {},
     "output_type": "execute_result"
    }
   ],
   "source": [
    "df=df.reset_index(drop=True); df"
   ]
  },
  {
   "cell_type": "code",
   "execution_count": 85,
   "metadata": {
    "ExecuteTime": {
     "end_time": "2020-10-16T13:49:17.856307Z",
     "start_time": "2020-10-16T13:49:17.826720Z"
    }
   },
   "outputs": [
    {
     "data": {
      "text/plain": [
       "PosixPath('/media/tris/tris_files/EEG_datasets/physionet.org/processed')"
      ]
     },
     "execution_count": 85,
     "metadata": {},
     "output_type": "execute_result"
    }
   ],
   "source": [
    "path=pathlib.Path('/media/tris/tris_files/EEG_datasets/physionet.org/processed')\n",
    "path"
   ]
  },
  {
   "cell_type": "code",
   "execution_count": 86,
   "metadata": {
    "ExecuteTime": {
     "end_time": "2020-10-16T13:49:20.710419Z",
     "start_time": "2020-10-16T13:49:20.658904Z"
    }
   },
   "outputs": [],
   "source": [
    "df.to_csv(path/'labels_proc_window.csv', index=False)"
   ]
  },
  {
   "cell_type": "code",
   "execution_count": 87,
   "metadata": {
    "ExecuteTime": {
     "end_time": "2020-10-16T13:49:21.398512Z",
     "start_time": "2020-10-16T13:49:21.361881Z"
    }
   },
   "outputs": [
    {
     "data": {
      "text/html": [
       "<div>\n",
       "<style scoped>\n",
       "    .dataframe tbody tr th:only-of-type {\n",
       "        vertical-align: middle;\n",
       "    }\n",
       "\n",
       "    .dataframe tbody tr th {\n",
       "        vertical-align: top;\n",
       "    }\n",
       "\n",
       "    .dataframe thead th {\n",
       "        text-align: right;\n",
       "    }\n",
       "</style>\n",
       "<table border=\"1\" class=\"dataframe\">\n",
       "  <thead>\n",
       "    <tr style=\"text-align: right;\">\n",
       "      <th></th>\n",
       "      <th>file_name</th>\n",
       "      <th>subject_label</th>\n",
       "      <th>trial_label</th>\n",
       "    </tr>\n",
       "  </thead>\n",
       "  <tbody>\n",
       "    <tr>\n",
       "      <th>331</th>\n",
       "      <td>S4T14W3</td>\n",
       "      <td>4</td>\n",
       "      <td>4</td>\n",
       "    </tr>\n",
       "    <tr>\n",
       "      <th>332</th>\n",
       "      <td>S4T14W4</td>\n",
       "      <td>4</td>\n",
       "      <td>4</td>\n",
       "    </tr>\n",
       "    <tr>\n",
       "      <th>333</th>\n",
       "      <td>S4T14W5</td>\n",
       "      <td>4</td>\n",
       "      <td>4</td>\n",
       "    </tr>\n",
       "    <tr>\n",
       "      <th>334</th>\n",
       "      <td>S4T14W6</td>\n",
       "      <td>4</td>\n",
       "      <td>4</td>\n",
       "    </tr>\n",
       "    <tr>\n",
       "      <th>335</th>\n",
       "      <td>S4T14W7</td>\n",
       "      <td>4</td>\n",
       "      <td>4</td>\n",
       "    </tr>\n",
       "  </tbody>\n",
       "</table>\n",
       "</div>"
      ],
      "text/plain": [
       "    file_name  subject_label  trial_label\n",
       "331   S4T14W3              4            4\n",
       "332   S4T14W4              4            4\n",
       "333   S4T14W5              4            4\n",
       "334   S4T14W6              4            4\n",
       "335   S4T14W7              4            4"
      ]
     },
     "execution_count": 87,
     "metadata": {},
     "output_type": "execute_result"
    }
   ],
   "source": [
    "df = pd.read_csv(path/'labels_proc_window.csv') #load labels\n",
    "df.tail()"
   ]
  },
  {
   "cell_type": "code",
   "execution_count": 88,
   "metadata": {
    "ExecuteTime": {
     "end_time": "2020-10-16T13:49:22.382448Z",
     "start_time": "2020-10-16T13:49:22.167158Z"
    }
   },
   "outputs": [
    {
     "data": {
      "text/plain": [
       "array([[<matplotlib.axes._subplots.AxesSubplot object at 0x7fc75ab40c50>,\n",
       "        <matplotlib.axes._subplots.AxesSubplot object at 0x7fc75ab5ef50>]], dtype=object)"
      ]
     },
     "execution_count": 88,
     "metadata": {},
     "output_type": "execute_result"
    },
    {
     "data": {
      "image/png": "[encoded data removed]",
      "text/plain": [
       "<Figure size 432x288 with 2 Axes>"
      ]
     },
     "metadata": {
      "needs_background": "light"
     },
     "output_type": "display_data"
    }
   ],
   "source": [
    "df.hist()"
   ]
  },
  {
   "cell_type": "code",
   "execution_count": 89,
   "metadata": {
    "ExecuteTime": {
     "end_time": "2020-10-16T13:49:22.781599Z",
     "start_time": "2020-10-16T13:49:22.748280Z"
    }
   },
   "outputs": [],
   "source": [
    "PATH = \"/media/tris/tris_files/EEG_datasets/physionet.org/processed\""
   ]
  },
  {
   "cell_type": "code",
   "execution_count": 100,
   "metadata": {
    "ExecuteTime": {
     "end_time": "2020-10-16T13:50:12.667609Z",
     "start_time": "2020-10-16T13:50:12.453680Z"
    }
   },
   "outputs": [
    {
     "data": {
      "text/html": [
       "<div>\n",
       "<style scoped>\n",
       "    .dataframe tbody tr th:only-of-type {\n",
       "        vertical-align: middle;\n",
       "    }\n",
       "\n",
       "    .dataframe tbody tr th {\n",
       "        vertical-align: top;\n",
       "    }\n",
       "\n",
       "    .dataframe thead th {\n",
       "        text-align: right;\n",
       "    }\n",
       "</style>\n",
       "<table border=\"1\" class=\"dataframe\">\n",
       "  <thead>\n",
       "    <tr style=\"text-align: right;\">\n",
       "      <th></th>\n",
       "      <th>Subject</th>\n",
       "      <th>Trial</th>\n",
       "      <th>Real_Comp1_Mode1</th>\n",
       "      <th>Real_Comp2_Mode1</th>\n",
       "      <th>Real_Comp3_Mode1</th>\n",
       "      <th>Real_Comp4_Mode1</th>\n",
       "      <th>Real_Comp5_Mode1</th>\n",
       "      <th>Real_Comp6_Mode1</th>\n",
       "      <th>Real_Comp7_Mode1</th>\n",
       "      <th>Real_Comp8_Mode1</th>\n",
       "      <th>...</th>\n",
       "      <th>fn6</th>\n",
       "      <th>fn7</th>\n",
       "      <th>fn8</th>\n",
       "      <th>fn9</th>\n",
       "      <th>fn10</th>\n",
       "      <th>fn11</th>\n",
       "      <th>fn12</th>\n",
       "      <th>fn13</th>\n",
       "      <th>fn14</th>\n",
       "      <th>fn15</th>\n",
       "    </tr>\n",
       "  </thead>\n",
       "  <tbody>\n",
       "    <tr>\n",
       "      <th>0</th>\n",
       "      <td>1</td>\n",
       "      <td>3</td>\n",
       "      <td>-0.128208</td>\n",
       "      <td>-0.114405</td>\n",
       "      <td>-0.064654</td>\n",
       "      <td>-0.019041</td>\n",
       "      <td>-0.015079</td>\n",
       "      <td>-0.028027</td>\n",
       "      <td>-0.033961</td>\n",
       "      <td>-0.042645</td>\n",
       "      <td>...</td>\n",
       "      <td>-0.056254</td>\n",
       "      <td>0.063772</td>\n",
       "      <td>0.166497</td>\n",
       "      <td>0.139531</td>\n",
       "      <td>-0.211290</td>\n",
       "      <td>-0.067726</td>\n",
       "      <td>-0.011513</td>\n",
       "      <td>-0.154349</td>\n",
       "      <td>0.036021</td>\n",
       "      <td>14.357221</td>\n",
       "    </tr>\n",
       "    <tr>\n",
       "      <th>1</th>\n",
       "      <td>1</td>\n",
       "      <td>3</td>\n",
       "      <td>0.008675</td>\n",
       "      <td>0.033467</td>\n",
       "      <td>0.023795</td>\n",
       "      <td>0.006855</td>\n",
       "      <td>0.020269</td>\n",
       "      <td>0.004430</td>\n",
       "      <td>-0.072848</td>\n",
       "      <td>0.049739</td>\n",
       "      <td>...</td>\n",
       "      <td>-0.123889</td>\n",
       "      <td>-0.034000</td>\n",
       "      <td>0.053397</td>\n",
       "      <td>0.047623</td>\n",
       "      <td>-0.193499</td>\n",
       "      <td>-0.110367</td>\n",
       "      <td>-0.041746</td>\n",
       "      <td>-0.110361</td>\n",
       "      <td>0.021409</td>\n",
       "      <td>14.139050</td>\n",
       "    </tr>\n",
       "    <tr>\n",
       "      <th>2</th>\n",
       "      <td>1</td>\n",
       "      <td>3</td>\n",
       "      <td>0.139821</td>\n",
       "      <td>0.007705</td>\n",
       "      <td>-0.016588</td>\n",
       "      <td>0.027062</td>\n",
       "      <td>0.000482</td>\n",
       "      <td>0.014150</td>\n",
       "      <td>0.114920</td>\n",
       "      <td>0.010105</td>\n",
       "      <td>...</td>\n",
       "      <td>-0.057844</td>\n",
       "      <td>-0.094992</td>\n",
       "      <td>-0.176450</td>\n",
       "      <td>-0.241029</td>\n",
       "      <td>0.032525</td>\n",
       "      <td>-0.051629</td>\n",
       "      <td>-0.082290</td>\n",
       "      <td>-0.030828</td>\n",
       "      <td>0.025562</td>\n",
       "      <td>17.393272</td>\n",
       "    </tr>\n",
       "    <tr>\n",
       "      <th>3</th>\n",
       "      <td>1</td>\n",
       "      <td>3</td>\n",
       "      <td>0.185922</td>\n",
       "      <td>0.109436</td>\n",
       "      <td>0.082568</td>\n",
       "      <td>0.074603</td>\n",
       "      <td>0.054954</td>\n",
       "      <td>-0.028222</td>\n",
       "      <td>-0.073561</td>\n",
       "      <td>0.071095</td>\n",
       "      <td>...</td>\n",
       "      <td>-0.231286</td>\n",
       "      <td>-0.402334</td>\n",
       "      <td>-0.315724</td>\n",
       "      <td>-0.280635</td>\n",
       "      <td>-0.322398</td>\n",
       "      <td>-0.425754</td>\n",
       "      <td>-0.436947</td>\n",
       "      <td>-0.406840</td>\n",
       "      <td>0.039294</td>\n",
       "      <td>14.576334</td>\n",
       "    </tr>\n",
       "    <tr>\n",
       "      <th>4</th>\n",
       "      <td>1</td>\n",
       "      <td>3</td>\n",
       "      <td>-0.195160</td>\n",
       "      <td>-0.107494</td>\n",
       "      <td>-0.069988</td>\n",
       "      <td>-0.013201</td>\n",
       "      <td>0.017748</td>\n",
       "      <td>-0.033805</td>\n",
       "      <td>-0.161361</td>\n",
       "      <td>-0.150809</td>\n",
       "      <td>...</td>\n",
       "      <td>-0.120887</td>\n",
       "      <td>-0.104634</td>\n",
       "      <td>-0.167317</td>\n",
       "      <td>-0.232173</td>\n",
       "      <td>-0.026849</td>\n",
       "      <td>-0.027082</td>\n",
       "      <td>-0.086220</td>\n",
       "      <td>0.078810</td>\n",
       "      <td>0.019077</td>\n",
       "      <td>16.095714</td>\n",
       "    </tr>\n",
       "    <tr>\n",
       "      <th>...</th>\n",
       "      <td>...</td>\n",
       "      <td>...</td>\n",
       "      <td>...</td>\n",
       "      <td>...</td>\n",
       "      <td>...</td>\n",
       "      <td>...</td>\n",
       "      <td>...</td>\n",
       "      <td>...</td>\n",
       "      <td>...</td>\n",
       "      <td>...</td>\n",
       "      <td>...</td>\n",
       "      <td>...</td>\n",
       "      <td>...</td>\n",
       "      <td>...</td>\n",
       "      <td>...</td>\n",
       "      <td>...</td>\n",
       "      <td>...</td>\n",
       "      <td>...</td>\n",
       "      <td>...</td>\n",
       "      <td>...</td>\n",
       "      <td>...</td>\n",
       "    </tr>\n",
       "    <tr>\n",
       "      <th>331</th>\n",
       "      <td>4</td>\n",
       "      <td>14</td>\n",
       "      <td>0.008145</td>\n",
       "      <td>-0.011842</td>\n",
       "      <td>0.001821</td>\n",
       "      <td>-0.048860</td>\n",
       "      <td>-0.048690</td>\n",
       "      <td>-0.022765</td>\n",
       "      <td>-0.021141</td>\n",
       "      <td>-0.014985</td>\n",
       "      <td>...</td>\n",
       "      <td>-0.078926</td>\n",
       "      <td>-0.063683</td>\n",
       "      <td>-0.018445</td>\n",
       "      <td>-0.024373</td>\n",
       "      <td>-0.089924</td>\n",
       "      <td>-0.065303</td>\n",
       "      <td>-0.038739</td>\n",
       "      <td>-0.056452</td>\n",
       "      <td>0.039457</td>\n",
       "      <td>17.728049</td>\n",
       "    </tr>\n",
       "    <tr>\n",
       "      <th>332</th>\n",
       "      <td>4</td>\n",
       "      <td>14</td>\n",
       "      <td>0.006310</td>\n",
       "      <td>0.003342</td>\n",
       "      <td>-0.005066</td>\n",
       "      <td>-0.002769</td>\n",
       "      <td>-0.001913</td>\n",
       "      <td>-0.003855</td>\n",
       "      <td>-0.004524</td>\n",
       "      <td>-0.002348</td>\n",
       "      <td>...</td>\n",
       "      <td>0.008714</td>\n",
       "      <td>0.013251</td>\n",
       "      <td>-0.001783</td>\n",
       "      <td>-0.005070</td>\n",
       "      <td>0.009787</td>\n",
       "      <td>0.008077</td>\n",
       "      <td>0.000959</td>\n",
       "      <td>0.004628</td>\n",
       "      <td>0.012863</td>\n",
       "      <td>15.062345</td>\n",
       "    </tr>\n",
       "    <tr>\n",
       "      <th>333</th>\n",
       "      <td>4</td>\n",
       "      <td>14</td>\n",
       "      <td>-0.014341</td>\n",
       "      <td>-0.000226</td>\n",
       "      <td>0.010915</td>\n",
       "      <td>-0.000619</td>\n",
       "      <td>-0.000405</td>\n",
       "      <td>-0.015864</td>\n",
       "      <td>-0.015929</td>\n",
       "      <td>0.005336</td>\n",
       "      <td>...</td>\n",
       "      <td>-0.015093</td>\n",
       "      <td>-0.011260</td>\n",
       "      <td>-0.002616</td>\n",
       "      <td>-0.002032</td>\n",
       "      <td>-0.015215</td>\n",
       "      <td>-0.007486</td>\n",
       "      <td>-0.006553</td>\n",
       "      <td>-0.007662</td>\n",
       "      <td>0.010424</td>\n",
       "      <td>20.363807</td>\n",
       "    </tr>\n",
       "    <tr>\n",
       "      <th>334</th>\n",
       "      <td>4</td>\n",
       "      <td>14</td>\n",
       "      <td>0.010706</td>\n",
       "      <td>0.009324</td>\n",
       "      <td>0.015789</td>\n",
       "      <td>0.011500</td>\n",
       "      <td>0.011425</td>\n",
       "      <td>0.007026</td>\n",
       "      <td>0.007437</td>\n",
       "      <td>0.013707</td>\n",
       "      <td>...</td>\n",
       "      <td>-0.010251</td>\n",
       "      <td>-0.009619</td>\n",
       "      <td>-0.005388</td>\n",
       "      <td>-0.008197</td>\n",
       "      <td>-0.011251</td>\n",
       "      <td>-0.009440</td>\n",
       "      <td>-0.008620</td>\n",
       "      <td>-0.003944</td>\n",
       "      <td>0.037302</td>\n",
       "      <td>19.047586</td>\n",
       "    </tr>\n",
       "    <tr>\n",
       "      <th>335</th>\n",
       "      <td>4</td>\n",
       "      <td>14</td>\n",
       "      <td>-0.001365</td>\n",
       "      <td>0.000086</td>\n",
       "      <td>-0.017068</td>\n",
       "      <td>-0.005255</td>\n",
       "      <td>-0.005946</td>\n",
       "      <td>-0.008141</td>\n",
       "      <td>-0.007808</td>\n",
       "      <td>0.014714</td>\n",
       "      <td>...</td>\n",
       "      <td>-0.007168</td>\n",
       "      <td>-0.006852</td>\n",
       "      <td>0.005329</td>\n",
       "      <td>0.013800</td>\n",
       "      <td>-0.002134</td>\n",
       "      <td>-0.002076</td>\n",
       "      <td>0.004487</td>\n",
       "      <td>0.003963</td>\n",
       "      <td>0.031473</td>\n",
       "      <td>17.991779</td>\n",
       "    </tr>\n",
       "  </tbody>\n",
       "</table>\n",
       "<p>336 rows × 1952 columns</p>\n",
       "</div>"
      ],
      "text/plain": [
       "     Subject  Trial  Real_Comp1_Mode1  Real_Comp2_Mode1  Real_Comp3_Mode1  \\\n",
       "0          1      3         -0.128208         -0.114405         -0.064654   \n",
       "1          1      3          0.008675          0.033467          0.023795   \n",
       "2          1      3          0.139821          0.007705         -0.016588   \n",
       "3          1      3          0.185922          0.109436          0.082568   \n",
       "4          1      3         -0.195160         -0.107494         -0.069988   \n",
       "..       ...    ...               ...               ...               ...   \n",
       "331        4     14          0.008145         -0.011842          0.001821   \n",
       "332        4     14          0.006310          0.003342         -0.005066   \n",
       "333        4     14         -0.014341         -0.000226          0.010915   \n",
       "334        4     14          0.010706          0.009324          0.015789   \n",
       "335        4     14         -0.001365          0.000086         -0.017068   \n",
       "\n",
       "     Real_Comp4_Mode1  Real_Comp5_Mode1  Real_Comp6_Mode1  Real_Comp7_Mode1  \\\n",
       "0           -0.019041         -0.015079         -0.028027         -0.033961   \n",
       "1            0.006855          0.020269          0.004430         -0.072848   \n",
       "2            0.027062          0.000482          0.014150          0.114920   \n",
       "3            0.074603          0.054954         -0.028222         -0.073561   \n",
       "4           -0.013201          0.017748         -0.033805         -0.161361   \n",
       "..                ...               ...               ...               ...   \n",
       "331         -0.048860         -0.048690         -0.022765         -0.021141   \n",
       "332         -0.002769         -0.001913         -0.003855         -0.004524   \n",
       "333         -0.000619         -0.000405         -0.015864         -0.015929   \n",
       "334          0.011500          0.011425          0.007026          0.007437   \n",
       "335         -0.005255         -0.005946         -0.008141         -0.007808   \n",
       "\n",
       "     Real_Comp8_Mode1  ...       fn6       fn7       fn8       fn9      fn10  \\\n",
       "0           -0.042645  ... -0.056254  0.063772  0.166497  0.139531 -0.211290   \n",
       "1            0.049739  ... -0.123889 -0.034000  0.053397  0.047623 -0.193499   \n",
       "2            0.010105  ... -0.057844 -0.094992 -0.176450 -0.241029  0.032525   \n",
       "3            0.071095  ... -0.231286 -0.402334 -0.315724 -0.280635 -0.322398   \n",
       "4           -0.150809  ... -0.120887 -0.104634 -0.167317 -0.232173 -0.026849   \n",
       "..                ...  ...       ...       ...       ...       ...       ...   \n",
       "331         -0.014985  ... -0.078926 -0.063683 -0.018445 -0.024373 -0.089924   \n",
       "332         -0.002348  ...  0.008714  0.013251 -0.001783 -0.005070  0.009787   \n",
       "333          0.005336  ... -0.015093 -0.011260 -0.002616 -0.002032 -0.015215   \n",
       "334          0.013707  ... -0.010251 -0.009619 -0.005388 -0.008197 -0.011251   \n",
       "335          0.014714  ... -0.007168 -0.006852  0.005329  0.013800 -0.002134   \n",
       "\n",
       "         fn11      fn12      fn13      fn14       fn15  \n",
       "0   -0.067726 -0.011513 -0.154349  0.036021  14.357221  \n",
       "1   -0.110367 -0.041746 -0.110361  0.021409  14.139050  \n",
       "2   -0.051629 -0.082290 -0.030828  0.025562  17.393272  \n",
       "3   -0.425754 -0.436947 -0.406840  0.039294  14.576334  \n",
       "4   -0.027082 -0.086220  0.078810  0.019077  16.095714  \n",
       "..        ...       ...       ...       ...        ...  \n",
       "331 -0.065303 -0.038739 -0.056452  0.039457  17.728049  \n",
       "332  0.008077  0.000959  0.004628  0.012863  15.062345  \n",
       "333 -0.007486 -0.006553 -0.007662  0.010424  20.363807  \n",
       "334 -0.009440 -0.008620 -0.003944  0.037302  19.047586  \n",
       "335 -0.002076  0.004487  0.003963  0.031473  17.991779  \n",
       "\n",
       "[336 rows x 1952 columns]"
      ]
     },
     "execution_count": 100,
     "metadata": {},
     "output_type": "execute_result"
    }
   ],
   "source": [
    "df_raw = pd.read_csv('/media/tris/tris_files/EEG_datasets/physionet.org/processed/OMA_EEGmmi_window_head.csv')\n",
    "df_raw"
   ]
  },
  {
   "cell_type": "code",
   "execution_count": 124,
   "metadata": {
    "ExecuteTime": {
     "end_time": "2020-10-16T13:51:58.919849Z",
     "start_time": "2020-10-16T13:51:58.878434Z"
    }
   },
   "outputs": [
    {
     "data": {
      "text/html": [
       "<div>\n",
       "<style scoped>\n",
       "    .dataframe tbody tr th:only-of-type {\n",
       "        vertical-align: middle;\n",
       "    }\n",
       "\n",
       "    .dataframe tbody tr th {\n",
       "        vertical-align: top;\n",
       "    }\n",
       "\n",
       "    .dataframe thead th {\n",
       "        text-align: right;\n",
       "    }\n",
       "</style>\n",
       "<table border=\"1\" class=\"dataframe\">\n",
       "  <thead>\n",
       "    <tr style=\"text-align: right;\">\n",
       "      <th></th>\n",
       "      <th>Subject</th>\n",
       "      <th>Real_Comp1_Mode1</th>\n",
       "      <th>Real_Comp2_Mode1</th>\n",
       "      <th>Real_Comp3_Mode1</th>\n",
       "      <th>Real_Comp4_Mode1</th>\n",
       "      <th>Real_Comp5_Mode1</th>\n",
       "      <th>Real_Comp6_Mode1</th>\n",
       "      <th>Real_Comp7_Mode1</th>\n",
       "      <th>Real_Comp8_Mode1</th>\n",
       "      <th>Real_Comp9_Mode1</th>\n",
       "      <th>...</th>\n",
       "      <th>fn6</th>\n",
       "      <th>fn7</th>\n",
       "      <th>fn8</th>\n",
       "      <th>fn9</th>\n",
       "      <th>fn10</th>\n",
       "      <th>fn11</th>\n",
       "      <th>fn12</th>\n",
       "      <th>fn13</th>\n",
       "      <th>fn14</th>\n",
       "      <th>fn15</th>\n",
       "    </tr>\n",
       "  </thead>\n",
       "  <tbody>\n",
       "    <tr>\n",
       "      <th>0</th>\n",
       "      <td>1</td>\n",
       "      <td>-0.128208</td>\n",
       "      <td>-0.114405</td>\n",
       "      <td>-0.064654</td>\n",
       "      <td>-0.019041</td>\n",
       "      <td>-0.015079</td>\n",
       "      <td>-0.028027</td>\n",
       "      <td>-0.033961</td>\n",
       "      <td>-0.042645</td>\n",
       "      <td>-0.000673</td>\n",
       "      <td>...</td>\n",
       "      <td>-0.056254</td>\n",
       "      <td>0.063772</td>\n",
       "      <td>0.166497</td>\n",
       "      <td>0.139531</td>\n",
       "      <td>-0.211290</td>\n",
       "      <td>-0.067726</td>\n",
       "      <td>-0.011513</td>\n",
       "      <td>-0.154349</td>\n",
       "      <td>0.036021</td>\n",
       "      <td>14.357221</td>\n",
       "    </tr>\n",
       "    <tr>\n",
       "      <th>1</th>\n",
       "      <td>1</td>\n",
       "      <td>0.008675</td>\n",
       "      <td>0.033467</td>\n",
       "      <td>0.023795</td>\n",
       "      <td>0.006855</td>\n",
       "      <td>0.020269</td>\n",
       "      <td>0.004430</td>\n",
       "      <td>-0.072848</td>\n",
       "      <td>0.049739</td>\n",
       "      <td>0.056160</td>\n",
       "      <td>...</td>\n",
       "      <td>-0.123889</td>\n",
       "      <td>-0.034000</td>\n",
       "      <td>0.053397</td>\n",
       "      <td>0.047623</td>\n",
       "      <td>-0.193499</td>\n",
       "      <td>-0.110367</td>\n",
       "      <td>-0.041746</td>\n",
       "      <td>-0.110361</td>\n",
       "      <td>0.021409</td>\n",
       "      <td>14.139050</td>\n",
       "    </tr>\n",
       "    <tr>\n",
       "      <th>2</th>\n",
       "      <td>1</td>\n",
       "      <td>0.139821</td>\n",
       "      <td>0.007705</td>\n",
       "      <td>-0.016588</td>\n",
       "      <td>0.027062</td>\n",
       "      <td>0.000482</td>\n",
       "      <td>0.014150</td>\n",
       "      <td>0.114920</td>\n",
       "      <td>0.010105</td>\n",
       "      <td>-0.112492</td>\n",
       "      <td>...</td>\n",
       "      <td>-0.057844</td>\n",
       "      <td>-0.094992</td>\n",
       "      <td>-0.176450</td>\n",
       "      <td>-0.241029</td>\n",
       "      <td>0.032525</td>\n",
       "      <td>-0.051629</td>\n",
       "      <td>-0.082290</td>\n",
       "      <td>-0.030828</td>\n",
       "      <td>0.025562</td>\n",
       "      <td>17.393272</td>\n",
       "    </tr>\n",
       "    <tr>\n",
       "      <th>3</th>\n",
       "      <td>1</td>\n",
       "      <td>0.185922</td>\n",
       "      <td>0.109436</td>\n",
       "      <td>0.082568</td>\n",
       "      <td>0.074603</td>\n",
       "      <td>0.054954</td>\n",
       "      <td>-0.028222</td>\n",
       "      <td>-0.073561</td>\n",
       "      <td>0.071095</td>\n",
       "      <td>-0.002494</td>\n",
       "      <td>...</td>\n",
       "      <td>-0.231286</td>\n",
       "      <td>-0.402334</td>\n",
       "      <td>-0.315724</td>\n",
       "      <td>-0.280635</td>\n",
       "      <td>-0.322398</td>\n",
       "      <td>-0.425754</td>\n",
       "      <td>-0.436947</td>\n",
       "      <td>-0.406840</td>\n",
       "      <td>0.039294</td>\n",
       "      <td>14.576334</td>\n",
       "    </tr>\n",
       "    <tr>\n",
       "      <th>4</th>\n",
       "      <td>1</td>\n",
       "      <td>-0.195160</td>\n",
       "      <td>-0.107494</td>\n",
       "      <td>-0.069988</td>\n",
       "      <td>-0.013201</td>\n",
       "      <td>0.017748</td>\n",
       "      <td>-0.033805</td>\n",
       "      <td>-0.161361</td>\n",
       "      <td>-0.150809</td>\n",
       "      <td>-0.046385</td>\n",
       "      <td>...</td>\n",
       "      <td>-0.120887</td>\n",
       "      <td>-0.104634</td>\n",
       "      <td>-0.167317</td>\n",
       "      <td>-0.232173</td>\n",
       "      <td>-0.026849</td>\n",
       "      <td>-0.027082</td>\n",
       "      <td>-0.086220</td>\n",
       "      <td>0.078810</td>\n",
       "      <td>0.019077</td>\n",
       "      <td>16.095714</td>\n",
       "    </tr>\n",
       "  </tbody>\n",
       "</table>\n",
       "<p>5 rows × 1951 columns</p>\n",
       "</div>"
      ],
      "text/plain": [
       "   Subject  Real_Comp1_Mode1  Real_Comp2_Mode1  Real_Comp3_Mode1  \\\n",
       "0        1         -0.128208         -0.114405         -0.064654   \n",
       "1        1          0.008675          0.033467          0.023795   \n",
       "2        1          0.139821          0.007705         -0.016588   \n",
       "3        1          0.185922          0.109436          0.082568   \n",
       "4        1         -0.195160         -0.107494         -0.069988   \n",
       "\n",
       "   Real_Comp4_Mode1  Real_Comp5_Mode1  Real_Comp6_Mode1  Real_Comp7_Mode1  \\\n",
       "0         -0.019041         -0.015079         -0.028027         -0.033961   \n",
       "1          0.006855          0.020269          0.004430         -0.072848   \n",
       "2          0.027062          0.000482          0.014150          0.114920   \n",
       "3          0.074603          0.054954         -0.028222         -0.073561   \n",
       "4         -0.013201          0.017748         -0.033805         -0.161361   \n",
       "\n",
       "   Real_Comp8_Mode1  Real_Comp9_Mode1  ...       fn6       fn7       fn8  \\\n",
       "0         -0.042645         -0.000673  ... -0.056254  0.063772  0.166497   \n",
       "1          0.049739          0.056160  ... -0.123889 -0.034000  0.053397   \n",
       "2          0.010105         -0.112492  ... -0.057844 -0.094992 -0.176450   \n",
       "3          0.071095         -0.002494  ... -0.231286 -0.402334 -0.315724   \n",
       "4         -0.150809         -0.046385  ... -0.120887 -0.104634 -0.167317   \n",
       "\n",
       "        fn9      fn10      fn11      fn12      fn13      fn14       fn15  \n",
       "0  0.139531 -0.211290 -0.067726 -0.011513 -0.154349  0.036021  14.357221  \n",
       "1  0.047623 -0.193499 -0.110367 -0.041746 -0.110361  0.021409  14.139050  \n",
       "2 -0.241029  0.032525 -0.051629 -0.082290 -0.030828  0.025562  17.393272  \n",
       "3 -0.280635 -0.322398 -0.425754 -0.436947 -0.406840  0.039294  14.576334  \n",
       "4 -0.232173 -0.026849 -0.027082 -0.086220  0.078810  0.019077  16.095714  \n",
       "\n",
       "[5 rows x 1951 columns]"
      ]
     },
     "execution_count": 124,
     "metadata": {},
     "output_type": "execute_result"
    }
   ],
   "source": [
    "task = df['trial_label']\n",
    "#df_learn = df_raw.join(task)\n",
    "df_learn=df_raw.drop(columns=['Trial'])\n",
    "df_learn.head()"
   ]
  },
  {
   "cell_type": "code",
   "execution_count": 125,
   "metadata": {
    "ExecuteTime": {
     "end_time": "2020-10-16T13:52:03.652231Z",
     "start_time": "2020-10-16T13:52:03.603056Z"
    }
   },
   "outputs": [
    {
     "data": {
      "text/html": [
       "<div>\n",
       "<style scoped>\n",
       "    .dataframe tbody tr th:only-of-type {\n",
       "        vertical-align: middle;\n",
       "    }\n",
       "\n",
       "    .dataframe tbody tr th {\n",
       "        vertical-align: top;\n",
       "    }\n",
       "\n",
       "    .dataframe thead th {\n",
       "        text-align: right;\n",
       "    }\n",
       "</style>\n",
       "<table border=\"1\" class=\"dataframe\">\n",
       "  <thead>\n",
       "    <tr style=\"text-align: right;\">\n",
       "      <th></th>\n",
       "      <th>Subject</th>\n",
       "      <th>Real_Comp1_Mode1</th>\n",
       "      <th>Real_Comp2_Mode1</th>\n",
       "      <th>Real_Comp3_Mode1</th>\n",
       "      <th>Real_Comp4_Mode1</th>\n",
       "      <th>Real_Comp5_Mode1</th>\n",
       "      <th>Real_Comp6_Mode1</th>\n",
       "      <th>Real_Comp7_Mode1</th>\n",
       "      <th>Real_Comp8_Mode1</th>\n",
       "      <th>Real_Comp9_Mode1</th>\n",
       "      <th>...</th>\n",
       "      <th>fn6</th>\n",
       "      <th>fn7</th>\n",
       "      <th>fn8</th>\n",
       "      <th>fn9</th>\n",
       "      <th>fn10</th>\n",
       "      <th>fn11</th>\n",
       "      <th>fn12</th>\n",
       "      <th>fn13</th>\n",
       "      <th>fn14</th>\n",
       "      <th>fn15</th>\n",
       "    </tr>\n",
       "  </thead>\n",
       "  <tbody>\n",
       "    <tr>\n",
       "      <th>40</th>\n",
       "      <td>1</td>\n",
       "      <td>0.008614</td>\n",
       "      <td>0.084111</td>\n",
       "      <td>0.121569</td>\n",
       "      <td>0.14041</td>\n",
       "      <td>0.144386</td>\n",
       "      <td>0.054462</td>\n",
       "      <td>-0.047245</td>\n",
       "      <td>-0.098543</td>\n",
       "      <td>0.026887</td>\n",
       "      <td>...</td>\n",
       "      <td>0.197205</td>\n",
       "      <td>0.036504</td>\n",
       "      <td>-0.243321</td>\n",
       "      <td>-0.427953</td>\n",
       "      <td>0.063454</td>\n",
       "      <td>-0.103907</td>\n",
       "      <td>-0.314117</td>\n",
       "      <td>-0.165161</td>\n",
       "      <td>0.04703</td>\n",
       "      <td>13.714497</td>\n",
       "    </tr>\n",
       "  </tbody>\n",
       "</table>\n",
       "<p>1 rows × 1951 columns</p>\n",
       "</div>"
      ],
      "text/plain": [
       "    Subject  Real_Comp1_Mode1  Real_Comp2_Mode1  Real_Comp3_Mode1  \\\n",
       "40        1          0.008614          0.084111          0.121569   \n",
       "\n",
       "    Real_Comp4_Mode1  Real_Comp5_Mode1  Real_Comp6_Mode1  Real_Comp7_Mode1  \\\n",
       "40           0.14041          0.144386          0.054462         -0.047245   \n",
       "\n",
       "    Real_Comp8_Mode1  Real_Comp9_Mode1  ...       fn6       fn7       fn8  \\\n",
       "40         -0.098543          0.026887  ...  0.197205  0.036504 -0.243321   \n",
       "\n",
       "         fn9      fn10      fn11      fn12      fn13     fn14       fn15  \n",
       "40 -0.427953  0.063454 -0.103907 -0.314117 -0.165161  0.04703  13.714497  \n",
       "\n",
       "[1 rows x 1951 columns]"
      ]
     },
     "execution_count": 125,
     "metadata": {},
     "output_type": "execute_result"
    }
   ],
   "source": [
    "df_learn.iloc[[40],:]"
   ]
  },
  {
   "cell_type": "code",
   "execution_count": 126,
   "metadata": {
    "ExecuteTime": {
     "end_time": "2020-10-16T13:52:04.246372Z",
     "start_time": "2020-10-16T13:52:04.030351Z"
    }
   },
   "outputs": [],
   "source": [
    "os.makedirs('tmp', exist_ok=True)\n",
    "df_learn.to_feather('tmp/eeg-raw')"
   ]
  },
  {
   "cell_type": "code",
   "execution_count": 127,
   "metadata": {
    "ExecuteTime": {
     "end_time": "2020-10-16T13:52:04.360445Z",
     "start_time": "2020-10-16T13:52:04.303945Z"
    }
   },
   "outputs": [
    {
     "data": {
      "text/html": [
       "<div>\n",
       "<style scoped>\n",
       "    .dataframe tbody tr th:only-of-type {\n",
       "        vertical-align: middle;\n",
       "    }\n",
       "\n",
       "    .dataframe tbody tr th {\n",
       "        vertical-align: top;\n",
       "    }\n",
       "\n",
       "    .dataframe thead th {\n",
       "        text-align: right;\n",
       "    }\n",
       "</style>\n",
       "<table border=\"1\" class=\"dataframe\">\n",
       "  <thead>\n",
       "    <tr style=\"text-align: right;\">\n",
       "      <th></th>\n",
       "      <th>Subject</th>\n",
       "      <th>Real_Comp1_Mode1</th>\n",
       "      <th>Real_Comp2_Mode1</th>\n",
       "      <th>Real_Comp3_Mode1</th>\n",
       "      <th>Real_Comp4_Mode1</th>\n",
       "      <th>Real_Comp5_Mode1</th>\n",
       "      <th>Real_Comp6_Mode1</th>\n",
       "      <th>Real_Comp7_Mode1</th>\n",
       "      <th>Real_Comp8_Mode1</th>\n",
       "      <th>Real_Comp9_Mode1</th>\n",
       "      <th>...</th>\n",
       "      <th>fn6</th>\n",
       "      <th>fn7</th>\n",
       "      <th>fn8</th>\n",
       "      <th>fn9</th>\n",
       "      <th>fn10</th>\n",
       "      <th>fn11</th>\n",
       "      <th>fn12</th>\n",
       "      <th>fn13</th>\n",
       "      <th>fn14</th>\n",
       "      <th>fn15</th>\n",
       "    </tr>\n",
       "  </thead>\n",
       "  <tbody>\n",
       "    <tr>\n",
       "      <th>0</th>\n",
       "      <td>1</td>\n",
       "      <td>-0.128208</td>\n",
       "      <td>-0.114405</td>\n",
       "      <td>-0.064654</td>\n",
       "      <td>-0.019041</td>\n",
       "      <td>-0.015079</td>\n",
       "      <td>-0.028027</td>\n",
       "      <td>-0.033961</td>\n",
       "      <td>-0.042645</td>\n",
       "      <td>-0.000673</td>\n",
       "      <td>...</td>\n",
       "      <td>-0.056254</td>\n",
       "      <td>0.063772</td>\n",
       "      <td>0.166497</td>\n",
       "      <td>0.139531</td>\n",
       "      <td>-0.211290</td>\n",
       "      <td>-0.067726</td>\n",
       "      <td>-0.011513</td>\n",
       "      <td>-0.154349</td>\n",
       "      <td>0.036021</td>\n",
       "      <td>14.357221</td>\n",
       "    </tr>\n",
       "    <tr>\n",
       "      <th>1</th>\n",
       "      <td>1</td>\n",
       "      <td>0.008675</td>\n",
       "      <td>0.033467</td>\n",
       "      <td>0.023795</td>\n",
       "      <td>0.006855</td>\n",
       "      <td>0.020269</td>\n",
       "      <td>0.004430</td>\n",
       "      <td>-0.072848</td>\n",
       "      <td>0.049739</td>\n",
       "      <td>0.056160</td>\n",
       "      <td>...</td>\n",
       "      <td>-0.123889</td>\n",
       "      <td>-0.034000</td>\n",
       "      <td>0.053397</td>\n",
       "      <td>0.047623</td>\n",
       "      <td>-0.193499</td>\n",
       "      <td>-0.110367</td>\n",
       "      <td>-0.041746</td>\n",
       "      <td>-0.110361</td>\n",
       "      <td>0.021409</td>\n",
       "      <td>14.139050</td>\n",
       "    </tr>\n",
       "    <tr>\n",
       "      <th>2</th>\n",
       "      <td>1</td>\n",
       "      <td>0.139821</td>\n",
       "      <td>0.007705</td>\n",
       "      <td>-0.016588</td>\n",
       "      <td>0.027062</td>\n",
       "      <td>0.000482</td>\n",
       "      <td>0.014150</td>\n",
       "      <td>0.114920</td>\n",
       "      <td>0.010105</td>\n",
       "      <td>-0.112492</td>\n",
       "      <td>...</td>\n",
       "      <td>-0.057844</td>\n",
       "      <td>-0.094992</td>\n",
       "      <td>-0.176450</td>\n",
       "      <td>-0.241029</td>\n",
       "      <td>0.032525</td>\n",
       "      <td>-0.051629</td>\n",
       "      <td>-0.082290</td>\n",
       "      <td>-0.030828</td>\n",
       "      <td>0.025562</td>\n",
       "      <td>17.393272</td>\n",
       "    </tr>\n",
       "    <tr>\n",
       "      <th>3</th>\n",
       "      <td>1</td>\n",
       "      <td>0.185922</td>\n",
       "      <td>0.109436</td>\n",
       "      <td>0.082568</td>\n",
       "      <td>0.074603</td>\n",
       "      <td>0.054954</td>\n",
       "      <td>-0.028222</td>\n",
       "      <td>-0.073561</td>\n",
       "      <td>0.071095</td>\n",
       "      <td>-0.002494</td>\n",
       "      <td>...</td>\n",
       "      <td>-0.231286</td>\n",
       "      <td>-0.402334</td>\n",
       "      <td>-0.315724</td>\n",
       "      <td>-0.280635</td>\n",
       "      <td>-0.322398</td>\n",
       "      <td>-0.425754</td>\n",
       "      <td>-0.436947</td>\n",
       "      <td>-0.406840</td>\n",
       "      <td>0.039294</td>\n",
       "      <td>14.576334</td>\n",
       "    </tr>\n",
       "    <tr>\n",
       "      <th>4</th>\n",
       "      <td>1</td>\n",
       "      <td>-0.195160</td>\n",
       "      <td>-0.107494</td>\n",
       "      <td>-0.069988</td>\n",
       "      <td>-0.013201</td>\n",
       "      <td>0.017748</td>\n",
       "      <td>-0.033805</td>\n",
       "      <td>-0.161361</td>\n",
       "      <td>-0.150809</td>\n",
       "      <td>-0.046385</td>\n",
       "      <td>...</td>\n",
       "      <td>-0.120887</td>\n",
       "      <td>-0.104634</td>\n",
       "      <td>-0.167317</td>\n",
       "      <td>-0.232173</td>\n",
       "      <td>-0.026849</td>\n",
       "      <td>-0.027082</td>\n",
       "      <td>-0.086220</td>\n",
       "      <td>0.078810</td>\n",
       "      <td>0.019077</td>\n",
       "      <td>16.095714</td>\n",
       "    </tr>\n",
       "  </tbody>\n",
       "</table>\n",
       "<p>5 rows × 1951 columns</p>\n",
       "</div>"
      ],
      "text/plain": [
       "   Subject  Real_Comp1_Mode1  Real_Comp2_Mode1  Real_Comp3_Mode1  \\\n",
       "0        1         -0.128208         -0.114405         -0.064654   \n",
       "1        1          0.008675          0.033467          0.023795   \n",
       "2        1          0.139821          0.007705         -0.016588   \n",
       "3        1          0.185922          0.109436          0.082568   \n",
       "4        1         -0.195160         -0.107494         -0.069988   \n",
       "\n",
       "   Real_Comp4_Mode1  Real_Comp5_Mode1  Real_Comp6_Mode1  Real_Comp7_Mode1  \\\n",
       "0         -0.019041         -0.015079         -0.028027         -0.033961   \n",
       "1          0.006855          0.020269          0.004430         -0.072848   \n",
       "2          0.027062          0.000482          0.014150          0.114920   \n",
       "3          0.074603          0.054954         -0.028222         -0.073561   \n",
       "4         -0.013201          0.017748         -0.033805         -0.161361   \n",
       "\n",
       "   Real_Comp8_Mode1  Real_Comp9_Mode1  ...       fn6       fn7       fn8  \\\n",
       "0         -0.042645         -0.000673  ... -0.056254  0.063772  0.166497   \n",
       "1          0.049739          0.056160  ... -0.123889 -0.034000  0.053397   \n",
       "2          0.010105         -0.112492  ... -0.057844 -0.094992 -0.176450   \n",
       "3          0.071095         -0.002494  ... -0.231286 -0.402334 -0.315724   \n",
       "4         -0.150809         -0.046385  ... -0.120887 -0.104634 -0.167317   \n",
       "\n",
       "        fn9      fn10      fn11      fn12      fn13      fn14       fn15  \n",
       "0  0.139531 -0.211290 -0.067726 -0.011513 -0.154349  0.036021  14.357221  \n",
       "1  0.047623 -0.193499 -0.110367 -0.041746 -0.110361  0.021409  14.139050  \n",
       "2 -0.241029  0.032525 -0.051629 -0.082290 -0.030828  0.025562  17.393272  \n",
       "3 -0.280635 -0.322398 -0.425754 -0.436947 -0.406840  0.039294  14.576334  \n",
       "4 -0.232173 -0.026849 -0.027082 -0.086220  0.078810  0.019077  16.095714  \n",
       "\n",
       "[5 rows x 1951 columns]"
      ]
     },
     "execution_count": 127,
     "metadata": {},
     "output_type": "execute_result"
    }
   ],
   "source": [
    "import pandas as pd\n",
    "df_raw = pd.read_feather('tmp/eeg-raw') #lol raw sashimis and sushis\n",
    "df_raw.head()"
   ]
  },
  {
   "cell_type": "code",
   "execution_count": 128,
   "metadata": {
    "ExecuteTime": {
     "end_time": "2020-10-16T13:52:05.511636Z",
     "start_time": "2020-10-16T13:52:05.479648Z"
    }
   },
   "outputs": [
    {
     "data": {
      "text/html": [
       "<div>\n",
       "<style scoped>\n",
       "    .dataframe tbody tr th:only-of-type {\n",
       "        vertical-align: middle;\n",
       "    }\n",
       "\n",
       "    .dataframe tbody tr th {\n",
       "        vertical-align: top;\n",
       "    }\n",
       "\n",
       "    .dataframe thead th {\n",
       "        text-align: right;\n",
       "    }\n",
       "</style>\n",
       "<table border=\"1\" class=\"dataframe\">\n",
       "  <thead>\n",
       "    <tr style=\"text-align: right;\">\n",
       "      <th></th>\n",
       "      <th>Real_Comp44_Mode5</th>\n",
       "    </tr>\n",
       "  </thead>\n",
       "  <tbody>\n",
       "    <tr>\n",
       "      <th>100</th>\n",
       "      <td>-0.055383</td>\n",
       "    </tr>\n",
       "  </tbody>\n",
       "</table>\n",
       "</div>"
      ],
      "text/plain": [
       "     Real_Comp44_Mode5\n",
       "100          -0.055383"
      ]
     },
     "execution_count": 128,
     "metadata": {},
     "output_type": "execute_result"
    }
   ],
   "source": [
    "df_raw.iloc[[100],[300]]"
   ]
  },
  {
   "cell_type": "code",
   "execution_count": 129,
   "metadata": {
    "ExecuteTime": {
     "end_time": "2020-10-16T13:52:06.254208Z",
     "start_time": "2020-10-16T13:52:05.865522Z"
    }
   },
   "outputs": [
    {
     "data": {
      "text/plain": [
       "Text(0.5, 1.0, 'zeta6')"
      ]
     },
     "execution_count": 129,
     "metadata": {},
     "output_type": "execute_result"
    },
    {
     "data": {
      "image/png": "[encoded data removed]",
      "text/plain": [
       "<Figure size 1080x360 with 4 Axes>"
      ]
     },
     "metadata": {
      "needs_background": "light"
     },
     "output_type": "display_data"
    }
   ],
   "source": [
    "fig, axs = plt.subplots(1, 4, figsize=(15, 5))\n",
    "axs[0].hist(df_raw.Real_Comp1_Mode1)\n",
    "axs[0].set_title('Real_Comp1_Mode1')\n",
    "axs[1].hist(df_raw.fn7)\n",
    "axs[1].set_title('freq7')\n",
    "axs[2].hist(df_raw.Imag_Comp1_Mode3)\n",
    "axs[2].set_title('Imag Chan. 27')\n",
    "axs[3].hist(df_raw.zeta6)\n",
    "axs[3].set_title('zeta6')"
   ]
  },
  {
   "cell_type": "code",
   "execution_count": 130,
   "metadata": {
    "ExecuteTime": {
     "end_time": "2020-10-16T13:52:06.998928Z",
     "start_time": "2020-10-16T13:52:06.967593Z"
    },
    "scrolled": true
   },
   "outputs": [],
   "source": [
    "# df1_raw = df_raw[(df_raw['Subject'] == 2)]\n",
    "# df1_raw.head()"
   ]
  },
  {
   "cell_type": "code",
   "execution_count": 131,
   "metadata": {
    "ExecuteTime": {
     "end_time": "2020-10-16T13:52:07.260046Z",
     "start_time": "2020-10-16T13:52:07.230444Z"
    },
    "scrolled": true
   },
   "outputs": [],
   "source": [
    "# emotion_quad1 = emotion_quad[(df['subject_label'] == 2)]\n",
    "# emotion_quad1.head()"
   ]
  },
  {
   "cell_type": "code",
   "execution_count": 132,
   "metadata": {
    "ExecuteTime": {
     "end_time": "2020-10-16T13:52:07.667318Z",
     "start_time": "2020-10-16T13:52:07.637117Z"
    }
   },
   "outputs": [],
   "source": [
    "X_train, X_test, y_train, y_test = train_test_split(\n",
    "    df_raw, task, test_size=0.2, shuffle=True)"
   ]
  },
  {
   "cell_type": "code",
   "execution_count": 133,
   "metadata": {
    "ExecuteTime": {
     "end_time": "2020-10-16T13:52:09.174503Z",
     "start_time": "2020-10-16T13:52:09.140797Z"
    }
   },
   "outputs": [],
   "source": [
    "classifier = AdaBoostClassifier(n_estimators=40)"
   ]
  },
  {
   "cell_type": "code",
   "execution_count": 134,
   "metadata": {
    "ExecuteTime": {
     "end_time": "2020-10-16T13:52:10.955491Z",
     "start_time": "2020-10-16T13:52:09.389640Z"
    }
   },
   "outputs": [
    {
     "data": {
      "text/plain": [
       "AdaBoostClassifier(n_estimators=40)"
      ]
     },
     "execution_count": 134,
     "metadata": {},
     "output_type": "execute_result"
    }
   ],
   "source": [
    "classifier.fit(X_train, y_train)"
   ]
  },
  {
   "cell_type": "code",
   "execution_count": 135,
   "metadata": {
    "ExecuteTime": {
     "end_time": "2020-10-16T13:52:10.992194Z",
     "start_time": "2020-10-16T13:52:10.956596Z"
    }
   },
   "outputs": [],
   "source": [
    "predicted = classifier.predict(X_test)"
   ]
  },
  {
   "cell_type": "code",
   "execution_count": 136,
   "metadata": {
    "ExecuteTime": {
     "end_time": "2020-10-16T13:52:11.152984Z",
     "start_time": "2020-10-16T13:52:10.993413Z"
    }
   },
   "outputs": [
    {
     "name": "stdout",
     "output_type": "stream",
     "text": [
      "Classification report for classifier AdaBoostClassifier(n_estimators=40):\n",
      "              precision    recall  f1-score   support\n",
      "\n",
      "           1       0.26      0.35      0.30        17\n",
      "           2       0.16      0.36      0.22        11\n",
      "           3       0.22      0.12      0.16        16\n",
      "           4       0.09      0.04      0.06        24\n",
      "\n",
      "    accuracy                           0.19        68\n",
      "   macro avg       0.18      0.22      0.18        68\n",
      "weighted avg       0.18      0.19      0.17        68\n",
      "\n",
      "\n",
      "Confusion matrix:\n",
      "[[ 6  5  3  3]\n",
      " [ 4  4  0  3]\n",
      " [ 4  6  2  4]\n",
      " [ 9 10  4  1]]\n"
     ]
    },
    {
     "data": {
      "image/png": "[encoded data removed]",
      "text/plain": [
       "<Figure size 432x288 with 2 Axes>"
      ]
     },
     "metadata": {
      "needs_background": "light"
     },
     "output_type": "display_data"
    }
   ],
   "source": [
    "print(\"Classification report for classifier %s:\\n%s\\n\"\n",
    "      % (classifier, metrics.classification_report(y_test, predicted)))\n",
    "disp = metrics.plot_confusion_matrix(classifier, X_test, y_test)\n",
    "disp.figure_.suptitle(\"Confusion Matrix\")\n",
    "print(\"Confusion matrix:\\n%s\" % disp.confusion_matrix)"
   ]
  },
  {
   "cell_type": "code",
   "execution_count": 137,
   "metadata": {
    "ExecuteTime": {
     "end_time": "2020-10-16T13:52:14.869189Z",
     "start_time": "2020-10-16T13:52:14.835308Z"
    }
   },
   "outputs": [],
   "source": [
    "classifier = svm.SVC(gamma=0.2, kernel='poly', degree=3)"
   ]
  },
  {
   "cell_type": "code",
   "execution_count": 138,
   "metadata": {
    "ExecuteTime": {
     "end_time": "2020-10-16T13:52:15.491083Z",
     "start_time": "2020-10-16T13:52:15.205332Z"
    }
   },
   "outputs": [
    {
     "data": {
      "text/plain": [
       "SVC(gamma=0.2, kernel='poly')"
      ]
     },
     "execution_count": 138,
     "metadata": {},
     "output_type": "execute_result"
    }
   ],
   "source": [
    "classifier.fit(X_train, y_train)"
   ]
  },
  {
   "cell_type": "code",
   "execution_count": 139,
   "metadata": {
    "ExecuteTime": {
     "end_time": "2020-10-16T13:52:15.691187Z",
     "start_time": "2020-10-16T13:52:15.607213Z"
    }
   },
   "outputs": [],
   "source": [
    "predicted = classifier.predict(X_test)"
   ]
  },
  {
   "cell_type": "code",
   "execution_count": 140,
   "metadata": {
    "ExecuteTime": {
     "end_time": "2020-10-16T13:52:16.883914Z",
     "start_time": "2020-10-16T13:52:16.686891Z"
    }
   },
   "outputs": [
    {
     "name": "stdout",
     "output_type": "stream",
     "text": [
      "Classification report for classifier SVC(gamma=0.2, kernel='poly'):\n",
      "              precision    recall  f1-score   support\n",
      "\n",
      "           1       0.24      0.29      0.26        17\n",
      "           2       0.14      0.27      0.19        11\n",
      "           3       0.33      0.38      0.35        16\n",
      "           4       0.25      0.08      0.12        24\n",
      "\n",
      "    accuracy                           0.24        68\n",
      "   macro avg       0.24      0.26      0.23        68\n",
      "weighted avg       0.25      0.24      0.22        68\n",
      "\n",
      "\n",
      "Confusion matrix:\n",
      "[[5 7 4 1]\n",
      " [5 3 1 2]\n",
      " [4 3 6 3]\n",
      " [7 8 7 2]]\n"
     ]
    },
    {
     "data": {
      "image/png": "[encoded data removed]",
      "text/plain": [
       "<Figure size 432x288 with 2 Axes>"
      ]
     },
     "metadata": {
      "needs_background": "light"
     },
     "output_type": "display_data"
    }
   ],
   "source": [
    "print(\"Classification report for classifier %s:\\n%s\\n\"\n",
    "      % (classifier, metrics.classification_report(y_test, predicted)))\n",
    "disp = metrics.plot_confusion_matrix(classifier, X_test, y_test)\n",
    "disp.figure_.suptitle(\"Confusion Matrix\")\n",
    "print(\"Confusion matrix:\\n%s\" % disp.confusion_matrix)"
   ]
  },
  {
   "cell_type": "code",
   "execution_count": 141,
   "metadata": {
    "ExecuteTime": {
     "end_time": "2020-10-16T13:52:18.838102Z",
     "start_time": "2020-10-16T13:52:18.802960Z"
    }
   },
   "outputs": [],
   "source": [
    "classifier = tree.DecisionTreeClassifier()"
   ]
  },
  {
   "cell_type": "code",
   "execution_count": 142,
   "metadata": {
    "ExecuteTime": {
     "end_time": "2020-10-16T13:52:19.238045Z",
     "start_time": "2020-10-16T13:52:18.998499Z"
    }
   },
   "outputs": [
    {
     "data": {
      "text/plain": [
       "DecisionTreeClassifier()"
      ]
     },
     "execution_count": 142,
     "metadata": {},
     "output_type": "execute_result"
    }
   ],
   "source": [
    "classifier.fit(X_train, y_train)"
   ]
  },
  {
   "cell_type": "code",
   "execution_count": 143,
   "metadata": {
    "ExecuteTime": {
     "end_time": "2020-10-16T13:52:19.262359Z",
     "start_time": "2020-10-16T13:52:19.239133Z"
    }
   },
   "outputs": [],
   "source": [
    "predicted = classifier.predict(X_test)"
   ]
  },
  {
   "cell_type": "code",
   "execution_count": 144,
   "metadata": {
    "ExecuteTime": {
     "end_time": "2020-10-16T13:52:19.844718Z",
     "start_time": "2020-10-16T13:52:19.684015Z"
    }
   },
   "outputs": [
    {
     "name": "stdout",
     "output_type": "stream",
     "text": [
      "Classification report for classifier DecisionTreeClassifier():\n",
      "              precision    recall  f1-score   support\n",
      "\n",
      "           1       0.27      0.24      0.25        17\n",
      "           2       0.20      0.45      0.28        11\n",
      "           3       0.30      0.38      0.33        16\n",
      "           4       0.12      0.04      0.06        24\n",
      "\n",
      "    accuracy                           0.24        68\n",
      "   macro avg       0.22      0.28      0.23        68\n",
      "weighted avg       0.21      0.24      0.21        68\n",
      "\n",
      "\n",
      "Confusion matrix:\n",
      "[[ 4  7  3  3]\n",
      " [ 1  5  4  1]\n",
      " [ 4  3  6  3]\n",
      " [ 6 10  7  1]]\n"
     ]
    },
    {
     "data": {
      "image/png": "[encoded data removed]",
      "text/plain": [
       "<Figure size 432x288 with 2 Axes>"
      ]
     },
     "metadata": {
      "needs_background": "light"
     },
     "output_type": "display_data"
    }
   ],
   "source": [
    "print(\"Classification report for classifier %s:\\n%s\\n\"\n",
    "      % (classifier, metrics.classification_report(y_test, predicted)))\n",
    "disp = metrics.plot_confusion_matrix(classifier, X_test, y_test)\n",
    "disp.figure_.suptitle(\"Confusion Matrix\")\n",
    "print(\"Confusion matrix:\\n%s\" % disp.confusion_matrix)"
   ]
  },
  {
   "cell_type": "code",
   "execution_count": 145,
   "metadata": {
    "ExecuteTime": {
     "end_time": "2020-10-16T13:52:23.107578Z",
     "start_time": "2020-10-16T13:52:21.243491Z"
    },
    "scrolled": true
   },
   "outputs": [
    {
     "data": {
      "text/plain": [
       "[Text(143.5776923076923, 208.38, 'X[1418] <= -0.002\\ngini = 0.749\\nsamples = 268\\nvalue = [67, 73, 68, 60]'),\n",
       " Text(88.85076923076923, 190.26, 'X[1339] <= 0.075\\ngini = 0.703\\nsamples = 112\\nvalue = [15, 46, 32, 19]'),\n",
       " Text(66.96, 172.14, 'X[1316] <= -0.008\\ngini = 0.722\\nsamples = 98\\nvalue = [14, 33, 32, 19]'),\n",
       " Text(38.63076923076923, 154.01999999999998, 'X[1605] <= 0.048\\ngini = 0.635\\nsamples = 41\\nvalue = [8, 7, 22, 4]'),\n",
       " Text(20.603076923076923, 135.89999999999998, 'X[1332] <= -0.053\\ngini = 0.45\\nsamples = 31\\nvalue = [0, 6, 22, 3]'),\n",
       " Text(10.301538461538462, 117.77999999999999, 'X[609] <= -0.205\\ngini = 0.278\\nsamples = 6\\nvalue = [0, 5, 0, 1]'),\n",
       " Text(5.150769230769231, 99.66, 'gini = 0.0\\nsamples = 1\\nvalue = [0, 0, 0, 1]'),\n",
       " Text(15.452307692307691, 99.66, 'gini = 0.0\\nsamples = 5\\nvalue = [0, 5, 0, 0]'),\n",
       " Text(30.904615384615383, 117.77999999999999, 'X[1553] <= -0.139\\ngini = 0.218\\nsamples = 25\\nvalue = [0, 1, 22, 2]'),\n",
       " Text(25.753846153846155, 99.66, 'X[1104] <= -0.036\\ngini = 0.444\\nsamples = 3\\nvalue = [0, 1, 0, 2]'),\n",
       " Text(20.603076923076923, 81.53999999999999, 'gini = 0.0\\nsamples = 1\\nvalue = [0, 1, 0, 0]'),\n",
       " Text(30.904615384615383, 81.53999999999999, 'gini = 0.0\\nsamples = 2\\nvalue = [0, 0, 0, 2]'),\n",
       " Text(36.05538461538462, 99.66, 'gini = 0.0\\nsamples = 22\\nvalue = [0, 0, 22, 0]'),\n",
       " Text(56.65846153846154, 135.89999999999998, 'X[169] <= -0.148\\ngini = 0.34\\nsamples = 10\\nvalue = [8, 1, 0, 1]'),\n",
       " Text(51.50769230769231, 117.77999999999999, 'X[375] <= -0.066\\ngini = 0.5\\nsamples = 2\\nvalue = [0, 1, 0, 1]'),\n",
       " Text(46.356923076923074, 99.66, 'gini = 0.0\\nsamples = 1\\nvalue = [0, 0, 0, 1]'),\n",
       " Text(56.65846153846154, 99.66, 'gini = 0.0\\nsamples = 1\\nvalue = [0, 1, 0, 0]'),\n",
       " Text(61.809230769230766, 117.77999999999999, 'gini = 0.0\\nsamples = 8\\nvalue = [8, 0, 0, 0]'),\n",
       " Text(95.28923076923077, 154.01999999999998, 'X[1564] <= -0.017\\ngini = 0.681\\nsamples = 57\\nvalue = [6, 26, 10, 15]'),\n",
       " Text(77.26153846153846, 135.89999999999998, 'X[823] <= -0.013\\ngini = 0.537\\nsamples = 18\\nvalue = [0, 2, 5, 11]'),\n",
       " Text(72.11076923076924, 117.77999999999999, 'gini = 0.0\\nsamples = 5\\nvalue = [0, 0, 5, 0]'),\n",
       " Text(82.41230769230769, 117.77999999999999, 'X[1672] <= 0.114\\ngini = 0.26\\nsamples = 13\\nvalue = [0, 2, 0, 11]'),\n",
       " Text(77.26153846153846, 99.66, 'gini = 0.0\\nsamples = 11\\nvalue = [0, 0, 0, 11]'),\n",
       " Text(87.56307692307692, 99.66, 'gini = 0.0\\nsamples = 2\\nvalue = [0, 2, 0, 0]'),\n",
       " Text(113.31692307692308, 135.89999999999998, 'X[1796] <= 0.037\\ngini = 0.571\\nsamples = 39\\nvalue = [6, 24, 5, 4]'),\n",
       " Text(103.01538461538462, 117.77999999999999, 'X[251] <= 0.169\\ngini = 0.313\\nsamples = 27\\nvalue = [0, 22, 1, 4]'),\n",
       " Text(97.86461538461539, 99.66, 'X[259] <= 0.032\\ngini = 0.156\\nsamples = 24\\nvalue = [0, 22, 1, 1]'),\n",
       " Text(92.71384615384615, 81.53999999999999, 'X[1647] <= -0.032\\ngini = 0.5\\nsamples = 2\\nvalue = [0, 0, 1, 1]'),\n",
       " Text(87.56307692307692, 63.41999999999999, 'gini = 0.0\\nsamples = 1\\nvalue = [0, 0, 0, 1]'),\n",
       " Text(97.86461538461539, 63.41999999999999, 'gini = 0.0\\nsamples = 1\\nvalue = [0, 0, 1, 0]'),\n",
       " Text(103.01538461538462, 81.53999999999999, 'gini = 0.0\\nsamples = 22\\nvalue = [0, 22, 0, 0]'),\n",
       " Text(108.16615384615385, 99.66, 'gini = 0.0\\nsamples = 3\\nvalue = [0, 0, 0, 3]'),\n",
       " Text(123.61846153846153, 117.77999999999999, 'X[1344] <= -0.028\\ngini = 0.611\\nsamples = 12\\nvalue = [6, 2, 4, 0]'),\n",
       " Text(118.4676923076923, 99.66, 'gini = 0.0\\nsamples = 6\\nvalue = [6, 0, 0, 0]'),\n",
       " Text(128.76923076923077, 99.66, 'X[30] <= 0.144\\ngini = 0.444\\nsamples = 6\\nvalue = [0, 2, 4, 0]'),\n",
       " Text(123.61846153846153, 81.53999999999999, 'gini = 0.0\\nsamples = 4\\nvalue = [0, 0, 4, 0]'),\n",
       " Text(133.92, 81.53999999999999, 'gini = 0.0\\nsamples = 2\\nvalue = [0, 2, 0, 0]'),\n",
       " Text(110.74153846153847, 172.14, 'X[252] <= 0.277\\ngini = 0.133\\nsamples = 14\\nvalue = [1, 13, 0, 0]'),\n",
       " Text(105.59076923076923, 154.01999999999998, 'gini = 0.0\\nsamples = 13\\nvalue = [0, 13, 0, 0]'),\n",
       " Text(115.8923076923077, 154.01999999999998, 'gini = 0.0\\nsamples = 1\\nvalue = [1, 0, 0, 0]'),\n",
       " Text(198.30461538461537, 190.26, 'X[902] <= -0.111\\ngini = 0.737\\nsamples = 156\\nvalue = [52, 27, 36, 41]'),\n",
       " Text(149.3723076923077, 172.14, 'X[917] <= 0.087\\ngini = 0.442\\nsamples = 22\\nvalue = [3, 1, 2, 16]'),\n",
       " Text(133.92, 154.01999999999998, 'X[1770] <= 0.092\\ngini = 0.204\\nsamples = 18\\nvalue = [1, 0, 1, 16]'),\n",
       " Text(128.76923076923077, 135.89999999999998, 'gini = 0.0\\nsamples = 16\\nvalue = [0, 0, 0, 16]'),\n",
       " Text(139.07076923076923, 135.89999999999998, 'X[327] <= 0.034\\ngini = 0.5\\nsamples = 2\\nvalue = [1, 0, 1, 0]'),\n",
       " Text(133.92, 117.77999999999999, 'gini = 0.0\\nsamples = 1\\nvalue = [0, 0, 1, 0]'),\n",
       " Text(144.22153846153847, 117.77999999999999, 'gini = 0.0\\nsamples = 1\\nvalue = [1, 0, 0, 0]'),\n",
       " Text(164.82461538461538, 154.01999999999998, 'X[59] <= 0.081\\ngini = 0.625\\nsamples = 4\\nvalue = [2, 1, 1, 0]'),\n",
       " Text(159.67384615384614, 135.89999999999998, 'X[432] <= 0.147\\ngini = 0.5\\nsamples = 2\\nvalue = [0, 1, 1, 0]'),\n",
       " Text(154.52307692307693, 117.77999999999999, 'gini = 0.0\\nsamples = 1\\nvalue = [0, 0, 1, 0]'),\n",
       " Text(164.82461538461538, 117.77999999999999, 'gini = 0.0\\nsamples = 1\\nvalue = [0, 1, 0, 0]'),\n",
       " Text(169.97538461538463, 135.89999999999998, 'gini = 0.0\\nsamples = 2\\nvalue = [2, 0, 0, 0]'),\n",
       " Text(247.23692307692306, 172.14, 'X[1350] <= 0.001\\ngini = 0.729\\nsamples = 134\\nvalue = [49, 26, 34, 25]'),\n",
       " Text(206.03076923076924, 154.01999999999998, 'X[727] <= 0.018\\ngini = 0.621\\nsamples = 61\\nvalue = [33, 4, 9, 15]'),\n",
       " Text(185.4276923076923, 135.89999999999998, 'X[234] <= -0.088\\ngini = 0.47\\nsamples = 44\\nvalue = [31, 2, 6, 5]'),\n",
       " Text(175.12615384615384, 117.77999999999999, 'X[1105] <= 0.021\\ngini = 0.663\\nsamples = 13\\nvalue = [4, 0, 4, 5]'),\n",
       " Text(169.97538461538463, 99.66, 'X[1658] <= 0.004\\ngini = 0.5\\nsamples = 8\\nvalue = [4, 0, 4, 0]'),\n",
       " Text(164.82461538461538, 81.53999999999999, 'gini = 0.0\\nsamples = 4\\nvalue = [4, 0, 0, 0]'),\n",
       " Text(175.12615384615384, 81.53999999999999, 'gini = 0.0\\nsamples = 4\\nvalue = [0, 0, 4, 0]'),\n",
       " Text(180.27692307692308, 99.66, 'gini = 0.0\\nsamples = 5\\nvalue = [0, 0, 0, 5]'),\n",
       " Text(195.72923076923078, 117.77999999999999, 'X[802] <= -0.094\\ngini = 0.233\\nsamples = 31\\nvalue = [27, 2, 2, 0]'),\n",
       " Text(190.57846153846154, 99.66, 'gini = 0.0\\nsamples = 2\\nvalue = [0, 2, 0, 0]'),\n",
       " Text(200.88, 99.66, 'X[63] <= 0.468\\ngini = 0.128\\nsamples = 29\\nvalue = [27, 0, 2, 0]'),\n",
       " Text(195.72923076923078, 81.53999999999999, 'gini = 0.0\\nsamples = 26\\nvalue = [26, 0, 0, 0]'),\n",
       " Text(206.03076923076924, 81.53999999999999, 'X[557] <= 0.058\\ngini = 0.444\\nsamples = 3\\nvalue = [1, 0, 2, 0]'),\n",
       " Text(200.88, 63.41999999999999, 'gini = 0.0\\nsamples = 2\\nvalue = [0, 0, 2, 0]'),\n",
       " Text(211.18153846153845, 63.41999999999999, 'gini = 0.0\\nsamples = 1\\nvalue = [1, 0, 0, 0]'),\n",
       " Text(226.63384615384615, 135.89999999999998, 'X[1376] <= 0.02\\ngini = 0.595\\nsamples = 17\\nvalue = [2, 2, 3, 10]'),\n",
       " Text(216.3323076923077, 117.77999999999999, 'X[1106] <= -0.045\\ngini = 0.165\\nsamples = 11\\nvalue = [0, 1, 0, 10]'),\n",
       " Text(211.18153846153845, 99.66, 'gini = 0.0\\nsamples = 1\\nvalue = [0, 1, 0, 0]'),\n",
       " Text(221.48307692307694, 99.66, 'gini = 0.0\\nsamples = 10\\nvalue = [0, 0, 0, 10]'),\n",
       " Text(236.9353846153846, 117.77999999999999, 'X[1244] <= 0.012\\ngini = 0.611\\nsamples = 6\\nvalue = [2, 1, 3, 0]'),\n",
       " Text(231.7846153846154, 99.66, 'gini = 0.0\\nsamples = 3\\nvalue = [0, 0, 3, 0]'),\n",
       " Text(242.08615384615385, 99.66, 'X[1491] <= 0.2\\ngini = 0.444\\nsamples = 3\\nvalue = [2, 1, 0, 0]'),\n",
       " Text(236.9353846153846, 81.53999999999999, 'gini = 0.0\\nsamples = 2\\nvalue = [2, 0, 0, 0]'),\n",
       " Text(247.23692307692306, 81.53999999999999, 'gini = 0.0\\nsamples = 1\\nvalue = [0, 1, 0, 0]'),\n",
       " Text(288.44307692307694, 154.01999999999998, 'X[1304] <= -0.009\\ngini = 0.725\\nsamples = 73\\nvalue = [16, 22, 25, 10]'),\n",
       " Text(267.84, 135.89999999999998, 'X[339] <= -0.052\\ngini = 0.719\\nsamples = 47\\nvalue = [13, 18, 8, 8]'),\n",
       " Text(257.53846153846155, 117.77999999999999, 'X[56] <= 0.243\\ngini = 0.219\\nsamples = 8\\nvalue = [7, 0, 0, 1]'),\n",
       " Text(252.3876923076923, 99.66, 'gini = 0.0\\nsamples = 7\\nvalue = [7, 0, 0, 0]'),\n",
       " Text(262.6892307692308, 99.66, 'gini = 0.0\\nsamples = 1\\nvalue = [0, 0, 0, 1]'),\n",
       " Text(278.14153846153846, 117.77999999999999, 'X[643] <= 0.163\\ngini = 0.689\\nsamples = 39\\nvalue = [6, 18, 8, 7]'),\n",
       " Text(272.9907692307692, 99.66, 'X[1248] <= 0.009\\ngini = 0.63\\nsamples = 34\\nvalue = [6, 18, 8, 2]'),\n",
       " Text(260.11384615384617, 81.53999999999999, 'X[391] <= -0.028\\ngini = 0.36\\nsamples = 19\\nvalue = [1, 15, 1, 2]'),\n",
       " Text(254.96307692307693, 63.41999999999999, 'X[856] <= 0.012\\ngini = 0.72\\nsamples = 5\\nvalue = [1, 1, 1, 2]'),\n",
       " Text(249.81230769230768, 45.29999999999998, 'X[1190] <= -0.004\\ngini = 0.667\\nsamples = 3\\nvalue = [1, 1, 1, 0]'),\n",
       " Text(244.66153846153847, 27.17999999999998, 'gini = 0.0\\nsamples = 1\\nvalue = [1, 0, 0, 0]'),\n",
       " Text(254.96307692307693, 27.17999999999998, 'X[571] <= 0.026\\ngini = 0.5\\nsamples = 2\\nvalue = [0, 1, 1, 0]'),\n",
       " Text(249.81230769230768, 9.059999999999974, 'gini = 0.0\\nsamples = 1\\nvalue = [0, 0, 1, 0]'),\n",
       " Text(260.11384615384617, 9.059999999999974, 'gini = 0.0\\nsamples = 1\\nvalue = [0, 1, 0, 0]'),\n",
       " Text(260.11384615384617, 45.29999999999998, 'gini = 0.0\\nsamples = 2\\nvalue = [0, 0, 0, 2]'),\n",
       " Text(265.2646153846154, 63.41999999999999, 'gini = 0.0\\nsamples = 14\\nvalue = [0, 14, 0, 0]'),\n",
       " Text(285.8676923076923, 81.53999999999999, 'X[362] <= 0.014\\ngini = 0.631\\nsamples = 15\\nvalue = [5, 3, 7, 0]'),\n",
       " Text(275.56615384615384, 63.41999999999999, 'X[659] <= 0.034\\ngini = 0.278\\nsamples = 6\\nvalue = [5, 1, 0, 0]'),\n",
       " Text(270.4153846153846, 45.29999999999998, 'gini = 0.0\\nsamples = 5\\nvalue = [5, 0, 0, 0]'),\n",
       " Text(280.7169230769231, 45.29999999999998, 'gini = 0.0\\nsamples = 1\\nvalue = [0, 1, 0, 0]'),\n",
       " Text(296.16923076923075, 63.41999999999999, 'X[669] <= -0.0\\ngini = 0.346\\nsamples = 9\\nvalue = [0, 2, 7, 0]'),\n",
       " Text(291.01846153846157, 45.29999999999998, 'gini = 0.0\\nsamples = 2\\nvalue = [0, 2, 0, 0]'),\n",
       " Text(301.32, 45.29999999999998, 'gini = 0.0\\nsamples = 7\\nvalue = [0, 0, 7, 0]'),\n",
       " Text(283.2923076923077, 99.66, 'gini = 0.0\\nsamples = 5\\nvalue = [0, 0, 0, 5]'),\n",
       " Text(309.04615384615386, 135.89999999999998, 'X[990] <= -0.032\\ngini = 0.53\\nsamples = 26\\nvalue = [3, 4, 17, 2]'),\n",
       " Text(298.7446153846154, 117.77999999999999, 'X[897] <= 0.072\\ngini = 0.5\\nsamples = 6\\nvalue = [1, 4, 0, 1]'),\n",
       " Text(293.59384615384613, 99.66, 'gini = 0.0\\nsamples = 4\\nvalue = [0, 4, 0, 0]'),\n",
       " Text(303.8953846153846, 99.66, 'X[244] <= 0.059\\ngini = 0.5\\nsamples = 2\\nvalue = [1, 0, 0, 1]'),\n",
       " Text(298.7446153846154, 81.53999999999999, 'gini = 0.0\\nsamples = 1\\nvalue = [1, 0, 0, 0]'),\n",
       " Text(309.04615384615386, 81.53999999999999, 'gini = 0.0\\nsamples = 1\\nvalue = [0, 0, 0, 1]'),\n",
       " Text(319.3476923076923, 117.77999999999999, 'X[1849] <= 0.062\\ngini = 0.265\\nsamples = 20\\nvalue = [2, 0, 17, 1]'),\n",
       " Text(314.1969230769231, 99.66, 'gini = 0.0\\nsamples = 17\\nvalue = [0, 0, 17, 0]'),\n",
       " Text(324.4984615384615, 99.66, 'X[864] <= 0.0\\ngini = 0.444\\nsamples = 3\\nvalue = [2, 0, 0, 1]'),\n",
       " Text(319.3476923076923, 81.53999999999999, 'gini = 0.0\\nsamples = 2\\nvalue = [2, 0, 0, 0]'),\n",
       " Text(329.64923076923077, 81.53999999999999, 'gini = 0.0\\nsamples = 1\\nvalue = [0, 0, 0, 1]')]"
      ]
     },
     "execution_count": 145,
     "metadata": {},
     "output_type": "execute_result"
    },
    {
     "data": {
      "image/png": "[encoded data removed]",
      "text/plain": [
       "<Figure size 432x288 with 1 Axes>"
      ]
     },
     "metadata": {
      "needs_background": "light"
     },
     "output_type": "display_data"
    }
   ],
   "source": [
    "tree.plot_tree(classifier) "
   ]
  },
  {
   "cell_type": "code",
   "execution_count": 146,
   "metadata": {
    "ExecuteTime": {
     "end_time": "2020-10-16T13:52:25.244948Z",
     "start_time": "2020-10-16T13:52:23.108681Z"
    }
   },
   "outputs": [
    {
     "data": {
      "image/png": "[encoded data removed]",
      "text/plain": [
       "<Figure size 1440x1440 with 1 Axes>"
      ]
     },
     "metadata": {
      "needs_background": "light"
     },
     "output_type": "display_data"
    }
   ],
   "source": [
    "fig, ax = plt.subplots(figsize=(20, 20))\n",
    "tree.plot_tree(classifier)\n",
    "plt.show()"
   ]
  },
  {
   "cell_type": "code",
   "execution_count": 147,
   "metadata": {
    "ExecuteTime": {
     "end_time": "2020-10-16T13:52:25.262692Z",
     "start_time": "2020-10-16T13:52:25.246165Z"
    }
   },
   "outputs": [],
   "source": [
    "classifier = RandomForestClassifier(n_estimators=3)"
   ]
  },
  {
   "cell_type": "code",
   "execution_count": 148,
   "metadata": {
    "ExecuteTime": {
     "end_time": "2020-10-16T13:52:25.302362Z",
     "start_time": "2020-10-16T13:52:25.263836Z"
    }
   },
   "outputs": [
    {
     "data": {
      "text/plain": [
       "RandomForestClassifier(n_estimators=3)"
      ]
     },
     "execution_count": 148,
     "metadata": {},
     "output_type": "execute_result"
    }
   ],
   "source": [
    "classifier.fit(X_train, y_train)"
   ]
  },
  {
   "cell_type": "code",
   "execution_count": 149,
   "metadata": {
    "ExecuteTime": {
     "end_time": "2020-10-16T13:52:25.327052Z",
     "start_time": "2020-10-16T13:52:25.303303Z"
    }
   },
   "outputs": [],
   "source": [
    "predicted = classifier.predict(X_test)"
   ]
  },
  {
   "cell_type": "code",
   "execution_count": 150,
   "metadata": {
    "ExecuteTime": {
     "end_time": "2020-10-16T13:52:25.476815Z",
     "start_time": "2020-10-16T13:52:25.328176Z"
    }
   },
   "outputs": [
    {
     "name": "stdout",
     "output_type": "stream",
     "text": [
      "Classification report for classifier RandomForestClassifier(n_estimators=3):\n",
      "              precision    recall  f1-score   support\n",
      "\n",
      "           1       0.18      0.29      0.22        17\n",
      "           2       0.11      0.18      0.14        11\n",
      "           3       0.19      0.19      0.19        16\n",
      "           4       0.17      0.04      0.07        24\n",
      "\n",
      "    accuracy                           0.16        68\n",
      "   macro avg       0.16      0.18      0.15        68\n",
      "weighted avg       0.17      0.16      0.15        68\n",
      "\n",
      "\n",
      "Confusion matrix:\n",
      "[[5 6 4 2]\n",
      " [5 2 3 1]\n",
      " [9 2 3 2]\n",
      " [9 8 6 1]]\n"
     ]
    },
    {
     "data": {
      "image/png": "[encoded data removed]",
      "text/plain": [
       "<Figure size 432x288 with 2 Axes>"
      ]
     },
     "metadata": {
      "needs_background": "light"
     },
     "output_type": "display_data"
    }
   ],
   "source": [
    "print(\"Classification report for classifier %s:\\n%s\\n\"\n",
    "      % (classifier, metrics.classification_report(y_test, predicted)))\n",
    "disp = metrics.plot_confusion_matrix(classifier, X_test, y_test)\n",
    "disp.figure_.suptitle(\"Confusion Matrix\")\n",
    "print(\"Confusion matrix:\\n%s\" % disp.confusion_matrix)"
   ]
  },
  {
   "cell_type": "code",
   "execution_count": 151,
   "metadata": {
    "ExecuteTime": {
     "end_time": "2020-10-16T13:52:30.180030Z",
     "start_time": "2020-10-16T13:52:30.135070Z"
    }
   },
   "outputs": [
    {
     "ename": "NameError",
     "evalue": "name 'df1_raw' is not defined",
     "output_type": "error",
     "traceback": [
      "\u001b[0;31m---------------------------------------------------------------------------\u001b[0m",
      "\u001b[0;31mNameError\u001b[0m                                 Traceback (most recent call last)",
      "\u001b[0;32m<ipython-input-151-d99570b13f19>\u001b[0m in \u001b[0;36m<module>\u001b[0;34m\u001b[0m\n\u001b[1;32m      1\u001b[0m X_train, X_test, y_train, y_test = train_test_split(\n\u001b[0;32m----> 2\u001b[0;31m     df1_raw, emotion_quad1, test_size=0.2, shuffle=True)\n\u001b[0m",
      "\u001b[0;31mNameError\u001b[0m: name 'df1_raw' is not defined"
     ]
    }
   ],
   "source": [
    "X_train, X_test, y_train, y_test = train_test_split(\n",
    "    df1_raw, emotion_quad1, test_size=0.2, shuffle=True)"
   ]
  },
  {
   "cell_type": "code",
   "execution_count": 152,
   "metadata": {
    "ExecuteTime": {
     "end_time": "2020-10-16T13:52:30.556503Z",
     "start_time": "2020-10-16T13:52:30.528920Z"
    }
   },
   "outputs": [],
   "source": [
    "classifier = RandomForestClassifier(n_estimators=3)"
   ]
  },
  {
   "cell_type": "code",
   "execution_count": 70,
   "metadata": {
    "ExecuteTime": {
     "end_time": "2020-10-15T23:17:51.276784Z",
     "start_time": "2020-10-15T23:17:51.255323Z"
    }
   },
   "outputs": [
    {
     "data": {
      "text/plain": [
       "RandomForestClassifier(n_estimators=3)"
      ]
     },
     "execution_count": 70,
     "metadata": {},
     "output_type": "execute_result"
    }
   ],
   "source": [
    "classifier.fit(X_train, y_train)"
   ]
  },
  {
   "cell_type": "code",
   "execution_count": 71,
   "metadata": {
    "ExecuteTime": {
     "end_time": "2020-10-15T23:17:51.691267Z",
     "start_time": "2020-10-15T23:17:51.673717Z"
    }
   },
   "outputs": [],
   "source": [
    "predicted = classifier.predict(X_test)"
   ]
  },
  {
   "cell_type": "code",
   "execution_count": 72,
   "metadata": {
    "ExecuteTime": {
     "end_time": "2020-10-15T23:17:52.181849Z",
     "start_time": "2020-10-15T23:17:52.033484Z"
    }
   },
   "outputs": [
    {
     "name": "stdout",
     "output_type": "stream",
     "text": [
      "Classification report for classifier RandomForestClassifier(n_estimators=3):\n",
      "              precision    recall  f1-score   support\n",
      "\n",
      "         0.0       0.40      0.67      0.50         3\n",
      "         1.0       0.00      0.00      0.00         2\n",
      "         2.0       0.00      0.00      0.00         1\n",
      "         3.0       0.00      0.00      0.00         2\n",
      "\n",
      "    accuracy                           0.25         8\n",
      "   macro avg       0.10      0.17      0.12         8\n",
      "weighted avg       0.15      0.25      0.19         8\n",
      "\n",
      "\n",
      "Confusion matrix:\n",
      "[[2 0 1 0]\n",
      " [1 0 1 0]\n",
      " [0 0 0 1]\n",
      " [2 0 0 0]]\n"
     ]
    },
    {
     "name": "stderr",
     "output_type": "stream",
     "text": [
      "/media/tris/tris_files/anaconda3/envs/fastai/lib/python3.7/site-packages/sklearn/metrics/_classification.py:1221: UndefinedMetricWarning: Precision and F-score are ill-defined and being set to 0.0 in labels with no predicted samples. Use `zero_division` parameter to control this behavior.\n",
      "  _warn_prf(average, modifier, msg_start, len(result))\n"
     ]
    },
    {
     "data": {
      "image/png": "[encoded data removed]",
      "text/plain": [
       "<Figure size 432x288 with 2 Axes>"
      ]
     },
     "metadata": {
      "needs_background": "light"
     },
     "output_type": "display_data"
    }
   ],
   "source": [
    "print(\"Classification report for classifier %s:\\n%s\\n\"\n",
    "      % (classifier, metrics.classification_report(y_test, predicted)))\n",
    "disp = metrics.plot_confusion_matrix(classifier, X_test, y_test)\n",
    "disp.figure_.suptitle(\"Confusion Matrix\")\n",
    "print(\"Confusion matrix:\\n%s\" % disp.confusion_matrix)"
   ]
  },
  {
   "cell_type": "code",
   "execution_count": null,
   "metadata": {},
   "outputs": [],
   "source": []
  },
  {
   "cell_type": "code",
   "execution_count": null,
   "metadata": {},
   "outputs": [],
   "source": []
  },
  {
   "cell_type": "code",
   "execution_count": null,
   "metadata": {},
   "outputs": [],
   "source": []
  }
 ],
 "metadata": {
  "kernelspec": {
   "display_name": "Python 3",
   "language": "python",
   "name": "python3"
  }
 },
 "nbformat": 4,
 "nbformat_minor": 2
}
