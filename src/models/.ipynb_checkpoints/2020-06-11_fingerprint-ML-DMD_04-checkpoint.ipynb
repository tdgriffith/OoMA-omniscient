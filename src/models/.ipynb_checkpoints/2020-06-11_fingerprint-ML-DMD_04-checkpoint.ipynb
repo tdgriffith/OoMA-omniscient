{
 "cells": [
  {
   "cell_type": "markdown",
   "metadata": {},
   "source": [
    "# ANN to Predict Subject\n",
    "Ok so this is working pretty good. As proof of robustness, can we shuffle the labels?\n",
    "\n",
    "If we shuffle and results are bad, then the fingerprinting is robust. If not then :sadface:\n"
   ]
  },
  {
   "cell_type": "markdown",
   "metadata": {},
   "source": [
    "Setup: Javascript and ipynb stuff"
   ]
  },
  {
   "cell_type": "code",
   "execution_count": 23,
   "metadata": {
    "ExecuteTime": {
     "end_time": "2020-06-16T21:20:37.976952Z",
     "start_time": "2020-06-16T21:20:37.932374Z"
    }
   },
   "outputs": [],
   "source": [
    "%reload_ext autoreload\n",
    "%autoreload 2\n",
    "%matplotlib inline"
   ]
  },
  {
   "cell_type": "code",
   "execution_count": 24,
   "metadata": {
    "ExecuteTime": {
     "end_time": "2020-06-16T21:20:38.233542Z",
     "start_time": "2020-06-16T21:20:38.199901Z"
    }
   },
   "outputs": [
    {
     "data": {
      "application/javascript": [
       "utils.load_extension('collapsible_headings/main')\n",
       "utils.load_extension('hide_input/main')\n",
       "utils.load_extension('execute_time/ExecuteTime')\n",
       "utils.load_extension('code_prettify/code_prettify')\n",
       "utils.load_extension('scroll_down/main')\n",
       "utils.load_extension('jupyter-js-widgets/extension')\n"
      ],
      "text/plain": [
       "<IPython.core.display.Javascript object>"
      ]
     },
     "metadata": {},
     "output_type": "display_data"
    }
   ],
   "source": [
    "%%javascript\n",
    "utils.load_extension('collapsible_headings/main')\n",
    "utils.load_extension('hide_input/main')\n",
    "utils.load_extension('execute_time/ExecuteTime')\n",
    "utils.load_extension('code_prettify/code_prettify')\n",
    "utils.load_extension('scroll_down/main')\n",
    "utils.load_extension('jupyter-js-widgets/extension')"
   ]
  },
  {
   "cell_type": "markdown",
   "metadata": {},
   "source": [
    "## Load Functions"
   ]
  },
  {
   "cell_type": "code",
   "execution_count": 25,
   "metadata": {
    "ExecuteTime": {
     "end_time": "2020-06-16T21:20:39.748004Z",
     "start_time": "2020-06-16T21:20:39.722988Z"
    }
   },
   "outputs": [],
   "source": [
    "from fastai.vision import *\n",
    "import os\n",
    "import numpy as np\n",
    "import pandas as pd\n",
    "import pickle\n",
    "import random"
   ]
  },
  {
   "cell_type": "code",
   "execution_count": 14,
   "metadata": {
    "ExecuteTime": {
     "end_time": "2020-06-16T21:12:25.616549Z",
     "start_time": "2020-06-16T21:12:25.602346Z"
    }
   },
   "outputs": [
    {
     "data": {
      "text/plain": [
       "PosixPath('/media/tris/tris_files/DEAP_dataset/DMD')"
      ]
     },
     "execution_count": 14,
     "metadata": {},
     "output_type": "execute_result"
    }
   ],
   "source": [
    "path=pathlib.Path('/media/tris/tris_files/DEAP_dataset/DMD')\n",
    "path"
   ]
  },
  {
   "cell_type": "markdown",
   "metadata": {},
   "source": [
    "## Load Original Data Labels"
   ]
  },
  {
   "cell_type": "code",
   "execution_count": 15,
   "metadata": {
    "ExecuteTime": {
     "end_time": "2020-06-16T21:12:50.925277Z",
     "start_time": "2020-06-16T21:12:30.228688Z"
    }
   },
   "outputs": [],
   "source": [
    "path = '/media/tris/tris_files/DEAP_dataset/data_preprocessed_python/s01.dat'\n",
    "df_read = pickle.load(open(path, 'rb'), encoding='latin1')\n",
    "labels=df_read['labels']\n",
    "df_tmp = pd.DataFrame(labels, columns=['valence','arousal','dominance','liking'])\n",
    "df=df_tmp\n",
    "for n in range (2,10):\n",
    "    path = '/media/tris/tris_files/DEAP_dataset/data_preprocessed_python/s0'+str(n)+'.dat'\n",
    "    df_read = pickle.load(open(path, 'rb'), encoding='latin1')\n",
    "    labels=df_read['labels']\n",
    "    df_tmp = pd.DataFrame(labels, columns=['valence','arousal','dominance','liking'])\n",
    "    df=df.append(df_tmp, ignore_index=True)\n",
    "for n in range (10,33):\n",
    "    path = '/media/tris/tris_files/DEAP_dataset/data_preprocessed_python/s'+str(n)+'.dat'\n",
    "    df_read = pickle.load(open(path, 'rb'), encoding='latin1')\n",
    "    labels=df_read['labels']\n",
    "    df_tmp = pd.DataFrame(labels, columns=['valence','arousal','dominance','liking'])\n",
    "    df=df.append(df_tmp, ignore_index=True) "
   ]
  },
  {
   "cell_type": "code",
   "execution_count": 16,
   "metadata": {
    "ExecuteTime": {
     "end_time": "2020-06-16T21:12:51.012019Z",
     "start_time": "2020-06-16T21:12:50.926319Z"
    }
   },
   "outputs": [
    {
     "data": {
      "text/html": [
       "<div>\n",
       "<style scoped>\n",
       "    .dataframe tbody tr th:only-of-type {\n",
       "        vertical-align: middle;\n",
       "    }\n",
       "\n",
       "    .dataframe tbody tr th {\n",
       "        vertical-align: top;\n",
       "    }\n",
       "\n",
       "    .dataframe thead th {\n",
       "        text-align: right;\n",
       "    }\n",
       "</style>\n",
       "<table border=\"1\" class=\"dataframe\">\n",
       "  <thead>\n",
       "    <tr style=\"text-align: right;\">\n",
       "      <th></th>\n",
       "      <th>valence</th>\n",
       "      <th>arousal</th>\n",
       "      <th>dominance</th>\n",
       "      <th>liking</th>\n",
       "    </tr>\n",
       "  </thead>\n",
       "  <tbody>\n",
       "    <tr>\n",
       "      <th>0</th>\n",
       "      <td>0.856667</td>\n",
       "      <td>0.844444</td>\n",
       "      <td>0.766667</td>\n",
       "      <td>0.870000</td>\n",
       "    </tr>\n",
       "    <tr>\n",
       "      <th>1</th>\n",
       "      <td>0.900000</td>\n",
       "      <td>0.812222</td>\n",
       "      <td>0.808889</td>\n",
       "      <td>0.941111</td>\n",
       "    </tr>\n",
       "    <tr>\n",
       "      <th>2</th>\n",
       "      <td>0.953333</td>\n",
       "      <td>0.837778</td>\n",
       "      <td>1.000000</td>\n",
       "      <td>0.786667</td>\n",
       "    </tr>\n",
       "    <tr>\n",
       "      <th>3</th>\n",
       "      <td>0.548889</td>\n",
       "      <td>0.667778</td>\n",
       "      <td>0.680000</td>\n",
       "      <td>0.895556</td>\n",
       "    </tr>\n",
       "    <tr>\n",
       "      <th>4</th>\n",
       "      <td>0.773333</td>\n",
       "      <td>0.435556</td>\n",
       "      <td>0.798889</td>\n",
       "      <td>0.672222</td>\n",
       "    </tr>\n",
       "  </tbody>\n",
       "</table>\n",
       "</div>"
      ],
      "text/plain": [
       "    valence   arousal  dominance    liking\n",
       "0  0.856667  0.844444   0.766667  0.870000\n",
       "1  0.900000  0.812222   0.808889  0.941111\n",
       "2  0.953333  0.837778   1.000000  0.786667\n",
       "3  0.548889  0.667778   0.680000  0.895556\n",
       "4  0.773333  0.435556   0.798889  0.672222"
      ]
     },
     "execution_count": 16,
     "metadata": {},
     "output_type": "execute_result"
    }
   ],
   "source": [
    "df=df.div(9) #normalize\n",
    "df.head()"
   ]
  },
  {
   "cell_type": "markdown",
   "metadata": {},
   "source": [
    "## Set filenames and labels"
   ]
  },
  {
   "cell_type": "code",
   "execution_count": 17,
   "metadata": {
    "ExecuteTime": {
     "end_time": "2020-06-16T21:12:54.943795Z",
     "start_time": "2020-06-16T21:12:54.896471Z"
    }
   },
   "outputs": [
    {
     "data": {
      "text/html": [
       "<div>\n",
       "<style scoped>\n",
       "    .dataframe tbody tr th:only-of-type {\n",
       "        vertical-align: middle;\n",
       "    }\n",
       "\n",
       "    .dataframe tbody tr th {\n",
       "        vertical-align: top;\n",
       "    }\n",
       "\n",
       "    .dataframe thead th {\n",
       "        text-align: right;\n",
       "    }\n",
       "</style>\n",
       "<table border=\"1\" class=\"dataframe\">\n",
       "  <thead>\n",
       "    <tr style=\"text-align: right;\">\n",
       "      <th></th>\n",
       "      <th>file_name</th>\n",
       "      <th>subject_label</th>\n",
       "    </tr>\n",
       "  </thead>\n",
       "  <tbody>\n",
       "    <tr>\n",
       "      <th>1275</th>\n",
       "      <td>S32T36</td>\n",
       "      <td>5</td>\n",
       "    </tr>\n",
       "    <tr>\n",
       "      <th>1276</th>\n",
       "      <td>S32T37</td>\n",
       "      <td>18</td>\n",
       "    </tr>\n",
       "    <tr>\n",
       "      <th>1277</th>\n",
       "      <td>S32T38</td>\n",
       "      <td>23</td>\n",
       "    </tr>\n",
       "    <tr>\n",
       "      <th>1278</th>\n",
       "      <td>S32T39</td>\n",
       "      <td>2</td>\n",
       "    </tr>\n",
       "    <tr>\n",
       "      <th>1279</th>\n",
       "      <td>S32T40</td>\n",
       "      <td>32</td>\n",
       "    </tr>\n",
       "  </tbody>\n",
       "</table>\n",
       "</div>"
      ],
      "text/plain": [
       "     file_name  subject_label\n",
       "1275    S32T36              5\n",
       "1276    S32T37             18\n",
       "1277    S32T38             23\n",
       "1278    S32T39              2\n",
       "1279    S32T40             32"
      ]
     },
     "execution_count": 17,
     "metadata": {},
     "output_type": "execute_result"
    }
   ],
   "source": [
    "filenames=[]\n",
    "subject_labels=[]\n",
    "for n in range (0,9):\n",
    "    for i in range (0,9):\n",
    "        filename='S'+str(n+1)+'T'+str(i+1)\n",
    "        filenames.append(filename)\n",
    "        subject_label=random.randint(1, 32) #RANDOM BABY\n",
    "        subject_labels.append(subject_label)\n",
    "    for i in range (9,40):\n",
    "        filename='S'+str(n+1)+'T'+str(i+1)\n",
    "        filenames.append(filename)\n",
    "        subject_label=random.randint(1, 32)\n",
    "        subject_labels.append(subject_label)\n",
    "for n in range (9,32):\n",
    "    for i in range (0,9):\n",
    "        filename='S'+str(n+1)+'T'+str(i+1)\n",
    "        filenames.append(filename)\n",
    "        subject_label=random.randint(1, 32)\n",
    "        subject_labels.append(subject_label)\n",
    "    for i in range (9,40):\n",
    "        filename='S'+str(n+1)+'T'+str(i+1)\n",
    "        filenames.append(filename)\n",
    "        subject_label=random.randint(1, 32)\n",
    "        subject_labels.append(subject_label)\n",
    "df['file_name']=filenames\n",
    "df['subject_label']=subject_labels\n",
    "# df=df[['file_name','valence','arousal','dominance','liking']]\n",
    "df=df[['file_name','subject_label']]\n",
    "df.tail()"
   ]
  },
  {
   "cell_type": "code",
   "execution_count": 18,
   "metadata": {
    "ExecuteTime": {
     "end_time": "2020-06-16T21:12:58.027070Z",
     "start_time": "2020-06-16T21:12:58.014096Z"
    }
   },
   "outputs": [],
   "source": [
    "# for i in range(1,33):\n",
    "#     for ii in range(1,41):\n",
    "#         os.rename(r'/media/tris/tris_files/github/OoMA-omniscient/data/processed/heatmaps_ind/heatmaps/T'+str(ii)+'S'+str(i)+\".png\",r'/media/tris/tris_files/github/OoMA-omniscient/data/processed/heatmaps_ind/heatmaps/S'+str(i)+'T'+str(ii)+\".png\")"
   ]
  },
  {
   "cell_type": "code",
   "execution_count": 19,
   "metadata": {
    "ExecuteTime": {
     "end_time": "2020-06-16T21:12:58.404941Z",
     "start_time": "2020-06-16T21:12:58.389811Z"
    }
   },
   "outputs": [],
   "source": [
    "# from PIL import Image\n",
    "\n",
    "# for i in range (0,1280):\n",
    "    \n",
    "#     im = Image.open(r\"/media/tris/tris_files/github/OoMA-omniscient/data/processed/heatmaps_ind/heatmaps/\"+str(df.file_name[i])+\".png\")\n",
    "#     im1=im.crop((0,0,1450,1030))\n",
    "#     im1.save(\"/media/tris/tris_files/github/OoMA-omniscient/data/processed/heatmaps_ind/heatmaps_re/\"+str(df.file_name[i])+\".png\")"
   ]
  },
  {
   "cell_type": "code",
   "execution_count": 20,
   "metadata": {
    "ExecuteTime": {
     "end_time": "2020-06-16T21:12:58.825269Z",
     "start_time": "2020-06-16T21:12:58.810567Z"
    }
   },
   "outputs": [
    {
     "data": {
      "text/plain": [
       "PosixPath('/media/tris/tris_files/DEAP_dataset/DMD')"
      ]
     },
     "execution_count": 20,
     "metadata": {},
     "output_type": "execute_result"
    }
   ],
   "source": [
    "path=pathlib.Path('/media/tris/tris_files/DEAP_dataset/DMD')\n",
    "path"
   ]
  },
  {
   "cell_type": "code",
   "execution_count": 21,
   "metadata": {
    "ExecuteTime": {
     "end_time": "2020-06-16T21:13:11.055581Z",
     "start_time": "2020-06-16T21:13:11.037385Z"
    }
   },
   "outputs": [],
   "source": [
    "df.to_csv(path/'labels_proc_SHUFFLE.csv', index=False)"
   ]
  },
  {
   "cell_type": "code",
   "execution_count": null,
   "metadata": {
    "ExecuteTime": {
     "end_time": "2020-05-01T14:22:29.272330Z",
     "start_time": "2020-05-01T14:22:29.257930Z"
    }
   },
   "outputs": [],
   "source": []
  },
  {
   "cell_type": "code",
   "execution_count": 22,
   "metadata": {
    "ExecuteTime": {
     "end_time": "2020-06-16T21:13:11.990838Z",
     "start_time": "2020-06-16T21:13:11.972847Z"
    }
   },
   "outputs": [
    {
     "data": {
      "text/html": [
       "<div>\n",
       "<style scoped>\n",
       "    .dataframe tbody tr th:only-of-type {\n",
       "        vertical-align: middle;\n",
       "    }\n",
       "\n",
       "    .dataframe tbody tr th {\n",
       "        vertical-align: top;\n",
       "    }\n",
       "\n",
       "    .dataframe thead th {\n",
       "        text-align: right;\n",
       "    }\n",
       "</style>\n",
       "<table border=\"1\" class=\"dataframe\">\n",
       "  <thead>\n",
       "    <tr style=\"text-align: right;\">\n",
       "      <th></th>\n",
       "      <th>file_name</th>\n",
       "      <th>subject_label</th>\n",
       "    </tr>\n",
       "  </thead>\n",
       "  <tbody>\n",
       "    <tr>\n",
       "      <th>1275</th>\n",
       "      <td>S32T36</td>\n",
       "      <td>5</td>\n",
       "    </tr>\n",
       "    <tr>\n",
       "      <th>1276</th>\n",
       "      <td>S32T37</td>\n",
       "      <td>18</td>\n",
       "    </tr>\n",
       "    <tr>\n",
       "      <th>1277</th>\n",
       "      <td>S32T38</td>\n",
       "      <td>23</td>\n",
       "    </tr>\n",
       "    <tr>\n",
       "      <th>1278</th>\n",
       "      <td>S32T39</td>\n",
       "      <td>2</td>\n",
       "    </tr>\n",
       "    <tr>\n",
       "      <th>1279</th>\n",
       "      <td>S32T40</td>\n",
       "      <td>32</td>\n",
       "    </tr>\n",
       "  </tbody>\n",
       "</table>\n",
       "</div>"
      ],
      "text/plain": [
       "     file_name  subject_label\n",
       "1275    S32T36              5\n",
       "1276    S32T37             18\n",
       "1277    S32T38             23\n",
       "1278    S32T39              2\n",
       "1279    S32T40             32"
      ]
     },
     "execution_count": 22,
     "metadata": {},
     "output_type": "execute_result"
    }
   ],
   "source": [
    "df = pd.read_csv(path/'labels_proc_SHUFFLE.csv') #load labels\n",
    "df.tail()"
   ]
  },
  {
   "cell_type": "markdown",
   "metadata": {
    "ExecuteTime": {
     "end_time": "2020-05-01T15:49:39.987444Z",
     "start_time": "2020-05-01T15:49:39.973662Z"
    }
   },
   "source": [
    "## Data loader"
   ]
  },
  {
   "cell_type": "code",
   "execution_count": 28,
   "metadata": {
    "ExecuteTime": {
     "end_time": "2020-06-16T21:21:05.164414Z",
     "start_time": "2020-06-16T21:21:04.774910Z"
    }
   },
   "outputs": [],
   "source": [
    "src = (ImageList.from_csv(path, 'labels_proc_SHUFFLE.csv', folder='heatmaps_40', suffix='.png')\n",
    "       .split_by_rand_pct(0.2)\n",
    "       .label_from_df(cols=['subject_label'],label_cls=CategoryList)\n",
    "#        .label_from_df(cols=['valence','arousal','dominance','liking'],label_cls=FloatList)\n",
    "       .transform()\n",
    "       .databunch(bs=4).normalize())"
   ]
  },
  {
   "cell_type": "code",
   "execution_count": 29,
   "metadata": {
    "ExecuteTime": {
     "end_time": "2020-06-16T21:21:06.139226Z",
     "start_time": "2020-06-16T21:21:05.502584Z"
    }
   },
   "outputs": [
    {
     "data": {
      "image/png": "[encoded data removed]",
      "text/plain": [
       "<Figure size 864x648 with 4 Axes>"
      ]
     },
     "metadata": {
      "needs_background": "light"
     },
     "output_type": "display_data"
    }
   ],
   "source": [
    "src.show_batch(rows=4, figsize=(12,9))"
   ]
  },
  {
   "cell_type": "markdown",
   "metadata": {},
   "source": [
    "## Setup Network"
   ]
  },
  {
   "cell_type": "code",
   "execution_count": 30,
   "metadata": {
    "ExecuteTime": {
     "end_time": "2020-06-16T21:21:09.024322Z",
     "start_time": "2020-06-16T21:21:08.798791Z"
    }
   },
   "outputs": [],
   "source": [
    "learn = cnn_learner(src, models.resnet18, metrics=accuracy)"
   ]
  },
  {
   "cell_type": "code",
   "execution_count": 31,
   "metadata": {
    "ExecuteTime": {
     "end_time": "2020-06-16T21:21:09.870505Z",
     "start_time": "2020-06-16T21:21:09.051860Z"
    }
   },
   "outputs": [
    {
     "data": {
      "text/plain": [
       "Sequential\n",
       "======================================================================\n",
       "Layer (type)         Output Shape         Param #    Trainable \n",
       "======================================================================\n",
       "Conv2d               [64, 521, 729]       9,408      False     \n",
       "______________________________________________________________________\n",
       "BatchNorm2d          [64, 521, 729]       128        True      \n",
       "______________________________________________________________________\n",
       "ReLU                 [64, 521, 729]       0          False     \n",
       "______________________________________________________________________\n",
       "MaxPool2d            [64, 261, 365]       0          False     \n",
       "______________________________________________________________________\n",
       "Conv2d               [64, 261, 365]       36,864     False     \n",
       "______________________________________________________________________\n",
       "BatchNorm2d          [64, 261, 365]       128        True      \n",
       "______________________________________________________________________\n",
       "ReLU                 [64, 261, 365]       0          False     \n",
       "______________________________________________________________________\n",
       "Conv2d               [64, 261, 365]       36,864     False     \n",
       "______________________________________________________________________\n",
       "BatchNorm2d          [64, 261, 365]       128        True      \n",
       "______________________________________________________________________\n",
       "Conv2d               [64, 261, 365]       36,864     False     \n",
       "______________________________________________________________________\n",
       "BatchNorm2d          [64, 261, 365]       128        True      \n",
       "______________________________________________________________________\n",
       "ReLU                 [64, 261, 365]       0          False     \n",
       "______________________________________________________________________\n",
       "Conv2d               [64, 261, 365]       36,864     False     \n",
       "______________________________________________________________________\n",
       "BatchNorm2d          [64, 261, 365]       128        True      \n",
       "______________________________________________________________________\n",
       "Conv2d               [128, 131, 183]      73,728     False     \n",
       "______________________________________________________________________\n",
       "BatchNorm2d          [128, 131, 183]      256        True      \n",
       "______________________________________________________________________\n",
       "ReLU                 [128, 131, 183]      0          False     \n",
       "______________________________________________________________________\n",
       "Conv2d               [128, 131, 183]      147,456    False     \n",
       "______________________________________________________________________\n",
       "BatchNorm2d          [128, 131, 183]      256        True      \n",
       "______________________________________________________________________\n",
       "Conv2d               [128, 131, 183]      8,192      False     \n",
       "______________________________________________________________________\n",
       "BatchNorm2d          [128, 131, 183]      256        True      \n",
       "______________________________________________________________________\n",
       "Conv2d               [128, 131, 183]      147,456    False     \n",
       "______________________________________________________________________\n",
       "BatchNorm2d          [128, 131, 183]      256        True      \n",
       "______________________________________________________________________\n",
       "ReLU                 [128, 131, 183]      0          False     \n",
       "______________________________________________________________________\n",
       "Conv2d               [128, 131, 183]      147,456    False     \n",
       "______________________________________________________________________\n",
       "BatchNorm2d          [128, 131, 183]      256        True      \n",
       "______________________________________________________________________\n",
       "Conv2d               [256, 66, 92]        294,912    False     \n",
       "______________________________________________________________________\n",
       "BatchNorm2d          [256, 66, 92]        512        True      \n",
       "______________________________________________________________________\n",
       "ReLU                 [256, 66, 92]        0          False     \n",
       "______________________________________________________________________\n",
       "Conv2d               [256, 66, 92]        589,824    False     \n",
       "______________________________________________________________________\n",
       "BatchNorm2d          [256, 66, 92]        512        True      \n",
       "______________________________________________________________________\n",
       "Conv2d               [256, 66, 92]        32,768     False     \n",
       "______________________________________________________________________\n",
       "BatchNorm2d          [256, 66, 92]        512        True      \n",
       "______________________________________________________________________\n",
       "Conv2d               [256, 66, 92]        589,824    False     \n",
       "______________________________________________________________________\n",
       "BatchNorm2d          [256, 66, 92]        512        True      \n",
       "______________________________________________________________________\n",
       "ReLU                 [256, 66, 92]        0          False     \n",
       "______________________________________________________________________\n",
       "Conv2d               [256, 66, 92]        589,824    False     \n",
       "______________________________________________________________________\n",
       "BatchNorm2d          [256, 66, 92]        512        True      \n",
       "______________________________________________________________________\n",
       "Conv2d               [512, 33, 46]        1,179,648  False     \n",
       "______________________________________________________________________\n",
       "BatchNorm2d          [512, 33, 46]        1,024      True      \n",
       "______________________________________________________________________\n",
       "ReLU                 [512, 33, 46]        0          False     \n",
       "______________________________________________________________________\n",
       "Conv2d               [512, 33, 46]        2,359,296  False     \n",
       "______________________________________________________________________\n",
       "BatchNorm2d          [512, 33, 46]        1,024      True      \n",
       "______________________________________________________________________\n",
       "Conv2d               [512, 33, 46]        131,072    False     \n",
       "______________________________________________________________________\n",
       "BatchNorm2d          [512, 33, 46]        1,024      True      \n",
       "______________________________________________________________________\n",
       "Conv2d               [512, 33, 46]        2,359,296  False     \n",
       "______________________________________________________________________\n",
       "BatchNorm2d          [512, 33, 46]        1,024      True      \n",
       "______________________________________________________________________\n",
       "ReLU                 [512, 33, 46]        0          False     \n",
       "______________________________________________________________________\n",
       "Conv2d               [512, 33, 46]        2,359,296  False     \n",
       "______________________________________________________________________\n",
       "BatchNorm2d          [512, 33, 46]        1,024      True      \n",
       "______________________________________________________________________\n",
       "AdaptiveAvgPool2d    [512, 1, 1]          0          False     \n",
       "______________________________________________________________________\n",
       "AdaptiveMaxPool2d    [512, 1, 1]          0          False     \n",
       "______________________________________________________________________\n",
       "Flatten              [1024]               0          False     \n",
       "______________________________________________________________________\n",
       "BatchNorm1d          [1024]               2,048      True      \n",
       "______________________________________________________________________\n",
       "Dropout              [1024]               0          False     \n",
       "______________________________________________________________________\n",
       "Linear               [512]                524,800    True      \n",
       "______________________________________________________________________\n",
       "ReLU                 [512]                0          False     \n",
       "______________________________________________________________________\n",
       "BatchNorm1d          [512]                1,024      True      \n",
       "______________________________________________________________________\n",
       "Dropout              [512]                0          False     \n",
       "______________________________________________________________________\n",
       "Linear               [32]                 16,416     True      \n",
       "______________________________________________________________________\n",
       "\n",
       "Total params: 11,720,800\n",
       "Total trainable params: 553,888\n",
       "Total non-trainable params: 11,166,912\n",
       "Optimized with 'torch.optim.adam.Adam', betas=(0.9, 0.99)\n",
       "Using true weight decay as discussed in https://www.fast.ai/2018/07/02/adam-weight-decay/ \n",
       "Loss function : FlattenedLoss\n",
       "======================================================================\n",
       "Callbacks functions applied "
      ]
     },
     "execution_count": 31,
     "metadata": {},
     "output_type": "execute_result"
    }
   ],
   "source": [
    "learn.summary()"
   ]
  },
  {
   "cell_type": "code",
   "execution_count": 32,
   "metadata": {
    "ExecuteTime": {
     "end_time": "2020-06-16T21:21:37.542103Z",
     "start_time": "2020-06-16T21:21:12.183032Z"
    }
   },
   "outputs": [
    {
     "data": {
      "text/html": [
       "\n",
       "    <div>\n",
       "        <style>\n",
       "            /* Turns off some styling */\n",
       "            progress {\n",
       "                /* gets rid of default border in Firefox and Opera. */\n",
       "                border: none;\n",
       "                /* Needs to be in here for Safari polyfill so background images work as expected. */\n",
       "                background-size: auto;\n",
       "            }\n",
       "            .progress-bar-interrupted, .progress-bar-interrupted::-webkit-progress-bar {\n",
       "                background: #F44336;\n",
       "            }\n",
       "        </style>\n",
       "      <progress value='0' class='' max='1', style='width:300px; height:20px; vertical-align: middle;'></progress>\n",
       "      0.00% [0/1 00:00<00:00]\n",
       "    </div>\n",
       "    \n",
       "<table border=\"1\" class=\"dataframe\">\n",
       "  <thead>\n",
       "    <tr style=\"text-align: left;\">\n",
       "      <th>epoch</th>\n",
       "      <th>train_loss</th>\n",
       "      <th>valid_loss</th>\n",
       "      <th>accuracy</th>\n",
       "      <th>time</th>\n",
       "    </tr>\n",
       "  </thead>\n",
       "  <tbody>\n",
       "  </tbody>\n",
       "</table><p>\n",
       "\n",
       "    <div>\n",
       "        <style>\n",
       "            /* Turns off some styling */\n",
       "            progress {\n",
       "                /* gets rid of default border in Firefox and Opera. */\n",
       "                border: none;\n",
       "                /* Needs to be in here for Safari polyfill so background images work as expected. */\n",
       "                background-size: auto;\n",
       "            }\n",
       "            .progress-bar-interrupted, .progress-bar-interrupted::-webkit-progress-bar {\n",
       "                background: #F44336;\n",
       "            }\n",
       "        </style>\n",
       "      <progress value='88' class='' max='256', style='width:300px; height:20px; vertical-align: middle;'></progress>\n",
       "      34.38% [88/256 00:24<00:46 15.3942]\n",
       "    </div>\n",
       "    "
      ],
      "text/plain": [
       "<IPython.core.display.HTML object>"
      ]
     },
     "metadata": {},
     "output_type": "display_data"
    },
    {
     "name": "stdout",
     "output_type": "stream",
     "text": [
      "LR Finder is complete, type {learner_name}.recorder.plot() to see the graph.\n"
     ]
    },
    {
     "data": {
      "image/png": "[encoded data removed]",
      "text/plain": [
       "<Figure size 432x288 with 1 Axes>"
      ]
     },
     "metadata": {
      "needs_background": "light"
     },
     "output_type": "display_data"
    }
   ],
   "source": [
    "learn.lr_find()\n",
    "learn.recorder.plot()"
   ]
  },
  {
   "cell_type": "markdown",
   "metadata": {},
   "source": [
    "## Train last layers"
   ]
  },
  {
   "cell_type": "code",
   "execution_count": 33,
   "metadata": {
    "ExecuteTime": {
     "end_time": "2020-06-16T21:27:54.519407Z",
     "start_time": "2020-06-16T21:21:42.407971Z"
    }
   },
   "outputs": [
    {
     "data": {
      "text/html": [
       "<table border=\"1\" class=\"dataframe\">\n",
       "  <thead>\n",
       "    <tr style=\"text-align: left;\">\n",
       "      <th>epoch</th>\n",
       "      <th>train_loss</th>\n",
       "      <th>valid_loss</th>\n",
       "      <th>accuracy</th>\n",
       "      <th>time</th>\n",
       "    </tr>\n",
       "  </thead>\n",
       "  <tbody>\n",
       "    <tr>\n",
       "      <td>0</td>\n",
       "      <td>5.603969</td>\n",
       "      <td>5.890803</td>\n",
       "      <td>0.046875</td>\n",
       "      <td>01:13</td>\n",
       "    </tr>\n",
       "    <tr>\n",
       "      <td>1</td>\n",
       "      <td>5.348623</td>\n",
       "      <td>8.650854</td>\n",
       "      <td>0.003906</td>\n",
       "      <td>01:14</td>\n",
       "    </tr>\n",
       "    <tr>\n",
       "      <td>2</td>\n",
       "      <td>4.153504</td>\n",
       "      <td>13.025522</td>\n",
       "      <td>0.023438</td>\n",
       "      <td>01:14</td>\n",
       "    </tr>\n",
       "    <tr>\n",
       "      <td>3</td>\n",
       "      <td>3.622413</td>\n",
       "      <td>4.108632</td>\n",
       "      <td>0.042969</td>\n",
       "      <td>01:14</td>\n",
       "    </tr>\n",
       "    <tr>\n",
       "      <td>4</td>\n",
       "      <td>3.245018</td>\n",
       "      <td>3.749077</td>\n",
       "      <td>0.031250</td>\n",
       "      <td>01:15</td>\n",
       "    </tr>\n",
       "  </tbody>\n",
       "</table>"
      ],
      "text/plain": [
       "<IPython.core.display.HTML object>"
      ]
     },
     "metadata": {},
     "output_type": "display_data"
    }
   ],
   "source": [
    "lr = 1e-2\n",
    "learn.fit_one_cycle(5, slice(lr))"
   ]
  },
  {
   "cell_type": "code",
   "execution_count": 34,
   "metadata": {
    "ExecuteTime": {
     "end_time": "2020-06-16T21:28:07.175758Z",
     "start_time": "2020-06-16T21:28:06.952217Z"
    }
   },
   "outputs": [
    {
     "data": {
      "image/png": "[encoded data removed]",
      "text/plain": [
       "<Figure size 432x288 with 1 Axes>"
      ]
     },
     "metadata": {
      "needs_background": "light"
     },
     "output_type": "display_data"
    }
   ],
   "source": [
    "learn.recorder.plot_losses()"
   ]
  },
  {
   "cell_type": "code",
   "execution_count": 35,
   "metadata": {
    "ExecuteTime": {
     "end_time": "2020-06-16T21:28:10.963555Z",
     "start_time": "2020-06-16T21:28:10.344416Z"
    }
   },
   "outputs": [
    {
     "data": {
      "image/png": "[encoded data removed]",
      "text/plain": [
       "<Figure size 576x576 with 4 Axes>"
      ]
     },
     "metadata": {
      "needs_background": "light"
     },
     "output_type": "display_data"
    }
   ],
   "source": [
    "learn.show_results()"
   ]
  },
  {
   "cell_type": "markdown",
   "metadata": {},
   "source": [
    "## Train the whole network"
   ]
  },
  {
   "cell_type": "code",
   "execution_count": 22,
   "metadata": {
    "ExecuteTime": {
     "end_time": "2020-06-16T21:04:06.420919Z",
     "start_time": "2020-06-16T21:04:06.406920Z"
    }
   },
   "outputs": [],
   "source": [
    "# learn.unfreeze()\n",
    "# learn.lr_find()\n",
    "# learn.recorder.plot()"
   ]
  },
  {
   "cell_type": "code",
   "execution_count": 16,
   "metadata": {
    "ExecuteTime": {
     "end_time": "2020-06-11T21:08:23.368707Z",
     "start_time": "2020-06-11T21:08:23.342434Z"
    }
   },
   "outputs": [],
   "source": [
    "# lr = 8e-6\n",
    "# learn.fit_one_cycle(5, slice(lr))"
   ]
  },
  {
   "cell_type": "markdown",
   "metadata": {},
   "source": [
    "## Interpret and Results"
   ]
  },
  {
   "cell_type": "code",
   "execution_count": 38,
   "metadata": {
    "ExecuteTime": {
     "end_time": "2020-06-16T21:28:45.195326Z",
     "start_time": "2020-06-16T21:28:44.515725Z"
    }
   },
   "outputs": [
    {
     "data": {
      "image/png": "[encoded data removed]",
      "text/plain": [
       "<Figure size 576x576 with 4 Axes>"
      ]
     },
     "metadata": {
      "needs_background": "light"
     },
     "output_type": "display_data"
    }
   ],
   "source": [
    "learn.show_results()"
   ]
  },
  {
   "cell_type": "code",
   "execution_count": 39,
   "metadata": {
    "ExecuteTime": {
     "end_time": "2020-06-16T21:28:53.003749Z",
     "start_time": "2020-06-16T21:28:45.196521Z"
    }
   },
   "outputs": [
    {
     "data": {
      "text/html": [],
      "text/plain": [
       "<IPython.core.display.HTML object>"
      ]
     },
     "metadata": {},
     "output_type": "display_data"
    }
   ],
   "source": [
    "preds,y,losses = learn.get_preds(with_loss=True)\n",
    "interp = ClassificationInterpretation(learn, preds, y, losses)"
   ]
  },
  {
   "cell_type": "code",
   "execution_count": 40,
   "metadata": {
    "ExecuteTime": {
     "end_time": "2020-06-16T21:28:55.065980Z",
     "start_time": "2020-06-16T21:28:53.005114Z"
    }
   },
   "outputs": [
    {
     "data": {
      "image/png": "[encoded data removed]",
      "text/plain": [
       "<Figure size 720x720 with 1 Axes>"
      ]
     },
     "metadata": {
      "needs_background": "light"
     },
     "output_type": "display_data"
    }
   ],
   "source": [
    "interp.plot_confusion_matrix(figsize=(10,10))"
   ]
  },
  {
   "cell_type": "markdown",
   "metadata": {},
   "source": [
    "![Alt Text](https://i.imgur.com/rKE3uNd.gif)"
   ]
  },
  {
   "cell_type": "code",
   "execution_count": null,
   "metadata": {},
   "outputs": [],
   "source": []
  },
  {
   "cell_type": "code",
   "execution_count": null,
   "metadata": {},
   "outputs": [],
   "source": []
  }
 ],
 "metadata": {
  "kernelspec": {
   "display_name": "Python 3",
   "language": "python",
   "name": "python3"
  },
  "language_info": {
   "codemirror_mode": {
    "name": "ipython",
    "version": 3
   },
   "file_extension": ".py",
   "mimetype": "text/x-python",
   "name": "python",
   "nbconvert_exporter": "python",
   "pygments_lexer": "ipython3",
   "version": "3.7.6"
  }
 },
 "nbformat": 4,
 "nbformat_minor": 2
}
