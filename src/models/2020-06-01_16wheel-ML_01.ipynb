{
 "cells": [
  {
   "cell_type": "markdown",
   "metadata": {},
   "source": [
    "# ANN to Predict Wheel Emotion 1-16\n",
    "Check [data set description](https://www.eecs.qmul.ac.uk/mmv/datasets/deap/readme.html) for details"
   ]
  },
  {
   "cell_type": "markdown",
   "metadata": {},
   "source": [
    "Setup: Javascript and ipynb stuff"
   ]
  },
  {
   "cell_type": "code",
   "execution_count": 1,
   "metadata": {
    "ExecuteTime": {
     "end_time": "2020-06-01T14:30:59.096074Z",
     "start_time": "2020-06-01T14:30:59.078656Z"
    }
   },
   "outputs": [],
   "source": [
    "%reload_ext autoreload\n",
    "%autoreload 2\n",
    "%matplotlib inline"
   ]
  },
  {
   "cell_type": "code",
   "execution_count": 2,
   "metadata": {
    "ExecuteTime": {
     "end_time": "2020-06-01T14:30:59.287908Z",
     "start_time": "2020-06-01T14:30:59.268145Z"
    }
   },
   "outputs": [
    {
     "data": {
      "application/javascript": [
       "utils.load_extension('collapsible_headings/main')\n",
       "utils.load_extension('hide_input/main')\n",
       "utils.load_extension('autosavetime/main')\n",
       "utils.load_extension('execute_time/ExecuteTime')\n",
       "utils.load_extension('code_prettify/code_prettify')\n",
       "utils.load_extension('scroll_down/main')\n",
       "utils.load_extension('jupyter-js-widgets/extension')\n"
      ],
      "text/plain": [
       "<IPython.core.display.Javascript object>"
      ]
     },
     "metadata": {},
     "output_type": "display_data"
    }
   ],
   "source": [
    "%%javascript\n",
    "utils.load_extension('collapsible_headings/main')\n",
    "utils.load_extension('hide_input/main')\n",
    "utils.load_extension('autosavetime/main')\n",
    "utils.load_extension('execute_time/ExecuteTime')\n",
    "utils.load_extension('code_prettify/code_prettify')\n",
    "utils.load_extension('scroll_down/main')\n",
    "utils.load_extension('jupyter-js-widgets/extension')"
   ]
  },
  {
   "cell_type": "markdown",
   "metadata": {},
   "source": [
    "## Load Functions"
   ]
  },
  {
   "cell_type": "code",
   "execution_count": 1,
   "metadata": {
    "ExecuteTime": {
     "end_time": "2020-06-01T15:07:18.028553Z",
     "start_time": "2020-06-01T15:07:17.079512Z"
    }
   },
   "outputs": [],
   "source": [
    "from fastai.vision import *\n",
    "import os\n",
    "import numpy as np\n",
    "import pandas as pd\n",
    "import pickle"
   ]
  },
  {
   "cell_type": "code",
   "execution_count": 2,
   "metadata": {
    "ExecuteTime": {
     "end_time": "2020-06-01T15:07:18.033385Z",
     "start_time": "2020-06-01T15:07:18.029606Z"
    }
   },
   "outputs": [
    {
     "data": {
      "text/plain": [
       "PosixPath('/media/tris/tris_files/DEAP_dataset/robots')"
      ]
     },
     "execution_count": 2,
     "metadata": {},
     "output_type": "execute_result"
    }
   ],
   "source": [
    "path=pathlib.Path('/media/tris/tris_files/DEAP_dataset/robots')\n",
    "path"
   ]
  },
  {
   "cell_type": "markdown",
   "metadata": {},
   "source": [
    "## Load Original Data Labels"
   ]
  },
  {
   "cell_type": "code",
   "execution_count": 3,
   "metadata": {
    "ExecuteTime": {
     "end_time": "2020-06-01T15:07:21.958567Z",
     "start_time": "2020-06-01T15:07:18.034622Z"
    }
   },
   "outputs": [],
   "source": [
    "path = '/media/tris/tris_files/DEAP_dataset/data_preprocessed_python/s01.dat'\n",
    "df_read = pickle.load(open(path, 'rb'), encoding='latin1')\n",
    "labels=df_read['labels']\n",
    "df_tmp = pd.DataFrame(labels, columns=['valence','arousal','dominance','liking'])\n",
    "df=df_tmp\n",
    "for n in range (2,10):\n",
    "    path = '/media/tris/tris_files/DEAP_dataset/data_preprocessed_python/s0'+str(n)+'.dat'\n",
    "    df_read = pickle.load(open(path, 'rb'), encoding='latin1')\n",
    "    labels=df_read['labels']\n",
    "    df_tmp = pd.DataFrame(labels, columns=['valence','arousal','dominance','liking'])\n",
    "    df=df.append(df_tmp, ignore_index=True)\n",
    "for n in range (10,33):\n",
    "    path = '/media/tris/tris_files/DEAP_dataset/data_preprocessed_python/s'+str(n)+'.dat'\n",
    "    df_read = pickle.load(open(path, 'rb'), encoding='latin1')\n",
    "    labels=df_read['labels']\n",
    "    df_tmp = pd.DataFrame(labels, columns=['valence','arousal','dominance','liking'])\n",
    "    df=df.append(df_tmp, ignore_index=True) "
   ]
  },
  {
   "cell_type": "code",
   "execution_count": 4,
   "metadata": {
    "ExecuteTime": {
     "end_time": "2020-06-01T15:07:21.971345Z",
     "start_time": "2020-06-01T15:07:21.959736Z"
    }
   },
   "outputs": [
    {
     "data": {
      "text/html": [
       "<div>\n",
       "<style scoped>\n",
       "    .dataframe tbody tr th:only-of-type {\n",
       "        vertical-align: middle;\n",
       "    }\n",
       "\n",
       "    .dataframe tbody tr th {\n",
       "        vertical-align: top;\n",
       "    }\n",
       "\n",
       "    .dataframe thead th {\n",
       "        text-align: right;\n",
       "    }\n",
       "</style>\n",
       "<table border=\"1\" class=\"dataframe\">\n",
       "  <thead>\n",
       "    <tr style=\"text-align: right;\">\n",
       "      <th></th>\n",
       "      <th>valence</th>\n",
       "      <th>arousal</th>\n",
       "      <th>dominance</th>\n",
       "      <th>liking</th>\n",
       "    </tr>\n",
       "  </thead>\n",
       "  <tbody>\n",
       "    <tr>\n",
       "      <th>0</th>\n",
       "      <td>0.856667</td>\n",
       "      <td>0.844444</td>\n",
       "      <td>0.766667</td>\n",
       "      <td>0.870000</td>\n",
       "    </tr>\n",
       "    <tr>\n",
       "      <th>1</th>\n",
       "      <td>0.900000</td>\n",
       "      <td>0.812222</td>\n",
       "      <td>0.808889</td>\n",
       "      <td>0.941111</td>\n",
       "    </tr>\n",
       "    <tr>\n",
       "      <th>2</th>\n",
       "      <td>0.953333</td>\n",
       "      <td>0.837778</td>\n",
       "      <td>1.000000</td>\n",
       "      <td>0.786667</td>\n",
       "    </tr>\n",
       "    <tr>\n",
       "      <th>3</th>\n",
       "      <td>0.548889</td>\n",
       "      <td>0.667778</td>\n",
       "      <td>0.680000</td>\n",
       "      <td>0.895556</td>\n",
       "    </tr>\n",
       "    <tr>\n",
       "      <th>4</th>\n",
       "      <td>0.773333</td>\n",
       "      <td>0.435556</td>\n",
       "      <td>0.798889</td>\n",
       "      <td>0.672222</td>\n",
       "    </tr>\n",
       "  </tbody>\n",
       "</table>\n",
       "</div>"
      ],
      "text/plain": [
       "    valence   arousal  dominance    liking\n",
       "0  0.856667  0.844444   0.766667  0.870000\n",
       "1  0.900000  0.812222   0.808889  0.941111\n",
       "2  0.953333  0.837778   1.000000  0.786667\n",
       "3  0.548889  0.667778   0.680000  0.895556\n",
       "4  0.773333  0.435556   0.798889  0.672222"
      ]
     },
     "execution_count": 4,
     "metadata": {},
     "output_type": "execute_result"
    }
   ],
   "source": [
    "df=df.div(9) #normalize\n",
    "\n",
    "df.head()"
   ]
  },
  {
   "cell_type": "code",
   "execution_count": 5,
   "metadata": {
    "ExecuteTime": {
     "end_time": "2020-06-01T15:07:21.980368Z",
     "start_time": "2020-06-01T15:07:21.972770Z"
    }
   },
   "outputs": [
    {
     "data": {
      "text/html": [
       "<div>\n",
       "<style scoped>\n",
       "    .dataframe tbody tr th:only-of-type {\n",
       "        vertical-align: middle;\n",
       "    }\n",
       "\n",
       "    .dataframe tbody tr th {\n",
       "        vertical-align: top;\n",
       "    }\n",
       "\n",
       "    .dataframe thead th {\n",
       "        text-align: right;\n",
       "    }\n",
       "</style>\n",
       "<table border=\"1\" class=\"dataframe\">\n",
       "  <thead>\n",
       "    <tr style=\"text-align: right;\">\n",
       "      <th></th>\n",
       "      <th>valence</th>\n",
       "      <th>arousal</th>\n",
       "      <th>dominance</th>\n",
       "      <th>liking</th>\n",
       "    </tr>\n",
       "  </thead>\n",
       "  <tbody>\n",
       "    <tr>\n",
       "      <th>0</th>\n",
       "      <td>0.272854</td>\n",
       "      <td>0.271477</td>\n",
       "      <td>0.168583</td>\n",
       "      <td>0.256874</td>\n",
       "    </tr>\n",
       "    <tr>\n",
       "      <th>1</th>\n",
       "      <td>0.316188</td>\n",
       "      <td>0.239254</td>\n",
       "      <td>0.210806</td>\n",
       "      <td>0.327985</td>\n",
       "    </tr>\n",
       "    <tr>\n",
       "      <th>2</th>\n",
       "      <td>0.369521</td>\n",
       "      <td>0.264810</td>\n",
       "      <td>0.401917</td>\n",
       "      <td>0.173541</td>\n",
       "    </tr>\n",
       "    <tr>\n",
       "      <th>3</th>\n",
       "      <td>-0.034924</td>\n",
       "      <td>0.094810</td>\n",
       "      <td>0.081917</td>\n",
       "      <td>0.282430</td>\n",
       "    </tr>\n",
       "    <tr>\n",
       "      <th>4</th>\n",
       "      <td>0.189521</td>\n",
       "      <td>-0.137412</td>\n",
       "      <td>0.200806</td>\n",
       "      <td>0.059096</td>\n",
       "    </tr>\n",
       "  </tbody>\n",
       "</table>\n",
       "</div>"
      ],
      "text/plain": [
       "    valence   arousal  dominance    liking\n",
       "0  0.272854  0.271477   0.168583  0.256874\n",
       "1  0.316188  0.239254   0.210806  0.327985\n",
       "2  0.369521  0.264810   0.401917  0.173541\n",
       "3 -0.034924  0.094810   0.081917  0.282430\n",
       "4  0.189521 -0.137412   0.200806  0.059096"
      ]
     },
     "execution_count": 5,
     "metadata": {},
     "output_type": "execute_result"
    }
   ],
   "source": [
    "df=df.subtract(df.mean())\n",
    "df.head()"
   ]
  },
  {
   "cell_type": "code",
   "execution_count": 6,
   "metadata": {
    "ExecuteTime": {
     "end_time": "2020-06-01T15:07:24.146365Z",
     "start_time": "2020-06-01T15:07:24.138840Z"
    }
   },
   "outputs": [
    {
     "data": {
      "text/html": [
       "<div>\n",
       "<style scoped>\n",
       "    .dataframe tbody tr th:only-of-type {\n",
       "        vertical-align: middle;\n",
       "    }\n",
       "\n",
       "    .dataframe tbody tr th {\n",
       "        vertical-align: top;\n",
       "    }\n",
       "\n",
       "    .dataframe thead th {\n",
       "        text-align: right;\n",
       "    }\n",
       "</style>\n",
       "<table border=\"1\" class=\"dataframe\">\n",
       "  <thead>\n",
       "    <tr style=\"text-align: right;\">\n",
       "      <th></th>\n",
       "      <th>valence</th>\n",
       "      <th>arousal</th>\n",
       "      <th>dominance</th>\n",
       "      <th>liking</th>\n",
       "    </tr>\n",
       "  </thead>\n",
       "  <tbody>\n",
       "    <tr>\n",
       "      <th>0</th>\n",
       "      <td>1.152464</td>\n",
       "      <td>1.209250</td>\n",
       "      <td>0.723768</td>\n",
       "      <td>1.012742</td>\n",
       "    </tr>\n",
       "    <tr>\n",
       "      <th>1</th>\n",
       "      <td>1.335492</td>\n",
       "      <td>1.065721</td>\n",
       "      <td>0.905038</td>\n",
       "      <td>1.293102</td>\n",
       "    </tr>\n",
       "    <tr>\n",
       "      <th>2</th>\n",
       "      <td>1.560758</td>\n",
       "      <td>1.179554</td>\n",
       "      <td>1.725523</td>\n",
       "      <td>0.684195</td>\n",
       "    </tr>\n",
       "    <tr>\n",
       "      <th>3</th>\n",
       "      <td>-0.147508</td>\n",
       "      <td>0.422316</td>\n",
       "      <td>0.351688</td>\n",
       "      <td>1.113497</td>\n",
       "    </tr>\n",
       "    <tr>\n",
       "      <th>4</th>\n",
       "      <td>0.800486</td>\n",
       "      <td>-0.612082</td>\n",
       "      <td>0.862105</td>\n",
       "      <td>0.232991</td>\n",
       "    </tr>\n",
       "  </tbody>\n",
       "</table>\n",
       "</div>"
      ],
      "text/plain": [
       "    valence   arousal  dominance    liking\n",
       "0  1.152464  1.209250   0.723768  1.012742\n",
       "1  1.335492  1.065721   0.905038  1.293102\n",
       "2  1.560758  1.179554   1.725523  0.684195\n",
       "3 -0.147508  0.422316   0.351688  1.113497\n",
       "4  0.800486 -0.612082   0.862105  0.232991"
      ]
     },
     "execution_count": 6,
     "metadata": {},
     "output_type": "execute_result"
    }
   ],
   "source": [
    "df=df.divide(df.std())\n",
    "df.head()"
   ]
  },
  {
   "cell_type": "markdown",
   "metadata": {},
   "source": [
    "## Set filenames and labels"
   ]
  },
  {
   "cell_type": "code",
   "execution_count": 7,
   "metadata": {
    "ExecuteTime": {
     "end_time": "2020-06-01T15:07:27.038212Z",
     "start_time": "2020-06-01T15:07:27.025807Z"
    }
   },
   "outputs": [
    {
     "data": {
      "text/html": [
       "<div>\n",
       "<style scoped>\n",
       "    .dataframe tbody tr th:only-of-type {\n",
       "        vertical-align: middle;\n",
       "    }\n",
       "\n",
       "    .dataframe tbody tr th {\n",
       "        vertical-align: top;\n",
       "    }\n",
       "\n",
       "    .dataframe thead th {\n",
       "        text-align: right;\n",
       "    }\n",
       "</style>\n",
       "<table border=\"1\" class=\"dataframe\">\n",
       "  <thead>\n",
       "    <tr style=\"text-align: right;\">\n",
       "      <th></th>\n",
       "      <th>file_name</th>\n",
       "      <th>valence</th>\n",
       "    </tr>\n",
       "  </thead>\n",
       "  <tbody>\n",
       "    <tr>\n",
       "      <th>1275</th>\n",
       "      <td>S32T36</td>\n",
       "      <td>-0.630891</td>\n",
       "    </tr>\n",
       "    <tr>\n",
       "      <th>1276</th>\n",
       "      <td>S32T37</td>\n",
       "      <td>-1.147125</td>\n",
       "    </tr>\n",
       "    <tr>\n",
       "      <th>1277</th>\n",
       "      <td>S32T38</td>\n",
       "      <td>-1.034492</td>\n",
       "    </tr>\n",
       "    <tr>\n",
       "      <th>1278</th>\n",
       "      <td>S32T39</td>\n",
       "      <td>-0.593347</td>\n",
       "    </tr>\n",
       "    <tr>\n",
       "      <th>1279</th>\n",
       "      <td>S32T40</td>\n",
       "      <td>0.889654</td>\n",
       "    </tr>\n",
       "  </tbody>\n",
       "</table>\n",
       "</div>"
      ],
      "text/plain": [
       "     file_name   valence\n",
       "1275    S32T36 -0.630891\n",
       "1276    S32T37 -1.147125\n",
       "1277    S32T38 -1.034492\n",
       "1278    S32T39 -0.593347\n",
       "1279    S32T40  0.889654"
      ]
     },
     "execution_count": 7,
     "metadata": {},
     "output_type": "execute_result"
    }
   ],
   "source": [
    "filenames=[]\n",
    "subject_labels=[]\n",
    "for n in range (0,9):\n",
    "    for i in range (0,9):\n",
    "        filename='S'+str(n+1)+'T'+str(i+1)\n",
    "        filenames.append(filename)\n",
    "        subject_label=n+1\n",
    "        subject_labels.append(subject_label)\n",
    "    for i in range (9,40):\n",
    "        filename='S'+str(n+1)+'T'+str(i+1)\n",
    "        filenames.append(filename)\n",
    "        subject_label=n+1\n",
    "        subject_labels.append(subject_label)\n",
    "for n in range (9,32):\n",
    "    for i in range (0,9):\n",
    "        filename='S'+str(n+1)+'T'+str(i+1)\n",
    "        filenames.append(filename)\n",
    "        subject_label=n+1\n",
    "        subject_labels.append(subject_label)\n",
    "    for i in range (9,40):\n",
    "        filename='S'+str(n+1)+'T'+str(i+1)\n",
    "        filenames.append(filename)\n",
    "        subject_label=n+1\n",
    "        subject_labels.append(subject_label)\n",
    "df['file_name']=filenames\n",
    "df['subject_label']=subject_labels\n",
    "# df=df[['file_name','valence','arousal','dominance','liking']]\n",
    "df=df[['file_name','valence']]\n",
    "df.tail()"
   ]
  },
  {
   "cell_type": "code",
   "execution_count": 47,
   "metadata": {
    "ExecuteTime": {
     "end_time": "2020-06-01T14:26:41.108815Z",
     "start_time": "2020-06-01T14:26:41.093002Z"
    }
   },
   "outputs": [],
   "source": [
    "# for i in range(1,33):\n",
    "#     for ii in range(1,41):\n",
    "#         os.rename(r'/media/tris/tris_files/github/OoMA-omniscient/data/processed/heatmaps_ind/heatmaps/T'+str(ii)+'S'+str(i)+\".png\",r'/media/tris/tris_files/github/OoMA-omniscient/data/processed/heatmaps_ind/heatmaps/S'+str(i)+'T'+str(ii)+\".png\")"
   ]
  },
  {
   "cell_type": "code",
   "execution_count": 48,
   "metadata": {
    "ExecuteTime": {
     "end_time": "2020-06-01T14:26:41.471457Z",
     "start_time": "2020-06-01T14:26:41.440436Z"
    }
   },
   "outputs": [],
   "source": [
    "# from PIL import Image\n",
    "\n",
    "# for i in range (0,1280):\n",
    "    \n",
    "#     im = Image.open(r\"/media/tris/tris_files/github/OoMA-omniscient/data/processed/heatmaps_ind/heatmaps/\"+str(df.file_name[i])+\".png\")\n",
    "#     im1=im.crop((0,0,1450,1030))\n",
    "#     im1.save(\"/media/tris/tris_files/github/OoMA-omniscient/data/processed/heatmaps_ind/heatmaps_re/\"+str(df.file_name[i])+\".png\")"
   ]
  },
  {
   "cell_type": "code",
   "execution_count": 49,
   "metadata": {
    "ExecuteTime": {
     "end_time": "2020-06-01T14:26:43.809656Z",
     "start_time": "2020-06-01T14:26:43.793438Z"
    }
   },
   "outputs": [
    {
     "data": {
      "text/html": [
       "<div>\n",
       "<style scoped>\n",
       "    .dataframe tbody tr th:only-of-type {\n",
       "        vertical-align: middle;\n",
       "    }\n",
       "\n",
       "    .dataframe tbody tr th {\n",
       "        vertical-align: top;\n",
       "    }\n",
       "\n",
       "    .dataframe thead th {\n",
       "        text-align: right;\n",
       "    }\n",
       "</style>\n",
       "<table border=\"1\" class=\"dataframe\">\n",
       "  <thead>\n",
       "    <tr style=\"text-align: right;\">\n",
       "      <th></th>\n",
       "      <th>file_name</th>\n",
       "      <th>valence</th>\n",
       "    </tr>\n",
       "  </thead>\n",
       "  <tbody>\n",
       "    <tr>\n",
       "      <th>35</th>\n",
       "      <td>S1T36</td>\n",
       "      <td>-1.104888</td>\n",
       "    </tr>\n",
       "    <tr>\n",
       "      <th>36</th>\n",
       "      <td>S1T37</td>\n",
       "      <td>-1.381777</td>\n",
       "    </tr>\n",
       "    <tr>\n",
       "      <th>37</th>\n",
       "      <td>S1T38</td>\n",
       "      <td>-0.903087</td>\n",
       "    </tr>\n",
       "    <tr>\n",
       "      <th>38</th>\n",
       "      <td>S1T39</td>\n",
       "      <td>-0.945325</td>\n",
       "    </tr>\n",
       "    <tr>\n",
       "      <th>39</th>\n",
       "      <td>S1T40</td>\n",
       "      <td>-0.072419</td>\n",
       "    </tr>\n",
       "  </tbody>\n",
       "</table>\n",
       "</div>"
      ],
      "text/plain": [
       "   file_name   valence\n",
       "35     S1T36 -1.104888\n",
       "36     S1T37 -1.381777\n",
       "37     S1T38 -0.903087\n",
       "38     S1T39 -0.945325\n",
       "39     S1T40 -0.072419"
      ]
     },
     "execution_count": 49,
     "metadata": {},
     "output_type": "execute_result"
    }
   ],
   "source": [
    "# df_sub1=df.iloc[0:40]\n",
    "# df_sub1.tail()"
   ]
  },
  {
   "cell_type": "code",
   "execution_count": 8,
   "metadata": {
    "ExecuteTime": {
     "end_time": "2020-06-01T15:07:32.153747Z",
     "start_time": "2020-06-01T15:07:32.150333Z"
    }
   },
   "outputs": [
    {
     "data": {
      "text/plain": [
       "PosixPath('/media/tris/tris_files/DEAP_dataset/robots')"
      ]
     },
     "execution_count": 8,
     "metadata": {},
     "output_type": "execute_result"
    }
   ],
   "source": [
    "path=pathlib.Path('/media/tris/tris_files/DEAP_dataset/robots')\n",
    "path"
   ]
  },
  {
   "cell_type": "code",
   "execution_count": 9,
   "metadata": {
    "ExecuteTime": {
     "end_time": "2020-06-01T15:07:37.659035Z",
     "start_time": "2020-06-01T15:07:37.652150Z"
    }
   },
   "outputs": [],
   "source": [
    "df.to_csv(path/'labels_proc.csv', index=False)"
   ]
  },
  {
   "cell_type": "code",
   "execution_count": null,
   "metadata": {
    "ExecuteTime": {
     "end_time": "2020-05-01T14:22:29.272330Z",
     "start_time": "2020-05-01T14:22:29.257930Z"
    }
   },
   "outputs": [],
   "source": []
  },
  {
   "cell_type": "code",
   "execution_count": 10,
   "metadata": {
    "ExecuteTime": {
     "end_time": "2020-06-01T15:07:38.896877Z",
     "start_time": "2020-06-01T15:07:38.890210Z"
    }
   },
   "outputs": [
    {
     "data": {
      "text/html": [
       "<div>\n",
       "<style scoped>\n",
       "    .dataframe tbody tr th:only-of-type {\n",
       "        vertical-align: middle;\n",
       "    }\n",
       "\n",
       "    .dataframe tbody tr th {\n",
       "        vertical-align: top;\n",
       "    }\n",
       "\n",
       "    .dataframe thead th {\n",
       "        text-align: right;\n",
       "    }\n",
       "</style>\n",
       "<table border=\"1\" class=\"dataframe\">\n",
       "  <thead>\n",
       "    <tr style=\"text-align: right;\">\n",
       "      <th></th>\n",
       "      <th>file_name</th>\n",
       "      <th>valence</th>\n",
       "    </tr>\n",
       "  </thead>\n",
       "  <tbody>\n",
       "    <tr>\n",
       "      <th>1275</th>\n",
       "      <td>S32T36</td>\n",
       "      <td>-0.630891</td>\n",
       "    </tr>\n",
       "    <tr>\n",
       "      <th>1276</th>\n",
       "      <td>S32T37</td>\n",
       "      <td>-1.147125</td>\n",
       "    </tr>\n",
       "    <tr>\n",
       "      <th>1277</th>\n",
       "      <td>S32T38</td>\n",
       "      <td>-1.034492</td>\n",
       "    </tr>\n",
       "    <tr>\n",
       "      <th>1278</th>\n",
       "      <td>S32T39</td>\n",
       "      <td>-0.593347</td>\n",
       "    </tr>\n",
       "    <tr>\n",
       "      <th>1279</th>\n",
       "      <td>S32T40</td>\n",
       "      <td>0.889654</td>\n",
       "    </tr>\n",
       "  </tbody>\n",
       "</table>\n",
       "</div>"
      ],
      "text/plain": [
       "     file_name   valence\n",
       "1275    S32T36 -0.630891\n",
       "1276    S32T37 -1.147125\n",
       "1277    S32T38 -1.034492\n",
       "1278    S32T39 -0.593347\n",
       "1279    S32T40  0.889654"
      ]
     },
     "execution_count": 10,
     "metadata": {},
     "output_type": "execute_result"
    }
   ],
   "source": [
    "df = pd.read_csv(path/'labels_proc.csv') #load labels\n",
    "df.tail()"
   ]
  },
  {
   "cell_type": "markdown",
   "metadata": {
    "ExecuteTime": {
     "end_time": "2020-05-01T15:49:39.987444Z",
     "start_time": "2020-05-01T15:49:39.973662Z"
    }
   },
   "source": [
    "## Data loader"
   ]
  },
  {
   "cell_type": "code",
   "execution_count": 11,
   "metadata": {
    "ExecuteTime": {
     "end_time": "2020-06-01T15:07:42.738754Z",
     "start_time": "2020-06-01T15:07:42.728855Z"
    }
   },
   "outputs": [],
   "source": [
    "src = (ImageList.from_csv(path, 'labels_proc.csv', folder='heatmaps', suffix='.png')\n",
    "       .split_by_rand_pct(0.2)\n",
    "       .label_from_df(cols=['valence'],label_cls=FloatList))"
   ]
  },
  {
   "cell_type": "code",
   "execution_count": 12,
   "metadata": {
    "ExecuteTime": {
     "end_time": "2020-06-01T15:07:45.348015Z",
     "start_time": "2020-06-01T15:07:43.247832Z"
    }
   },
   "outputs": [],
   "source": [
    "data = (src.transform(size=1024)\n",
    "        .databunch(bs=2).normalize())"
   ]
  },
  {
   "cell_type": "code",
   "execution_count": 13,
   "metadata": {
    "ExecuteTime": {
     "end_time": "2020-06-01T15:07:45.794137Z",
     "start_time": "2020-06-01T15:07:45.349090Z"
    }
   },
   "outputs": [
    {
     "data": {
      "image/png": "[encoded data removed]",
      "text/plain": [
       "<Figure size 864x648 with 4 Axes>"
      ]
     },
     "metadata": {
      "needs_background": "light"
     },
     "output_type": "display_data"
    }
   ],
   "source": [
    "data.show_batch(rows=4, figsize=(12,9))"
   ]
  },
  {
   "cell_type": "markdown",
   "metadata": {},
   "source": [
    "## Setup Network"
   ]
  },
  {
   "cell_type": "code",
   "execution_count": 14,
   "metadata": {
    "ExecuteTime": {
     "end_time": "2020-06-01T15:07:55.749748Z",
     "start_time": "2020-06-01T15:07:55.321719Z"
    }
   },
   "outputs": [],
   "source": [
    "learn = cnn_learner(data, models.resnet50, metrics=accuracy)"
   ]
  },
  {
   "cell_type": "code",
   "execution_count": 15,
   "metadata": {
    "ExecuteTime": {
     "end_time": "2020-06-01T15:07:56.671771Z",
     "start_time": "2020-06-01T15:07:55.750762Z"
    }
   },
   "outputs": [
    {
     "data": {
      "text/plain": [
       "Sequential\n",
       "======================================================================\n",
       "Layer (type)         Output Shape         Param #    Trainable \n",
       "======================================================================\n",
       "Conv2d               [64, 512, 512]       9,408      False     \n",
       "______________________________________________________________________\n",
       "BatchNorm2d          [64, 512, 512]       128        True      \n",
       "______________________________________________________________________\n",
       "ReLU                 [64, 512, 512]       0          False     \n",
       "______________________________________________________________________\n",
       "MaxPool2d            [64, 256, 256]       0          False     \n",
       "______________________________________________________________________\n",
       "Conv2d               [64, 256, 256]       4,096      False     \n",
       "______________________________________________________________________\n",
       "BatchNorm2d          [64, 256, 256]       128        True      \n",
       "______________________________________________________________________\n",
       "Conv2d               [64, 256, 256]       36,864     False     \n",
       "______________________________________________________________________\n",
       "BatchNorm2d          [64, 256, 256]       128        True      \n",
       "______________________________________________________________________\n",
       "Conv2d               [256, 256, 256]      16,384     False     \n",
       "______________________________________________________________________\n",
       "BatchNorm2d          [256, 256, 256]      512        True      \n",
       "______________________________________________________________________\n",
       "ReLU                 [256, 256, 256]      0          False     \n",
       "______________________________________________________________________\n",
       "Conv2d               [256, 256, 256]      16,384     False     \n",
       "______________________________________________________________________\n",
       "BatchNorm2d          [256, 256, 256]      512        True      \n",
       "______________________________________________________________________\n",
       "Conv2d               [64, 256, 256]       16,384     False     \n",
       "______________________________________________________________________\n",
       "BatchNorm2d          [64, 256, 256]       128        True      \n",
       "______________________________________________________________________\n",
       "Conv2d               [64, 256, 256]       36,864     False     \n",
       "______________________________________________________________________\n",
       "BatchNorm2d          [64, 256, 256]       128        True      \n",
       "______________________________________________________________________\n",
       "Conv2d               [256, 256, 256]      16,384     False     \n",
       "______________________________________________________________________\n",
       "BatchNorm2d          [256, 256, 256]      512        True      \n",
       "______________________________________________________________________\n",
       "ReLU                 [256, 256, 256]      0          False     \n",
       "______________________________________________________________________\n",
       "Conv2d               [64, 256, 256]       16,384     False     \n",
       "______________________________________________________________________\n",
       "BatchNorm2d          [64, 256, 256]       128        True      \n",
       "______________________________________________________________________\n",
       "Conv2d               [64, 256, 256]       36,864     False     \n",
       "______________________________________________________________________\n",
       "BatchNorm2d          [64, 256, 256]       128        True      \n",
       "______________________________________________________________________\n",
       "Conv2d               [256, 256, 256]      16,384     False     \n",
       "______________________________________________________________________\n",
       "BatchNorm2d          [256, 256, 256]      512        True      \n",
       "______________________________________________________________________\n",
       "ReLU                 [256, 256, 256]      0          False     \n",
       "______________________________________________________________________\n",
       "Conv2d               [128, 256, 256]      32,768     False     \n",
       "______________________________________________________________________\n",
       "BatchNorm2d          [128, 256, 256]      256        True      \n",
       "______________________________________________________________________\n",
       "Conv2d               [128, 128, 128]      147,456    False     \n",
       "______________________________________________________________________\n",
       "BatchNorm2d          [128, 128, 128]      256        True      \n",
       "______________________________________________________________________\n",
       "Conv2d               [512, 128, 128]      65,536     False     \n",
       "______________________________________________________________________\n",
       "BatchNorm2d          [512, 128, 128]      1,024      True      \n",
       "______________________________________________________________________\n",
       "ReLU                 [512, 128, 128]      0          False     \n",
       "______________________________________________________________________\n",
       "Conv2d               [512, 128, 128]      131,072    False     \n",
       "______________________________________________________________________\n",
       "BatchNorm2d          [512, 128, 128]      1,024      True      \n",
       "______________________________________________________________________\n",
       "Conv2d               [128, 128, 128]      65,536     False     \n",
       "______________________________________________________________________\n",
       "BatchNorm2d          [128, 128, 128]      256        True      \n",
       "______________________________________________________________________\n",
       "Conv2d               [128, 128, 128]      147,456    False     \n",
       "______________________________________________________________________\n",
       "BatchNorm2d          [128, 128, 128]      256        True      \n",
       "______________________________________________________________________\n",
       "Conv2d               [512, 128, 128]      65,536     False     \n",
       "______________________________________________________________________\n",
       "BatchNorm2d          [512, 128, 128]      1,024      True      \n",
       "______________________________________________________________________\n",
       "ReLU                 [512, 128, 128]      0          False     \n",
       "______________________________________________________________________\n",
       "Conv2d               [128, 128, 128]      65,536     False     \n",
       "______________________________________________________________________\n",
       "BatchNorm2d          [128, 128, 128]      256        True      \n",
       "______________________________________________________________________\n",
       "Conv2d               [128, 128, 128]      147,456    False     \n",
       "______________________________________________________________________\n",
       "BatchNorm2d          [128, 128, 128]      256        True      \n",
       "______________________________________________________________________\n",
       "Conv2d               [512, 128, 128]      65,536     False     \n",
       "______________________________________________________________________\n",
       "BatchNorm2d          [512, 128, 128]      1,024      True      \n",
       "______________________________________________________________________\n",
       "ReLU                 [512, 128, 128]      0          False     \n",
       "______________________________________________________________________\n",
       "Conv2d               [128, 128, 128]      65,536     False     \n",
       "______________________________________________________________________\n",
       "BatchNorm2d          [128, 128, 128]      256        True      \n",
       "______________________________________________________________________\n",
       "Conv2d               [128, 128, 128]      147,456    False     \n",
       "______________________________________________________________________\n",
       "BatchNorm2d          [128, 128, 128]      256        True      \n",
       "______________________________________________________________________\n",
       "Conv2d               [512, 128, 128]      65,536     False     \n",
       "______________________________________________________________________\n",
       "BatchNorm2d          [512, 128, 128]      1,024      True      \n",
       "______________________________________________________________________\n",
       "ReLU                 [512, 128, 128]      0          False     \n",
       "______________________________________________________________________\n",
       "Conv2d               [256, 128, 128]      131,072    False     \n",
       "______________________________________________________________________\n",
       "BatchNorm2d          [256, 128, 128]      512        True      \n",
       "______________________________________________________________________\n",
       "Conv2d               [256, 64, 64]        589,824    False     \n",
       "______________________________________________________________________\n",
       "BatchNorm2d          [256, 64, 64]        512        True      \n",
       "______________________________________________________________________\n",
       "Conv2d               [1024, 64, 64]       262,144    False     \n",
       "______________________________________________________________________\n",
       "BatchNorm2d          [1024, 64, 64]       2,048      True      \n",
       "______________________________________________________________________\n",
       "ReLU                 [1024, 64, 64]       0          False     \n",
       "______________________________________________________________________\n",
       "Conv2d               [1024, 64, 64]       524,288    False     \n",
       "______________________________________________________________________\n",
       "BatchNorm2d          [1024, 64, 64]       2,048      True      \n",
       "______________________________________________________________________\n",
       "Conv2d               [256, 64, 64]        262,144    False     \n",
       "______________________________________________________________________\n",
       "BatchNorm2d          [256, 64, 64]        512        True      \n",
       "______________________________________________________________________\n",
       "Conv2d               [256, 64, 64]        589,824    False     \n",
       "______________________________________________________________________\n",
       "BatchNorm2d          [256, 64, 64]        512        True      \n",
       "______________________________________________________________________\n",
       "Conv2d               [1024, 64, 64]       262,144    False     \n",
       "______________________________________________________________________\n",
       "BatchNorm2d          [1024, 64, 64]       2,048      True      \n",
       "______________________________________________________________________\n",
       "ReLU                 [1024, 64, 64]       0          False     \n",
       "______________________________________________________________________\n",
       "Conv2d               [256, 64, 64]        262,144    False     \n",
       "______________________________________________________________________\n",
       "BatchNorm2d          [256, 64, 64]        512        True      \n",
       "______________________________________________________________________\n",
       "Conv2d               [256, 64, 64]        589,824    False     \n",
       "______________________________________________________________________\n",
       "BatchNorm2d          [256, 64, 64]        512        True      \n",
       "______________________________________________________________________\n",
       "Conv2d               [1024, 64, 64]       262,144    False     \n",
       "______________________________________________________________________\n",
       "BatchNorm2d          [1024, 64, 64]       2,048      True      \n",
       "______________________________________________________________________\n",
       "ReLU                 [1024, 64, 64]       0          False     \n",
       "______________________________________________________________________\n",
       "Conv2d               [256, 64, 64]        262,144    False     \n",
       "______________________________________________________________________\n",
       "BatchNorm2d          [256, 64, 64]        512        True      \n",
       "______________________________________________________________________\n",
       "Conv2d               [256, 64, 64]        589,824    False     \n",
       "______________________________________________________________________\n",
       "BatchNorm2d          [256, 64, 64]        512        True      \n",
       "______________________________________________________________________\n",
       "Conv2d               [1024, 64, 64]       262,144    False     \n",
       "______________________________________________________________________\n",
       "BatchNorm2d          [1024, 64, 64]       2,048      True      \n",
       "______________________________________________________________________\n",
       "ReLU                 [1024, 64, 64]       0          False     \n",
       "______________________________________________________________________\n",
       "Conv2d               [256, 64, 64]        262,144    False     \n",
       "______________________________________________________________________\n",
       "BatchNorm2d          [256, 64, 64]        512        True      \n",
       "______________________________________________________________________\n",
       "Conv2d               [256, 64, 64]        589,824    False     \n",
       "______________________________________________________________________\n",
       "BatchNorm2d          [256, 64, 64]        512        True      \n",
       "______________________________________________________________________\n",
       "Conv2d               [1024, 64, 64]       262,144    False     \n",
       "______________________________________________________________________\n",
       "BatchNorm2d          [1024, 64, 64]       2,048      True      \n",
       "______________________________________________________________________\n",
       "ReLU                 [1024, 64, 64]       0          False     \n",
       "______________________________________________________________________\n",
       "Conv2d               [256, 64, 64]        262,144    False     \n",
       "______________________________________________________________________\n",
       "BatchNorm2d          [256, 64, 64]        512        True      \n",
       "______________________________________________________________________\n",
       "Conv2d               [256, 64, 64]        589,824    False     \n",
       "______________________________________________________________________\n",
       "BatchNorm2d          [256, 64, 64]        512        True      \n",
       "______________________________________________________________________\n",
       "Conv2d               [1024, 64, 64]       262,144    False     \n",
       "______________________________________________________________________\n",
       "BatchNorm2d          [1024, 64, 64]       2,048      True      \n",
       "______________________________________________________________________\n",
       "ReLU                 [1024, 64, 64]       0          False     \n",
       "______________________________________________________________________\n",
       "Conv2d               [512, 64, 64]        524,288    False     \n",
       "______________________________________________________________________\n",
       "BatchNorm2d          [512, 64, 64]        1,024      True      \n",
       "______________________________________________________________________\n",
       "Conv2d               [512, 32, 32]        2,359,296  False     \n",
       "______________________________________________________________________\n",
       "BatchNorm2d          [512, 32, 32]        1,024      True      \n",
       "______________________________________________________________________\n",
       "Conv2d               [2048, 32, 32]       1,048,576  False     \n",
       "______________________________________________________________________\n",
       "BatchNorm2d          [2048, 32, 32]       4,096      True      \n",
       "______________________________________________________________________\n",
       "ReLU                 [2048, 32, 32]       0          False     \n",
       "______________________________________________________________________\n",
       "Conv2d               [2048, 32, 32]       2,097,152  False     \n",
       "______________________________________________________________________\n",
       "BatchNorm2d          [2048, 32, 32]       4,096      True      \n",
       "______________________________________________________________________\n",
       "Conv2d               [512, 32, 32]        1,048,576  False     \n",
       "______________________________________________________________________\n",
       "BatchNorm2d          [512, 32, 32]        1,024      True      \n",
       "______________________________________________________________________\n",
       "Conv2d               [512, 32, 32]        2,359,296  False     \n",
       "______________________________________________________________________\n",
       "BatchNorm2d          [512, 32, 32]        1,024      True      \n",
       "______________________________________________________________________\n",
       "Conv2d               [2048, 32, 32]       1,048,576  False     \n",
       "______________________________________________________________________\n",
       "BatchNorm2d          [2048, 32, 32]       4,096      True      \n",
       "______________________________________________________________________\n",
       "ReLU                 [2048, 32, 32]       0          False     \n",
       "______________________________________________________________________\n",
       "Conv2d               [512, 32, 32]        1,048,576  False     \n",
       "______________________________________________________________________\n",
       "BatchNorm2d          [512, 32, 32]        1,024      True      \n",
       "______________________________________________________________________\n",
       "Conv2d               [512, 32, 32]        2,359,296  False     \n",
       "______________________________________________________________________\n",
       "BatchNorm2d          [512, 32, 32]        1,024      True      \n",
       "______________________________________________________________________\n",
       "Conv2d               [2048, 32, 32]       1,048,576  False     \n",
       "______________________________________________________________________\n",
       "BatchNorm2d          [2048, 32, 32]       4,096      True      \n",
       "______________________________________________________________________\n",
       "ReLU                 [2048, 32, 32]       0          False     \n",
       "______________________________________________________________________\n",
       "AdaptiveAvgPool2d    [2048, 1, 1]         0          False     \n",
       "______________________________________________________________________\n",
       "AdaptiveMaxPool2d    [2048, 1, 1]         0          False     \n",
       "______________________________________________________________________\n",
       "Flatten              [4096]               0          False     \n",
       "______________________________________________________________________\n",
       "BatchNorm1d          [4096]               8,192      True      \n",
       "______________________________________________________________________\n",
       "Dropout              [4096]               0          False     \n",
       "______________________________________________________________________\n",
       "Linear               [512]                2,097,664  True      \n",
       "______________________________________________________________________\n",
       "ReLU                 [512]                0          False     \n",
       "______________________________________________________________________\n",
       "BatchNorm1d          [512]                1,024      True      \n",
       "______________________________________________________________________\n",
       "Dropout              [512]                0          False     \n",
       "______________________________________________________________________\n",
       "Linear               [1]                  513        True      \n",
       "______________________________________________________________________\n",
       "\n",
       "Total params: 25,615,425\n",
       "Total trainable params: 2,160,513\n",
       "Total non-trainable params: 23,454,912\n",
       "Optimized with 'torch.optim.adam.Adam', betas=(0.9, 0.99)\n",
       "Using true weight decay as discussed in https://www.fast.ai/2018/07/02/adam-weight-decay/ \n",
       "Loss function : FlattenedLoss\n",
       "======================================================================\n",
       "Callbacks functions applied "
      ]
     },
     "execution_count": 15,
     "metadata": {},
     "output_type": "execute_result"
    }
   ],
   "source": [
    "learn.summary()"
   ]
  },
  {
   "cell_type": "code",
   "execution_count": 16,
   "metadata": {
    "ExecuteTime": {
     "end_time": "2020-06-01T15:08:23.802656Z",
     "start_time": "2020-06-01T15:07:59.180908Z"
    }
   },
   "outputs": [
    {
     "data": {
      "text/html": [
       "\n",
       "    <div>\n",
       "        <style>\n",
       "            /* Turns off some styling */\n",
       "            progress {\n",
       "                /* gets rid of default border in Firefox and Opera. */\n",
       "                border: none;\n",
       "                /* Needs to be in here for Safari polyfill so background images work as expected. */\n",
       "                background-size: auto;\n",
       "            }\n",
       "            .progress-bar-interrupted, .progress-bar-interrupted::-webkit-progress-bar {\n",
       "                background: #F44336;\n",
       "            }\n",
       "        </style>\n",
       "      <progress value='0' class='' max='1', style='width:300px; height:20px; vertical-align: middle;'></progress>\n",
       "      0.00% [0/1 00:00<00:00]\n",
       "    </div>\n",
       "    \n",
       "<table border=\"1\" class=\"dataframe\">\n",
       "  <thead>\n",
       "    <tr style=\"text-align: left;\">\n",
       "      <th>epoch</th>\n",
       "      <th>train_loss</th>\n",
       "      <th>valid_loss</th>\n",
       "      <th>accuracy</th>\n",
       "      <th>time</th>\n",
       "    </tr>\n",
       "  </thead>\n",
       "  <tbody>\n",
       "  </tbody>\n",
       "</table><p>\n",
       "\n",
       "    <div>\n",
       "        <style>\n",
       "            /* Turns off some styling */\n",
       "            progress {\n",
       "                /* gets rid of default border in Firefox and Opera. */\n",
       "                border: none;\n",
       "                /* Needs to be in here for Safari polyfill so background images work as expected. */\n",
       "                background-size: auto;\n",
       "            }\n",
       "            .progress-bar-interrupted, .progress-bar-interrupted::-webkit-progress-bar {\n",
       "                background: #F44336;\n",
       "            }\n",
       "        </style>\n",
       "      <progress value='79' class='' max='512', style='width:300px; height:20px; vertical-align: middle;'></progress>\n",
       "      15.43% [79/512 00:23<02:08 11.7472]\n",
       "    </div>\n",
       "    "
      ],
      "text/plain": [
       "<IPython.core.display.HTML object>"
      ]
     },
     "metadata": {},
     "output_type": "display_data"
    },
    {
     "name": "stdout",
     "output_type": "stream",
     "text": [
      "LR Finder is complete, type {learner_name}.recorder.plot() to see the graph.\n"
     ]
    },
    {
     "data": {
      "image/png": "[encoded data removed]",
      "text/plain": [
       "<Figure size 432x288 with 1 Axes>"
      ]
     },
     "metadata": {
      "needs_background": "light"
     },
     "output_type": "display_data"
    }
   ],
   "source": [
    "learn.lr_find()\n",
    "learn.recorder.plot()"
   ]
  },
  {
   "cell_type": "markdown",
   "metadata": {},
   "source": [
    "## Train head of network"
   ]
  },
  {
   "cell_type": "code",
   "execution_count": 17,
   "metadata": {
    "ExecuteTime": {
     "end_time": "2020-06-01T15:35:14.086553Z",
     "start_time": "2020-06-01T15:09:03.929120Z"
    }
   },
   "outputs": [
    {
     "data": {
      "text/html": [
       "<table border=\"1\" class=\"dataframe\">\n",
       "  <thead>\n",
       "    <tr style=\"text-align: left;\">\n",
       "      <th>epoch</th>\n",
       "      <th>train_loss</th>\n",
       "      <th>valid_loss</th>\n",
       "      <th>accuracy</th>\n",
       "      <th>time</th>\n",
       "    </tr>\n",
       "  </thead>\n",
       "  <tbody>\n",
       "    <tr>\n",
       "      <td>0</td>\n",
       "      <td>3.358948</td>\n",
       "      <td>2.936930</td>\n",
       "      <td>0.000000</td>\n",
       "      <td>02:35</td>\n",
       "    </tr>\n",
       "    <tr>\n",
       "      <td>1</td>\n",
       "      <td>1.992829</td>\n",
       "      <td>1.973142</td>\n",
       "      <td>0.000000</td>\n",
       "      <td>02:35</td>\n",
       "    </tr>\n",
       "    <tr>\n",
       "      <td>2</td>\n",
       "      <td>2.064580</td>\n",
       "      <td>1.471768</td>\n",
       "      <td>0.000000</td>\n",
       "      <td>02:39</td>\n",
       "    </tr>\n",
       "    <tr>\n",
       "      <td>3</td>\n",
       "      <td>1.698760</td>\n",
       "      <td>1.050891</td>\n",
       "      <td>0.000000</td>\n",
       "      <td>02:36</td>\n",
       "    </tr>\n",
       "    <tr>\n",
       "      <td>4</td>\n",
       "      <td>1.553418</td>\n",
       "      <td>1.328609</td>\n",
       "      <td>0.000000</td>\n",
       "      <td>02:35</td>\n",
       "    </tr>\n",
       "    <tr>\n",
       "      <td>5</td>\n",
       "      <td>1.346490</td>\n",
       "      <td>1.086543</td>\n",
       "      <td>0.000000</td>\n",
       "      <td>02:37</td>\n",
       "    </tr>\n",
       "    <tr>\n",
       "      <td>6</td>\n",
       "      <td>1.206158</td>\n",
       "      <td>1.266774</td>\n",
       "      <td>0.000000</td>\n",
       "      <td>02:38</td>\n",
       "    </tr>\n",
       "    <tr>\n",
       "      <td>7</td>\n",
       "      <td>1.090122</td>\n",
       "      <td>1.033197</td>\n",
       "      <td>0.000000</td>\n",
       "      <td>02:36</td>\n",
       "    </tr>\n",
       "    <tr>\n",
       "      <td>8</td>\n",
       "      <td>1.094984</td>\n",
       "      <td>1.085677</td>\n",
       "      <td>0.000000</td>\n",
       "      <td>02:36</td>\n",
       "    </tr>\n",
       "    <tr>\n",
       "      <td>9</td>\n",
       "      <td>1.108383</td>\n",
       "      <td>1.044631</td>\n",
       "      <td>0.000000</td>\n",
       "      <td>02:38</td>\n",
       "    </tr>\n",
       "  </tbody>\n",
       "</table>"
      ],
      "text/plain": [
       "<IPython.core.display.HTML object>"
      ]
     },
     "metadata": {},
     "output_type": "display_data"
    }
   ],
   "source": [
    "lr = 3e-3\n",
    "learn.fit_one_cycle(10, slice(lr))"
   ]
  },
  {
   "cell_type": "code",
   "execution_count": 18,
   "metadata": {
    "ExecuteTime": {
     "end_time": "2020-06-01T15:35:42.695877Z",
     "start_time": "2020-06-01T15:35:42.572381Z"
    }
   },
   "outputs": [
    {
     "data": {
      "image/png": "[encoded data removed]",
      "text/plain": [
       "<Figure size 432x288 with 1 Axes>"
      ]
     },
     "metadata": {
      "needs_background": "light"
     },
     "output_type": "display_data"
    }
   ],
   "source": [
    "learn.recorder.plot_losses()"
   ]
  },
  {
   "cell_type": "code",
   "execution_count": 19,
   "metadata": {
    "ExecuteTime": {
     "end_time": "2020-06-01T15:35:46.464306Z",
     "start_time": "2020-06-01T15:35:45.996727Z"
    }
   },
   "outputs": [
    {
     "data": {
      "image/png": "[encoded data removed]",
      "text/plain": [
       "<Figure size 576x576 with 4 Axes>"
      ]
     },
     "metadata": {
      "needs_background": "light"
     },
     "output_type": "display_data"
    }
   ],
   "source": [
    "learn.show_results()"
   ]
  },
  {
   "cell_type": "markdown",
   "metadata": {},
   "source": [
    "## Train the whole network"
   ]
  },
  {
   "cell_type": "code",
   "execution_count": 20,
   "metadata": {
    "ExecuteTime": {
     "end_time": "2020-06-01T15:36:21.166303Z",
     "start_time": "2020-06-01T15:35:50.443320Z"
    }
   },
   "outputs": [
    {
     "data": {
      "text/html": [
       "\n",
       "    <div>\n",
       "        <style>\n",
       "            /* Turns off some styling */\n",
       "            progress {\n",
       "                /* gets rid of default border in Firefox and Opera. */\n",
       "                border: none;\n",
       "                /* Needs to be in here for Safari polyfill so background images work as expected. */\n",
       "                background-size: auto;\n",
       "            }\n",
       "            .progress-bar-interrupted, .progress-bar-interrupted::-webkit-progress-bar {\n",
       "                background: #F44336;\n",
       "            }\n",
       "        </style>\n",
       "      <progress value='0' class='' max='1', style='width:300px; height:20px; vertical-align: middle;'></progress>\n",
       "      0.00% [0/1 00:00<00:00]\n",
       "    </div>\n",
       "    \n",
       "<table border=\"1\" class=\"dataframe\">\n",
       "  <thead>\n",
       "    <tr style=\"text-align: left;\">\n",
       "      <th>epoch</th>\n",
       "      <th>train_loss</th>\n",
       "      <th>valid_loss</th>\n",
       "      <th>accuracy</th>\n",
       "      <th>time</th>\n",
       "    </tr>\n",
       "  </thead>\n",
       "  <tbody>\n",
       "  </tbody>\n",
       "</table><p>\n",
       "\n",
       "    <div>\n",
       "        <style>\n",
       "            /* Turns off some styling */\n",
       "            progress {\n",
       "                /* gets rid of default border in Firefox and Opera. */\n",
       "                border: none;\n",
       "                /* Needs to be in here for Safari polyfill so background images work as expected. */\n",
       "                background-size: auto;\n",
       "            }\n",
       "            .progress-bar-interrupted, .progress-bar-interrupted::-webkit-progress-bar {\n",
       "                background: #F44336;\n",
       "            }\n",
       "        </style>\n",
       "      <progress value='75' class='' max='512', style='width:300px; height:20px; vertical-align: middle;'></progress>\n",
       "      14.65% [75/512 00:29<02:51 1.8382]\n",
       "    </div>\n",
       "    "
      ],
      "text/plain": [
       "<IPython.core.display.HTML object>"
      ]
     },
     "metadata": {},
     "output_type": "display_data"
    },
    {
     "name": "stdout",
     "output_type": "stream",
     "text": [
      "LR Finder is complete, type {learner_name}.recorder.plot() to see the graph.\n"
     ]
    },
    {
     "data": {
      "image/png": "[encoded data removed]",
      "text/plain": [
       "<Figure size 432x288 with 1 Axes>"
      ]
     },
     "metadata": {
      "needs_background": "light"
     },
     "output_type": "display_data"
    }
   ],
   "source": [
    "learn.unfreeze()\n",
    "learn.lr_find()\n",
    "learn.recorder.plot()"
   ]
  },
  {
   "cell_type": "code",
   "execution_count": 21,
   "metadata": {
    "ExecuteTime": {
     "end_time": "2020-06-01T16:09:55.743141Z",
     "start_time": "2020-06-01T15:52:21.138650Z"
    }
   },
   "outputs": [
    {
     "data": {
      "text/html": [
       "<table border=\"1\" class=\"dataframe\">\n",
       "  <thead>\n",
       "    <tr style=\"text-align: left;\">\n",
       "      <th>epoch</th>\n",
       "      <th>train_loss</th>\n",
       "      <th>valid_loss</th>\n",
       "      <th>accuracy</th>\n",
       "      <th>time</th>\n",
       "    </tr>\n",
       "  </thead>\n",
       "  <tbody>\n",
       "    <tr>\n",
       "      <td>0</td>\n",
       "      <td>1.240301</td>\n",
       "      <td>1.240061</td>\n",
       "      <td>0.000000</td>\n",
       "      <td>03:34</td>\n",
       "    </tr>\n",
       "    <tr>\n",
       "      <td>1</td>\n",
       "      <td>1.256738</td>\n",
       "      <td>43.277153</td>\n",
       "      <td>0.000000</td>\n",
       "      <td>03:29</td>\n",
       "    </tr>\n",
       "    <tr>\n",
       "      <td>2</td>\n",
       "      <td>1.402821</td>\n",
       "      <td>1.067220</td>\n",
       "      <td>0.000000</td>\n",
       "      <td>03:30</td>\n",
       "    </tr>\n",
       "    <tr>\n",
       "      <td>3</td>\n",
       "      <td>1.067157</td>\n",
       "      <td>1.073933</td>\n",
       "      <td>0.000000</td>\n",
       "      <td>03:29</td>\n",
       "    </tr>\n",
       "    <tr>\n",
       "      <td>4</td>\n",
       "      <td>1.177471</td>\n",
       "      <td>1.061832</td>\n",
       "      <td>0.000000</td>\n",
       "      <td>03:30</td>\n",
       "    </tr>\n",
       "  </tbody>\n",
       "</table>"
      ],
      "text/plain": [
       "<IPython.core.display.HTML object>"
      ]
     },
     "metadata": {},
     "output_type": "display_data"
    }
   ],
   "source": [
    "lr = 3e-3\n",
    "learn.fit_one_cycle(5, slice(lr))"
   ]
  },
  {
   "cell_type": "code",
   "execution_count": 19,
   "metadata": {
    "ExecuteTime": {
     "end_time": "2020-06-01T15:02:40.013889Z",
     "start_time": "2020-06-01T15:01:25.219649Z"
    }
   },
   "outputs": [
    {
     "data": {
      "text/html": [
       "<table border=\"1\" class=\"dataframe\">\n",
       "  <thead>\n",
       "    <tr style=\"text-align: left;\">\n",
       "      <th>epoch</th>\n",
       "      <th>train_loss</th>\n",
       "      <th>valid_loss</th>\n",
       "      <th>accuracy</th>\n",
       "      <th>time</th>\n",
       "    </tr>\n",
       "  </thead>\n",
       "  <tbody>\n",
       "    <tr>\n",
       "      <td>0</td>\n",
       "      <td>3.207260</td>\n",
       "      <td>2.031190</td>\n",
       "      <td>0.000000</td>\n",
       "      <td>00:07</td>\n",
       "    </tr>\n",
       "    <tr>\n",
       "      <td>1</td>\n",
       "      <td>3.257374</td>\n",
       "      <td>8.533295</td>\n",
       "      <td>0.000000</td>\n",
       "      <td>00:07</td>\n",
       "    </tr>\n",
       "    <tr>\n",
       "      <td>2</td>\n",
       "      <td>3.857800</td>\n",
       "      <td>3.419982</td>\n",
       "      <td>0.000000</td>\n",
       "      <td>00:07</td>\n",
       "    </tr>\n",
       "    <tr>\n",
       "      <td>3</td>\n",
       "      <td>3.459852</td>\n",
       "      <td>4.829340</td>\n",
       "      <td>0.000000</td>\n",
       "      <td>00:07</td>\n",
       "    </tr>\n",
       "    <tr>\n",
       "      <td>4</td>\n",
       "      <td>3.082296</td>\n",
       "      <td>31.105225</td>\n",
       "      <td>0.000000</td>\n",
       "      <td>00:07</td>\n",
       "    </tr>\n",
       "    <tr>\n",
       "      <td>5</td>\n",
       "      <td>3.006646</td>\n",
       "      <td>4.038892</td>\n",
       "      <td>0.000000</td>\n",
       "      <td>00:07</td>\n",
       "    </tr>\n",
       "    <tr>\n",
       "      <td>6</td>\n",
       "      <td>2.743620</td>\n",
       "      <td>23.094376</td>\n",
       "      <td>0.000000</td>\n",
       "      <td>00:07</td>\n",
       "    </tr>\n",
       "    <tr>\n",
       "      <td>7</td>\n",
       "      <td>2.713896</td>\n",
       "      <td>1.580672</td>\n",
       "      <td>0.000000</td>\n",
       "      <td>00:07</td>\n",
       "    </tr>\n",
       "    <tr>\n",
       "      <td>8</td>\n",
       "      <td>2.731858</td>\n",
       "      <td>16.437279</td>\n",
       "      <td>0.000000</td>\n",
       "      <td>00:07</td>\n",
       "    </tr>\n",
       "    <tr>\n",
       "      <td>9</td>\n",
       "      <td>2.498107</td>\n",
       "      <td>2.223377</td>\n",
       "      <td>0.000000</td>\n",
       "      <td>00:07</td>\n",
       "    </tr>\n",
       "  </tbody>\n",
       "</table>"
      ],
      "text/plain": [
       "<IPython.core.display.HTML object>"
      ]
     },
     "metadata": {},
     "output_type": "display_data"
    }
   ],
   "source": [
    "learn.fit_one_cycle(10, slice(lr))"
   ]
  },
  {
   "cell_type": "markdown",
   "metadata": {},
   "source": [
    "## Interpret and Results"
   ]
  },
  {
   "cell_type": "code",
   "execution_count": 20,
   "metadata": {
    "ExecuteTime": {
     "end_time": "2020-06-01T15:02:45.474344Z",
     "start_time": "2020-06-01T15:02:45.007007Z"
    }
   },
   "outputs": [
    {
     "data": {
      "image/png": "[encoded data removed]",
      "text/plain": [
       "<Figure size 576x576 with 4 Axes>"
      ]
     },
     "metadata": {
      "needs_background": "light"
     },
     "output_type": "display_data"
    }
   ],
   "source": [
    "learn.show_results()"
   ]
  },
  {
   "cell_type": "code",
   "execution_count": 21,
   "metadata": {
    "ExecuteTime": {
     "end_time": "2020-06-01T15:02:48.491417Z",
     "start_time": "2020-06-01T15:02:47.612977Z"
    }
   },
   "outputs": [
    {
     "data": {
      "text/html": [],
      "text/plain": [
       "<IPython.core.display.HTML object>"
      ]
     },
     "metadata": {},
     "output_type": "display_data"
    }
   ],
   "source": [
    "preds,y,losses = learn.get_preds(with_loss=True)\n",
    "interp = ClassificationInterpretation(learn, preds, y, losses)"
   ]
  },
  {
   "cell_type": "code",
   "execution_count": null,
   "metadata": {},
   "outputs": [],
   "source": []
  }
 ],
 "metadata": {
  "kernelspec": {
   "display_name": "Python 3",
   "language": "python",
   "name": "python3"
  },
  "language_info": {
   "codemirror_mode": {
    "name": "ipython",
    "version": 3
   },
   "file_extension": ".py",
   "mimetype": "text/x-python",
   "name": "python",
   "nbconvert_exporter": "python",
   "pygments_lexer": "ipython3",
   "version": "3.7.6"
  }
 },
 "nbformat": 4,
 "nbformat_minor": 2
}
